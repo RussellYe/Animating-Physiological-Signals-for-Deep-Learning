{
 "cells": [
  {
   "cell_type": "code",
   "execution_count": 128,
   "metadata": {},
   "outputs": [],
   "source": [
    "import pandas as pd\n",
    "import numpy as np\n",
    "import math\n",
    "from moviepy.editor import *\n",
    "import os "
   ]
  },
  {
   "cell_type": "code",
   "execution_count": 129,
   "metadata": {},
   "outputs": [],
   "source": [
    "# !pip install moviepy"
   ]
  },
  {
   "cell_type": "code",
   "execution_count": 130,
   "metadata": {},
   "outputs": [],
   "source": [
    "pd.options.display.float_format = \"{:.0f}\".format"
   ]
  },
  {
   "cell_type": "code",
   "execution_count": 131,
   "metadata": {},
   "outputs": [],
   "source": [
    "\n",
    "# Shift the music type number to the correct order i.e. 1,2,3,4,5,6,7,8 or other sequences \n",
    "def correct_dataframe(df): \n",
    "    df1 = df.copy()\n",
    "    df1_columns_values = df1.columns.values\n",
    "    df1.columns = ['a','b','c']\n",
    "    df1.loc[7] = df1_columns_values\n",
    "    df = df1.copy()\n",
    "    df.iloc[0] = df1_columns_values\n",
    "    for n in range(len(df.index)-1):\n",
    "        df.iloc[n+1] = df1.iloc[n]\n",
    "    return df\n",
    "\n",
    "# df = correct_dataframe(df)"
   ]
  },
  {
   "cell_type": "code",
   "execution_count": 132,
   "metadata": {},
   "outputs": [],
   "source": [
    "# Define the position of each video segment \n",
    "def video_place(number):\n",
    "    difference = number - round(df.iloc[0,1])\n",
    "    video_position = round(difference * 4/30)\n",
    "    return video_position"
   ]
  },
  {
   "cell_type": "code",
   "execution_count": 133,
   "metadata": {},
   "outputs": [],
   "source": [
    "# convert the original dataframe of music corresponding to the correct time format (seconds, minutes)\n",
    "def convert_to_correct_time(df): \n",
    "    data = [] \n",
    "    df_correct_time = pd.DataFrame(data, columns = ['music_type','from_minutes', 'from_seconds','to_minutes', 'to_seconds','from_total_second','to_total_second']) \n",
    "    for i in range(len(df)):\n",
    "        df_correct_time.loc[i] = df.iloc[i,0]\n",
    "    for i in range(len(df)):\n",
    "        for j in range(1,3):\n",
    "\n",
    "            total_seconds = video_place(round(df.iloc[i,j]))\n",
    "            minutes = math.floor((video_place(round(df.iloc[i,j])))/60)\n",
    "            seconds = (video_place(round(df.iloc[i,j]))) % 60\n",
    "\n",
    "            if j == 1:\n",
    "                df_correct_time.iloc[i,j] = minutes\n",
    "                df_correct_time.iloc[i,j+1] = seconds\n",
    "                df_correct_time.iloc[i,j+4] = total_seconds\n",
    "            if j == 2: \n",
    "                df_correct_time.iloc[i,j+1] = minutes\n",
    "                df_correct_time.iloc[i,j+2] = seconds\n",
    "                df_correct_time.iloc[i,j+4] = total_seconds\n",
    "    return df_correct_time"
   ]
  },
  {
   "cell_type": "code",
   "execution_count": 134,
   "metadata": {},
   "outputs": [],
   "source": [
    "# Segment the original Gingerbread Animation Videos\n",
    "def video_segment(index, df, df_correct_time):\n",
    "    for i in range(len(df_correct_time.index)):\n",
    "        print(\"times\",i)\n",
    "        # Remove the first two seconds of the video, since it is not consistent with other periods of video\n",
    "        if df_correct_time.iloc[i,5] == 0:\n",
    "            clip = VideoFileClip(\"Low resolution original videos/{:02d}.mp4\".format(index)).subclip(df_correct_time.iloc[i,5]+2,df_correct_time.iloc[i,6])\n",
    "            clip.write_videofile(\"Video cuts collection/Video Segments/P{:02d}/music{:02d}.mp4\".format(index, int(df.iloc[i,0])))\n",
    "#             print(\"Video cuts collection/P{:02d}/music{:02d}.mp4\".format(index, int(df.iloc[i,0])))\n",
    "        else:\n",
    "            clip = VideoFileClip(\"Low resolution original videos/{:02d}.mp4\".format(index)).subclip(df_correct_time.iloc[i,5],df_correct_time.iloc[i,6])\n",
    "            clip.write_videofile(\"Video cuts collection/Video Segments/P{:02d}/music{:02d}.mp4\".format(index, int(df.iloc[i,0])))\n",
    "#             print(\"Video cuts collection/P{:02d}/music{:02d}.mp4\".format(index, int(df.iloc[i,0])))\n",
    "\n"
   ]
  },
  {
   "cell_type": "code",
   "execution_count": 135,
   "metadata": {},
   "outputs": [],
   "source": [
    "# Create files in Video cuts collection\n",
    "\n",
    "for i in range(1,24):\n",
    "    os.makedirs(\"Video cuts collection/Video Segments/P{:02d}\".format(i))"
   ]
  },
  {
   "cell_type": "code",
   "execution_count": 136,
   "metadata": {},
   "outputs": [
    {
     "name": "stdout",
     "output_type": "stream",
     "text": [
      "df:\n",
      "    a          b          c\n",
      "0  1 1526964945 1526965202\n",
      "1  2 1526965301 1526965546\n",
      "2  3 1526965672 1526965905\n",
      "3  4 1526966093 1526966334\n",
      "4  5 1526966462 1526966679\n",
      "5  6 1526966819 1526967028\n",
      "6  7 1526967136 1526967338\n",
      "7  8 1526967496 1526967706\n",
      "df_correct_time:\n",
      "    music_type  from_minutes  from_seconds  to_minutes  to_seconds  \\\n",
      "0           1             0             0           0          34   \n",
      "1           2             0            47           1          20   \n",
      "2           3             1            37           2           8   \n",
      "3           4             2            33           3           5   \n",
      "4           5             3            22           3          51   \n",
      "5           6             4            10           4          38   \n",
      "6           7             4            52           5          19   \n",
      "7           8             5            40           6           8   \n",
      "\n",
      "   from_total_second  to_total_second  \n",
      "0                  0               34  \n",
      "1                 47               80  \n",
      "2                 97              128  \n",
      "3                153              185  \n",
      "4                202              231  \n",
      "5                250              278  \n",
      "6                292              319  \n",
      "7                340              368  \n",
      "times 0\n"
     ]
    },
    {
     "name": "stderr",
     "output_type": "stream",
     "text": [
      "                                                                \r"
     ]
    },
    {
     "name": "stdout",
     "output_type": "stream",
     "text": [
      "Moviepy - Building video Video cuts collection/Video Segments/P01/music01.mp4.\n"
     ]
    },
    {
     "name": "stderr",
     "output_type": "stream",
     "text": [
      "                                                                 \r"
     ]
    },
    {
     "name": "stdout",
     "output_type": "stream",
     "text": [
      "Moviepy - Writing video Video cuts collection/Video Segments/P01/music01.mp4\n",
      "\n"
     ]
    },
    {
     "name": "stderr",
     "output_type": "stream",
     "text": [
      "t:   0%|          | 2/960 [25:24<202:48:19, 762.11s/it, now=None]\n",
      "t:   0%|          | 0/960 [00:00<?, ?it/s, now=None]\n",
      "t:   2%|▏         | 22/960 [00:00<00:04, 218.39it/s, now=None]\n",
      "t:  32%|███▏      | 311/960 [00:00<00:02, 302.13it/s, now=None]\n",
      "t:  66%|██████▌   | 635/960 [00:00<00:00, 414.91it/s, now=None]\n",
      "                                                                 \r"
     ]
    },
    {
     "name": "stdout",
     "output_type": "stream",
     "text": [
      "Moviepy - Done !\n"
     ]
    },
    {
     "name": "stderr",
     "output_type": "stream",
     "text": [
      "                                                                 \r"
     ]
    },
    {
     "name": "stdout",
     "output_type": "stream",
     "text": [
      "Moviepy - video ready Video cuts collection/Video Segments/P01/music01.mp4\n"
     ]
    },
    {
     "name": "stderr",
     "output_type": "stream",
     "text": [
      "\r",
      "t:   0%|          | 2/960 [25:24<202:52:33, 762.37s/it, now=None]"
     ]
    },
    {
     "name": "stdout",
     "output_type": "stream",
     "text": [
      "times 1\n"
     ]
    },
    {
     "name": "stderr",
     "output_type": "stream",
     "text": [
      "                                                                 \r"
     ]
    },
    {
     "name": "stdout",
     "output_type": "stream",
     "text": [
      "Moviepy - Building video Video cuts collection/Video Segments/P01/music02.mp4.\n"
     ]
    },
    {
     "name": "stderr",
     "output_type": "stream",
     "text": [
      "                                                                 \r"
     ]
    },
    {
     "name": "stdout",
     "output_type": "stream",
     "text": [
      "Moviepy - Writing video Video cuts collection/Video Segments/P01/music02.mp4\n",
      "\n"
     ]
    },
    {
     "name": "stderr",
     "output_type": "stream",
     "text": [
      "t:   0%|          | 2/960 [25:25<202:57:38, 762.69s/it, now=None]\n",
      "t:   0%|          | 0/990 [00:00<?, ?it/s, now=None]\n",
      "t:   2%|▏         | 23/990 [00:00<00:04, 229.22it/s, now=None]\n",
      "t:  32%|███▏      | 313/990 [00:00<00:02, 316.65it/s, now=None]\n",
      "t:  62%|██████▏   | 614/990 [00:00<00:00, 432.71it/s, now=None]\n",
      "t:  94%|█████████▎| 928/990 [00:00<00:00, 583.55it/s, now=None]\n",
      "                                                                 \r"
     ]
    },
    {
     "name": "stdout",
     "output_type": "stream",
     "text": [
      "Moviepy - Done !\n"
     ]
    },
    {
     "name": "stderr",
     "output_type": "stream",
     "text": [
      "                                                                 \r"
     ]
    },
    {
     "name": "stdout",
     "output_type": "stream",
     "text": [
      "Moviepy - video ready Video cuts collection/Video Segments/P01/music02.mp4\n"
     ]
    },
    {
     "name": "stderr",
     "output_type": "stream",
     "text": [
      "\r",
      "t:   0%|          | 2/960 [25:25<203:02:07, 762.97s/it, now=None]"
     ]
    },
    {
     "name": "stdout",
     "output_type": "stream",
     "text": [
      "times 2\n"
     ]
    },
    {
     "name": "stderr",
     "output_type": "stream",
     "text": [
      "                                                                 \r"
     ]
    },
    {
     "name": "stdout",
     "output_type": "stream",
     "text": [
      "Moviepy - Building video Video cuts collection/Video Segments/P01/music03.mp4.\n"
     ]
    },
    {
     "name": "stderr",
     "output_type": "stream",
     "text": [
      "                                                                 \r"
     ]
    },
    {
     "name": "stdout",
     "output_type": "stream",
     "text": [
      "Moviepy - Writing video Video cuts collection/Video Segments/P01/music03.mp4\n",
      "\n"
     ]
    },
    {
     "name": "stderr",
     "output_type": "stream",
     "text": [
      "t:   0%|          | 2/960 [25:26<203:07:20, 763.30s/it, now=None]\n",
      "t:   0%|          | 0/930 [00:00<?, ?it/s, now=None]\n",
      "t:   1%|▏         | 13/930 [00:00<00:07, 129.06it/s, now=None]\n",
      "t:  32%|███▏      | 300/930 [00:00<00:03, 180.85it/s, now=None]\n",
      "t:  66%|██████▌   | 615/930 [00:00<00:01, 252.11it/s, now=None]\n",
      "                                                                 \r"
     ]
    },
    {
     "name": "stdout",
     "output_type": "stream",
     "text": [
      "Moviepy - Done !\n"
     ]
    },
    {
     "name": "stderr",
     "output_type": "stream",
     "text": [
      "                                                                 \r"
     ]
    },
    {
     "name": "stdout",
     "output_type": "stream",
     "text": [
      "Moviepy - video ready Video cuts collection/Video Segments/P01/music03.mp4\n"
     ]
    },
    {
     "name": "stderr",
     "output_type": "stream",
     "text": [
      "\r",
      "t:   0%|          | 2/960 [25:27<203:11:40, 763.57s/it, now=None]"
     ]
    },
    {
     "name": "stdout",
     "output_type": "stream",
     "text": [
      "times 3\n"
     ]
    },
    {
     "name": "stderr",
     "output_type": "stream",
     "text": [
      "                                                                 \r"
     ]
    },
    {
     "name": "stdout",
     "output_type": "stream",
     "text": [
      "Moviepy - Building video Video cuts collection/Video Segments/P01/music04.mp4.\n"
     ]
    },
    {
     "name": "stderr",
     "output_type": "stream",
     "text": [
      "                                                                 \r"
     ]
    },
    {
     "name": "stdout",
     "output_type": "stream",
     "text": [
      "Moviepy - Writing video Video cuts collection/Video Segments/P01/music04.mp4\n",
      "\n"
     ]
    },
    {
     "name": "stderr",
     "output_type": "stream",
     "text": [
      "t:   0%|          | 2/960 [25:27<203:16:58, 763.90s/it, now=None]\n",
      "t:   0%|          | 0/960 [00:00<?, ?it/s, now=None]\n",
      "t:   2%|▏         | 17/960 [00:00<00:05, 168.77it/s, now=None]\n",
      "t:  32%|███▏      | 304/960 [00:00<00:02, 235.12it/s, now=None]\n",
      "t:  62%|██████▏   | 598/960 [00:00<00:01, 324.70it/s, now=None]\n",
      "t:  91%|█████████ | 875/960 [00:00<00:00, 441.52it/s, now=None]\n",
      "                                                                 \r"
     ]
    },
    {
     "name": "stdout",
     "output_type": "stream",
     "text": [
      "Moviepy - Done !\n"
     ]
    },
    {
     "name": "stderr",
     "output_type": "stream",
     "text": [
      "                                                                 \r"
     ]
    },
    {
     "name": "stdout",
     "output_type": "stream",
     "text": [
      "Moviepy - video ready Video cuts collection/Video Segments/P01/music04.mp4\n"
     ]
    },
    {
     "name": "stderr",
     "output_type": "stream",
     "text": [
      "\r",
      "t:   0%|          | 2/960 [25:28<203:21:32, 764.19s/it, now=None]"
     ]
    },
    {
     "name": "stdout",
     "output_type": "stream",
     "text": [
      "times 4\n"
     ]
    },
    {
     "name": "stderr",
     "output_type": "stream",
     "text": [
      "                                                                 \r"
     ]
    },
    {
     "name": "stdout",
     "output_type": "stream",
     "text": [
      "Moviepy - Building video Video cuts collection/Video Segments/P01/music05.mp4.\n"
     ]
    },
    {
     "name": "stderr",
     "output_type": "stream",
     "text": [
      "                                                                 \r"
     ]
    },
    {
     "name": "stdout",
     "output_type": "stream",
     "text": [
      "Moviepy - Writing video Video cuts collection/Video Segments/P01/music05.mp4\n",
      "\n"
     ]
    },
    {
     "name": "stderr",
     "output_type": "stream",
     "text": [
      "t:   0%|          | 2/960 [25:29<203:26:55, 764.53s/it, now=None]\n",
      "t:   0%|          | 0/870 [00:00<?, ?it/s, now=None]\n",
      "t:   0%|          | 2/870 [00:00<00:44, 19.47it/s, now=None]\n",
      "t:  28%|██▊       | 245/870 [00:00<00:22, 27.72it/s, now=None]\n",
      "t:  57%|█████▋    | 496/870 [00:00<00:09, 39.41it/s, now=None]\n",
      "t:  89%|████████▊ | 771/870 [00:00<00:01, 55.95it/s, now=None]\n",
      "                                                                 \r"
     ]
    },
    {
     "name": "stdout",
     "output_type": "stream",
     "text": [
      "Moviepy - Done !\n"
     ]
    },
    {
     "name": "stderr",
     "output_type": "stream",
     "text": [
      "                                                                 \r"
     ]
    },
    {
     "name": "stdout",
     "output_type": "stream",
     "text": [
      "Moviepy - video ready Video cuts collection/Video Segments/P01/music05.mp4\n"
     ]
    },
    {
     "name": "stderr",
     "output_type": "stream",
     "text": [
      "\r",
      "t:   0%|          | 2/960 [25:29<203:31:43, 764.83s/it, now=None]"
     ]
    },
    {
     "name": "stdout",
     "output_type": "stream",
     "text": [
      "times 5\n"
     ]
    },
    {
     "name": "stderr",
     "output_type": "stream",
     "text": [
      "                                                                 \r"
     ]
    },
    {
     "name": "stdout",
     "output_type": "stream",
     "text": [
      "Moviepy - Building video Video cuts collection/Video Segments/P01/music06.mp4.\n"
     ]
    },
    {
     "name": "stderr",
     "output_type": "stream",
     "text": [
      "                                                                 \r"
     ]
    },
    {
     "name": "stdout",
     "output_type": "stream",
     "text": [
      "Moviepy - Writing video Video cuts collection/Video Segments/P01/music06.mp4\n",
      "\n"
     ]
    },
    {
     "name": "stderr",
     "output_type": "stream",
     "text": [
      "t:   0%|          | 2/960 [25:30<203:37:11, 765.17s/it, now=None]\n",
      "t:   0%|          | 0/840 [00:00<?, ?it/s, now=None]\n",
      "t:   1%|▏         | 12/840 [00:00<00:06, 119.16it/s, now=None]\n",
      "t:  32%|███▏      | 270/840 [00:00<00:03, 166.90it/s, now=None]\n",
      "t:  71%|███████   | 598/840 [00:00<00:01, 233.31it/s, now=None]\n",
      "                                                                 \r"
     ]
    },
    {
     "name": "stdout",
     "output_type": "stream",
     "text": [
      "Moviepy - Done !\n"
     ]
    },
    {
     "name": "stderr",
     "output_type": "stream",
     "text": [
      "                                                                 \r"
     ]
    },
    {
     "name": "stdout",
     "output_type": "stream",
     "text": [
      "Moviepy - video ready Video cuts collection/Video Segments/P01/music06.mp4\n"
     ]
    },
    {
     "name": "stderr",
     "output_type": "stream",
     "text": [
      "\r",
      "t:   0%|          | 2/960 [25:30<203:41:21, 765.43s/it, now=None]"
     ]
    },
    {
     "name": "stdout",
     "output_type": "stream",
     "text": [
      "times 6\n"
     ]
    },
    {
     "name": "stderr",
     "output_type": "stream",
     "text": [
      "                                                                 \r"
     ]
    },
    {
     "name": "stdout",
     "output_type": "stream",
     "text": [
      "Moviepy - Building video Video cuts collection/Video Segments/P01/music07.mp4.\n"
     ]
    },
    {
     "name": "stderr",
     "output_type": "stream",
     "text": [
      "                                                                 \r"
     ]
    },
    {
     "name": "stdout",
     "output_type": "stream",
     "text": [
      "Moviepy - Writing video Video cuts collection/Video Segments/P01/music07.mp4\n",
      "\n"
     ]
    },
    {
     "name": "stderr",
     "output_type": "stream",
     "text": [
      "t:   0%|          | 2/960 [25:31<203:46:45, 765.77s/it, now=None]\n",
      "t:   0%|          | 0/810 [00:00<?, ?it/s, now=None]\n",
      "t:   2%|▏         | 16/810 [00:00<00:04, 158.84it/s, now=None]\n",
      "t:  35%|███▌      | 287/810 [00:00<00:02, 221.32it/s, now=None]\n",
      "t:  72%|███████▏  | 583/810 [00:00<00:00, 306.28it/s, now=None]\n",
      "                                                                 \r"
     ]
    },
    {
     "name": "stdout",
     "output_type": "stream",
     "text": [
      "Moviepy - Done !\n"
     ]
    },
    {
     "name": "stderr",
     "output_type": "stream",
     "text": [
      "                                                                 \r"
     ]
    },
    {
     "name": "stdout",
     "output_type": "stream",
     "text": [
      "Moviepy - video ready Video cuts collection/Video Segments/P01/music07.mp4\n"
     ]
    },
    {
     "name": "stderr",
     "output_type": "stream",
     "text": [
      "\r",
      "t:   0%|          | 2/960 [25:32<203:50:47, 766.02s/it, now=None]"
     ]
    },
    {
     "name": "stdout",
     "output_type": "stream",
     "text": [
      "times 7\n"
     ]
    },
    {
     "name": "stderr",
     "output_type": "stream",
     "text": [
      "                                                                 \r"
     ]
    },
    {
     "name": "stdout",
     "output_type": "stream",
     "text": [
      "Moviepy - Building video Video cuts collection/Video Segments/P01/music08.mp4.\n"
     ]
    },
    {
     "name": "stderr",
     "output_type": "stream",
     "text": [
      "                                                                 \r"
     ]
    },
    {
     "name": "stdout",
     "output_type": "stream",
     "text": [
      "Moviepy - Writing video Video cuts collection/Video Segments/P01/music08.mp4\n",
      "\n"
     ]
    },
    {
     "name": "stderr",
     "output_type": "stream",
     "text": [
      "t:   0%|          | 2/960 [25:32<203:56:05, 766.35s/it, now=None]\n",
      "t:   0%|          | 0/840 [00:00<?, ?it/s, now=None]\n",
      "t:   2%|▏         | 20/840 [00:00<00:04, 198.55it/s, now=None]\n",
      "t:  36%|███▋      | 305/840 [00:00<00:01, 275.36it/s, now=None]\n",
      "t:  73%|███████▎  | 613/840 [00:00<00:00, 378.76it/s, now=None]\n",
      "                                                                 \r"
     ]
    },
    {
     "name": "stdout",
     "output_type": "stream",
     "text": [
      "Moviepy - Done !\n"
     ]
    },
    {
     "name": "stderr",
     "output_type": "stream",
     "text": [
      "                                                                 \r"
     ]
    },
    {
     "name": "stdout",
     "output_type": "stream",
     "text": [
      "Moviepy - video ready Video cuts collection/Video Segments/P01/music08.mp4\n"
     ]
    },
    {
     "name": "stderr",
     "output_type": "stream",
     "text": [
      "\r",
      "t:   0%|          | 2/960 [25:33<204:00:17, 766.62s/it, now=None]"
     ]
    },
    {
     "name": "stdout",
     "output_type": "stream",
     "text": [
      "df:\n",
      "    a          b          c\n",
      "0  1 1527034455 1527034712\n",
      "1  2 1527034875 1527035120\n",
      "2  3 1527035265 1527035498\n",
      "3  4 1527035615 1527035856\n",
      "4  5 1527036017 1527036234\n",
      "5  6 1527036342 1527036551\n",
      "6  7 1527036685 1527036887\n",
      "7  8 1527037007 1527037217\n",
      "df_correct_time:\n",
      "    music_type  from_minutes  from_seconds  to_minutes  to_seconds  \\\n",
      "0           1             0             0           0          34   \n",
      "1           2             0            56           1          29   \n",
      "2           3             1            48           2          19   \n",
      "3           4             2            35           3           7   \n",
      "4           5             3            28           3          57   \n",
      "5           6             4            12           4          39   \n",
      "6           7             4            57           5          24   \n",
      "7           8             5            40           6           8   \n",
      "\n",
      "   from_total_second  to_total_second  \n",
      "0                  0               34  \n",
      "1                 56               89  \n",
      "2                108              139  \n",
      "3                155              187  \n",
      "4                208              237  \n",
      "5                252              279  \n",
      "6                297              324  \n",
      "7                340              368  \n",
      "times 0\n"
     ]
    },
    {
     "name": "stderr",
     "output_type": "stream",
     "text": [
      "                                                                 \r"
     ]
    },
    {
     "name": "stdout",
     "output_type": "stream",
     "text": [
      "Moviepy - Building video Video cuts collection/Video Segments/P02/music01.mp4.\n"
     ]
    },
    {
     "name": "stderr",
     "output_type": "stream",
     "text": [
      "                                                                 \r"
     ]
    },
    {
     "name": "stdout",
     "output_type": "stream",
     "text": [
      "Moviepy - Writing video Video cuts collection/Video Segments/P02/music01.mp4\n",
      "\n"
     ]
    },
    {
     "name": "stderr",
     "output_type": "stream",
     "text": [
      "t:   0%|          | 2/960 [25:34<204:07:06, 767.04s/it, now=None]\n",
      "t:   0%|          | 0/960 [00:00<?, ?it/s, now=None]\n",
      "t:   3%|▎         | 25/960 [00:00<00:03, 248.19it/s, now=None]\n",
      "t:  32%|███▏      | 311/960 [00:00<00:01, 341.81it/s, now=None]\n",
      "t:  62%|██████▎   | 600/960 [00:00<00:00, 464.58it/s, now=None]\n",
      "t:  90%|█████████ | 866/960 [00:00<00:00, 617.15it/s, now=None]\n",
      "                                                                 \r"
     ]
    },
    {
     "name": "stdout",
     "output_type": "stream",
     "text": [
      "Moviepy - Done !\n"
     ]
    },
    {
     "name": "stderr",
     "output_type": "stream",
     "text": [
      "                                                                 \r"
     ]
    },
    {
     "name": "stdout",
     "output_type": "stream",
     "text": [
      "Moviepy - video ready Video cuts collection/Video Segments/P02/music01.mp4\n"
     ]
    },
    {
     "name": "stderr",
     "output_type": "stream",
     "text": [
      "\r",
      "t:   0%|          | 2/960 [25:34<204:11:40, 767.33s/it, now=None]"
     ]
    },
    {
     "name": "stdout",
     "output_type": "stream",
     "text": [
      "times 1\n"
     ]
    },
    {
     "name": "stderr",
     "output_type": "stream",
     "text": [
      "                                                                 \r"
     ]
    },
    {
     "name": "stdout",
     "output_type": "stream",
     "text": [
      "Moviepy - Building video Video cuts collection/Video Segments/P02/music02.mp4.\n"
     ]
    },
    {
     "name": "stderr",
     "output_type": "stream",
     "text": [
      "                                                                 \r"
     ]
    },
    {
     "name": "stdout",
     "output_type": "stream",
     "text": [
      "Moviepy - Writing video Video cuts collection/Video Segments/P02/music02.mp4\n",
      "\n"
     ]
    },
    {
     "name": "stderr",
     "output_type": "stream",
     "text": [
      "t:   0%|          | 2/960 [25:35<204:17:14, 767.68s/it, now=None]\n",
      "t:   0%|          | 0/990 [00:00<?, ?it/s, now=None]\n",
      "t:   3%|▎         | 25/990 [00:00<00:03, 249.23it/s, now=None]\n",
      "t:  31%|███       | 305/990 [00:00<00:01, 342.86it/s, now=None]\n",
      "t:  61%|██████    | 605/990 [00:00<00:00, 466.77it/s, now=None]\n",
      "t:  94%|█████████▍| 934/990 [00:00<00:00, 628.33it/s, now=None]\n",
      "                                                                 \r"
     ]
    },
    {
     "name": "stdout",
     "output_type": "stream",
     "text": [
      "Moviepy - Done !\n"
     ]
    },
    {
     "name": "stderr",
     "output_type": "stream",
     "text": [
      "                                                                 \r"
     ]
    },
    {
     "name": "stdout",
     "output_type": "stream",
     "text": [
      "Moviepy - video ready Video cuts collection/Video Segments/P02/music02.mp4\n"
     ]
    },
    {
     "name": "stderr",
     "output_type": "stream",
     "text": [
      "\r",
      "t:   0%|          | 2/960 [25:35<204:21:47, 767.96s/it, now=None]"
     ]
    },
    {
     "name": "stdout",
     "output_type": "stream",
     "text": [
      "times 2\n"
     ]
    },
    {
     "name": "stderr",
     "output_type": "stream",
     "text": [
      "                                                                 \r"
     ]
    },
    {
     "name": "stdout",
     "output_type": "stream",
     "text": [
      "Moviepy - Building video Video cuts collection/Video Segments/P02/music03.mp4.\n"
     ]
    },
    {
     "name": "stderr",
     "output_type": "stream",
     "text": [
      "                                                                 \r"
     ]
    },
    {
     "name": "stdout",
     "output_type": "stream",
     "text": [
      "Moviepy - Writing video Video cuts collection/Video Segments/P02/music03.mp4\n",
      "\n"
     ]
    },
    {
     "name": "stderr",
     "output_type": "stream",
     "text": [
      "t:   0%|          | 2/960 [25:36<204:27:09, 768.30s/it, now=None]\n",
      "t:   0%|          | 0/930 [00:00<?, ?it/s, now=None]\n",
      "t:   0%|          | 3/930 [00:00<00:32, 28.11it/s, now=None]\n",
      "t:  27%|██▋       | 255/930 [00:00<00:16, 39.97it/s, now=None]\n",
      "t:  58%|█████▊    | 536/930 [00:00<00:06, 56.75it/s, now=None]\n",
      "t:  87%|████████▋ | 810/930 [00:00<00:01, 80.35it/s, now=None]\n",
      "                                                                 \r"
     ]
    },
    {
     "name": "stdout",
     "output_type": "stream",
     "text": [
      "Moviepy - Done !\n"
     ]
    },
    {
     "name": "stderr",
     "output_type": "stream",
     "text": [
      "                                                                 \r"
     ]
    },
    {
     "name": "stdout",
     "output_type": "stream",
     "text": [
      "Moviepy - video ready Video cuts collection/Video Segments/P02/music03.mp4\n"
     ]
    },
    {
     "name": "stderr",
     "output_type": "stream",
     "text": [
      "\r",
      "t:   0%|          | 2/960 [25:37<204:32:20, 768.62s/it, now=None]"
     ]
    },
    {
     "name": "stdout",
     "output_type": "stream",
     "text": [
      "times 3\n"
     ]
    },
    {
     "name": "stderr",
     "output_type": "stream",
     "text": [
      "                                                                 \r"
     ]
    },
    {
     "name": "stdout",
     "output_type": "stream",
     "text": [
      "Moviepy - Building video Video cuts collection/Video Segments/P02/music04.mp4.\n"
     ]
    },
    {
     "name": "stderr",
     "output_type": "stream",
     "text": [
      "                                                                 \r"
     ]
    },
    {
     "name": "stdout",
     "output_type": "stream",
     "text": [
      "Moviepy - Writing video Video cuts collection/Video Segments/P02/music04.mp4\n",
      "\n"
     ]
    },
    {
     "name": "stderr",
     "output_type": "stream",
     "text": [
      "t:   0%|          | 2/960 [25:37<204:37:56, 768.97s/it, now=None]\n",
      "t:   0%|          | 0/960 [00:00<?, ?it/s, now=None]\n",
      "t:   0%|          | 4/960 [00:00<00:24, 39.70it/s, now=None]\n",
      "t:  31%|███▏      | 300/960 [00:00<00:11, 56.38it/s, now=None]\n",
      "t:  64%|██████▍   | 616/960 [00:00<00:04, 79.93it/s, now=None]\n",
      "t:  96%|█████████▌| 918/960 [00:00<00:00, 112.90it/s, now=None]\n",
      "                                                                 \r"
     ]
    },
    {
     "name": "stdout",
     "output_type": "stream",
     "text": [
      "Moviepy - Done !\n"
     ]
    },
    {
     "name": "stderr",
     "output_type": "stream",
     "text": [
      "                                                                 \r"
     ]
    },
    {
     "name": "stdout",
     "output_type": "stream",
     "text": [
      "Moviepy - video ready Video cuts collection/Video Segments/P02/music04.mp4\n"
     ]
    },
    {
     "name": "stderr",
     "output_type": "stream",
     "text": [
      "\r",
      "t:   0%|          | 2/960 [25:38<204:42:56, 769.29s/it, now=None]"
     ]
    },
    {
     "name": "stdout",
     "output_type": "stream",
     "text": [
      "times 4\n"
     ]
    },
    {
     "name": "stderr",
     "output_type": "stream",
     "text": [
      "                                                                 \r"
     ]
    },
    {
     "name": "stdout",
     "output_type": "stream",
     "text": [
      "Moviepy - Building video Video cuts collection/Video Segments/P02/music05.mp4.\n"
     ]
    },
    {
     "name": "stderr",
     "output_type": "stream",
     "text": [
      "                                                                 \r"
     ]
    },
    {
     "name": "stdout",
     "output_type": "stream",
     "text": [
      "Moviepy - Writing video Video cuts collection/Video Segments/P02/music05.mp4\n",
      "\n"
     ]
    },
    {
     "name": "stderr",
     "output_type": "stream",
     "text": [
      "t:   0%|          | 2/960 [25:39<204:48:28, 769.63s/it, now=None]\n",
      "t:   0%|          | 0/870 [00:00<?, ?it/s, now=None]\n",
      "t:   3%|▎         | 23/870 [00:00<00:03, 228.33it/s, now=None]\n",
      "t:  36%|███▌      | 312/870 [00:00<00:01, 315.48it/s, now=None]\n",
      "t:  72%|███████▏  | 624/870 [00:00<00:00, 431.92it/s, now=None]\n",
      "                                                                 \r"
     ]
    },
    {
     "name": "stdout",
     "output_type": "stream",
     "text": [
      "Moviepy - Done !\n"
     ]
    },
    {
     "name": "stderr",
     "output_type": "stream",
     "text": [
      "                                                                 \r"
     ]
    },
    {
     "name": "stdout",
     "output_type": "stream",
     "text": [
      "Moviepy - video ready Video cuts collection/Video Segments/P02/music05.mp4\n"
     ]
    },
    {
     "name": "stderr",
     "output_type": "stream",
     "text": [
      "\r",
      "t:   0%|          | 2/960 [25:39<204:52:42, 769.90s/it, now=None]"
     ]
    },
    {
     "name": "stdout",
     "output_type": "stream",
     "text": [
      "times 5\n"
     ]
    },
    {
     "name": "stderr",
     "output_type": "stream",
     "text": [
      "                                                                 \r"
     ]
    },
    {
     "name": "stdout",
     "output_type": "stream",
     "text": [
      "Moviepy - Building video Video cuts collection/Video Segments/P02/music06.mp4.\n"
     ]
    },
    {
     "name": "stderr",
     "output_type": "stream",
     "text": [
      "                                                                 \r"
     ]
    },
    {
     "name": "stdout",
     "output_type": "stream",
     "text": [
      "Moviepy - Writing video Video cuts collection/Video Segments/P02/music06.mp4\n",
      "\n"
     ]
    },
    {
     "name": "stderr",
     "output_type": "stream",
     "text": [
      "t:   0%|          | 2/960 [25:40<204:57:55, 770.23s/it, now=None]\n",
      "t:   0%|          | 0/810 [00:00<?, ?it/s, now=None]\n",
      "t:   2%|▏         | 18/810 [00:00<00:04, 178.23it/s, now=None]\n",
      "t:  38%|███▊      | 306/810 [00:00<00:02, 248.00it/s, now=None]\n",
      "t:  76%|███████▌  | 612/810 [00:00<00:00, 342.34it/s, now=None]\n",
      "                                                                 \r"
     ]
    },
    {
     "name": "stdout",
     "output_type": "stream",
     "text": [
      "Moviepy - Done !\n"
     ]
    },
    {
     "name": "stderr",
     "output_type": "stream",
     "text": [
      "                                                                 \r"
     ]
    },
    {
     "name": "stdout",
     "output_type": "stream",
     "text": [
      "Moviepy - video ready Video cuts collection/Video Segments/P02/music06.mp4\n"
     ]
    },
    {
     "name": "stderr",
     "output_type": "stream",
     "text": [
      "\r",
      "t:   0%|          | 2/960 [25:40<205:02:01, 770.48s/it, now=None]"
     ]
    },
    {
     "name": "stdout",
     "output_type": "stream",
     "text": [
      "times 6\n"
     ]
    },
    {
     "name": "stderr",
     "output_type": "stream",
     "text": [
      "                                                                 \r"
     ]
    },
    {
     "name": "stdout",
     "output_type": "stream",
     "text": [
      "Moviepy - Building video Video cuts collection/Video Segments/P02/music07.mp4.\n"
     ]
    },
    {
     "name": "stderr",
     "output_type": "stream",
     "text": [
      "                                                                 \r"
     ]
    },
    {
     "name": "stdout",
     "output_type": "stream",
     "text": [
      "Moviepy - Writing video Video cuts collection/Video Segments/P02/music07.mp4\n",
      "\n"
     ]
    },
    {
     "name": "stderr",
     "output_type": "stream",
     "text": [
      "t:   0%|          | 2/960 [25:41<205:07:41, 770.84s/it, now=None]\n",
      "t:   0%|          | 0/810 [00:00<?, ?it/s, now=None]\n",
      "t:   2%|▏         | 19/810 [00:00<00:04, 188.62it/s, now=None]\n",
      "t:  38%|███▊      | 308/810 [00:00<00:01, 262.07it/s, now=None]\n",
      "t:  77%|███████▋  | 624/810 [00:00<00:00, 361.45it/s, now=None]\n",
      "                                                                 \r"
     ]
    },
    {
     "name": "stdout",
     "output_type": "stream",
     "text": [
      "Moviepy - Done !\n"
     ]
    },
    {
     "name": "stderr",
     "output_type": "stream",
     "text": [
      "                                                                 \r"
     ]
    },
    {
     "name": "stdout",
     "output_type": "stream",
     "text": [
      "Moviepy - video ready Video cuts collection/Video Segments/P02/music07.mp4\n"
     ]
    },
    {
     "name": "stderr",
     "output_type": "stream",
     "text": [
      "\r",
      "t:   0%|          | 2/960 [25:42<205:11:39, 771.09s/it, now=None]"
     ]
    },
    {
     "name": "stdout",
     "output_type": "stream",
     "text": [
      "times 7\n"
     ]
    },
    {
     "name": "stderr",
     "output_type": "stream",
     "text": [
      "                                                                 \r"
     ]
    },
    {
     "name": "stdout",
     "output_type": "stream",
     "text": [
      "Moviepy - Building video Video cuts collection/Video Segments/P02/music08.mp4.\n"
     ]
    },
    {
     "name": "stderr",
     "output_type": "stream",
     "text": [
      "                                                                 \r"
     ]
    },
    {
     "name": "stdout",
     "output_type": "stream",
     "text": [
      "Moviepy - Writing video Video cuts collection/Video Segments/P02/music08.mp4\n",
      "\n"
     ]
    },
    {
     "name": "stderr",
     "output_type": "stream",
     "text": [
      "t:   0%|          | 2/960 [25:42<205:16:56, 771.42s/it, now=None]\n",
      "t:   0%|          | 0/840 [00:00<?, ?it/s, now=None]\n",
      "t:   2%|▏         | 20/840 [00:00<00:04, 198.55it/s, now=None]\n",
      "t:  38%|███▊      | 316/840 [00:00<00:01, 275.66it/s, now=None]\n",
      "t:  75%|███████▌  | 632/840 [00:00<00:00, 379.51it/s, now=None]\n",
      "                                                                 \r"
     ]
    },
    {
     "name": "stdout",
     "output_type": "stream",
     "text": [
      "Moviepy - Done !\n"
     ]
    },
    {
     "name": "stderr",
     "output_type": "stream",
     "text": [
      "                                                                 \r"
     ]
    },
    {
     "name": "stdout",
     "output_type": "stream",
     "text": [
      "Moviepy - video ready Video cuts collection/Video Segments/P02/music08.mp4\n"
     ]
    },
    {
     "name": "stderr",
     "output_type": "stream",
     "text": [
      "\r",
      "t:   0%|          | 2/960 [25:43<205:21:01, 771.67s/it, now=None]"
     ]
    },
    {
     "name": "stdout",
     "output_type": "stream",
     "text": [
      "df:\n",
      "    a          b          c\n",
      "0  1 1527051788 1527052045\n",
      "1  2 1527052142 1527052387\n",
      "2  3 1527052487 1527052720\n",
      "3  4 1527052801 1527053042\n",
      "4  9 1527053151 1527053390\n",
      "5 10 1527053498 1527053774\n",
      "6 11 1527053857 1527054096\n",
      "7 12 1527054192 1527054432\n",
      "df_correct_time:\n",
      "    music_type  from_minutes  from_seconds  to_minutes  to_seconds  \\\n",
      "0           1             0             0           0          34   \n",
      "1           2             0            47           1          20   \n",
      "2           3             1            33           2           4   \n",
      "3           4             2            15           2          47   \n",
      "4           9             3             2           3          34   \n",
      "5          10             3            48           4          25   \n",
      "6          11             4            36           5           8   \n",
      "7          12             5            21           5          53   \n",
      "\n",
      "   from_total_second  to_total_second  \n",
      "0                  0               34  \n",
      "1                 47               80  \n",
      "2                 93              124  \n",
      "3                135              167  \n",
      "4                182              214  \n",
      "5                228              265  \n",
      "6                276              308  \n",
      "7                321              353  \n",
      "times 0\n"
     ]
    },
    {
     "name": "stderr",
     "output_type": "stream",
     "text": [
      "                                                                 \r"
     ]
    },
    {
     "name": "stdout",
     "output_type": "stream",
     "text": [
      "Moviepy - Building video Video cuts collection/Video Segments/P03/music01.mp4.\n"
     ]
    },
    {
     "name": "stderr",
     "output_type": "stream",
     "text": [
      "                                                                 \r"
     ]
    },
    {
     "name": "stdout",
     "output_type": "stream",
     "text": [
      "Moviepy - Writing video Video cuts collection/Video Segments/P03/music01.mp4\n",
      "\n"
     ]
    },
    {
     "name": "stderr",
     "output_type": "stream",
     "text": [
      "t:   0%|          | 2/960 [25:44<205:28:48, 772.16s/it, now=None]\n",
      "t:   0%|          | 0/960 [00:00<?, ?it/s, now=None]\n",
      "t:   2%|▏         | 21/960 [00:00<00:04, 209.50it/s, now=None]\n",
      "t:  34%|███▍      | 325/960 [00:00<00:02, 290.63it/s, now=None]\n",
      "t:  67%|██████▋   | 646/960 [00:00<00:00, 399.64it/s, now=None]\n",
      "                                                                 \r"
     ]
    },
    {
     "name": "stdout",
     "output_type": "stream",
     "text": [
      "Moviepy - Done !\n"
     ]
    },
    {
     "name": "stderr",
     "output_type": "stream",
     "text": [
      "                                                                 \r"
     ]
    },
    {
     "name": "stdout",
     "output_type": "stream",
     "text": [
      "Moviepy - video ready Video cuts collection/Video Segments/P03/music01.mp4\n"
     ]
    },
    {
     "name": "stderr",
     "output_type": "stream",
     "text": [
      "\r",
      "t:   0%|          | 2/960 [25:44<205:33:08, 772.43s/it, now=None]"
     ]
    },
    {
     "name": "stdout",
     "output_type": "stream",
     "text": [
      "times 1\n"
     ]
    },
    {
     "name": "stderr",
     "output_type": "stream",
     "text": [
      "                                                                 \r"
     ]
    },
    {
     "name": "stdout",
     "output_type": "stream",
     "text": [
      "Moviepy - Building video Video cuts collection/Video Segments/P03/music02.mp4.\n"
     ]
    },
    {
     "name": "stderr",
     "output_type": "stream",
     "text": [
      "                                                                 \r"
     ]
    },
    {
     "name": "stdout",
     "output_type": "stream",
     "text": [
      "Moviepy - Writing video Video cuts collection/Video Segments/P03/music02.mp4\n",
      "\n"
     ]
    },
    {
     "name": "stderr",
     "output_type": "stream",
     "text": [
      "t:   0%|          | 2/960 [25:45<205:38:27, 772.76s/it, now=None]\n",
      "t:   0%|          | 0/990 [00:00<?, ?it/s, now=None]\n",
      "t:   3%|▎         | 25/990 [00:00<00:03, 248.19it/s, now=None]\n",
      "t:  31%|███       | 305/990 [00:00<00:02, 341.48it/s, now=None]\n",
      "t:  63%|██████▎   | 626/990 [00:00<00:00, 466.41it/s, now=None]\n",
      "t:  95%|█████████▌| 943/990 [00:00<00:00, 626.51it/s, now=None]\n",
      "                                                                 \r"
     ]
    },
    {
     "name": "stdout",
     "output_type": "stream",
     "text": [
      "Moviepy - Done !\n"
     ]
    },
    {
     "name": "stderr",
     "output_type": "stream",
     "text": [
      "                                                                 \r"
     ]
    },
    {
     "name": "stdout",
     "output_type": "stream",
     "text": [
      "Moviepy - video ready Video cuts collection/Video Segments/P03/music02.mp4\n"
     ]
    },
    {
     "name": "stderr",
     "output_type": "stream",
     "text": [
      "\r",
      "t:   0%|          | 2/960 [25:46<205:43:17, 773.07s/it, now=None]"
     ]
    },
    {
     "name": "stdout",
     "output_type": "stream",
     "text": [
      "times 2\n"
     ]
    },
    {
     "name": "stderr",
     "output_type": "stream",
     "text": [
      "                                                                 \r"
     ]
    },
    {
     "name": "stdout",
     "output_type": "stream",
     "text": [
      "Moviepy - Building video Video cuts collection/Video Segments/P03/music03.mp4.\n"
     ]
    },
    {
     "name": "stderr",
     "output_type": "stream",
     "text": [
      "                                                                 \r"
     ]
    },
    {
     "name": "stdout",
     "output_type": "stream",
     "text": [
      "Moviepy - Writing video Video cuts collection/Video Segments/P03/music03.mp4\n",
      "\n"
     ]
    },
    {
     "name": "stderr",
     "output_type": "stream",
     "text": [
      "t:   0%|          | 2/960 [25:46<205:48:34, 773.40s/it, now=None]\n",
      "t:   0%|          | 0/930 [00:00<?, ?it/s, now=None]\n",
      "t:   2%|▏         | 19/930 [00:00<00:04, 188.21it/s, now=None]\n",
      "t:  33%|███▎      | 310/930 [00:00<00:02, 261.56it/s, now=None]\n",
      "t:  68%|██████▊   | 635/930 [00:00<00:00, 361.11it/s, now=None]\n",
      "                                                                 \r"
     ]
    },
    {
     "name": "stdout",
     "output_type": "stream",
     "text": [
      "Moviepy - Done !\n"
     ]
    },
    {
     "name": "stderr",
     "output_type": "stream",
     "text": [
      "                                                                 \r"
     ]
    },
    {
     "name": "stdout",
     "output_type": "stream",
     "text": [
      "Moviepy - video ready Video cuts collection/Video Segments/P03/music03.mp4\n"
     ]
    },
    {
     "name": "stderr",
     "output_type": "stream",
     "text": [
      "\r",
      "t:   0%|          | 2/960 [25:47<205:52:50, 773.66s/it, now=None]"
     ]
    },
    {
     "name": "stdout",
     "output_type": "stream",
     "text": [
      "times 3\n"
     ]
    },
    {
     "name": "stderr",
     "output_type": "stream",
     "text": [
      "                                                                 \r"
     ]
    },
    {
     "name": "stdout",
     "output_type": "stream",
     "text": [
      "Moviepy - Building video Video cuts collection/Video Segments/P03/music04.mp4.\n"
     ]
    },
    {
     "name": "stderr",
     "output_type": "stream",
     "text": [
      "                                                                 \r"
     ]
    },
    {
     "name": "stdout",
     "output_type": "stream",
     "text": [
      "Moviepy - Writing video Video cuts collection/Video Segments/P03/music04.mp4\n",
      "\n"
     ]
    },
    {
     "name": "stderr",
     "output_type": "stream",
     "text": [
      "t:   0%|          | 2/960 [25:47<205:58:09, 774.00s/it, now=None]\n",
      "t:   0%|          | 0/960 [00:00<?, ?it/s, now=None]\n",
      "t:   2%|▏         | 20/960 [00:00<00:04, 198.52it/s, now=None]\n",
      "t:  33%|███▎      | 314/960 [00:00<00:02, 275.61it/s, now=None]\n",
      "t:  67%|██████▋   | 640/960 [00:00<00:00, 379.86it/s, now=None]\n",
      "t:  96%|█████████▋| 926/960 [00:00<00:00, 513.25it/s, now=None]\n",
      "                                                                 \r"
     ]
    },
    {
     "name": "stdout",
     "output_type": "stream",
     "text": [
      "Moviepy - Done !\n"
     ]
    },
    {
     "name": "stderr",
     "output_type": "stream",
     "text": [
      "                                                                 \r"
     ]
    },
    {
     "name": "stdout",
     "output_type": "stream",
     "text": [
      "Moviepy - video ready Video cuts collection/Video Segments/P03/music04.mp4\n"
     ]
    },
    {
     "name": "stderr",
     "output_type": "stream",
     "text": [
      "\r",
      "t:   0%|          | 2/960 [25:48<206:02:43, 774.28s/it, now=None]"
     ]
    },
    {
     "name": "stdout",
     "output_type": "stream",
     "text": [
      "times 4\n"
     ]
    },
    {
     "name": "stderr",
     "output_type": "stream",
     "text": [
      "                                                                 \r"
     ]
    },
    {
     "name": "stdout",
     "output_type": "stream",
     "text": [
      "Moviepy - Building video Video cuts collection/Video Segments/P03/music09.mp4.\n"
     ]
    },
    {
     "name": "stderr",
     "output_type": "stream",
     "text": [
      "                                                                 \r"
     ]
    },
    {
     "name": "stdout",
     "output_type": "stream",
     "text": [
      "Moviepy - Writing video Video cuts collection/Video Segments/P03/music09.mp4\n",
      "\n"
     ]
    },
    {
     "name": "stderr",
     "output_type": "stream",
     "text": [
      "t:   0%|          | 2/960 [25:49<206:08:53, 774.67s/it, now=None]\n",
      "t:   0%|          | 0/960 [00:00<?, ?it/s, now=None]\n",
      "t:   2%|▏         | 18/960 [00:00<00:05, 178.69it/s, now=None]\n",
      "t:  32%|███▏      | 309/960 [00:00<00:02, 248.68it/s, now=None]\n",
      "t:  64%|██████▎   | 611/960 [00:00<00:01, 343.07it/s, now=None]\n",
      "t:  95%|█████████▌| 912/960 [00:00<00:00, 467.22it/s, now=None]\n",
      "                                                                 \r"
     ]
    },
    {
     "name": "stdout",
     "output_type": "stream",
     "text": [
      "Moviepy - Done !\n"
     ]
    },
    {
     "name": "stderr",
     "output_type": "stream",
     "text": [
      "                                                                 \r"
     ]
    },
    {
     "name": "stdout",
     "output_type": "stream",
     "text": [
      "Moviepy - video ready Video cuts collection/Video Segments/P03/music09.mp4\n"
     ]
    },
    {
     "name": "stderr",
     "output_type": "stream",
     "text": [
      "\r",
      "t:   0%|          | 2/960 [25:49<206:13:31, 774.96s/it, now=None]"
     ]
    },
    {
     "name": "stdout",
     "output_type": "stream",
     "text": [
      "times 5\n"
     ]
    },
    {
     "name": "stderr",
     "output_type": "stream",
     "text": [
      "                                                                 \r"
     ]
    },
    {
     "name": "stdout",
     "output_type": "stream",
     "text": [
      "Moviepy - Building video Video cuts collection/Video Segments/P03/music10.mp4.\n"
     ]
    },
    {
     "name": "stderr",
     "output_type": "stream",
     "text": [
      "                                                                 \r"
     ]
    },
    {
     "name": "stdout",
     "output_type": "stream",
     "text": [
      "Moviepy - Writing video Video cuts collection/Video Segments/P03/music10.mp4\n",
      "\n"
     ]
    },
    {
     "name": "stderr",
     "output_type": "stream",
     "text": [
      "t:   0%|          | 2/960 [25:50<206:18:54, 775.30s/it, now=None]\n",
      "t:   0%|          | 0/1110 [00:00<?, ?it/s, now=None]\n",
      "t:   2%|▏         | 21/1110 [00:00<00:05, 208.48it/s, now=None]\n",
      "t:  28%|██▊       | 308/1110 [00:00<00:02, 288.77it/s, now=None]\n",
      "t:  57%|█████▋    | 635/1110 [00:00<00:01, 397.38it/s, now=None]\n",
      "t:  87%|████████▋ | 961/1110 [00:00<00:00, 539.30it/s, now=None]\n",
      "                                                                 \r"
     ]
    },
    {
     "name": "stdout",
     "output_type": "stream",
     "text": [
      "Moviepy - Done !\n"
     ]
    },
    {
     "name": "stderr",
     "output_type": "stream",
     "text": [
      "                                                                 \r"
     ]
    },
    {
     "name": "stdout",
     "output_type": "stream",
     "text": [
      "Moviepy - video ready Video cuts collection/Video Segments/P03/music10.mp4\n"
     ]
    },
    {
     "name": "stderr",
     "output_type": "stream",
     "text": [
      "\r",
      "t:   0%|          | 2/960 [25:51<206:23:45, 775.60s/it, now=None]"
     ]
    },
    {
     "name": "stdout",
     "output_type": "stream",
     "text": [
      "times 6\n"
     ]
    },
    {
     "name": "stderr",
     "output_type": "stream",
     "text": [
      "                                                                 \r"
     ]
    },
    {
     "name": "stdout",
     "output_type": "stream",
     "text": [
      "Moviepy - Building video Video cuts collection/Video Segments/P03/music11.mp4.\n"
     ]
    },
    {
     "name": "stderr",
     "output_type": "stream",
     "text": [
      "                                                                 \r"
     ]
    },
    {
     "name": "stdout",
     "output_type": "stream",
     "text": [
      "Moviepy - Writing video Video cuts collection/Video Segments/P03/music11.mp4\n",
      "\n"
     ]
    },
    {
     "name": "stderr",
     "output_type": "stream",
     "text": [
      "t:   0%|          | 2/960 [25:51<206:28:57, 775.93s/it, now=None]\n",
      "t:   0%|          | 0/960 [00:00<?, ?it/s, now=None]\n",
      "t:   0%|          | 3/960 [00:00<00:55, 17.22it/s, now=None]\n",
      "t:  28%|██▊       | 266/960 [00:00<00:28, 24.52it/s, now=None]\n",
      "t:  58%|█████▊    | 556/960 [00:00<00:11, 34.91it/s, now=None]\n",
      "t:  88%|████████▊ | 847/960 [00:00<00:02, 49.61it/s, now=None]\n",
      "                                                                 \r"
     ]
    },
    {
     "name": "stdout",
     "output_type": "stream",
     "text": [
      "Moviepy - Done !\n"
     ]
    },
    {
     "name": "stderr",
     "output_type": "stream",
     "text": [
      "                                                                 \r"
     ]
    },
    {
     "name": "stdout",
     "output_type": "stream",
     "text": [
      "Moviepy - video ready Video cuts collection/Video Segments/P03/music11.mp4\n"
     ]
    },
    {
     "name": "stderr",
     "output_type": "stream",
     "text": [
      "\r",
      "t:   0%|          | 2/960 [25:52<206:34:15, 776.26s/it, now=None]"
     ]
    },
    {
     "name": "stdout",
     "output_type": "stream",
     "text": [
      "times 7\n"
     ]
    },
    {
     "name": "stderr",
     "output_type": "stream",
     "text": [
      "                                                                 \r"
     ]
    },
    {
     "name": "stdout",
     "output_type": "stream",
     "text": [
      "Moviepy - Building video Video cuts collection/Video Segments/P03/music12.mp4.\n"
     ]
    },
    {
     "name": "stderr",
     "output_type": "stream",
     "text": [
      "                                                                 \r"
     ]
    },
    {
     "name": "stdout",
     "output_type": "stream",
     "text": [
      "Moviepy - Writing video Video cuts collection/Video Segments/P03/music12.mp4\n",
      "\n"
     ]
    },
    {
     "name": "stderr",
     "output_type": "stream",
     "text": [
      "t:   0%|          | 2/960 [25:53<206:39:49, 776.61s/it, now=None]\n",
      "t:   0%|          | 0/960 [00:00<?, ?it/s, now=None]\n",
      "t:   1%|▏         | 14/960 [00:00<00:06, 138.99it/s, now=None]\n",
      "t:  31%|███       | 298/960 [00:00<00:03, 194.44it/s, now=None]\n",
      "t:  62%|██████▏   | 591/960 [00:00<00:01, 270.04it/s, now=None]\n",
      "t:  93%|█████████▎| 889/960 [00:00<00:00, 371.25it/s, now=None]\n",
      "                                                                 \r"
     ]
    },
    {
     "name": "stdout",
     "output_type": "stream",
     "text": [
      "Moviepy - Done !\n"
     ]
    },
    {
     "name": "stderr",
     "output_type": "stream",
     "text": [
      "                                                                 \r"
     ]
    },
    {
     "name": "stdout",
     "output_type": "stream",
     "text": [
      "Moviepy - video ready Video cuts collection/Video Segments/P03/music12.mp4\n"
     ]
    },
    {
     "name": "stderr",
     "output_type": "stream",
     "text": [
      "\r",
      "t:   0%|          | 2/960 [25:53<206:44:36, 776.91s/it, now=None]"
     ]
    },
    {
     "name": "stdout",
     "output_type": "stream",
     "text": [
      "df:\n",
      "    a          b          c\n",
      "0  5 1527121271 1527121488\n",
      "1  6 1527121638 1527121847\n",
      "2  7 1527121939 1527122141\n",
      "3  8 1527122231 1527122441\n",
      "4  1 1527122534 1527122791\n",
      "5  2 1527122903 1527123148\n",
      "6  3 1527123245 1527123478\n",
      "7  4 1527123594 1527123835\n",
      "df_correct_time:\n",
      "    music_type  from_minutes  from_seconds  to_minutes  to_seconds  \\\n",
      "0           5             0             0           0          29   \n",
      "1           6             0            49           1          17   \n",
      "2           7             1            29           1          56   \n",
      "3           8             2             8           2          36   \n",
      "4           1             2            48           3          23   \n",
      "5           2             3            38           4          10   \n",
      "6           3             4            23           4          54   \n",
      "7           4             5            10           5          42   \n",
      "\n",
      "   from_total_second  to_total_second  \n",
      "0                  0               29  \n",
      "1                 49               77  \n",
      "2                 89              116  \n",
      "3                128              156  \n",
      "4                168              203  \n",
      "5                218              250  \n",
      "6                263              294  \n",
      "7                310              342  \n",
      "times 0\n"
     ]
    },
    {
     "name": "stderr",
     "output_type": "stream",
     "text": [
      "                                                                 \r"
     ]
    },
    {
     "name": "stdout",
     "output_type": "stream",
     "text": [
      "Moviepy - Building video Video cuts collection/Video Segments/P04/music05.mp4.\n"
     ]
    },
    {
     "name": "stderr",
     "output_type": "stream",
     "text": [
      "                                                                 \r"
     ]
    },
    {
     "name": "stdout",
     "output_type": "stream",
     "text": [
      "Moviepy - Writing video Video cuts collection/Video Segments/P04/music05.mp4\n",
      "\n"
     ]
    },
    {
     "name": "stderr",
     "output_type": "stream",
     "text": [
      "t:   0%|          | 2/960 [25:54<206:51:36, 777.34s/it, now=None]\n",
      "t:   0%|          | 0/810 [00:00<?, ?it/s, now=None]\n",
      "t:   1%|          | 9/810 [00:00<00:08, 89.35it/s, now=None]\n",
      "t:  35%|███▌      | 286/810 [00:00<00:04, 125.89it/s, now=None]\n",
      "t:  74%|███████▎  | 596/810 [00:00<00:01, 176.75it/s, now=None]\n",
      "                                                                 \r"
     ]
    },
    {
     "name": "stdout",
     "output_type": "stream",
     "text": [
      "Moviepy - Done !\n"
     ]
    },
    {
     "name": "stderr",
     "output_type": "stream",
     "text": [
      "                                                                 \r"
     ]
    },
    {
     "name": "stdout",
     "output_type": "stream",
     "text": [
      "Moviepy - video ready Video cuts collection/Video Segments/P04/music05.mp4\n"
     ]
    },
    {
     "name": "stderr",
     "output_type": "stream",
     "text": [
      "\r",
      "t:   0%|          | 2/960 [25:55<206:55:43, 777.60s/it, now=None]"
     ]
    },
    {
     "name": "stdout",
     "output_type": "stream",
     "text": [
      "times 1\n"
     ]
    },
    {
     "name": "stderr",
     "output_type": "stream",
     "text": [
      "                                                                 \r"
     ]
    },
    {
     "name": "stdout",
     "output_type": "stream",
     "text": [
      "Moviepy - Building video Video cuts collection/Video Segments/P04/music06.mp4.\n"
     ]
    },
    {
     "name": "stderr",
     "output_type": "stream",
     "text": [
      "                                                                 \r"
     ]
    },
    {
     "name": "stdout",
     "output_type": "stream",
     "text": [
      "Moviepy - Writing video Video cuts collection/Video Segments/P04/music06.mp4\n",
      "\n"
     ]
    },
    {
     "name": "stderr",
     "output_type": "stream",
     "text": [
      "t:   0%|          | 2/960 [25:55<207:01:18, 777.95s/it, now=None]\n",
      "t:   0%|          | 0/840 [00:00<?, ?it/s, now=None]\n",
      "t:   4%|▍         | 33/840 [00:00<00:02, 327.61it/s, now=None]\n",
      "t:  38%|███▊      | 316/840 [00:00<00:01, 445.74it/s, now=None]\n",
      "t:  75%|███████▌  | 633/840 [00:00<00:00, 600.32it/s, now=None]\n",
      "                                                                 \r"
     ]
    },
    {
     "name": "stdout",
     "output_type": "stream",
     "text": [
      "Moviepy - Done !\n"
     ]
    },
    {
     "name": "stderr",
     "output_type": "stream",
     "text": [
      "                                                                 \r"
     ]
    },
    {
     "name": "stdout",
     "output_type": "stream",
     "text": [
      "Moviepy - video ready Video cuts collection/Video Segments/P04/music06.mp4\n"
     ]
    },
    {
     "name": "stderr",
     "output_type": "stream",
     "text": [
      "\r",
      "t:   0%|          | 2/960 [25:56<207:05:31, 778.22s/it, now=None]"
     ]
    },
    {
     "name": "stdout",
     "output_type": "stream",
     "text": [
      "times 2\n"
     ]
    },
    {
     "name": "stderr",
     "output_type": "stream",
     "text": [
      "                                                                 \r"
     ]
    },
    {
     "name": "stdout",
     "output_type": "stream",
     "text": [
      "Moviepy - Building video Video cuts collection/Video Segments/P04/music07.mp4.\n"
     ]
    },
    {
     "name": "stderr",
     "output_type": "stream",
     "text": [
      "                                                                 \r"
     ]
    },
    {
     "name": "stdout",
     "output_type": "stream",
     "text": [
      "Moviepy - Writing video Video cuts collection/Video Segments/P04/music07.mp4\n",
      "\n"
     ]
    },
    {
     "name": "stderr",
     "output_type": "stream",
     "text": [
      "t:   0%|          | 2/960 [25:57<207:10:55, 778.56s/it, now=None]\n",
      "t:   0%|          | 0/810 [00:00<?, ?it/s, now=None]\n",
      "t:   0%|          | 3/810 [00:00<00:27, 29.51it/s, now=None]\n",
      "t:  35%|███▍      | 281/810 [00:00<00:12, 41.96it/s, now=None]\n",
      "t:  67%|██████▋   | 546/810 [00:00<00:04, 59.54it/s, now=None]\n",
      "                                                                 \r"
     ]
    },
    {
     "name": "stdout",
     "output_type": "stream",
     "text": [
      "Moviepy - Done !\n"
     ]
    },
    {
     "name": "stderr",
     "output_type": "stream",
     "text": [
      "                                                                 \r"
     ]
    },
    {
     "name": "stdout",
     "output_type": "stream",
     "text": [
      "Moviepy - video ready Video cuts collection/Video Segments/P04/music07.mp4\n"
     ]
    },
    {
     "name": "stderr",
     "output_type": "stream",
     "text": [
      "\r",
      "t:   0%|          | 2/960 [25:57<207:15:49, 778.86s/it, now=None]"
     ]
    },
    {
     "name": "stdout",
     "output_type": "stream",
     "text": [
      "times 3\n"
     ]
    },
    {
     "name": "stderr",
     "output_type": "stream",
     "text": [
      "                                                                 \r"
     ]
    },
    {
     "name": "stdout",
     "output_type": "stream",
     "text": [
      "Moviepy - Building video Video cuts collection/Video Segments/P04/music08.mp4.\n"
     ]
    },
    {
     "name": "stderr",
     "output_type": "stream",
     "text": [
      "                                                                 \r"
     ]
    },
    {
     "name": "stdout",
     "output_type": "stream",
     "text": [
      "Moviepy - Writing video Video cuts collection/Video Segments/P04/music08.mp4\n",
      "\n"
     ]
    },
    {
     "name": "stderr",
     "output_type": "stream",
     "text": [
      "t:   0%|          | 2/960 [25:58<207:21:20, 779.21s/it, now=None]\n",
      "t:   0%|          | 0/840 [00:00<?, ?it/s, now=None]\n",
      "t:   2%|▏         | 20/840 [00:00<00:04, 198.55it/s, now=None]\n",
      "t:  34%|███▍      | 287/840 [00:00<00:02, 274.83it/s, now=None]\n",
      "t:  68%|██████▊   | 572/840 [00:00<00:00, 376.92it/s, now=None]\n",
      "                                                                 \r"
     ]
    },
    {
     "name": "stdout",
     "output_type": "stream",
     "text": [
      "Moviepy - Done !\n"
     ]
    },
    {
     "name": "stderr",
     "output_type": "stream",
     "text": [
      "                                                                 \r"
     ]
    },
    {
     "name": "stdout",
     "output_type": "stream",
     "text": [
      "Moviepy - video ready Video cuts collection/Video Segments/P04/music08.mp4\n"
     ]
    },
    {
     "name": "stderr",
     "output_type": "stream",
     "text": [
      "\r",
      "t:   0%|          | 2/960 [25:59<207:26:16, 779.52s/it, now=None]"
     ]
    },
    {
     "name": "stdout",
     "output_type": "stream",
     "text": [
      "times 4\n"
     ]
    },
    {
     "name": "stderr",
     "output_type": "stream",
     "text": [
      "                                                                 \r"
     ]
    },
    {
     "name": "stdout",
     "output_type": "stream",
     "text": [
      "Moviepy - Building video Video cuts collection/Video Segments/P04/music01.mp4.\n"
     ]
    },
    {
     "name": "stderr",
     "output_type": "stream",
     "text": [
      "                                                                 \r"
     ]
    },
    {
     "name": "stdout",
     "output_type": "stream",
     "text": [
      "Moviepy - Writing video Video cuts collection/Video Segments/P04/music01.mp4\n",
      "\n"
     ]
    },
    {
     "name": "stderr",
     "output_type": "stream",
     "text": [
      "t:   0%|          | 2/960 [25:59<207:31:47, 779.86s/it, now=None]\n",
      "t:   0%|          | 0/1050 [00:00<?, ?it/s, now=None]\n",
      "t:   0%|          | 5/1050 [00:00<00:21, 49.64it/s, now=None]\n",
      "t:  25%|██▍       | 260/1050 [00:00<00:11, 70.32it/s, now=None]\n",
      "t:  52%|█████▏    | 548/1050 [00:00<00:05, 99.41it/s, now=None]\n",
      "t:  80%|████████  | 841/1050 [00:00<00:01, 139.97it/s, now=None]\n",
      "                                                                 \r"
     ]
    },
    {
     "name": "stdout",
     "output_type": "stream",
     "text": [
      "Moviepy - Done !\n"
     ]
    },
    {
     "name": "stderr",
     "output_type": "stream",
     "text": [
      "                                                                 \r"
     ]
    },
    {
     "name": "stdout",
     "output_type": "stream",
     "text": [
      "Moviepy - video ready Video cuts collection/Video Segments/P04/music01.mp4\n"
     ]
    },
    {
     "name": "stderr",
     "output_type": "stream",
     "text": [
      "\r",
      "t:   0%|          | 2/960 [26:00<207:36:47, 780.17s/it, now=None]"
     ]
    },
    {
     "name": "stdout",
     "output_type": "stream",
     "text": [
      "times 5\n"
     ]
    },
    {
     "name": "stderr",
     "output_type": "stream",
     "text": [
      "                                                                 \r"
     ]
    },
    {
     "name": "stdout",
     "output_type": "stream",
     "text": [
      "Moviepy - Building video Video cuts collection/Video Segments/P04/music02.mp4.\n"
     ]
    },
    {
     "name": "stderr",
     "output_type": "stream",
     "text": [
      "                                                                 \r"
     ]
    },
    {
     "name": "stdout",
     "output_type": "stream",
     "text": [
      "Moviepy - Writing video Video cuts collection/Video Segments/P04/music02.mp4\n",
      "\n"
     ]
    },
    {
     "name": "stderr",
     "output_type": "stream",
     "text": [
      "t:   0%|          | 2/960 [26:01<207:42:14, 780.52s/it, now=None]\n",
      "t:   0%|          | 0/960 [00:00<?, ?it/s, now=None]\n",
      "t:   2%|▏         | 17/960 [00:00<00:05, 168.71it/s, now=None]\n",
      "t:  31%|███       | 297/960 [00:00<00:02, 234.93it/s, now=None]\n",
      "t:  64%|██████▍   | 614/960 [00:00<00:01, 325.21it/s, now=None]\n",
      "t:  96%|█████████▌| 918/960 [00:00<00:00, 444.07it/s, now=None]\n",
      "                                                                 \r"
     ]
    },
    {
     "name": "stdout",
     "output_type": "stream",
     "text": [
      "Moviepy - Done !\n"
     ]
    },
    {
     "name": "stderr",
     "output_type": "stream",
     "text": [
      "                                                                 \r"
     ]
    },
    {
     "name": "stdout",
     "output_type": "stream",
     "text": [
      "Moviepy - video ready Video cuts collection/Video Segments/P04/music02.mp4\n"
     ]
    },
    {
     "name": "stderr",
     "output_type": "stream",
     "text": [
      "\r",
      "t:   0%|          | 2/960 [26:01<207:46:45, 780.80s/it, now=None]"
     ]
    },
    {
     "name": "stdout",
     "output_type": "stream",
     "text": [
      "times 6\n"
     ]
    },
    {
     "name": "stderr",
     "output_type": "stream",
     "text": [
      "                                                                 \r"
     ]
    },
    {
     "name": "stdout",
     "output_type": "stream",
     "text": [
      "Moviepy - Building video Video cuts collection/Video Segments/P04/music03.mp4.\n"
     ]
    },
    {
     "name": "stderr",
     "output_type": "stream",
     "text": [
      "                                                                 \r"
     ]
    },
    {
     "name": "stdout",
     "output_type": "stream",
     "text": [
      "Moviepy - Writing video Video cuts collection/Video Segments/P04/music03.mp4\n",
      "\n"
     ]
    },
    {
     "name": "stderr",
     "output_type": "stream",
     "text": [
      "t:   0%|          | 2/960 [26:02<207:52:00, 781.13s/it, now=None]\n",
      "t:   0%|          | 0/930 [00:00<?, ?it/s, now=None]\n",
      "t:   1%|          | 6/930 [00:00<00:15, 60.00it/s, now=None]\n",
      "t:  32%|███▏      | 293/930 [00:00<00:07, 84.94it/s, now=None]\n",
      "t:  64%|██████▍   | 593/930 [00:00<00:02, 119.88it/s, now=None]\n",
      "t:  98%|█████████▊| 913/930 [00:00<00:00, 168.53it/s, now=None]\n",
      "                                                                 \r"
     ]
    },
    {
     "name": "stdout",
     "output_type": "stream",
     "text": [
      "Moviepy - Done !\n"
     ]
    },
    {
     "name": "stderr",
     "output_type": "stream",
     "text": [
      "                                                                 \r"
     ]
    },
    {
     "name": "stdout",
     "output_type": "stream",
     "text": [
      "Moviepy - video ready Video cuts collection/Video Segments/P04/music03.mp4\n"
     ]
    },
    {
     "name": "stderr",
     "output_type": "stream",
     "text": [
      "\r",
      "t:   0%|          | 2/960 [26:02<207:56:25, 781.40s/it, now=None]"
     ]
    },
    {
     "name": "stdout",
     "output_type": "stream",
     "text": [
      "times 7\n"
     ]
    },
    {
     "name": "stderr",
     "output_type": "stream",
     "text": [
      "                                                                 \r"
     ]
    },
    {
     "name": "stdout",
     "output_type": "stream",
     "text": [
      "Moviepy - Building video Video cuts collection/Video Segments/P04/music04.mp4.\n"
     ]
    },
    {
     "name": "stderr",
     "output_type": "stream",
     "text": [
      "                                                                 \r"
     ]
    },
    {
     "name": "stdout",
     "output_type": "stream",
     "text": [
      "Moviepy - Writing video Video cuts collection/Video Segments/P04/music04.mp4\n",
      "\n"
     ]
    },
    {
     "name": "stderr",
     "output_type": "stream",
     "text": [
      "t:   0%|          | 2/960 [26:03<208:01:47, 781.74s/it, now=None]\n",
      "t:   0%|          | 0/960 [00:00<?, ?it/s, now=None]\n",
      "t:   2%|▏         | 15/960 [00:00<00:06, 149.54it/s, now=None]\n",
      "t:  31%|███       | 296/960 [00:00<00:03, 208.82it/s, now=None]\n",
      "t:  63%|██████▎   | 606/960 [00:00<00:01, 289.91it/s, now=None]\n",
      "t:  94%|█████████▍| 905/960 [00:00<00:00, 397.52it/s, now=None]\n",
      "                                                                 \r"
     ]
    },
    {
     "name": "stdout",
     "output_type": "stream",
     "text": [
      "Moviepy - Done !\n"
     ]
    },
    {
     "name": "stderr",
     "output_type": "stream",
     "text": [
      "                                                                 \r"
     ]
    },
    {
     "name": "stdout",
     "output_type": "stream",
     "text": [
      "Moviepy - video ready Video cuts collection/Video Segments/P04/music04.mp4\n"
     ]
    },
    {
     "name": "stderr",
     "output_type": "stream",
     "text": [
      "\r",
      "t:   0%|          | 2/960 [26:04<208:06:24, 782.03s/it, now=None]"
     ]
    },
    {
     "name": "stdout",
     "output_type": "stream",
     "text": [
      "df:\n",
      "    a          b          c\n",
      "0  5 1527137660 1527137877\n",
      "1  6 1527138054 1527138263\n",
      "2  7 1527138379 1527138581\n",
      "3  8 1527138700 1527138910\n",
      "4  9 1527139020 1527139259\n",
      "5 10 1527139373 1527139649\n",
      "6 11 1527139775 1527140014\n",
      "7 12 1527140111 1527140351\n",
      "df_correct_time:\n",
      "    music_type  from_minutes  from_seconds  to_minutes  to_seconds  \\\n",
      "0           5             0             0           0          29   \n",
      "1           6             0            53           1          20   \n",
      "2           7             1            36           2           3   \n",
      "3           8             2            19           2          47   \n",
      "4           9             3             1           3          33   \n",
      "5          10             3            48           4          25   \n",
      "6          11             4            42           5          14   \n",
      "7          12             5            27           5          59   \n",
      "\n",
      "   from_total_second  to_total_second  \n",
      "0                  0               29  \n",
      "1                 53               80  \n",
      "2                 96              123  \n",
      "3                139              167  \n",
      "4                181              213  \n",
      "5                228              265  \n",
      "6                282              314  \n",
      "7                327              359  \n",
      "times 0\n"
     ]
    },
    {
     "name": "stderr",
     "output_type": "stream",
     "text": [
      "                                                                 \r"
     ]
    },
    {
     "name": "stdout",
     "output_type": "stream",
     "text": [
      "Moviepy - Building video Video cuts collection/Video Segments/P05/music05.mp4.\n"
     ]
    },
    {
     "name": "stderr",
     "output_type": "stream",
     "text": [
      "                                                                 \r"
     ]
    },
    {
     "name": "stdout",
     "output_type": "stream",
     "text": [
      "Moviepy - Writing video Video cuts collection/Video Segments/P05/music05.mp4\n",
      "\n"
     ]
    },
    {
     "name": "stderr",
     "output_type": "stream",
     "text": [
      "t:   0%|          | 2/960 [26:04<208:13:37, 782.48s/it, now=None]\n",
      "t:   0%|          | 0/810 [00:00<?, ?it/s, now=None]\n",
      "t:   2%|▏         | 18/810 [00:00<00:04, 178.70it/s, now=None]\n",
      "t:  38%|███▊      | 304/810 [00:00<00:02, 248.57it/s, now=None]\n",
      "t:  76%|███████▌  | 617/810 [00:00<00:00, 343.34it/s, now=None]\n",
      "                                                                 \r"
     ]
    },
    {
     "name": "stdout",
     "output_type": "stream",
     "text": [
      "Moviepy - Done !\n"
     ]
    },
    {
     "name": "stderr",
     "output_type": "stream",
     "text": [
      "                                                                 \r"
     ]
    },
    {
     "name": "stdout",
     "output_type": "stream",
     "text": [
      "Moviepy - video ready Video cuts collection/Video Segments/P05/music05.mp4\n"
     ]
    },
    {
     "name": "stderr",
     "output_type": "stream",
     "text": [
      "\r",
      "t:   0%|          | 2/960 [26:05<208:17:42, 782.74s/it, now=None]"
     ]
    },
    {
     "name": "stdout",
     "output_type": "stream",
     "text": [
      "times 1\n"
     ]
    },
    {
     "name": "stderr",
     "output_type": "stream",
     "text": [
      "                                                                 \r"
     ]
    },
    {
     "name": "stdout",
     "output_type": "stream",
     "text": [
      "Moviepy - Building video Video cuts collection/Video Segments/P05/music06.mp4.\n"
     ]
    },
    {
     "name": "stderr",
     "output_type": "stream",
     "text": [
      "                                                                 \r"
     ]
    },
    {
     "name": "stdout",
     "output_type": "stream",
     "text": [
      "Moviepy - Writing video Video cuts collection/Video Segments/P05/music06.mp4\n",
      "\n"
     ]
    },
    {
     "name": "stderr",
     "output_type": "stream",
     "text": [
      "t:   0%|          | 2/960 [26:06<208:23:09, 783.08s/it, now=None]\n",
      "t:   0%|          | 0/810 [00:00<?, ?it/s, now=None]\n",
      "t:   2%|▏         | 15/810 [00:00<00:05, 149.72it/s, now=None]\n",
      "t:  37%|███▋      | 300/810 [00:00<00:02, 209.15it/s, now=None]\n",
      "t:  76%|███████▌  | 616/810 [00:00<00:00, 290.48it/s, now=None]\n",
      "                                                                 \r"
     ]
    },
    {
     "name": "stdout",
     "output_type": "stream",
     "text": [
      "Moviepy - Done !\n"
     ]
    },
    {
     "name": "stderr",
     "output_type": "stream",
     "text": [
      "                                                                 \r"
     ]
    },
    {
     "name": "stdout",
     "output_type": "stream",
     "text": [
      "Moviepy - video ready Video cuts collection/Video Segments/P05/music06.mp4\n"
     ]
    },
    {
     "name": "stderr",
     "output_type": "stream",
     "text": [
      "\r",
      "t:   0%|          | 2/960 [26:06<208:27:15, 783.34s/it, now=None]"
     ]
    },
    {
     "name": "stdout",
     "output_type": "stream",
     "text": [
      "times 2\n"
     ]
    },
    {
     "name": "stderr",
     "output_type": "stream",
     "text": [
      "                                                                 \r"
     ]
    },
    {
     "name": "stdout",
     "output_type": "stream",
     "text": [
      "Moviepy - Building video Video cuts collection/Video Segments/P05/music07.mp4.\n"
     ]
    },
    {
     "name": "stderr",
     "output_type": "stream",
     "text": [
      "                                                                 \r"
     ]
    },
    {
     "name": "stdout",
     "output_type": "stream",
     "text": [
      "Moviepy - Writing video Video cuts collection/Video Segments/P05/music07.mp4\n",
      "\n"
     ]
    },
    {
     "name": "stderr",
     "output_type": "stream",
     "text": [
      "t:   0%|          | 2/960 [26:07<208:32:42, 783.68s/it, now=None]\n",
      "t:   0%|          | 0/810 [00:00<?, ?it/s, now=None]\n",
      "t:   2%|▏         | 13/810 [00:00<00:06, 129.06it/s, now=None]\n",
      "t:  37%|███▋      | 296/810 [00:00<00:02, 180.81it/s, now=None]\n",
      "t:  76%|███████▌  | 617/810 [00:00<00:00, 252.16it/s, now=None]\n",
      "                                                                 \r"
     ]
    },
    {
     "name": "stdout",
     "output_type": "stream",
     "text": [
      "Moviepy - Done !\n"
     ]
    },
    {
     "name": "stderr",
     "output_type": "stream",
     "text": [
      "                                                                 \r"
     ]
    },
    {
     "name": "stdout",
     "output_type": "stream",
     "text": [
      "Moviepy - video ready Video cuts collection/Video Segments/P05/music07.mp4\n"
     ]
    },
    {
     "name": "stderr",
     "output_type": "stream",
     "text": [
      "\r",
      "t:   0%|          | 2/960 [26:07<208:36:47, 783.93s/it, now=None]"
     ]
    },
    {
     "name": "stdout",
     "output_type": "stream",
     "text": [
      "times 3\n"
     ]
    },
    {
     "name": "stderr",
     "output_type": "stream",
     "text": [
      "                                                                 \r"
     ]
    },
    {
     "name": "stdout",
     "output_type": "stream",
     "text": [
      "Moviepy - Building video Video cuts collection/Video Segments/P05/music08.mp4.\n"
     ]
    },
    {
     "name": "stderr",
     "output_type": "stream",
     "text": [
      "                                                                 \r"
     ]
    },
    {
     "name": "stdout",
     "output_type": "stream",
     "text": [
      "Moviepy - Writing video Video cuts collection/Video Segments/P05/music08.mp4\n",
      "\n"
     ]
    },
    {
     "name": "stderr",
     "output_type": "stream",
     "text": [
      "t:   0%|          | 2/960 [26:08<208:42:07, 784.27s/it, now=None]\n",
      "t:   0%|          | 0/840 [00:00<?, ?it/s, now=None]\n",
      "t:   1%|▏         | 12/840 [00:00<00:06, 118.94it/s, now=None]\n",
      "t:  27%|██▋       | 228/840 [00:00<00:03, 165.97it/s, now=None]\n",
      "t:  55%|█████▌    | 465/840 [00:00<00:01, 230.15it/s, now=None]\n",
      "t:  92%|█████████▏| 775/840 [00:00<00:00, 318.57it/s, now=None]\n",
      "                                                                 \r"
     ]
    },
    {
     "name": "stdout",
     "output_type": "stream",
     "text": [
      "Moviepy - Done !\n"
     ]
    },
    {
     "name": "stderr",
     "output_type": "stream",
     "text": [
      "                                                                 \r"
     ]
    },
    {
     "name": "stdout",
     "output_type": "stream",
     "text": [
      "Moviepy - video ready Video cuts collection/Video Segments/P05/music08.mp4\n"
     ]
    },
    {
     "name": "stderr",
     "output_type": "stream",
     "text": [
      "\r",
      "t:   0%|          | 2/960 [26:09<208:46:37, 784.55s/it, now=None]"
     ]
    },
    {
     "name": "stdout",
     "output_type": "stream",
     "text": [
      "times 4\n"
     ]
    },
    {
     "name": "stderr",
     "output_type": "stream",
     "text": [
      "                                                                 \r"
     ]
    },
    {
     "name": "stdout",
     "output_type": "stream",
     "text": [
      "Moviepy - Building video Video cuts collection/Video Segments/P05/music09.mp4.\n"
     ]
    },
    {
     "name": "stderr",
     "output_type": "stream",
     "text": [
      "                                                                 \r"
     ]
    },
    {
     "name": "stdout",
     "output_type": "stream",
     "text": [
      "Moviepy - Writing video Video cuts collection/Video Segments/P05/music09.mp4\n",
      "\n"
     ]
    },
    {
     "name": "stderr",
     "output_type": "stream",
     "text": [
      "t:   0%|          | 2/960 [26:09<208:52:23, 784.91s/it, now=None]\n",
      "t:   0%|          | 0/960 [00:00<?, ?it/s, now=None]\n",
      "t:   1%|          | 6/960 [00:00<00:15, 59.69it/s, now=None]\n",
      "t:  27%|██▋       | 262/960 [00:00<00:08, 84.42it/s, now=None]\n",
      "t:  58%|█████▊    | 554/960 [00:00<00:03, 119.09it/s, now=None]\n",
      "t:  87%|████████▋ | 833/960 [00:00<00:00, 167.05it/s, now=None]\n",
      "                                                                 \r"
     ]
    },
    {
     "name": "stdout",
     "output_type": "stream",
     "text": [
      "Moviepy - Done !\n"
     ]
    },
    {
     "name": "stderr",
     "output_type": "stream",
     "text": [
      "                                                                 \r"
     ]
    },
    {
     "name": "stdout",
     "output_type": "stream",
     "text": [
      "Moviepy - video ready Video cuts collection/Video Segments/P05/music09.mp4\n"
     ]
    },
    {
     "name": "stderr",
     "output_type": "stream",
     "text": [
      "\r",
      "t:   0%|          | 2/960 [26:10<208:57:09, 785.21s/it, now=None]"
     ]
    },
    {
     "name": "stdout",
     "output_type": "stream",
     "text": [
      "times 5\n"
     ]
    },
    {
     "name": "stderr",
     "output_type": "stream",
     "text": [
      "                                                                 \r"
     ]
    },
    {
     "name": "stdout",
     "output_type": "stream",
     "text": [
      "Moviepy - Building video Video cuts collection/Video Segments/P05/music10.mp4.\n"
     ]
    },
    {
     "name": "stderr",
     "output_type": "stream",
     "text": [
      "                                                                 \r"
     ]
    },
    {
     "name": "stdout",
     "output_type": "stream",
     "text": [
      "Moviepy - Writing video Video cuts collection/Video Segments/P05/music10.mp4\n",
      "\n"
     ]
    },
    {
     "name": "stderr",
     "output_type": "stream",
     "text": [
      "t:   0%|          | 2/960 [26:11<209:03:00, 785.57s/it, now=None]\n",
      "t:   0%|          | 0/1110 [00:00<?, ?it/s, now=None]\n",
      "t:   1%|▏         | 14/1110 [00:00<00:07, 139.05it/s, now=None]\n",
      "t:  27%|██▋       | 300/1110 [00:00<00:04, 194.58it/s, now=None]\n",
      "t:  52%|█████▏    | 576/1110 [00:00<00:01, 269.79it/s, now=None]\n",
      "t:  79%|███████▉  | 876/1110 [00:00<00:00, 371.01it/s, now=None]\n",
      "                                                                 \r"
     ]
    },
    {
     "name": "stdout",
     "output_type": "stream",
     "text": [
      "Moviepy - Done !\n"
     ]
    },
    {
     "name": "stderr",
     "output_type": "stream",
     "text": [
      "                                                                 \r"
     ]
    },
    {
     "name": "stdout",
     "output_type": "stream",
     "text": [
      "Moviepy - video ready Video cuts collection/Video Segments/P05/music10.mp4\n"
     ]
    },
    {
     "name": "stderr",
     "output_type": "stream",
     "text": [
      "\r",
      "t:   0%|          | 2/960 [26:11<209:07:59, 785.89s/it, now=None]"
     ]
    },
    {
     "name": "stdout",
     "output_type": "stream",
     "text": [
      "times 6\n"
     ]
    },
    {
     "name": "stderr",
     "output_type": "stream",
     "text": [
      "                                                                 \r"
     ]
    },
    {
     "name": "stdout",
     "output_type": "stream",
     "text": [
      "Moviepy - Building video Video cuts collection/Video Segments/P05/music11.mp4.\n"
     ]
    },
    {
     "name": "stderr",
     "output_type": "stream",
     "text": [
      "                                                                 \r"
     ]
    },
    {
     "name": "stdout",
     "output_type": "stream",
     "text": [
      "Moviepy - Writing video Video cuts collection/Video Segments/P05/music11.mp4\n",
      "\n"
     ]
    },
    {
     "name": "stderr",
     "output_type": "stream",
     "text": [
      "t:   0%|          | 2/960 [26:12<209:13:34, 786.24s/it, now=None]\n",
      "t:   0%|          | 0/960 [00:00<?, ?it/s, now=None]\n",
      "t:   0%|          | 3/960 [00:00<00:32, 29.78it/s, now=None]\n",
      "t:  29%|██▉       | 279/960 [00:00<00:16, 42.35it/s, now=None]\n",
      "t:  59%|█████▉    | 571/960 [00:00<00:06, 60.12it/s, now=None]\n",
      "t:  90%|████████▉ | 863/960 [00:00<00:01, 85.13it/s, now=None]\n",
      "                                                                 \r"
     ]
    },
    {
     "name": "stdout",
     "output_type": "stream",
     "text": [
      "Moviepy - Done !\n"
     ]
    },
    {
     "name": "stderr",
     "output_type": "stream",
     "text": [
      "                                                                 \r"
     ]
    },
    {
     "name": "stdout",
     "output_type": "stream",
     "text": [
      "Moviepy - video ready Video cuts collection/Video Segments/P05/music11.mp4\n"
     ]
    },
    {
     "name": "stderr",
     "output_type": "stream",
     "text": [
      "\r",
      "t:   0%|          | 2/960 [26:13<209:18:16, 786.53s/it, now=None]"
     ]
    },
    {
     "name": "stdout",
     "output_type": "stream",
     "text": [
      "times 7\n"
     ]
    },
    {
     "name": "stderr",
     "output_type": "stream",
     "text": [
      "                                                                 \r"
     ]
    },
    {
     "name": "stdout",
     "output_type": "stream",
     "text": [
      "Moviepy - Building video Video cuts collection/Video Segments/P05/music12.mp4.\n"
     ]
    },
    {
     "name": "stderr",
     "output_type": "stream",
     "text": [
      "                                                                 \r"
     ]
    },
    {
     "name": "stdout",
     "output_type": "stream",
     "text": [
      "Moviepy - Writing video Video cuts collection/Video Segments/P05/music12.mp4\n",
      "\n"
     ]
    },
    {
     "name": "stderr",
     "output_type": "stream",
     "text": [
      "t:   0%|          | 2/960 [26:13<209:23:44, 786.87s/it, now=None]\n",
      "t:   0%|          | 0/960 [00:00<?, ?it/s, now=None]\n",
      "t:   1%|          | 10/960 [00:00<00:09, 99.27it/s, now=None]\n",
      "t:  31%|███       | 297/960 [00:00<00:04, 139.73it/s, now=None]\n",
      "t:  65%|██████▍   | 623/960 [00:00<00:01, 195.99it/s, now=None]\n",
      "t:  97%|█████████▋| 934/960 [00:00<00:00, 272.57it/s, now=None]\n",
      "                                                                 \r"
     ]
    },
    {
     "name": "stdout",
     "output_type": "stream",
     "text": [
      "Moviepy - Done !\n"
     ]
    },
    {
     "name": "stderr",
     "output_type": "stream",
     "text": [
      "                                                                 \r"
     ]
    },
    {
     "name": "stdout",
     "output_type": "stream",
     "text": [
      "Moviepy - video ready Video cuts collection/Video Segments/P05/music12.mp4\n"
     ]
    },
    {
     "name": "stderr",
     "output_type": "stream",
     "text": [
      "\r",
      "t:   0%|          | 2/960 [26:14<209:29:50, 787.26s/it, now=None]"
     ]
    },
    {
     "name": "stdout",
     "output_type": "stream",
     "text": [
      "df:\n",
      "    a          b          c\n",
      "0  9 1527224476 1527224715\n",
      "1 10 1527224902 1527225178\n",
      "2 11 1527225327 1527225566\n",
      "3 12 1527225739 1527225979\n",
      "4  1 1527226145 1527226402\n",
      "5  2 1527226480 1527226725\n",
      "6  3 1527226803 1527227036\n",
      "7  4 1527227116 1527227357\n",
      "df_correct_time:\n",
      "    music_type  from_minutes  from_seconds  to_minutes  to_seconds  \\\n",
      "0           9             0             0           0          32   \n",
      "1          10             0            57           1          34   \n",
      "2          11             1            53           2          25   \n",
      "3          12             2            48           3          20   \n",
      "4           1             3            43           4          17   \n",
      "5           2             4            27           5           0   \n",
      "6           3             5            10           5          41   \n",
      "7           4             5            52           6          24   \n",
      "\n",
      "   from_total_second  to_total_second  \n",
      "0                  0               32  \n",
      "1                 57               94  \n",
      "2                113              145  \n",
      "3                168              200  \n",
      "4                223              257  \n",
      "5                267              300  \n",
      "6                310              341  \n",
      "7                352              384  \n",
      "times 0\n"
     ]
    },
    {
     "name": "stderr",
     "output_type": "stream",
     "text": [
      "                                                                 \r"
     ]
    },
    {
     "name": "stdout",
     "output_type": "stream",
     "text": [
      "Moviepy - Building video Video cuts collection/Video Segments/P06/music09.mp4.\n"
     ]
    },
    {
     "name": "stderr",
     "output_type": "stream",
     "text": [
      "                                                                 \r"
     ]
    },
    {
     "name": "stdout",
     "output_type": "stream",
     "text": [
      "Moviepy - Writing video Video cuts collection/Video Segments/P06/music09.mp4\n",
      "\n"
     ]
    },
    {
     "name": "stderr",
     "output_type": "stream",
     "text": [
      "t:   0%|          | 2/960 [26:15<209:37:08, 787.71s/it, now=None]\n",
      "t:   0%|          | 0/900 [00:00<?, ?it/s, now=None]\n",
      "t:   1%|▏         | 13/900 [00:00<00:06, 129.06it/s, now=None]\n",
      "t:  34%|███▍      | 304/900 [00:00<00:03, 180.90it/s, now=None]\n",
      "t:  69%|██████▉   | 623/900 [00:00<00:01, 252.26it/s, now=None]\n",
      "                                                                 \r"
     ]
    },
    {
     "name": "stdout",
     "output_type": "stream",
     "text": [
      "Moviepy - Done !\n"
     ]
    },
    {
     "name": "stderr",
     "output_type": "stream",
     "text": [
      "                                                                 \r"
     ]
    },
    {
     "name": "stdout",
     "output_type": "stream",
     "text": [
      "Moviepy - video ready Video cuts collection/Video Segments/P06/music09.mp4\n"
     ]
    },
    {
     "name": "stderr",
     "output_type": "stream",
     "text": [
      "\r",
      "t:   0%|          | 2/960 [26:15<209:41:25, 787.98s/it, now=None]"
     ]
    },
    {
     "name": "stdout",
     "output_type": "stream",
     "text": [
      "times 1\n"
     ]
    },
    {
     "name": "stderr",
     "output_type": "stream",
     "text": [
      "                                                                 \r"
     ]
    },
    {
     "name": "stdout",
     "output_type": "stream",
     "text": [
      "Moviepy - Building video Video cuts collection/Video Segments/P06/music10.mp4.\n"
     ]
    },
    {
     "name": "stderr",
     "output_type": "stream",
     "text": [
      "                                                                 \r"
     ]
    },
    {
     "name": "stdout",
     "output_type": "stream",
     "text": [
      "Moviepy - Writing video Video cuts collection/Video Segments/P06/music10.mp4\n",
      "\n"
     ]
    },
    {
     "name": "stderr",
     "output_type": "stream",
     "text": [
      "t:   0%|          | 2/960 [26:16<209:46:59, 788.33s/it, now=None]\n",
      "t:   0%|          | 0/1110 [00:00<?, ?it/s, now=None]\n",
      "t:   1%|          | 11/1110 [00:00<00:10, 109.20it/s, now=None]\n",
      "t:  26%|██▋       | 293/1110 [00:00<00:05, 153.44it/s, now=None]\n",
      "t:  54%|█████▎    | 596/1110 [00:00<00:02, 214.50it/s, now=None]\n",
      "t:  80%|████████  | 888/1110 [00:00<00:00, 297.02it/s, now=None]\n",
      "                                                                 \r"
     ]
    },
    {
     "name": "stdout",
     "output_type": "stream",
     "text": [
      "Moviepy - Done !\n"
     ]
    },
    {
     "name": "stderr",
     "output_type": "stream",
     "text": [
      "                                                                 \r"
     ]
    },
    {
     "name": "stdout",
     "output_type": "stream",
     "text": [
      "Moviepy - video ready Video cuts collection/Video Segments/P06/music10.mp4\n"
     ]
    },
    {
     "name": "stderr",
     "output_type": "stream",
     "text": [
      "\r",
      "t:   0%|          | 2/960 [26:17<209:51:59, 788.64s/it, now=None]"
     ]
    },
    {
     "name": "stdout",
     "output_type": "stream",
     "text": [
      "times 2\n"
     ]
    },
    {
     "name": "stderr",
     "output_type": "stream",
     "text": [
      "                                                                 \r"
     ]
    },
    {
     "name": "stdout",
     "output_type": "stream",
     "text": [
      "Moviepy - Building video Video cuts collection/Video Segments/P06/music11.mp4.\n"
     ]
    },
    {
     "name": "stderr",
     "output_type": "stream",
     "text": [
      "                                                                 \r"
     ]
    },
    {
     "name": "stdout",
     "output_type": "stream",
     "text": [
      "Moviepy - Writing video Video cuts collection/Video Segments/P06/music11.mp4\n",
      "\n"
     ]
    },
    {
     "name": "stderr",
     "output_type": "stream",
     "text": [
      "t:   0%|          | 2/960 [26:18<209:57:46, 789.01s/it, now=None]\n",
      "t:   0%|          | 0/960 [00:00<?, ?it/s, now=None]\n",
      "t:   2%|▏         | 18/960 [00:00<00:05, 178.70it/s, now=None]\n",
      "t:  32%|███▏      | 305/960 [00:00<00:02, 248.60it/s, now=None]\n",
      "t:  63%|██████▎   | 601/960 [00:00<00:01, 342.72it/s, now=None]\n",
      "t:  94%|█████████▎| 898/960 [00:00<00:00, 466.36it/s, now=None]\n",
      "                                                                 \r"
     ]
    },
    {
     "name": "stdout",
     "output_type": "stream",
     "text": [
      "Moviepy - Done !\n"
     ]
    },
    {
     "name": "stderr",
     "output_type": "stream",
     "text": [
      "                                                                 \r"
     ]
    },
    {
     "name": "stdout",
     "output_type": "stream",
     "text": [
      "Moviepy - video ready Video cuts collection/Video Segments/P06/music11.mp4\n"
     ]
    },
    {
     "name": "stderr",
     "output_type": "stream",
     "text": [
      "\r",
      "t:   0%|          | 2/960 [26:18<210:02:24, 789.29s/it, now=None]"
     ]
    },
    {
     "name": "stdout",
     "output_type": "stream",
     "text": [
      "times 3\n"
     ]
    },
    {
     "name": "stderr",
     "output_type": "stream",
     "text": [
      "                                                                 \r"
     ]
    },
    {
     "name": "stdout",
     "output_type": "stream",
     "text": [
      "Moviepy - Building video Video cuts collection/Video Segments/P06/music12.mp4.\n"
     ]
    },
    {
     "name": "stderr",
     "output_type": "stream",
     "text": [
      "                                                                 \r"
     ]
    },
    {
     "name": "stdout",
     "output_type": "stream",
     "text": [
      "Moviepy - Writing video Video cuts collection/Video Segments/P06/music12.mp4\n",
      "\n"
     ]
    },
    {
     "name": "stderr",
     "output_type": "stream",
     "text": [
      "t:   0%|          | 2/960 [26:19<210:08:00, 789.65s/it, now=None]\n",
      "t:   0%|          | 0/960 [00:00<?, ?it/s, now=None]\n",
      "t:   2%|▏         | 19/960 [00:00<00:04, 188.62it/s, now=None]\n",
      "t:  32%|███▎      | 312/960 [00:00<00:02, 262.17it/s, now=None]\n",
      "t:  64%|██████▍   | 614/960 [00:00<00:00, 361.00it/s, now=None]\n",
      "t:  95%|█████████▍| 910/960 [00:00<00:00, 489.94it/s, now=None]\n",
      "                                                                 \r"
     ]
    },
    {
     "name": "stdout",
     "output_type": "stream",
     "text": [
      "Moviepy - Done !\n"
     ]
    },
    {
     "name": "stderr",
     "output_type": "stream",
     "text": [
      "                                                                 \r"
     ]
    },
    {
     "name": "stdout",
     "output_type": "stream",
     "text": [
      "Moviepy - video ready Video cuts collection/Video Segments/P06/music12.mp4\n"
     ]
    },
    {
     "name": "stderr",
     "output_type": "stream",
     "text": [
      "\r",
      "t:   0%|          | 2/960 [26:19<210:12:32, 789.93s/it, now=None]"
     ]
    },
    {
     "name": "stdout",
     "output_type": "stream",
     "text": [
      "times 4\n"
     ]
    },
    {
     "name": "stderr",
     "output_type": "stream",
     "text": [
      "                                                                 \r"
     ]
    },
    {
     "name": "stdout",
     "output_type": "stream",
     "text": [
      "Moviepy - Building video Video cuts collection/Video Segments/P06/music01.mp4.\n"
     ]
    },
    {
     "name": "stderr",
     "output_type": "stream",
     "text": [
      "                                                                 \r"
     ]
    },
    {
     "name": "stdout",
     "output_type": "stream",
     "text": [
      "Moviepy - Writing video Video cuts collection/Video Segments/P06/music01.mp4\n",
      "\n"
     ]
    },
    {
     "name": "stderr",
     "output_type": "stream",
     "text": [
      "t:   0%|          | 2/960 [26:20<210:17:59, 790.27s/it, now=None]\n",
      "t:   0%|          | 0/1020 [00:00<?, ?it/s, now=None]\n",
      "t:   0%|          | 3/1020 [00:00<00:34, 29.64it/s, now=None]\n",
      "t:  28%|██▊       | 285/1020 [00:00<00:17, 42.15it/s, now=None]\n",
      "t:  56%|█████▌    | 573/1020 [00:00<00:07, 59.83it/s, now=None]\n",
      "t:  84%|████████▍ | 855/1020 [00:00<00:01, 84.70it/s, now=None]\n",
      "                                                                 \r"
     ]
    },
    {
     "name": "stdout",
     "output_type": "stream",
     "text": [
      "Moviepy - Done !\n"
     ]
    },
    {
     "name": "stderr",
     "output_type": "stream",
     "text": [
      "                                                                 \r"
     ]
    },
    {
     "name": "stdout",
     "output_type": "stream",
     "text": [
      "Moviepy - video ready Video cuts collection/Video Segments/P06/music01.mp4\n"
     ]
    },
    {
     "name": "stderr",
     "output_type": "stream",
     "text": [
      "\r",
      "t:   0%|          | 2/960 [26:21<210:22:41, 790.56s/it, now=None]"
     ]
    },
    {
     "name": "stdout",
     "output_type": "stream",
     "text": [
      "times 5\n"
     ]
    },
    {
     "name": "stderr",
     "output_type": "stream",
     "text": [
      "                                                                 \r"
     ]
    },
    {
     "name": "stdout",
     "output_type": "stream",
     "text": [
      "Moviepy - Building video Video cuts collection/Video Segments/P06/music02.mp4.\n"
     ]
    },
    {
     "name": "stderr",
     "output_type": "stream",
     "text": [
      "                                                                 \r"
     ]
    },
    {
     "name": "stdout",
     "output_type": "stream",
     "text": [
      "Moviepy - Writing video Video cuts collection/Video Segments/P06/music02.mp4\n",
      "\n"
     ]
    },
    {
     "name": "stderr",
     "output_type": "stream",
     "text": [
      "t:   0%|          | 2/960 [26:21<210:28:07, 790.91s/it, now=None]\n",
      "t:   0%|          | 0/990 [00:00<?, ?it/s, now=None]\n",
      "t:   2%|▏         | 18/990 [00:00<00:05, 178.73it/s, now=None]\n",
      "t:  31%|███       | 304/990 [00:00<00:02, 248.63it/s, now=None]\n",
      "t:  55%|█████▌    | 548/990 [00:00<00:01, 340.22it/s, now=None]\n",
      "t:  75%|███████▌  | 747/990 [00:00<00:00, 452.62it/s, now=None]\n",
      "t:  94%|█████████▍| 932/990 [00:00<00:00, 585.05it/s, now=None]\n",
      "                                                                 \r"
     ]
    },
    {
     "name": "stdout",
     "output_type": "stream",
     "text": [
      "Moviepy - Done !\n"
     ]
    },
    {
     "name": "stderr",
     "output_type": "stream",
     "text": [
      "                                                                 \r"
     ]
    },
    {
     "name": "stdout",
     "output_type": "stream",
     "text": [
      "Moviepy - video ready Video cuts collection/Video Segments/P06/music02.mp4\n"
     ]
    },
    {
     "name": "stderr",
     "output_type": "stream",
     "text": [
      "\r",
      "t:   0%|          | 2/960 [26:22<210:33:39, 791.25s/it, now=None]"
     ]
    },
    {
     "name": "stdout",
     "output_type": "stream",
     "text": [
      "times 6\n"
     ]
    },
    {
     "name": "stderr",
     "output_type": "stream",
     "text": [
      "                                                                 \r"
     ]
    },
    {
     "name": "stdout",
     "output_type": "stream",
     "text": [
      "Moviepy - Building video Video cuts collection/Video Segments/P06/music03.mp4.\n"
     ]
    },
    {
     "name": "stderr",
     "output_type": "stream",
     "text": [
      "                                                                 \r"
     ]
    },
    {
     "name": "stdout",
     "output_type": "stream",
     "text": [
      "Moviepy - Writing video Video cuts collection/Video Segments/P06/music03.mp4\n",
      "\n"
     ]
    },
    {
     "name": "stderr",
     "output_type": "stream",
     "text": [
      "t:   0%|          | 2/960 [26:23<210:39:03, 791.59s/it, now=None]\n",
      "t:   0%|          | 0/930 [00:00<?, ?it/s, now=None]\n",
      "t:   2%|▏         | 17/930 [00:00<00:05, 168.77it/s, now=None]\n",
      "t:  31%|███▏      | 291/930 [00:00<00:02, 234.85it/s, now=None]\n",
      "t:  53%|█████▎    | 495/930 [00:00<00:01, 319.62it/s, now=None]\n",
      "t:  78%|███████▊  | 729/930 [00:00<00:00, 431.17it/s, now=None]\n",
      "                                                                 \r"
     ]
    },
    {
     "name": "stdout",
     "output_type": "stream",
     "text": [
      "Moviepy - Done !\n"
     ]
    },
    {
     "name": "stderr",
     "output_type": "stream",
     "text": [
      "                                                                 \r"
     ]
    },
    {
     "name": "stdout",
     "output_type": "stream",
     "text": [
      "Moviepy - video ready Video cuts collection/Video Segments/P06/music03.mp4\n"
     ]
    },
    {
     "name": "stderr",
     "output_type": "stream",
     "text": [
      "\r",
      "t:   0%|          | 2/960 [26:23<210:44:10, 791.91s/it, now=None]"
     ]
    },
    {
     "name": "stdout",
     "output_type": "stream",
     "text": [
      "times 7\n"
     ]
    },
    {
     "name": "stderr",
     "output_type": "stream",
     "text": [
      "                                                                 \r"
     ]
    },
    {
     "name": "stdout",
     "output_type": "stream",
     "text": [
      "Moviepy - Building video Video cuts collection/Video Segments/P06/music04.mp4.\n"
     ]
    },
    {
     "name": "stderr",
     "output_type": "stream",
     "text": [
      "                                                                 \r"
     ]
    },
    {
     "name": "stdout",
     "output_type": "stream",
     "text": [
      "Moviepy - Writing video Video cuts collection/Video Segments/P06/music04.mp4\n",
      "\n"
     ]
    },
    {
     "name": "stderr",
     "output_type": "stream",
     "text": [
      "t:   0%|          | 2/960 [26:24<210:49:41, 792.26s/it, now=None]\n",
      "t:   0%|          | 0/960 [00:00<?, ?it/s, now=None]\n",
      "t:   1%|▏         | 13/960 [00:00<00:07, 129.06it/s, now=None]\n",
      "t:  30%|███       | 289/960 [00:00<00:03, 180.74it/s, now=None]\n",
      "t:  61%|██████    | 584/960 [00:00<00:01, 251.55it/s, now=None]\n",
      "t:  90%|████████▉ | 862/960 [00:00<00:00, 345.85it/s, now=None]\n",
      "                                                                 \r"
     ]
    },
    {
     "name": "stdout",
     "output_type": "stream",
     "text": [
      "Moviepy - Done !\n"
     ]
    },
    {
     "name": "stderr",
     "output_type": "stream",
     "text": [
      "                                                                 \r"
     ]
    },
    {
     "name": "stdout",
     "output_type": "stream",
     "text": [
      "Moviepy - video ready Video cuts collection/Video Segments/P06/music04.mp4\n"
     ]
    },
    {
     "name": "stderr",
     "output_type": "stream",
     "text": [
      "\r",
      "t:   0%|          | 2/960 [26:25<210:54:31, 792.56s/it, now=None]"
     ]
    },
    {
     "name": "stdout",
     "output_type": "stream",
     "text": [
      "df:\n",
      "    a          b          c\n",
      "0  9 1527396733 1527396972\n",
      "1 10 1527397145 1527397421\n",
      "2 11 1527397609 1527397848\n",
      "3 12 1527398043 1527398283\n",
      "4  5 1527398470 1527398687\n",
      "5  6 1527398823 1527399032\n",
      "6  7 1527399172 1527399374\n",
      "7  8 1527399550 1527399760\n",
      "df_correct_time:\n",
      "    music_type  from_minutes  from_seconds  to_minutes  to_seconds  \\\n",
      "0           9             0             0           0          32   \n",
      "1          10             0            55           1          32   \n",
      "2          11             1            57           2          29   \n",
      "3          12             2            55           3          27   \n",
      "4           5             3            52           4          21   \n",
      "5           6             4            39           5           7   \n",
      "6           7             5            25           5          52   \n",
      "7           8             6            16           6          44   \n",
      "\n",
      "   from_total_second  to_total_second  \n",
      "0                  0               32  \n",
      "1                 55               92  \n",
      "2                117              149  \n",
      "3                175              207  \n",
      "4                232              261  \n",
      "5                279              307  \n",
      "6                325              352  \n",
      "7                376              404  \n",
      "times 0\n"
     ]
    },
    {
     "name": "stderr",
     "output_type": "stream",
     "text": [
      "                                                                 \r"
     ]
    },
    {
     "name": "stdout",
     "output_type": "stream",
     "text": [
      "Moviepy - Building video Video cuts collection/Video Segments/P07/music09.mp4.\n"
     ]
    },
    {
     "name": "stderr",
     "output_type": "stream",
     "text": [
      "                                                                 \r"
     ]
    },
    {
     "name": "stdout",
     "output_type": "stream",
     "text": [
      "Moviepy - Writing video Video cuts collection/Video Segments/P07/music09.mp4\n",
      "\n"
     ]
    },
    {
     "name": "stderr",
     "output_type": "stream",
     "text": [
      "t:   0%|          | 2/960 [26:26<211:01:41, 793.01s/it, now=None]\n",
      "t:   0%|          | 0/900 [00:00<?, ?it/s, now=None]\n",
      "t:   2%|▏         | 16/900 [00:00<00:05, 158.84it/s, now=None]\n",
      "t:  34%|███▍      | 304/900 [00:00<00:02, 221.59it/s, now=None]\n",
      "t:  68%|██████▊   | 609/900 [00:00<00:00, 306.92it/s, now=None]\n",
      "                                                                 \r"
     ]
    },
    {
     "name": "stdout",
     "output_type": "stream",
     "text": [
      "Moviepy - Done !\n"
     ]
    },
    {
     "name": "stderr",
     "output_type": "stream",
     "text": [
      "                                                                 \r"
     ]
    },
    {
     "name": "stdout",
     "output_type": "stream",
     "text": [
      "Moviepy - video ready Video cuts collection/Video Segments/P07/music09.mp4\n"
     ]
    },
    {
     "name": "stderr",
     "output_type": "stream",
     "text": [
      "\r",
      "t:   0%|          | 2/960 [26:26<211:05:49, 793.27s/it, now=None]"
     ]
    },
    {
     "name": "stdout",
     "output_type": "stream",
     "text": [
      "times 1\n"
     ]
    },
    {
     "name": "stderr",
     "output_type": "stream",
     "text": [
      "                                                                 \r"
     ]
    },
    {
     "name": "stdout",
     "output_type": "stream",
     "text": [
      "Moviepy - Building video Video cuts collection/Video Segments/P07/music10.mp4.\n"
     ]
    },
    {
     "name": "stderr",
     "output_type": "stream",
     "text": [
      "                                                                 \r"
     ]
    },
    {
     "name": "stdout",
     "output_type": "stream",
     "text": [
      "Moviepy - Writing video Video cuts collection/Video Segments/P07/music10.mp4\n",
      "\n"
     ]
    },
    {
     "name": "stderr",
     "output_type": "stream",
     "text": [
      "t:   0%|          | 2/960 [26:27<211:11:44, 793.64s/it, now=None]\n",
      "t:   0%|          | 0/1110 [00:00<?, ?it/s, now=None]\n",
      "t:  15%|█▌        | 168/1110 [00:00<00:00, 1667.79it/s, now=None]\n",
      "t:  43%|████▎     | 472/1110 [00:00<00:00, 1926.33it/s, now=None]\n",
      "t:  68%|██████▊   | 757/1110 [00:00<00:00, 2132.32it/s, now=None]\n",
      "t:  95%|█████████▍| 1054/1110 [00:00<00:00, 2323.62it/s, now=None]\n",
      "                                                                  \r"
     ]
    },
    {
     "name": "stdout",
     "output_type": "stream",
     "text": [
      "Moviepy - Done !\n"
     ]
    },
    {
     "name": "stderr",
     "output_type": "stream",
     "text": [
      "                                                                 \r"
     ]
    },
    {
     "name": "stdout",
     "output_type": "stream",
     "text": [
      "Moviepy - video ready Video cuts collection/Video Segments/P07/music10.mp4\n"
     ]
    },
    {
     "name": "stderr",
     "output_type": "stream",
     "text": [
      "\r",
      "t:   0%|          | 2/960 [26:27<211:16:51, 793.96s/it, now=None]"
     ]
    },
    {
     "name": "stdout",
     "output_type": "stream",
     "text": [
      "times 2\n"
     ]
    },
    {
     "name": "stderr",
     "output_type": "stream",
     "text": [
      "                                                                 \r"
     ]
    },
    {
     "name": "stdout",
     "output_type": "stream",
     "text": [
      "Moviepy - Building video Video cuts collection/Video Segments/P07/music11.mp4.\n"
     ]
    },
    {
     "name": "stderr",
     "output_type": "stream",
     "text": [
      "                                                                 \r"
     ]
    },
    {
     "name": "stdout",
     "output_type": "stream",
     "text": [
      "Moviepy - Writing video Video cuts collection/Video Segments/P07/music11.mp4\n",
      "\n"
     ]
    },
    {
     "name": "stderr",
     "output_type": "stream",
     "text": [
      "t:   0%|          | 2/960 [26:28<211:22:30, 794.31s/it, now=None]\n",
      "t:   0%|          | 0/960 [00:00<?, ?it/s, now=None]\n",
      "t:   2%|▏         | 15/960 [00:00<00:06, 148.91it/s, now=None]\n",
      "t:  31%|███       | 294/960 [00:00<00:03, 207.94it/s, now=None]\n",
      "t:  57%|█████▊    | 552/960 [00:00<00:01, 287.07it/s, now=None]\n",
      "t:  87%|████████▋ | 838/960 [00:00<00:00, 393.07it/s, now=None]\n",
      "                                                                 \r"
     ]
    },
    {
     "name": "stdout",
     "output_type": "stream",
     "text": [
      "Moviepy - Done !\n"
     ]
    },
    {
     "name": "stderr",
     "output_type": "stream",
     "text": [
      "                                                                 \r"
     ]
    },
    {
     "name": "stdout",
     "output_type": "stream",
     "text": [
      "Moviepy - video ready Video cuts collection/Video Segments/P07/music11.mp4\n"
     ]
    },
    {
     "name": "stderr",
     "output_type": "stream",
     "text": [
      "\r",
      "t:   0%|          | 2/960 [26:29<211:27:26, 794.62s/it, now=None]"
     ]
    },
    {
     "name": "stdout",
     "output_type": "stream",
     "text": [
      "times 3\n"
     ]
    },
    {
     "name": "stderr",
     "output_type": "stream",
     "text": [
      "                                                                 \r"
     ]
    },
    {
     "name": "stdout",
     "output_type": "stream",
     "text": [
      "Moviepy - Building video Video cuts collection/Video Segments/P07/music12.mp4.\n"
     ]
    },
    {
     "name": "stderr",
     "output_type": "stream",
     "text": [
      "                                                                 \r"
     ]
    },
    {
     "name": "stdout",
     "output_type": "stream",
     "text": [
      "Moviepy - Writing video Video cuts collection/Video Segments/P07/music12.mp4\n",
      "\n"
     ]
    },
    {
     "name": "stderr",
     "output_type": "stream",
     "text": [
      "t:   0%|          | 2/960 [26:29<211:33:03, 794.97s/it, now=None]\n",
      "t:   0%|          | 0/960 [00:00<?, ?it/s, now=None]\n",
      "t:   1%|          | 10/960 [00:00<00:09, 99.28it/s, now=None]\n",
      "t:  28%|██▊       | 268/960 [00:00<00:04, 139.50it/s, now=None]\n",
      "t:  59%|█████▊    | 562/960 [00:00<00:02, 195.29it/s, now=None]\n",
      "t:  88%|████████▊ | 841/960 [00:00<00:00, 270.81it/s, now=None]\n",
      "                                                                 \r"
     ]
    },
    {
     "name": "stdout",
     "output_type": "stream",
     "text": [
      "Moviepy - Done !\n"
     ]
    },
    {
     "name": "stderr",
     "output_type": "stream",
     "text": [
      "                                                                 \r"
     ]
    },
    {
     "name": "stdout",
     "output_type": "stream",
     "text": [
      "Moviepy - video ready Video cuts collection/Video Segments/P07/music12.mp4\n"
     ]
    },
    {
     "name": "stderr",
     "output_type": "stream",
     "text": [
      "\r",
      "t:   0%|          | 2/960 [26:30<211:38:25, 795.31s/it, now=None]"
     ]
    },
    {
     "name": "stdout",
     "output_type": "stream",
     "text": [
      "times 4\n"
     ]
    },
    {
     "name": "stderr",
     "output_type": "stream",
     "text": [
      "                                                                 \r"
     ]
    },
    {
     "name": "stdout",
     "output_type": "stream",
     "text": [
      "Moviepy - Building video Video cuts collection/Video Segments/P07/music05.mp4.\n"
     ]
    },
    {
     "name": "stderr",
     "output_type": "stream",
     "text": [
      "                                                                 \r"
     ]
    },
    {
     "name": "stdout",
     "output_type": "stream",
     "text": [
      "Moviepy - Writing video Video cuts collection/Video Segments/P07/music05.mp4\n",
      "\n"
     ]
    },
    {
     "name": "stderr",
     "output_type": "stream",
     "text": [
      "t:   0%|          | 2/960 [26:31<211:44:09, 795.67s/it, now=None]\n",
      "t:   0%|          | 0/870 [00:00<?, ?it/s, now=None]\n",
      "t:   0%|          | 3/870 [00:00<00:29, 29.49it/s, now=None]\n",
      "t:  31%|███       | 266/870 [00:00<00:14, 41.93it/s, now=None]\n",
      "t:  49%|████▉     | 429/870 [00:00<00:07, 59.24it/s, now=None]\n",
      "t:  81%|████████  | 706/870 [00:00<00:01, 83.85it/s, now=None]\n",
      "                                                                 \r"
     ]
    },
    {
     "name": "stdout",
     "output_type": "stream",
     "text": [
      "Moviepy - Done !\n"
     ]
    },
    {
     "name": "stderr",
     "output_type": "stream",
     "text": [
      "                                                                 \r"
     ]
    },
    {
     "name": "stdout",
     "output_type": "stream",
     "text": [
      "Moviepy - video ready Video cuts collection/Video Segments/P07/music05.mp4\n"
     ]
    },
    {
     "name": "stderr",
     "output_type": "stream",
     "text": [
      "\r",
      "t:   0%|          | 2/960 [26:31<211:49:02, 795.97s/it, now=None]"
     ]
    },
    {
     "name": "stdout",
     "output_type": "stream",
     "text": [
      "times 5\n"
     ]
    },
    {
     "name": "stderr",
     "output_type": "stream",
     "text": [
      "                                                                 \r"
     ]
    },
    {
     "name": "stdout",
     "output_type": "stream",
     "text": [
      "Moviepy - Building video Video cuts collection/Video Segments/P07/music06.mp4.\n"
     ]
    },
    {
     "name": "stderr",
     "output_type": "stream",
     "text": [
      "                                                                 \r"
     ]
    },
    {
     "name": "stdout",
     "output_type": "stream",
     "text": [
      "Moviepy - Writing video Video cuts collection/Video Segments/P07/music06.mp4\n",
      "\n"
     ]
    },
    {
     "name": "stderr",
     "output_type": "stream",
     "text": [
      "t:   0%|          | 2/960 [26:32<211:54:30, 796.32s/it, now=None]\n",
      "t:   0%|          | 0/840 [00:00<?, ?it/s, now=None]\n",
      "t:   3%|▎         | 26/840 [00:00<00:03, 258.11it/s, now=None]\n",
      "t:  36%|███▌      | 304/840 [00:00<00:01, 354.46it/s, now=None]\n",
      "t:  74%|███████▎  | 618/840 [00:00<00:00, 482.83it/s, now=None]\n",
      "                                                                 \r"
     ]
    },
    {
     "name": "stdout",
     "output_type": "stream",
     "text": [
      "Moviepy - Done !\n"
     ]
    },
    {
     "name": "stderr",
     "output_type": "stream",
     "text": [
      "                                                                 \r"
     ]
    },
    {
     "name": "stdout",
     "output_type": "stream",
     "text": [
      "Moviepy - video ready Video cuts collection/Video Segments/P07/music06.mp4\n"
     ]
    },
    {
     "name": "stderr",
     "output_type": "stream",
     "text": [
      "\r",
      "t:   0%|          | 2/960 [26:33<211:58:43, 796.58s/it, now=None]"
     ]
    },
    {
     "name": "stdout",
     "output_type": "stream",
     "text": [
      "times 6\n"
     ]
    },
    {
     "name": "stderr",
     "output_type": "stream",
     "text": [
      "                                                                 \r"
     ]
    },
    {
     "name": "stdout",
     "output_type": "stream",
     "text": [
      "Moviepy - Building video Video cuts collection/Video Segments/P07/music07.mp4.\n"
     ]
    },
    {
     "name": "stderr",
     "output_type": "stream",
     "text": [
      "                                                                 \r"
     ]
    },
    {
     "name": "stdout",
     "output_type": "stream",
     "text": [
      "Moviepy - Writing video Video cuts collection/Video Segments/P07/music07.mp4\n",
      "\n"
     ]
    },
    {
     "name": "stderr",
     "output_type": "stream",
     "text": [
      "t:   0%|          | 2/960 [26:33<212:04:12, 796.92s/it, now=None]\n",
      "t:   0%|          | 0/810 [00:00<?, ?it/s, now=None]\n",
      "t:   1%|          | 5/810 [00:00<00:16, 49.64it/s, now=None]\n",
      "t:  33%|███▎      | 265/810 [00:00<00:07, 70.33it/s, now=None]\n",
      "t:  64%|██████▍   | 522/810 [00:00<00:02, 99.31it/s, now=None]\n",
      "t:  96%|█████████▌| 775/810 [00:00<00:00, 139.50it/s, now=None]\n",
      "                                                                 \r"
     ]
    },
    {
     "name": "stdout",
     "output_type": "stream",
     "text": [
      "Moviepy - Done !\n"
     ]
    },
    {
     "name": "stderr",
     "output_type": "stream",
     "text": [
      "                                                                 \r"
     ]
    },
    {
     "name": "stdout",
     "output_type": "stream",
     "text": [
      "Moviepy - video ready Video cuts collection/Video Segments/P07/music07.mp4\n"
     ]
    },
    {
     "name": "stderr",
     "output_type": "stream",
     "text": [
      "\r",
      "t:   0%|          | 2/960 [26:34<212:09:01, 797.22s/it, now=None]"
     ]
    },
    {
     "name": "stdout",
     "output_type": "stream",
     "text": [
      "times 7\n"
     ]
    },
    {
     "name": "stderr",
     "output_type": "stream",
     "text": [
      "                                                                 \r"
     ]
    },
    {
     "name": "stdout",
     "output_type": "stream",
     "text": [
      "Moviepy - Building video Video cuts collection/Video Segments/P07/music08.mp4.\n"
     ]
    },
    {
     "name": "stderr",
     "output_type": "stream",
     "text": [
      "                                                                 \r"
     ]
    },
    {
     "name": "stdout",
     "output_type": "stream",
     "text": [
      "Moviepy - Writing video Video cuts collection/Video Segments/P07/music08.mp4\n",
      "\n"
     ]
    },
    {
     "name": "stderr",
     "output_type": "stream",
     "text": [
      "t:   0%|          | 2/960 [26:35<212:14:41, 797.58s/it, now=None]\n",
      "t:   0%|          | 0/840 [00:00<?, ?it/s, now=None]\n",
      "t:   1%|          | 5/840 [00:00<00:16, 49.85it/s, now=None]\n",
      "t:  31%|███       | 262/840 [00:00<00:08, 70.63it/s, now=None]\n",
      "t:  63%|██████▎   | 526/840 [00:00<00:03, 99.75it/s, now=None]\n",
      "t:  95%|█████████▌| 800/840 [00:00<00:00, 140.29it/s, now=None]\n",
      "                                                                 \r"
     ]
    },
    {
     "name": "stdout",
     "output_type": "stream",
     "text": [
      "Moviepy - Done !\n"
     ]
    },
    {
     "name": "stderr",
     "output_type": "stream",
     "text": [
      "                                                                 \r"
     ]
    },
    {
     "name": "stdout",
     "output_type": "stream",
     "text": [
      "Moviepy - video ready Video cuts collection/Video Segments/P07/music08.mp4\n"
     ]
    },
    {
     "name": "stderr",
     "output_type": "stream",
     "text": [
      "\r",
      "t:   0%|          | 2/960 [26:35<212:19:19, 797.87s/it, now=None]"
     ]
    },
    {
     "name": "stdout",
     "output_type": "stream",
     "text": [
      "df:\n",
      "    a          b          c\n",
      "0  1 1527482908 1527483165\n",
      "1  2 1527483364 1527483609\n",
      "2  3 1527483827 1527484060\n",
      "3  4 1527484455 1527484696\n",
      "4  5 1527485203 1527485420\n",
      "5  6 1527485726 1527485935\n",
      "6  7 1527486342 1527486544\n",
      "7  8 1527486805 1527487015\n",
      "df_correct_time:\n",
      "    music_type  from_minutes  from_seconds  to_minutes  to_seconds  \\\n",
      "0           1             0             0           0          34   \n",
      "1           2             1             1           1          33   \n",
      "2           3             2             3           2          34   \n",
      "3           4             3            26           3          58   \n",
      "4           5             5             6           5          35   \n",
      "5           6             6            16           6          44   \n",
      "6           7             7            38           8           5   \n",
      "7           8             8            40           9           8   \n",
      "\n",
      "   from_total_second  to_total_second  \n",
      "0                  0               34  \n",
      "1                 61               93  \n",
      "2                123              154  \n",
      "3                206              238  \n",
      "4                306              335  \n",
      "5                376              404  \n",
      "6                458              485  \n",
      "7                520              548  \n",
      "times 0\n"
     ]
    },
    {
     "name": "stderr",
     "output_type": "stream",
     "text": [
      "                                                                 \r"
     ]
    },
    {
     "name": "stdout",
     "output_type": "stream",
     "text": [
      "Moviepy - Building video Video cuts collection/Video Segments/P08/music01.mp4.\n"
     ]
    },
    {
     "name": "stderr",
     "output_type": "stream",
     "text": [
      "                                                                 \r"
     ]
    },
    {
     "name": "stdout",
     "output_type": "stream",
     "text": [
      "Moviepy - Writing video Video cuts collection/Video Segments/P08/music01.mp4\n",
      "\n"
     ]
    },
    {
     "name": "stderr",
     "output_type": "stream",
     "text": [
      "t:   0%|          | 2/960 [26:36<212:28:15, 798.43s/it, now=None]\n",
      "t:   0%|          | 0/960 [00:00<?, ?it/s, now=None]\n",
      "t:   0%|          | 3/960 [00:00<00:32, 29.20it/s, now=None]\n",
      "t:  28%|██▊       | 264/960 [00:00<00:16, 41.52it/s, now=None]\n",
      "t:  55%|█████▌    | 529/960 [00:00<00:07, 58.91it/s, now=None]\n",
      "t:  83%|████████▎ | 797/960 [00:00<00:01, 83.37it/s, now=None]\n",
      "                                                                 \r"
     ]
    },
    {
     "name": "stdout",
     "output_type": "stream",
     "text": [
      "Moviepy - Done !\n"
     ]
    },
    {
     "name": "stderr",
     "output_type": "stream",
     "text": [
      "                                                                 \r"
     ]
    },
    {
     "name": "stdout",
     "output_type": "stream",
     "text": [
      "Moviepy - video ready Video cuts collection/Video Segments/P08/music01.mp4\n"
     ]
    },
    {
     "name": "stderr",
     "output_type": "stream",
     "text": [
      "\r",
      "t:   0%|          | 2/960 [26:37<212:33:23, 798.75s/it, now=None]"
     ]
    },
    {
     "name": "stdout",
     "output_type": "stream",
     "text": [
      "times 1\n"
     ]
    },
    {
     "name": "stderr",
     "output_type": "stream",
     "text": [
      "                                                                 \r"
     ]
    },
    {
     "name": "stdout",
     "output_type": "stream",
     "text": [
      "Moviepy - Building video Video cuts collection/Video Segments/P08/music02.mp4.\n"
     ]
    },
    {
     "name": "stderr",
     "output_type": "stream",
     "text": [
      "                                                                 \r"
     ]
    },
    {
     "name": "stdout",
     "output_type": "stream",
     "text": [
      "Moviepy - Writing video Video cuts collection/Video Segments/P08/music02.mp4\n",
      "\n"
     ]
    },
    {
     "name": "stderr",
     "output_type": "stream",
     "text": [
      "t:   0%|          | 2/960 [26:38<212:39:16, 799.12s/it, now=None]\n",
      "t:   0%|          | 0/960 [00:00<?, ?it/s, now=None]\n",
      "t:   1%|          | 10/960 [00:00<00:09, 99.27it/s, now=None]\n",
      "t:  28%|██▊       | 271/960 [00:00<00:04, 139.53it/s, now=None]\n",
      "t:  56%|█████▌    | 535/960 [00:00<00:02, 194.88it/s, now=None]\n",
      "t:  82%|████████▏ | 783/960 [00:00<00:00, 269.27it/s, now=None]\n",
      "                                                                 \r"
     ]
    },
    {
     "name": "stdout",
     "output_type": "stream",
     "text": [
      "Moviepy - Done !\n"
     ]
    },
    {
     "name": "stderr",
     "output_type": "stream",
     "text": [
      "                                                                 \r"
     ]
    },
    {
     "name": "stdout",
     "output_type": "stream",
     "text": [
      "Moviepy - video ready Video cuts collection/Video Segments/P08/music02.mp4\n"
     ]
    },
    {
     "name": "stderr",
     "output_type": "stream",
     "text": [
      "\r",
      "t:   0%|          | 2/960 [26:38<212:44:10, 799.43s/it, now=None]"
     ]
    },
    {
     "name": "stdout",
     "output_type": "stream",
     "text": [
      "times 2\n"
     ]
    },
    {
     "name": "stderr",
     "output_type": "stream",
     "text": [
      "                                                                 \r"
     ]
    },
    {
     "name": "stdout",
     "output_type": "stream",
     "text": [
      "Moviepy - Building video Video cuts collection/Video Segments/P08/music03.mp4.\n"
     ]
    },
    {
     "name": "stderr",
     "output_type": "stream",
     "text": [
      "                                                                 \r"
     ]
    },
    {
     "name": "stdout",
     "output_type": "stream",
     "text": [
      "Moviepy - Writing video Video cuts collection/Video Segments/P08/music03.mp4\n",
      "\n"
     ]
    },
    {
     "name": "stderr",
     "output_type": "stream",
     "text": [
      "t:   0%|          | 2/960 [26:39<212:49:53, 799.78s/it, now=None]\n",
      "t:   0%|          | 0/930 [00:00<?, ?it/s, now=None]\n",
      "t:   0%|          | 3/930 [00:00<00:32, 28.65it/s, now=None]\n",
      "t:  27%|██▋       | 252/930 [00:00<00:16, 40.72it/s, now=None]\n",
      "t:  56%|█████▌    | 518/930 [00:00<00:07, 57.79it/s, now=None]\n",
      "t:  84%|████████▍ | 783/930 [00:00<00:01, 81.79it/s, now=None]\n",
      "                                                                 \r"
     ]
    },
    {
     "name": "stdout",
     "output_type": "stream",
     "text": [
      "Moviepy - Done !\n"
     ]
    },
    {
     "name": "stderr",
     "output_type": "stream",
     "text": [
      "                                                                 \r"
     ]
    },
    {
     "name": "stdout",
     "output_type": "stream",
     "text": [
      "Moviepy - video ready Video cuts collection/Video Segments/P08/music03.mp4\n"
     ]
    },
    {
     "name": "stderr",
     "output_type": "stream",
     "text": [
      "\r",
      "t:   0%|          | 2/960 [26:40<212:55:02, 800.11s/it, now=None]"
     ]
    },
    {
     "name": "stdout",
     "output_type": "stream",
     "text": [
      "times 3\n"
     ]
    },
    {
     "name": "stderr",
     "output_type": "stream",
     "text": [
      "                                                                 \r"
     ]
    },
    {
     "name": "stdout",
     "output_type": "stream",
     "text": [
      "Moviepy - Building video Video cuts collection/Video Segments/P08/music04.mp4.\n"
     ]
    },
    {
     "name": "stderr",
     "output_type": "stream",
     "text": [
      "                                                                 \r"
     ]
    },
    {
     "name": "stdout",
     "output_type": "stream",
     "text": [
      "Moviepy - Writing video Video cuts collection/Video Segments/P08/music04.mp4\n",
      "\n"
     ]
    },
    {
     "name": "stderr",
     "output_type": "stream",
     "text": [
      "t:   0%|          | 2/960 [26:40<213:00:54, 800.47s/it, now=None]\n",
      "t:   0%|          | 0/960 [00:00<?, ?it/s, now=None]\n",
      "t:   0%|          | 3/960 [00:00<00:33, 28.75it/s, now=None]\n",
      "t:  29%|██▉       | 282/960 [00:00<00:16, 40.89it/s, now=None]\n",
      "t:  57%|█████▋    | 546/960 [00:00<00:07, 58.03it/s, now=None]\n",
      "t:  85%|████████▍ | 813/960 [00:00<00:01, 82.13it/s, now=None]\n",
      "                                                                 \r"
     ]
    },
    {
     "name": "stdout",
     "output_type": "stream",
     "text": [
      "Moviepy - Done !\n"
     ]
    },
    {
     "name": "stderr",
     "output_type": "stream",
     "text": [
      "                                                                 \r"
     ]
    },
    {
     "name": "stdout",
     "output_type": "stream",
     "text": [
      "Moviepy - video ready Video cuts collection/Video Segments/P08/music04.mp4\n"
     ]
    },
    {
     "name": "stderr",
     "output_type": "stream",
     "text": [
      "\r",
      "t:   0%|          | 2/960 [26:41<213:06:07, 800.80s/it, now=None]"
     ]
    },
    {
     "name": "stdout",
     "output_type": "stream",
     "text": [
      "times 4\n"
     ]
    },
    {
     "name": "stderr",
     "output_type": "stream",
     "text": [
      "                                                                 \r"
     ]
    },
    {
     "name": "stdout",
     "output_type": "stream",
     "text": [
      "Moviepy - Building video Video cuts collection/Video Segments/P08/music05.mp4.\n"
     ]
    },
    {
     "name": "stderr",
     "output_type": "stream",
     "text": [
      "                                                                 \r"
     ]
    },
    {
     "name": "stdout",
     "output_type": "stream",
     "text": [
      "Moviepy - Writing video Video cuts collection/Video Segments/P08/music05.mp4\n",
      "\n"
     ]
    },
    {
     "name": "stderr",
     "output_type": "stream",
     "text": [
      "t:   0%|          | 2/960 [26:42<213:12:05, 801.17s/it, now=None]\n",
      "t:   0%|          | 0/870 [00:00<?, ?it/s, now=None]\n",
      "t:   0%|          | 3/870 [00:00<00:29, 29.78it/s, now=None]\n",
      "t:  29%|██▉       | 254/870 [00:00<00:14, 42.33it/s, now=None]\n",
      "t:  59%|█████▉    | 514/870 [00:00<00:05, 60.05it/s, now=None]\n",
      "t:  86%|████████▌ | 747/870 [00:00<00:01, 84.84it/s, now=None]\n",
      "                                                                 \r"
     ]
    },
    {
     "name": "stdout",
     "output_type": "stream",
     "text": [
      "Moviepy - Done !\n"
     ]
    },
    {
     "name": "stderr",
     "output_type": "stream",
     "text": [
      "                                                                 \r"
     ]
    },
    {
     "name": "stdout",
     "output_type": "stream",
     "text": [
      "Moviepy - video ready Video cuts collection/Video Segments/P08/music05.mp4\n"
     ]
    },
    {
     "name": "stderr",
     "output_type": "stream",
     "text": [
      "\r",
      "t:   0%|          | 2/960 [26:43<213:17:20, 801.50s/it, now=None]"
     ]
    },
    {
     "name": "stdout",
     "output_type": "stream",
     "text": [
      "times 5\n"
     ]
    },
    {
     "name": "stderr",
     "output_type": "stream",
     "text": [
      "                                                                 \r"
     ]
    },
    {
     "name": "stdout",
     "output_type": "stream",
     "text": [
      "Moviepy - Building video Video cuts collection/Video Segments/P08/music06.mp4.\n"
     ]
    },
    {
     "name": "stderr",
     "output_type": "stream",
     "text": [
      "                                                                 \r"
     ]
    },
    {
     "name": "stdout",
     "output_type": "stream",
     "text": [
      "Moviepy - Writing video Video cuts collection/Video Segments/P08/music06.mp4\n",
      "\n"
     ]
    },
    {
     "name": "stderr",
     "output_type": "stream",
     "text": [
      "t:   0%|          | 2/960 [26:43<213:23:13, 801.87s/it, now=None]\n",
      "t:   0%|          | 0/840 [00:00<?, ?it/s, now=None]\n",
      "t:   1%|▏         | 12/840 [00:00<00:06, 119.13it/s, now=None]\n",
      "t:  33%|███▎      | 280/840 [00:00<00:03, 166.98it/s, now=None]\n",
      "t:  65%|██████▌   | 547/840 [00:00<00:01, 232.27it/s, now=None]\n",
      "t:  99%|█████████▊| 828/840 [00:00<00:00, 320.39it/s, now=None]\n",
      "                                                                 \r"
     ]
    },
    {
     "name": "stdout",
     "output_type": "stream",
     "text": [
      "Moviepy - Done !\n"
     ]
    },
    {
     "name": "stderr",
     "output_type": "stream",
     "text": [
      "                                                                 \r"
     ]
    },
    {
     "name": "stdout",
     "output_type": "stream",
     "text": [
      "Moviepy - video ready Video cuts collection/Video Segments/P08/music06.mp4\n"
     ]
    },
    {
     "name": "stderr",
     "output_type": "stream",
     "text": [
      "\r",
      "t:   0%|          | 2/960 [26:44<213:27:44, 802.15s/it, now=None]"
     ]
    },
    {
     "name": "stdout",
     "output_type": "stream",
     "text": [
      "times 6\n"
     ]
    },
    {
     "name": "stderr",
     "output_type": "stream",
     "text": [
      "                                                                 \r"
     ]
    },
    {
     "name": "stdout",
     "output_type": "stream",
     "text": [
      "Moviepy - Building video Video cuts collection/Video Segments/P08/music07.mp4.\n"
     ]
    },
    {
     "name": "stderr",
     "output_type": "stream",
     "text": [
      "                                                                 \r"
     ]
    },
    {
     "name": "stdout",
     "output_type": "stream",
     "text": [
      "Moviepy - Writing video Video cuts collection/Video Segments/P08/music07.mp4\n",
      "\n"
     ]
    },
    {
     "name": "stderr",
     "output_type": "stream",
     "text": [
      "t:   0%|          | 2/960 [26:45<213:33:35, 802.52s/it, now=None]\n",
      "t:   0%|          | 0/810 [00:00<?, ?it/s, now=None]\n",
      "t:   1%|          | 6/810 [00:00<00:13, 59.85it/s, now=None]\n",
      "t:  35%|███▌      | 285/810 [00:00<00:06, 84.72it/s, now=None]\n",
      "t:  70%|███████   | 568/810 [00:00<00:02, 119.48it/s, now=None]\n",
      "                                                                 \r"
     ]
    },
    {
     "name": "stdout",
     "output_type": "stream",
     "text": [
      "Moviepy - Done !\n"
     ]
    },
    {
     "name": "stderr",
     "output_type": "stream",
     "text": [
      "                                                                 \r"
     ]
    },
    {
     "name": "stdout",
     "output_type": "stream",
     "text": [
      "Moviepy - video ready Video cuts collection/Video Segments/P08/music07.mp4\n"
     ]
    },
    {
     "name": "stderr",
     "output_type": "stream",
     "text": [
      "\r",
      "t:   0%|          | 2/960 [26:45<213:38:05, 802.80s/it, now=None]"
     ]
    },
    {
     "name": "stdout",
     "output_type": "stream",
     "text": [
      "times 7\n"
     ]
    },
    {
     "name": "stderr",
     "output_type": "stream",
     "text": [
      "                                                                 \r"
     ]
    },
    {
     "name": "stdout",
     "output_type": "stream",
     "text": [
      "Moviepy - Building video Video cuts collection/Video Segments/P08/music08.mp4.\n"
     ]
    },
    {
     "name": "stderr",
     "output_type": "stream",
     "text": [
      "                                                                 \r"
     ]
    },
    {
     "name": "stdout",
     "output_type": "stream",
     "text": [
      "Moviepy - Writing video Video cuts collection/Video Segments/P08/music08.mp4\n",
      "\n"
     ]
    },
    {
     "name": "stderr",
     "output_type": "stream",
     "text": [
      "t:   0%|          | 2/960 [26:46<213:43:49, 803.16s/it, now=None]\n",
      "t:   0%|          | 0/840 [00:00<?, ?it/s, now=None]\n",
      "t:   1%|          | 5/840 [00:00<00:16, 49.64it/s, now=None]\n",
      "t:  31%|███▏      | 263/840 [00:00<00:08, 70.33it/s, now=None]\n",
      "t:  65%|██████▌   | 549/840 [00:00<00:02, 99.41it/s, now=None]\n",
      "t:  98%|█████████▊| 819/840 [00:00<00:00, 139.74it/s, now=None]\n",
      "                                                                 \r"
     ]
    },
    {
     "name": "stdout",
     "output_type": "stream",
     "text": [
      "Moviepy - Done !\n"
     ]
    },
    {
     "name": "stderr",
     "output_type": "stream",
     "text": [
      "                                                                 \r"
     ]
    },
    {
     "name": "stdout",
     "output_type": "stream",
     "text": [
      "Moviepy - video ready Video cuts collection/Video Segments/P08/music08.mp4\n"
     ]
    },
    {
     "name": "stderr",
     "output_type": "stream",
     "text": [
      "\r",
      "t:   0%|          | 2/960 [26:46<213:48:21, 803.45s/it, now=None]"
     ]
    },
    {
     "name": "stdout",
     "output_type": "stream",
     "text": [
      "df:\n",
      "    a          b          c\n",
      "0  1 1527641205 1527641462\n",
      "1  2 1527641483 1527641528\n",
      "2  3 1527641681 1527641914\n",
      "3  4 1527642077 1527642318\n",
      "4  9 1527642481 1527642720\n",
      "5 10 1527642847 1527643123\n",
      "6 11 1527643215 1527643454\n",
      "7 12 1527643618 1527643858\n",
      "df_correct_time:\n",
      "    music_type  from_minutes  from_seconds  to_minutes  to_seconds  \\\n",
      "0           1             0             0           0          34   \n",
      "1           2             0            37           0          43   \n",
      "2           3             1             3           1          35   \n",
      "3           4             1            56           2          28   \n",
      "4           9             2            50           3          22   \n",
      "5          10             3            39           4          16   \n",
      "6          11             4            28           5           0   \n",
      "7          12             5            22           5          54   \n",
      "\n",
      "   from_total_second  to_total_second  \n",
      "0                  0               34  \n",
      "1                 37               43  \n",
      "2                 63               95  \n",
      "3                116              148  \n",
      "4                170              202  \n",
      "5                219              256  \n",
      "6                268              300  \n",
      "7                322              354  \n",
      "times 0\n"
     ]
    },
    {
     "name": "stderr",
     "output_type": "stream",
     "text": [
      "                                                                 \r"
     ]
    },
    {
     "name": "stdout",
     "output_type": "stream",
     "text": [
      "Moviepy - Building video Video cuts collection/Video Segments/P09/music01.mp4.\n"
     ]
    },
    {
     "name": "stderr",
     "output_type": "stream",
     "text": [
      "                                                                 \r"
     ]
    },
    {
     "name": "stdout",
     "output_type": "stream",
     "text": [
      "Moviepy - Writing video Video cuts collection/Video Segments/P09/music01.mp4\n",
      "\n"
     ]
    },
    {
     "name": "stderr",
     "output_type": "stream",
     "text": [
      "t:   0%|          | 2/960 [26:48<213:57:33, 804.02s/it, now=None]\n",
      "t:   0%|          | 0/960 [00:00<?, ?it/s, now=None]\n",
      "t:   0%|          | 3/960 [00:00<00:31, 29.93it/s, now=None]\n",
      "t:  29%|██▉       | 279/960 [00:00<00:16, 42.56it/s, now=None]\n",
      "t:  59%|█████▊    | 562/960 [00:00<00:06, 60.40it/s, now=None]\n",
      "t:  89%|████████▉ | 859/960 [00:00<00:01, 85.54it/s, now=None]\n",
      "                                                                 \r"
     ]
    },
    {
     "name": "stdout",
     "output_type": "stream",
     "text": [
      "Moviepy - Done !\n"
     ]
    },
    {
     "name": "stderr",
     "output_type": "stream",
     "text": [
      "                                                                 \r"
     ]
    },
    {
     "name": "stdout",
     "output_type": "stream",
     "text": [
      "Moviepy - video ready Video cuts collection/Video Segments/P09/music01.mp4\n"
     ]
    },
    {
     "name": "stderr",
     "output_type": "stream",
     "text": [
      "\r",
      "t:   0%|          | 2/960 [26:48<214:02:21, 804.32s/it, now=None]"
     ]
    },
    {
     "name": "stdout",
     "output_type": "stream",
     "text": [
      "times 1\n"
     ]
    },
    {
     "name": "stderr",
     "output_type": "stream",
     "text": [
      "                                                                 \r"
     ]
    },
    {
     "name": "stdout",
     "output_type": "stream",
     "text": [
      "Moviepy - Building video Video cuts collection/Video Segments/P09/music02.mp4.\n"
     ]
    },
    {
     "name": "stderr",
     "output_type": "stream",
     "text": [
      "                                                                 \r"
     ]
    },
    {
     "name": "stdout",
     "output_type": "stream",
     "text": [
      "Moviepy - Writing video Video cuts collection/Video Segments/P09/music02.mp4\n",
      "\n"
     ]
    },
    {
     "name": "stderr",
     "output_type": "stream",
     "text": [
      "t:   0%|          | 2/960 [26:49<214:07:58, 804.68s/it, now=None]\n",
      "t:   0%|          | 0/180 [00:00<?, ?it/s, now=None]\n",
      "t:  12%|█▏        | 21/180 [00:00<00:00, 208.48it/s, now=None]\n",
      "                                                                 \r"
     ]
    },
    {
     "name": "stdout",
     "output_type": "stream",
     "text": [
      "Moviepy - Done !\n"
     ]
    },
    {
     "name": "stderr",
     "output_type": "stream",
     "text": [
      "                                                                 \r"
     ]
    },
    {
     "name": "stdout",
     "output_type": "stream",
     "text": [
      "Moviepy - video ready Video cuts collection/Video Segments/P09/music02.mp4\n"
     ]
    },
    {
     "name": "stderr",
     "output_type": "stream",
     "text": [
      "\r",
      "t:   0%|          | 2/960 [26:49<214:10:27, 804.83s/it, now=None]"
     ]
    },
    {
     "name": "stdout",
     "output_type": "stream",
     "text": [
      "times 2\n"
     ]
    },
    {
     "name": "stderr",
     "output_type": "stream",
     "text": [
      "                                                                 \r"
     ]
    },
    {
     "name": "stdout",
     "output_type": "stream",
     "text": [
      "Moviepy - Building video Video cuts collection/Video Segments/P09/music03.mp4.\n"
     ]
    },
    {
     "name": "stderr",
     "output_type": "stream",
     "text": [
      "                                                                 \r"
     ]
    },
    {
     "name": "stdout",
     "output_type": "stream",
     "text": [
      "Moviepy - Writing video Video cuts collection/Video Segments/P09/music03.mp4\n",
      "\n"
     ]
    },
    {
     "name": "stderr",
     "output_type": "stream",
     "text": [
      "t:   0%|          | 2/960 [26:50<214:16:02, 805.18s/it, now=None]\n",
      "t:   0%|          | 0/960 [00:00<?, ?it/s, now=None]\n",
      "t:   1%|▏         | 14/960 [00:00<00:06, 138.98it/s, now=None]\n",
      "t:  26%|██▋       | 252/960 [00:00<00:03, 193.66it/s, now=None]\n",
      "t:  55%|█████▍    | 524/960 [00:00<00:01, 268.41it/s, now=None]\n",
      "t:  82%|████████▏ | 789/960 [00:00<00:00, 367.38it/s, now=None]\n",
      "                                                                 \r"
     ]
    },
    {
     "name": "stdout",
     "output_type": "stream",
     "text": [
      "Moviepy - Done !\n"
     ]
    },
    {
     "name": "stderr",
     "output_type": "stream",
     "text": [
      "                                                                 \r"
     ]
    },
    {
     "name": "stdout",
     "output_type": "stream",
     "text": [
      "Moviepy - video ready Video cuts collection/Video Segments/P09/music03.mp4\n"
     ]
    },
    {
     "name": "stderr",
     "output_type": "stream",
     "text": [
      "\r",
      "t:   0%|          | 2/960 [26:50<214:20:59, 805.49s/it, now=None]"
     ]
    },
    {
     "name": "stdout",
     "output_type": "stream",
     "text": [
      "times 3\n"
     ]
    },
    {
     "name": "stderr",
     "output_type": "stream",
     "text": [
      "                                                                 \r"
     ]
    },
    {
     "name": "stdout",
     "output_type": "stream",
     "text": [
      "Moviepy - Building video Video cuts collection/Video Segments/P09/music04.mp4.\n"
     ]
    },
    {
     "name": "stderr",
     "output_type": "stream",
     "text": [
      "                                                                 \r"
     ]
    },
    {
     "name": "stdout",
     "output_type": "stream",
     "text": [
      "Moviepy - Writing video Video cuts collection/Video Segments/P09/music04.mp4\n",
      "\n"
     ]
    },
    {
     "name": "stderr",
     "output_type": "stream",
     "text": [
      "t:   0%|          | 2/960 [26:51<214:26:49, 805.86s/it, now=None]\n",
      "t:   0%|          | 0/960 [00:00<?, ?it/s, now=None]\n",
      "t:   0%|          | 3/960 [00:00<00:32, 29.63it/s, now=None]\n",
      "t:  27%|██▋       | 263/960 [00:00<00:16, 42.13it/s, now=None]\n",
      "t:  57%|█████▋    | 546/960 [00:00<00:06, 59.80it/s, now=None]\n",
      "t:  86%|████████▌ | 823/960 [00:00<00:01, 84.64it/s, now=None]\n",
      "                                                                 \r"
     ]
    },
    {
     "name": "stdout",
     "output_type": "stream",
     "text": [
      "Moviepy - Done !\n"
     ]
    },
    {
     "name": "stderr",
     "output_type": "stream",
     "text": [
      "                                                                 \r"
     ]
    },
    {
     "name": "stdout",
     "output_type": "stream",
     "text": [
      "Moviepy - video ready Video cuts collection/Video Segments/P09/music04.mp4\n"
     ]
    },
    {
     "name": "stderr",
     "output_type": "stream",
     "text": [
      "\r",
      "t:   0%|          | 2/960 [26:52<214:31:39, 806.16s/it, now=None]"
     ]
    },
    {
     "name": "stdout",
     "output_type": "stream",
     "text": [
      "times 4\n"
     ]
    },
    {
     "name": "stderr",
     "output_type": "stream",
     "text": [
      "                                                                 \r"
     ]
    },
    {
     "name": "stdout",
     "output_type": "stream",
     "text": [
      "Moviepy - Building video Video cuts collection/Video Segments/P09/music09.mp4.\n"
     ]
    },
    {
     "name": "stderr",
     "output_type": "stream",
     "text": [
      "                                                                 \r"
     ]
    },
    {
     "name": "stdout",
     "output_type": "stream",
     "text": [
      "Moviepy - Writing video Video cuts collection/Video Segments/P09/music09.mp4\n",
      "\n"
     ]
    },
    {
     "name": "stderr",
     "output_type": "stream",
     "text": [
      "t:   0%|          | 2/960 [26:53<214:37:17, 806.51s/it, now=None]\n",
      "t:   0%|          | 0/960 [00:00<?, ?it/s, now=None]\n",
      "t:   1%|▏         | 14/960 [00:00<00:06, 138.98it/s, now=None]\n",
      "t:  30%|███       | 290/960 [00:00<00:03, 194.32it/s, now=None]\n",
      "t:  59%|█████▉    | 570/960 [00:00<00:01, 269.53it/s, now=None]\n",
      "t:  88%|████████▊ | 847/960 [00:00<00:00, 369.52it/s, now=None]\n",
      "                                                                 \r"
     ]
    },
    {
     "name": "stdout",
     "output_type": "stream",
     "text": [
      "Moviepy - Done !\n"
     ]
    },
    {
     "name": "stderr",
     "output_type": "stream",
     "text": [
      "                                                                 \r"
     ]
    },
    {
     "name": "stdout",
     "output_type": "stream",
     "text": [
      "Moviepy - video ready Video cuts collection/Video Segments/P09/music09.mp4\n"
     ]
    },
    {
     "name": "stderr",
     "output_type": "stream",
     "text": [
      "\r",
      "t:   0%|          | 2/960 [26:53<214:42:04, 806.81s/it, now=None]"
     ]
    },
    {
     "name": "stdout",
     "output_type": "stream",
     "text": [
      "times 5\n"
     ]
    },
    {
     "name": "stderr",
     "output_type": "stream",
     "text": [
      "                                                                 \r"
     ]
    },
    {
     "name": "stdout",
     "output_type": "stream",
     "text": [
      "Moviepy - Building video Video cuts collection/Video Segments/P09/music10.mp4.\n"
     ]
    },
    {
     "name": "stderr",
     "output_type": "stream",
     "text": [
      "                                                                 \r"
     ]
    },
    {
     "name": "stdout",
     "output_type": "stream",
     "text": [
      "Moviepy - Writing video Video cuts collection/Video Segments/P09/music10.mp4\n",
      "\n"
     ]
    },
    {
     "name": "stderr",
     "output_type": "stream",
     "text": [
      "t:   0%|          | 2/960 [26:54<214:47:47, 807.17s/it, now=None]\n",
      "t:   0%|          | 0/1110 [00:00<?, ?it/s, now=None]\n",
      "t:   0%|          | 3/1110 [00:00<00:38, 28.50it/s, now=None]\n",
      "t:  24%|██▍       | 268/1110 [00:00<00:20, 40.53it/s, now=None]\n",
      "t:  50%|████▉     | 552/1110 [00:00<00:09, 57.55it/s, now=None]\n",
      "t:  75%|███████▌  | 833/1110 [00:00<00:03, 81.49it/s, now=None]\n",
      "                                                                 \r"
     ]
    },
    {
     "name": "stdout",
     "output_type": "stream",
     "text": [
      "Moviepy - Done !\n"
     ]
    },
    {
     "name": "stderr",
     "output_type": "stream",
     "text": [
      "                                                                 \r"
     ]
    },
    {
     "name": "stdout",
     "output_type": "stream",
     "text": [
      "Moviepy - video ready Video cuts collection/Video Segments/P09/music10.mp4\n"
     ]
    },
    {
     "name": "stderr",
     "output_type": "stream",
     "text": [
      "\r",
      "t:   0%|          | 2/960 [26:54<214:53:02, 807.50s/it, now=None]"
     ]
    },
    {
     "name": "stdout",
     "output_type": "stream",
     "text": [
      "times 6\n"
     ]
    },
    {
     "name": "stderr",
     "output_type": "stream",
     "text": [
      "                                                                 \r"
     ]
    },
    {
     "name": "stdout",
     "output_type": "stream",
     "text": [
      "Moviepy - Building video Video cuts collection/Video Segments/P09/music11.mp4.\n"
     ]
    },
    {
     "name": "stderr",
     "output_type": "stream",
     "text": [
      "                                                                 \r"
     ]
    },
    {
     "name": "stdout",
     "output_type": "stream",
     "text": [
      "Moviepy - Writing video Video cuts collection/Video Segments/P09/music11.mp4\n",
      "\n"
     ]
    },
    {
     "name": "stderr",
     "output_type": "stream",
     "text": [
      "t:   0%|          | 2/960 [26:55<214:58:34, 807.84s/it, now=None]\n",
      "t:   0%|          | 0/960 [00:00<?, ?it/s, now=None]\n",
      "t:   0%|          | 3/960 [00:00<00:32, 29.90it/s, now=None]\n",
      "t:  28%|██▊       | 268/960 [00:00<00:16, 42.51it/s, now=None]\n",
      "t:  55%|█████▌    | 531/960 [00:00<00:07, 60.30it/s, now=None]\n",
      "t:  84%|████████▍ | 804/960 [00:00<00:01, 85.33it/s, now=None]\n",
      "                                                                 \r"
     ]
    },
    {
     "name": "stdout",
     "output_type": "stream",
     "text": [
      "Moviepy - Done !\n"
     ]
    },
    {
     "name": "stderr",
     "output_type": "stream",
     "text": [
      "                                                                 \r"
     ]
    },
    {
     "name": "stdout",
     "output_type": "stream",
     "text": [
      "Moviepy - video ready Video cuts collection/Video Segments/P09/music11.mp4\n"
     ]
    },
    {
     "name": "stderr",
     "output_type": "stream",
     "text": [
      "\r",
      "t:   0%|          | 2/960 [26:56<215:03:29, 808.15s/it, now=None]"
     ]
    },
    {
     "name": "stdout",
     "output_type": "stream",
     "text": [
      "times 7\n"
     ]
    },
    {
     "name": "stderr",
     "output_type": "stream",
     "text": [
      "                                                                 \r"
     ]
    },
    {
     "name": "stdout",
     "output_type": "stream",
     "text": [
      "Moviepy - Building video Video cuts collection/Video Segments/P09/music12.mp4.\n"
     ]
    },
    {
     "name": "stderr",
     "output_type": "stream",
     "text": [
      "                                                                 \r"
     ]
    },
    {
     "name": "stdout",
     "output_type": "stream",
     "text": [
      "Moviepy - Writing video Video cuts collection/Video Segments/P09/music12.mp4\n",
      "\n"
     ]
    },
    {
     "name": "stderr",
     "output_type": "stream",
     "text": [
      "t:   0%|          | 2/960 [26:57<215:09:14, 808.51s/it, now=None]\n",
      "t:   0%|          | 0/960 [00:00<?, ?it/s, now=None]\n",
      "t:   2%|▏         | 17/960 [00:00<00:05, 168.46it/s, now=None]\n",
      "t:  30%|███       | 292/960 [00:00<00:02, 234.46it/s, now=None]\n",
      "t:  61%|██████    | 583/960 [00:00<00:01, 323.68it/s, now=None]\n",
      "t:  90%|████████▉ | 860/960 [00:00<00:00, 440.19it/s, now=None]\n",
      "                                                                 \r"
     ]
    },
    {
     "name": "stdout",
     "output_type": "stream",
     "text": [
      "Moviepy - Done !\n"
     ]
    },
    {
     "name": "stderr",
     "output_type": "stream",
     "text": [
      "                                                                 \r"
     ]
    },
    {
     "name": "stdout",
     "output_type": "stream",
     "text": [
      "Moviepy - video ready Video cuts collection/Video Segments/P09/music12.mp4\n"
     ]
    },
    {
     "name": "stderr",
     "output_type": "stream",
     "text": [
      "\r",
      "t:   0%|          | 2/960 [26:57<215:14:02, 808.81s/it, now=None]"
     ]
    },
    {
     "name": "stdout",
     "output_type": "stream",
     "text": [
      "df:\n",
      "    a          b          c\n",
      "0  5 1527655661 1527655878\n",
      "1  6 1527656000 1527656209\n",
      "2  7 1527656301 1527656503\n",
      "3  8 1527656574 1527656784\n",
      "4  1 1527656877 1527657134\n",
      "5  2 1527657209 1527657454\n",
      "6  3 1527657526 1527657759\n",
      "7  4 1527657528 1527657769\n",
      "df_correct_time:\n",
      "    music_type  from_minutes  from_seconds  to_minutes  to_seconds  \\\n",
      "0           5             0             0           0          29   \n",
      "1           6             0            45           1          13   \n",
      "2           7             1            25           1          52   \n",
      "3           8             2             2           2          30   \n",
      "4           1             2            42           3          16   \n",
      "5           2             3            26           3          59   \n",
      "6           3             4             9           4          40   \n",
      "7           4             4             9           4          41   \n",
      "\n",
      "   from_total_second  to_total_second  \n",
      "0                  0               29  \n",
      "1                 45               73  \n",
      "2                 85              112  \n",
      "3                122              150  \n",
      "4                162              196  \n",
      "5                206              239  \n",
      "6                249              280  \n",
      "7                249              281  \n",
      "times 0\n"
     ]
    },
    {
     "name": "stderr",
     "output_type": "stream",
     "text": [
      "                                                                 \r"
     ]
    },
    {
     "name": "stdout",
     "output_type": "stream",
     "text": [
      "Moviepy - Building video Video cuts collection/Video Segments/P10/music05.mp4.\n"
     ]
    },
    {
     "name": "stderr",
     "output_type": "stream",
     "text": [
      "                                                                 \r"
     ]
    },
    {
     "name": "stdout",
     "output_type": "stream",
     "text": [
      "Moviepy - Writing video Video cuts collection/Video Segments/P10/music05.mp4\n",
      "\n"
     ]
    },
    {
     "name": "stderr",
     "output_type": "stream",
     "text": [
      "t:   0%|          | 2/960 [26:58<215:20:43, 809.23s/it, now=None]\n",
      "t:   0%|          | 0/810 [00:00<?, ?it/s, now=None]\n",
      "t:   3%|▎         | 21/810 [00:00<00:03, 208.48it/s, now=None]\n",
      "t:  38%|███▊      | 304/810 [00:00<00:01, 288.64it/s, now=None]\n",
      "t:  73%|███████▎  | 594/810 [00:00<00:00, 395.36it/s, now=None]\n",
      "                                                                 \r"
     ]
    },
    {
     "name": "stdout",
     "output_type": "stream",
     "text": [
      "Moviepy - Done !\n"
     ]
    },
    {
     "name": "stderr",
     "output_type": "stream",
     "text": [
      "                                                                 \r"
     ]
    },
    {
     "name": "stdout",
     "output_type": "stream",
     "text": [
      "Moviepy - video ready Video cuts collection/Video Segments/P10/music05.mp4\n"
     ]
    },
    {
     "name": "stderr",
     "output_type": "stream",
     "text": [
      "\r",
      "t:   0%|          | 2/960 [26:58<215:24:50, 809.49s/it, now=None]"
     ]
    },
    {
     "name": "stdout",
     "output_type": "stream",
     "text": [
      "times 1\n"
     ]
    },
    {
     "name": "stderr",
     "output_type": "stream",
     "text": [
      "                                                                 \r"
     ]
    },
    {
     "name": "stdout",
     "output_type": "stream",
     "text": [
      "Moviepy - Building video Video cuts collection/Video Segments/P10/music06.mp4.\n"
     ]
    },
    {
     "name": "stderr",
     "output_type": "stream",
     "text": [
      "                                                                 \r"
     ]
    },
    {
     "name": "stdout",
     "output_type": "stream",
     "text": [
      "Moviepy - Writing video Video cuts collection/Video Segments/P10/music06.mp4\n",
      "\n"
     ]
    },
    {
     "name": "stderr",
     "output_type": "stream",
     "text": [
      "t:   0%|          | 2/960 [26:59<215:30:29, 809.84s/it, now=None]\n",
      "t:   0%|          | 0/840 [00:00<?, ?it/s, now=None]\n",
      "t:   0%|          | 2/840 [00:00<00:42, 19.54it/s, now=None]\n",
      "t:  23%|██▎       | 195/840 [00:00<00:23, 27.80it/s, now=None]\n",
      "t:  49%|████▉     | 415/840 [00:00<00:10, 39.50it/s, now=None]\n",
      "t:  84%|████████▍ | 705/840 [00:00<00:02, 56.10it/s, now=None]\n",
      "                                                                 \r"
     ]
    },
    {
     "name": "stdout",
     "output_type": "stream",
     "text": [
      "Moviepy - Done !\n"
     ]
    },
    {
     "name": "stderr",
     "output_type": "stream",
     "text": [
      "                                                                 \r"
     ]
    },
    {
     "name": "stdout",
     "output_type": "stream",
     "text": [
      "Moviepy - video ready Video cuts collection/Video Segments/P10/music06.mp4\n"
     ]
    },
    {
     "name": "stderr",
     "output_type": "stream",
     "text": [
      "\r",
      "t:   0%|          | 2/960 [27:00<215:35:17, 810.14s/it, now=None]"
     ]
    },
    {
     "name": "stdout",
     "output_type": "stream",
     "text": [
      "times 2\n"
     ]
    },
    {
     "name": "stderr",
     "output_type": "stream",
     "text": [
      "                                                                 \r"
     ]
    },
    {
     "name": "stdout",
     "output_type": "stream",
     "text": [
      "Moviepy - Building video Video cuts collection/Video Segments/P10/music07.mp4.\n"
     ]
    },
    {
     "name": "stderr",
     "output_type": "stream",
     "text": [
      "                                                                 \r"
     ]
    },
    {
     "name": "stdout",
     "output_type": "stream",
     "text": [
      "Moviepy - Writing video Video cuts collection/Video Segments/P10/music07.mp4\n",
      "\n"
     ]
    },
    {
     "name": "stderr",
     "output_type": "stream",
     "text": [
      "t:   0%|          | 2/960 [27:01<215:41:13, 810.51s/it, now=None]\n",
      "t:   0%|          | 0/810 [00:00<?, ?it/s, now=None]\n",
      "t:   3%|▎         | 26/810 [00:00<00:03, 258.12it/s, now=None]\n",
      "t:  38%|███▊      | 304/810 [00:00<00:01, 354.53it/s, now=None]\n",
      "t:  74%|███████▎  | 596/810 [00:00<00:00, 481.24it/s, now=None]\n",
      "                                                                 \r"
     ]
    },
    {
     "name": "stdout",
     "output_type": "stream",
     "text": [
      "Moviepy - Done !\n"
     ]
    },
    {
     "name": "stderr",
     "output_type": "stream",
     "text": [
      "                                                                 \r"
     ]
    },
    {
     "name": "stdout",
     "output_type": "stream",
     "text": [
      "Moviepy - video ready Video cuts collection/Video Segments/P10/music07.mp4\n"
     ]
    },
    {
     "name": "stderr",
     "output_type": "stream",
     "text": [
      "\r",
      "t:   0%|          | 2/960 [27:01<215:45:27, 810.78s/it, now=None]"
     ]
    },
    {
     "name": "stdout",
     "output_type": "stream",
     "text": [
      "times 3\n"
     ]
    },
    {
     "name": "stderr",
     "output_type": "stream",
     "text": [
      "                                                                 \r"
     ]
    },
    {
     "name": "stdout",
     "output_type": "stream",
     "text": [
      "Moviepy - Building video Video cuts collection/Video Segments/P10/music08.mp4.\n"
     ]
    },
    {
     "name": "stderr",
     "output_type": "stream",
     "text": [
      "                                                                 \r"
     ]
    },
    {
     "name": "stdout",
     "output_type": "stream",
     "text": [
      "Moviepy - Writing video Video cuts collection/Video Segments/P10/music08.mp4\n",
      "\n"
     ]
    },
    {
     "name": "stderr",
     "output_type": "stream",
     "text": [
      "t:   0%|          | 2/960 [27:02<215:51:01, 811.13s/it, now=None]\n",
      "t:   0%|          | 0/840 [00:00<?, ?it/s, now=None]\n",
      "t:   1%|          | 10/840 [00:00<00:08, 99.31it/s, now=None]\n",
      "t:  35%|███▌      | 295/840 [00:00<00:03, 139.77it/s, now=None]\n",
      "t:  69%|██████▉   | 583/840 [00:00<00:01, 195.57it/s, now=None]\n",
      "                                                                 \r"
     ]
    },
    {
     "name": "stdout",
     "output_type": "stream",
     "text": [
      "Moviepy - Done !\n"
     ]
    },
    {
     "name": "stderr",
     "output_type": "stream",
     "text": [
      "                                                                 \r"
     ]
    },
    {
     "name": "stdout",
     "output_type": "stream",
     "text": [
      "Moviepy - video ready Video cuts collection/Video Segments/P10/music08.mp4\n"
     ]
    },
    {
     "name": "stderr",
     "output_type": "stream",
     "text": [
      "\r",
      "t:   0%|          | 2/960 [27:02<215:55:20, 811.40s/it, now=None]"
     ]
    },
    {
     "name": "stdout",
     "output_type": "stream",
     "text": [
      "times 4\n"
     ]
    },
    {
     "name": "stderr",
     "output_type": "stream",
     "text": [
      "                                                                 \r"
     ]
    },
    {
     "name": "stdout",
     "output_type": "stream",
     "text": [
      "Moviepy - Building video Video cuts collection/Video Segments/P10/music01.mp4.\n"
     ]
    },
    {
     "name": "stderr",
     "output_type": "stream",
     "text": [
      "                                                                 \r"
     ]
    },
    {
     "name": "stdout",
     "output_type": "stream",
     "text": [
      "Moviepy - Writing video Video cuts collection/Video Segments/P10/music01.mp4\n",
      "\n"
     ]
    },
    {
     "name": "stderr",
     "output_type": "stream",
     "text": [
      "t:   0%|          | 2/960 [27:03<216:00:55, 811.75s/it, now=None]\n",
      "t:   0%|          | 0/1020 [00:00<?, ?it/s, now=None]\n",
      "t:   1%|▏         | 13/1020 [00:00<00:07, 129.06it/s, now=None]\n",
      "t:  30%|██▉       | 303/1020 [00:00<00:03, 180.89it/s, now=None]\n",
      "t:  58%|█████▊    | 596/1020 [00:00<00:01, 251.71it/s, now=None]\n",
      "t:  89%|████████▊ | 903/1020 [00:00<00:00, 347.29it/s, now=None]\n",
      "                                                                 \r"
     ]
    },
    {
     "name": "stdout",
     "output_type": "stream",
     "text": [
      "Moviepy - Done !\n"
     ]
    },
    {
     "name": "stderr",
     "output_type": "stream",
     "text": [
      "                                                                 \r"
     ]
    },
    {
     "name": "stdout",
     "output_type": "stream",
     "text": [
      "Moviepy - video ready Video cuts collection/Video Segments/P10/music01.mp4\n"
     ]
    },
    {
     "name": "stderr",
     "output_type": "stream",
     "text": [
      "\r",
      "t:   0%|          | 2/960 [27:04<216:06:18, 812.09s/it, now=None]"
     ]
    },
    {
     "name": "stdout",
     "output_type": "stream",
     "text": [
      "times 5\n"
     ]
    },
    {
     "name": "stderr",
     "output_type": "stream",
     "text": [
      "                                                                 \r"
     ]
    },
    {
     "name": "stdout",
     "output_type": "stream",
     "text": [
      "Moviepy - Building video Video cuts collection/Video Segments/P10/music02.mp4.\n"
     ]
    },
    {
     "name": "stderr",
     "output_type": "stream",
     "text": [
      "                                                                 \r"
     ]
    },
    {
     "name": "stdout",
     "output_type": "stream",
     "text": [
      "Moviepy - Writing video Video cuts collection/Video Segments/P10/music02.mp4\n",
      "\n"
     ]
    },
    {
     "name": "stderr",
     "output_type": "stream",
     "text": [
      "t:   0%|          | 2/960 [27:04<216:11:52, 812.43s/it, now=None]\n",
      "t:   0%|          | 0/990 [00:00<?, ?it/s, now=None]\n",
      "t:   0%|          | 3/990 [00:00<00:34, 28.24it/s, now=None]\n",
      "t:  26%|██▌       | 259/990 [00:00<00:18, 40.15it/s, now=None]\n",
      "t:  53%|█████▎    | 522/990 [00:00<00:08, 56.99it/s, now=None]\n",
      "t:  80%|████████  | 794/990 [00:00<00:02, 80.68it/s, now=None]\n",
      "                                                                 \r"
     ]
    },
    {
     "name": "stdout",
     "output_type": "stream",
     "text": [
      "Moviepy - Done !\n"
     ]
    },
    {
     "name": "stderr",
     "output_type": "stream",
     "text": [
      "                                                                 \r"
     ]
    },
    {
     "name": "stdout",
     "output_type": "stream",
     "text": [
      "Moviepy - video ready Video cuts collection/Video Segments/P10/music02.mp4\n"
     ]
    },
    {
     "name": "stderr",
     "output_type": "stream",
     "text": [
      "\r",
      "t:   0%|          | 2/960 [27:05<216:17:05, 812.76s/it, now=None]"
     ]
    },
    {
     "name": "stdout",
     "output_type": "stream",
     "text": [
      "times 6\n"
     ]
    },
    {
     "name": "stderr",
     "output_type": "stream",
     "text": [
      "                                                                 \r"
     ]
    },
    {
     "name": "stdout",
     "output_type": "stream",
     "text": [
      "Moviepy - Building video Video cuts collection/Video Segments/P10/music03.mp4.\n"
     ]
    },
    {
     "name": "stderr",
     "output_type": "stream",
     "text": [
      "                                                                 \r"
     ]
    },
    {
     "name": "stdout",
     "output_type": "stream",
     "text": [
      "Moviepy - Writing video Video cuts collection/Video Segments/P10/music03.mp4\n",
      "\n"
     ]
    },
    {
     "name": "stderr",
     "output_type": "stream",
     "text": [
      "t:   0%|          | 2/960 [27:06<216:22:41, 813.11s/it, now=None]\n",
      "t:   0%|          | 0/930 [00:00<?, ?it/s, now=None]\n",
      "t:   0%|          | 3/930 [00:00<00:31, 29.34it/s, now=None]\n",
      "t:  29%|██▉       | 273/930 [00:00<00:15, 41.73it/s, now=None]\n",
      "t:  59%|█████▉    | 551/930 [00:00<00:06, 59.22it/s, now=None]\n",
      "t:  93%|█████████▎| 866/930 [00:00<00:00, 83.92it/s, now=None]\n",
      "                                                                 \r"
     ]
    },
    {
     "name": "stdout",
     "output_type": "stream",
     "text": [
      "Moviepy - Done !\n"
     ]
    },
    {
     "name": "stderr",
     "output_type": "stream",
     "text": [
      "                                                                 \r"
     ]
    },
    {
     "name": "stdout",
     "output_type": "stream",
     "text": [
      "Moviepy - video ready Video cuts collection/Video Segments/P10/music03.mp4\n"
     ]
    },
    {
     "name": "stderr",
     "output_type": "stream",
     "text": [
      "\r",
      "t:   0%|          | 2/960 [27:06<216:27:22, 813.41s/it, now=None]"
     ]
    },
    {
     "name": "stdout",
     "output_type": "stream",
     "text": [
      "times 7\n"
     ]
    },
    {
     "name": "stderr",
     "output_type": "stream",
     "text": [
      "                                                                 \r"
     ]
    },
    {
     "name": "stdout",
     "output_type": "stream",
     "text": [
      "Moviepy - Building video Video cuts collection/Video Segments/P10/music04.mp4.\n"
     ]
    },
    {
     "name": "stderr",
     "output_type": "stream",
     "text": [
      "                                                                 \r"
     ]
    },
    {
     "name": "stdout",
     "output_type": "stream",
     "text": [
      "Moviepy - Writing video Video cuts collection/Video Segments/P10/music04.mp4\n",
      "\n"
     ]
    },
    {
     "name": "stderr",
     "output_type": "stream",
     "text": [
      "t:   0%|          | 2/960 [27:07<216:32:55, 813.75s/it, now=None]\n",
      "t:   0%|          | 0/960 [00:00<?, ?it/s, now=None]\n",
      "t:   3%|▎         | 25/960 [00:00<00:03, 248.18it/s, now=None]\n",
      "t:  32%|███▏      | 304/960 [00:00<00:01, 341.44it/s, now=None]\n",
      "t:  61%|██████    | 586/960 [00:00<00:00, 463.54it/s, now=None]\n",
      "t:  91%|█████████▏| 876/960 [00:00<00:00, 619.45it/s, now=None]\n",
      "                                                                 \r"
     ]
    },
    {
     "name": "stdout",
     "output_type": "stream",
     "text": [
      "Moviepy - Done !\n"
     ]
    },
    {
     "name": "stderr",
     "output_type": "stream",
     "text": [
      "                                                                 \r"
     ]
    },
    {
     "name": "stdout",
     "output_type": "stream",
     "text": [
      "Moviepy - video ready Video cuts collection/Video Segments/P10/music04.mp4\n"
     ]
    },
    {
     "name": "stderr",
     "output_type": "stream",
     "text": [
      "\r",
      "t:   0%|          | 2/960 [27:08<216:37:41, 814.05s/it, now=None]"
     ]
    },
    {
     "name": "stdout",
     "output_type": "stream",
     "text": [
      "df:\n",
      "    a          b          c\n",
      "0  5 1527725805 1527726022\n",
      "1  6 1527726133 1527726342\n",
      "2  7 1527726437 1527726639\n",
      "3  8 1527726739 1527726949\n",
      "4  9 1527727057 1527727296\n",
      "5 10 1527727394 1527727670\n",
      "6 11 1527727823 1527728062\n",
      "7 12 1527728170 1527728410\n",
      "df_correct_time:\n",
      "    music_type  from_minutes  from_seconds  to_minutes  to_seconds  \\\n",
      "0           5             0             0           0          29   \n",
      "1           6             0            44           1          12   \n",
      "2           7             1            24           1          51   \n",
      "3           8             2             5           2          33   \n",
      "4           9             2            47           3          19   \n",
      "5          10             3            32           4           9   \n",
      "6          11             4            29           5           1   \n",
      "7          12             5            15           5          47   \n",
      "\n",
      "   from_total_second  to_total_second  \n",
      "0                  0               29  \n",
      "1                 44               72  \n",
      "2                 84              111  \n",
      "3                125              153  \n",
      "4                167              199  \n",
      "5                212              249  \n",
      "6                269              301  \n",
      "7                315              347  \n",
      "times 0\n"
     ]
    },
    {
     "name": "stderr",
     "output_type": "stream",
     "text": [
      "                                                                 \r"
     ]
    },
    {
     "name": "stdout",
     "output_type": "stream",
     "text": [
      "Moviepy - Building video Video cuts collection/Video Segments/P11/music05.mp4.\n"
     ]
    },
    {
     "name": "stderr",
     "output_type": "stream",
     "text": [
      "                                                                 \r"
     ]
    },
    {
     "name": "stdout",
     "output_type": "stream",
     "text": [
      "Moviepy - Writing video Video cuts collection/Video Segments/P11/music05.mp4\n",
      "\n"
     ]
    },
    {
     "name": "stderr",
     "output_type": "stream",
     "text": [
      "t:   0%|          | 2/960 [27:08<216:44:48, 814.50s/it, now=None]\n",
      "t:   0%|          | 0/810 [00:00<?, ?it/s, now=None]\n",
      "t:   2%|▏         | 20/810 [00:00<00:03, 198.55it/s, now=None]\n",
      "t:  38%|███▊      | 306/810 [00:00<00:01, 275.39it/s, now=None]\n",
      "t:  76%|███████▌  | 615/810 [00:00<00:00, 378.83it/s, now=None]\n",
      "                                                                 \r"
     ]
    },
    {
     "name": "stdout",
     "output_type": "stream",
     "text": [
      "Moviepy - Done !\n"
     ]
    },
    {
     "name": "stderr",
     "output_type": "stream",
     "text": [
      "                                                                 \r"
     ]
    },
    {
     "name": "stdout",
     "output_type": "stream",
     "text": [
      "Moviepy - video ready Video cuts collection/Video Segments/P11/music05.mp4\n"
     ]
    },
    {
     "name": "stderr",
     "output_type": "stream",
     "text": [
      "\r",
      "t:   0%|          | 2/960 [27:09<216:48:54, 814.75s/it, now=None]"
     ]
    },
    {
     "name": "stdout",
     "output_type": "stream",
     "text": [
      "times 1\n"
     ]
    },
    {
     "name": "stderr",
     "output_type": "stream",
     "text": [
      "                                                                 \r"
     ]
    },
    {
     "name": "stdout",
     "output_type": "stream",
     "text": [
      "Moviepy - Building video Video cuts collection/Video Segments/P11/music06.mp4.\n"
     ]
    },
    {
     "name": "stderr",
     "output_type": "stream",
     "text": [
      "                                                                 \r"
     ]
    },
    {
     "name": "stdout",
     "output_type": "stream",
     "text": [
      "Moviepy - Writing video Video cuts collection/Video Segments/P11/music06.mp4\n",
      "\n"
     ]
    },
    {
     "name": "stderr",
     "output_type": "stream",
     "text": [
      "t:   0%|          | 2/960 [27:10<216:54:36, 815.11s/it, now=None]\n",
      "t:   0%|          | 0/840 [00:00<?, ?it/s, now=None]\n",
      "t:   2%|▎         | 21/840 [00:00<00:03, 209.05it/s, now=None]\n",
      "t:  36%|███▌      | 301/840 [00:00<00:01, 289.32it/s, now=None]\n",
      "t:  72%|███████▏  | 606/840 [00:00<00:00, 397.05it/s, now=None]\n",
      "                                                                 \r"
     ]
    },
    {
     "name": "stdout",
     "output_type": "stream",
     "text": [
      "Moviepy - Done !\n"
     ]
    },
    {
     "name": "stderr",
     "output_type": "stream",
     "text": [
      "                                                                 \r"
     ]
    },
    {
     "name": "stdout",
     "output_type": "stream",
     "text": [
      "Moviepy - video ready Video cuts collection/Video Segments/P11/music06.mp4\n"
     ]
    },
    {
     "name": "stderr",
     "output_type": "stream",
     "text": [
      "\r",
      "t:   0%|          | 2/960 [27:10<216:58:56, 815.38s/it, now=None]"
     ]
    },
    {
     "name": "stdout",
     "output_type": "stream",
     "text": [
      "times 2\n"
     ]
    },
    {
     "name": "stderr",
     "output_type": "stream",
     "text": [
      "                                                                 \r"
     ]
    },
    {
     "name": "stdout",
     "output_type": "stream",
     "text": [
      "Moviepy - Building video Video cuts collection/Video Segments/P11/music07.mp4.\n"
     ]
    },
    {
     "name": "stderr",
     "output_type": "stream",
     "text": [
      "                                                                 \r"
     ]
    },
    {
     "name": "stdout",
     "output_type": "stream",
     "text": [
      "Moviepy - Writing video Video cuts collection/Video Segments/P11/music07.mp4\n",
      "\n"
     ]
    },
    {
     "name": "stderr",
     "output_type": "stream",
     "text": [
      "t:   0%|          | 2/960 [27:11<217:04:47, 815.75s/it, now=None]\n",
      "t:   0%|          | 0/810 [00:00<?, ?it/s, now=None]\n",
      "t:   2%|▏         | 17/810 [00:00<00:04, 169.85it/s, now=None]\n",
      "t:  36%|███▌      | 289/810 [00:00<00:02, 236.28it/s, now=None]\n",
      "t:  72%|███████▏  | 581/810 [00:00<00:00, 326.14it/s, now=None]\n",
      "                                                                 \r"
     ]
    },
    {
     "name": "stdout",
     "output_type": "stream",
     "text": [
      "Moviepy - Done !\n"
     ]
    },
    {
     "name": "stderr",
     "output_type": "stream",
     "text": [
      "                                                                 \r"
     ]
    },
    {
     "name": "stdout",
     "output_type": "stream",
     "text": [
      "Moviepy - video ready Video cuts collection/Video Segments/P11/music07.mp4\n"
     ]
    },
    {
     "name": "stderr",
     "output_type": "stream",
     "text": [
      "\r",
      "t:   0%|          | 2/960 [27:12<217:09:04, 816.02s/it, now=None]"
     ]
    },
    {
     "name": "stdout",
     "output_type": "stream",
     "text": [
      "times 3\n"
     ]
    },
    {
     "name": "stderr",
     "output_type": "stream",
     "text": [
      "                                                                 \r"
     ]
    },
    {
     "name": "stdout",
     "output_type": "stream",
     "text": [
      "Moviepy - Building video Video cuts collection/Video Segments/P11/music08.mp4.\n"
     ]
    },
    {
     "name": "stderr",
     "output_type": "stream",
     "text": [
      "                                                                 \r"
     ]
    },
    {
     "name": "stdout",
     "output_type": "stream",
     "text": [
      "Moviepy - Writing video Video cuts collection/Video Segments/P11/music08.mp4\n",
      "\n"
     ]
    },
    {
     "name": "stderr",
     "output_type": "stream",
     "text": [
      "t:   0%|          | 2/960 [27:12<217:14:48, 816.38s/it, now=None]\n",
      "t:   0%|          | 0/840 [00:00<?, ?it/s, now=None]\n",
      "t:   2%|▏         | 13/840 [00:00<00:06, 129.06it/s, now=None]\n",
      "t:  35%|███▌      | 296/840 [00:00<00:03, 180.81it/s, now=None]\n",
      "t:  71%|███████   | 594/840 [00:00<00:00, 251.70it/s, now=None]\n",
      "                                                                 \r"
     ]
    },
    {
     "name": "stdout",
     "output_type": "stream",
     "text": [
      "Moviepy - Done !\n"
     ]
    },
    {
     "name": "stderr",
     "output_type": "stream",
     "text": [
      "                                                                 \r"
     ]
    },
    {
     "name": "stdout",
     "output_type": "stream",
     "text": [
      "Moviepy - video ready Video cuts collection/Video Segments/P11/music08.mp4\n"
     ]
    },
    {
     "name": "stderr",
     "output_type": "stream",
     "text": [
      "\r",
      "t:   0%|          | 2/960 [27:13<217:19:04, 816.64s/it, now=None]"
     ]
    },
    {
     "name": "stdout",
     "output_type": "stream",
     "text": [
      "times 4\n"
     ]
    },
    {
     "name": "stderr",
     "output_type": "stream",
     "text": [
      "                                                                 \r"
     ]
    },
    {
     "name": "stdout",
     "output_type": "stream",
     "text": [
      "Moviepy - Building video Video cuts collection/Video Segments/P11/music09.mp4.\n"
     ]
    },
    {
     "name": "stderr",
     "output_type": "stream",
     "text": [
      "                                                                 \r"
     ]
    },
    {
     "name": "stdout",
     "output_type": "stream",
     "text": [
      "Moviepy - Writing video Video cuts collection/Video Segments/P11/music09.mp4\n",
      "\n"
     ]
    },
    {
     "name": "stderr",
     "output_type": "stream",
     "text": [
      "t:   0%|          | 2/960 [27:14<217:24:57, 817.01s/it, now=None]\n",
      "t:   0%|          | 0/960 [00:00<?, ?it/s, now=None]\n",
      "t:   1%|          | 5/960 [00:00<00:19, 49.64it/s, now=None]\n",
      "t:  29%|██▉       | 277/960 [00:00<00:09, 70.36it/s, now=None]\n",
      "t:  59%|█████▉    | 570/960 [00:00<00:03, 99.48it/s, now=None]\n",
      "t:  90%|████████▉ | 862/960 [00:00<00:00, 140.05it/s, now=None]\n",
      "                                                                 \r"
     ]
    },
    {
     "name": "stdout",
     "output_type": "stream",
     "text": [
      "Moviepy - Done !\n"
     ]
    },
    {
     "name": "stderr",
     "output_type": "stream",
     "text": [
      "                                                                 \r"
     ]
    },
    {
     "name": "stdout",
     "output_type": "stream",
     "text": [
      "Moviepy - video ready Video cuts collection/Video Segments/P11/music09.mp4\n"
     ]
    },
    {
     "name": "stderr",
     "output_type": "stream",
     "text": [
      "\r",
      "t:   0%|          | 2/960 [27:14<217:29:40, 817.31s/it, now=None]"
     ]
    },
    {
     "name": "stdout",
     "output_type": "stream",
     "text": [
      "times 5\n"
     ]
    },
    {
     "name": "stderr",
     "output_type": "stream",
     "text": [
      "                                                                 \r"
     ]
    },
    {
     "name": "stdout",
     "output_type": "stream",
     "text": [
      "Moviepy - Building video Video cuts collection/Video Segments/P11/music10.mp4.\n"
     ]
    },
    {
     "name": "stderr",
     "output_type": "stream",
     "text": [
      "                                                                 \r"
     ]
    },
    {
     "name": "stdout",
     "output_type": "stream",
     "text": [
      "Moviepy - Writing video Video cuts collection/Video Segments/P11/music10.mp4\n",
      "\n"
     ]
    },
    {
     "name": "stderr",
     "output_type": "stream",
     "text": [
      "t:   0%|          | 2/960 [27:15<217:35:15, 817.66s/it, now=None]\n",
      "t:   0%|          | 0/1110 [00:00<?, ?it/s, now=None]\n",
      "t:   2%|▏         | 20/1110 [00:00<00:05, 198.55it/s, now=None]\n",
      "t:  27%|██▋       | 304/1110 [00:00<00:02, 275.33it/s, now=None]\n",
      "t:  52%|█████▏    | 572/1110 [00:00<00:01, 376.63it/s, now=None]\n",
      "t:  78%|███████▊  | 866/1110 [00:00<00:00, 509.81it/s, now=None]\n",
      "                                                                 \r"
     ]
    },
    {
     "name": "stdout",
     "output_type": "stream",
     "text": [
      "Moviepy - Done !\n"
     ]
    },
    {
     "name": "stderr",
     "output_type": "stream",
     "text": [
      "                                                                 \r"
     ]
    },
    {
     "name": "stdout",
     "output_type": "stream",
     "text": [
      "Moviepy - video ready Video cuts collection/Video Segments/P11/music10.mp4\n"
     ]
    },
    {
     "name": "stderr",
     "output_type": "stream",
     "text": [
      "\r",
      "t:   0%|          | 2/960 [27:15<217:40:29, 817.99s/it, now=None]"
     ]
    },
    {
     "name": "stdout",
     "output_type": "stream",
     "text": [
      "times 6\n"
     ]
    },
    {
     "name": "stderr",
     "output_type": "stream",
     "text": [
      "                                                                 \r"
     ]
    },
    {
     "name": "stdout",
     "output_type": "stream",
     "text": [
      "Moviepy - Building video Video cuts collection/Video Segments/P11/music11.mp4.\n"
     ]
    },
    {
     "name": "stderr",
     "output_type": "stream",
     "text": [
      "                                                                 \r"
     ]
    },
    {
     "name": "stdout",
     "output_type": "stream",
     "text": [
      "Moviepy - Writing video Video cuts collection/Video Segments/P11/music11.mp4\n",
      "\n"
     ]
    },
    {
     "name": "stderr",
     "output_type": "stream",
     "text": [
      "t:   0%|          | 2/960 [27:16<217:46:16, 818.35s/it, now=None]\n",
      "t:   0%|          | 0/960 [00:00<?, ?it/s, now=None]\n",
      "t:   2%|▏         | 23/960 [00:00<00:04, 228.08it/s, now=None]\n",
      "t:  32%|███▏      | 308/960 [00:00<00:02, 314.94it/s, now=None]\n",
      "t:  64%|██████▍   | 618/960 [00:00<00:00, 431.10it/s, now=None]\n",
      "t:  92%|█████████▎| 888/960 [00:00<00:00, 576.15it/s, now=None]\n",
      "                                                                 \r"
     ]
    },
    {
     "name": "stdout",
     "output_type": "stream",
     "text": [
      "Moviepy - Done !\n"
     ]
    },
    {
     "name": "stderr",
     "output_type": "stream",
     "text": [
      "                                                                 \r"
     ]
    },
    {
     "name": "stdout",
     "output_type": "stream",
     "text": [
      "Moviepy - video ready Video cuts collection/Video Segments/P11/music11.mp4\n"
     ]
    },
    {
     "name": "stderr",
     "output_type": "stream",
     "text": [
      "\r",
      "t:   0%|          | 2/960 [27:17<217:50:54, 818.64s/it, now=None]"
     ]
    },
    {
     "name": "stdout",
     "output_type": "stream",
     "text": [
      "times 7\n"
     ]
    },
    {
     "name": "stderr",
     "output_type": "stream",
     "text": [
      "                                                                 \r"
     ]
    },
    {
     "name": "stdout",
     "output_type": "stream",
     "text": [
      "Moviepy - Building video Video cuts collection/Video Segments/P11/music12.mp4.\n"
     ]
    },
    {
     "name": "stderr",
     "output_type": "stream",
     "text": [
      "                                                                 \r"
     ]
    },
    {
     "name": "stdout",
     "output_type": "stream",
     "text": [
      "Moviepy - Writing video Video cuts collection/Video Segments/P11/music12.mp4\n",
      "\n"
     ]
    },
    {
     "name": "stderr",
     "output_type": "stream",
     "text": [
      "t:   0%|          | 2/960 [27:17<217:56:33, 818.99s/it, now=None]\n",
      "t:   0%|          | 0/960 [00:00<?, ?it/s, now=None]\n",
      "t:   0%|          | 4/960 [00:00<00:24, 39.67it/s, now=None]\n",
      "t:  29%|██▉       | 281/960 [00:00<00:12, 56.32it/s, now=None]\n",
      "t:  58%|█████▊    | 554/960 [00:00<00:05, 79.75it/s, now=None]\n",
      "t:  89%|████████▉ | 857/960 [00:00<00:00, 112.65it/s, now=None]\n",
      "                                                                 \r"
     ]
    },
    {
     "name": "stdout",
     "output_type": "stream",
     "text": [
      "Moviepy - Done !\n"
     ]
    },
    {
     "name": "stderr",
     "output_type": "stream",
     "text": [
      "                                                                 \r"
     ]
    },
    {
     "name": "stdout",
     "output_type": "stream",
     "text": [
      "Moviepy - video ready Video cuts collection/Video Segments/P11/music12.mp4\n"
     ]
    },
    {
     "name": "stderr",
     "output_type": "stream",
     "text": [
      "\r",
      "t:   0%|          | 2/960 [27:18<218:01:22, 819.29s/it, now=None]"
     ]
    },
    {
     "name": "stdout",
     "output_type": "stream",
     "text": [
      "df:\n",
      "    a          b          c\n",
      "0  9 1527741954 1527742193\n",
      "1 10 1527742158 1527742434\n",
      "2 11 1527742663 1527742902\n",
      "3 12 1527743144 1527743384\n",
      "4  1 1527743534 1527743791\n",
      "5  2 1527743939 1527744184\n",
      "6  3 1527744332 1527744565\n",
      "7  4 1527744729 1527744970\n",
      "df_correct_time:\n",
      "    music_type  from_minutes  from_seconds  to_minutes  to_seconds  \\\n",
      "0           9             0             0           0          32   \n",
      "1          10             0            27           1           4   \n",
      "2          11             1            35           2           6   \n",
      "3          12             2            39           3          11   \n",
      "4           1             3            31           4           5   \n",
      "5           2             4            25           4          57   \n",
      "6           3             5            17           5          48   \n",
      "7           4             6            10           6          42   \n",
      "\n",
      "   from_total_second  to_total_second  \n",
      "0                  0               32  \n",
      "1                 27               64  \n",
      "2                 95              126  \n",
      "3                159              191  \n",
      "4                211              245  \n",
      "5                265              297  \n",
      "6                317              348  \n",
      "7                370              402  \n",
      "times 0\n"
     ]
    },
    {
     "name": "stderr",
     "output_type": "stream",
     "text": [
      "                                                                 \r"
     ]
    },
    {
     "name": "stdout",
     "output_type": "stream",
     "text": [
      "Moviepy - Building video Video cuts collection/Video Segments/P12/music09.mp4.\n"
     ]
    },
    {
     "name": "stderr",
     "output_type": "stream",
     "text": [
      "                                                                 \r"
     ]
    },
    {
     "name": "stdout",
     "output_type": "stream",
     "text": [
      "Moviepy - Writing video Video cuts collection/Video Segments/P12/music09.mp4\n",
      "\n"
     ]
    },
    {
     "name": "stderr",
     "output_type": "stream",
     "text": [
      "t:   0%|          | 2/960 [27:19<218:09:03, 819.77s/it, now=None]\n",
      "t:   0%|          | 0/900 [00:00<?, ?it/s, now=None]\n",
      "t:   2%|▏         | 19/900 [00:00<00:04, 188.62it/s, now=None]\n",
      "t:  33%|███▎      | 293/900 [00:00<00:02, 261.68it/s, now=None]\n",
      "t:  64%|██████▎   | 573/900 [00:00<00:00, 359.34it/s, now=None]\n",
      "t:  99%|█████████▊| 887/900 [00:00<00:00, 489.17it/s, now=None]\n",
      "                                                                 \r"
     ]
    },
    {
     "name": "stdout",
     "output_type": "stream",
     "text": [
      "Moviepy - Done !\n"
     ]
    },
    {
     "name": "stderr",
     "output_type": "stream",
     "text": [
      "                                                                 \r"
     ]
    },
    {
     "name": "stdout",
     "output_type": "stream",
     "text": [
      "Moviepy - video ready Video cuts collection/Video Segments/P12/music09.mp4\n"
     ]
    },
    {
     "name": "stderr",
     "output_type": "stream",
     "text": [
      "\r",
      "t:   0%|          | 2/960 [27:20<218:13:30, 820.05s/it, now=None]"
     ]
    },
    {
     "name": "stdout",
     "output_type": "stream",
     "text": [
      "times 1\n"
     ]
    },
    {
     "name": "stderr",
     "output_type": "stream",
     "text": [
      "                                                                 \r"
     ]
    },
    {
     "name": "stdout",
     "output_type": "stream",
     "text": [
      "Moviepy - Building video Video cuts collection/Video Segments/P12/music10.mp4.\n"
     ]
    },
    {
     "name": "stderr",
     "output_type": "stream",
     "text": [
      "                                                                 \r"
     ]
    },
    {
     "name": "stdout",
     "output_type": "stream",
     "text": [
      "Moviepy - Writing video Video cuts collection/Video Segments/P12/music10.mp4\n",
      "\n"
     ]
    },
    {
     "name": "stderr",
     "output_type": "stream",
     "text": [
      "t:   0%|          | 2/960 [27:20<218:18:47, 820.38s/it, now=None]\n",
      "t:   0%|          | 0/1110 [00:00<?, ?it/s, now=None]\n",
      "t:   5%|▌         | 59/1110 [00:00<00:01, 585.72it/s, now=None]\n",
      "t:  31%|███▏      | 348/1110 [00:00<00:00, 769.42it/s, now=None]\n",
      "t:  56%|█████▌    | 622/1110 [00:00<00:00, 980.33it/s, now=None]\n",
      "t:  82%|████████▏ | 908/1110 [00:00<00:00, 1219.94it/s, now=None]\n",
      "                                                                 \r"
     ]
    },
    {
     "name": "stdout",
     "output_type": "stream",
     "text": [
      "Moviepy - Done !\n"
     ]
    },
    {
     "name": "stderr",
     "output_type": "stream",
     "text": [
      "                                                                 \r"
     ]
    },
    {
     "name": "stdout",
     "output_type": "stream",
     "text": [
      "Moviepy - video ready Video cuts collection/Video Segments/P12/music10.mp4\n"
     ]
    },
    {
     "name": "stderr",
     "output_type": "stream",
     "text": [
      "\r",
      "t:   0%|          | 2/960 [27:21<218:23:54, 820.70s/it, now=None]"
     ]
    },
    {
     "name": "stdout",
     "output_type": "stream",
     "text": [
      "times 2\n"
     ]
    },
    {
     "name": "stderr",
     "output_type": "stream",
     "text": [
      "                                                                 \r"
     ]
    },
    {
     "name": "stdout",
     "output_type": "stream",
     "text": [
      "Moviepy - Building video Video cuts collection/Video Segments/P12/music11.mp4.\n"
     ]
    },
    {
     "name": "stderr",
     "output_type": "stream",
     "text": [
      "                                                                 \r"
     ]
    },
    {
     "name": "stdout",
     "output_type": "stream",
     "text": [
      "Moviepy - Writing video Video cuts collection/Video Segments/P12/music11.mp4\n",
      "\n"
     ]
    },
    {
     "name": "stderr",
     "output_type": "stream",
     "text": [
      "t:   0%|          | 2/960 [27:22<218:29:34, 821.06s/it, now=None]\n",
      "t:   0%|          | 0/930 [00:00<?, ?it/s, now=None]\n",
      "t:   2%|▏         | 22/930 [00:00<00:04, 219.00it/s, now=None]\n",
      "t:  33%|███▎      | 304/930 [00:00<00:02, 302.59it/s, now=None]\n",
      "t:  61%|██████    | 566/930 [00:00<00:00, 411.75it/s, now=None]\n",
      "t:  93%|█████████▎| 861/930 [00:00<00:00, 554.78it/s, now=None]\n",
      "                                                                 \r"
     ]
    },
    {
     "name": "stdout",
     "output_type": "stream",
     "text": [
      "Moviepy - Done !\n"
     ]
    },
    {
     "name": "stderr",
     "output_type": "stream",
     "text": [
      "                                                                 \r"
     ]
    },
    {
     "name": "stdout",
     "output_type": "stream",
     "text": [
      "Moviepy - video ready Video cuts collection/Video Segments/P12/music11.mp4\n"
     ]
    },
    {
     "name": "stderr",
     "output_type": "stream",
     "text": [
      "\r",
      "t:   0%|          | 2/960 [27:22<218:34:21, 821.36s/it, now=None]"
     ]
    },
    {
     "name": "stdout",
     "output_type": "stream",
     "text": [
      "times 3\n"
     ]
    },
    {
     "name": "stderr",
     "output_type": "stream",
     "text": [
      "                                                                 \r"
     ]
    },
    {
     "name": "stdout",
     "output_type": "stream",
     "text": [
      "Moviepy - Building video Video cuts collection/Video Segments/P12/music12.mp4.\n"
     ]
    },
    {
     "name": "stderr",
     "output_type": "stream",
     "text": [
      "                                                                 \r"
     ]
    },
    {
     "name": "stdout",
     "output_type": "stream",
     "text": [
      "Moviepy - Writing video Video cuts collection/Video Segments/P12/music12.mp4\n",
      "\n"
     ]
    },
    {
     "name": "stderr",
     "output_type": "stream",
     "text": [
      "t:   0%|          | 2/960 [27:23<218:40:06, 821.72s/it, now=None]\n",
      "t:   0%|          | 0/960 [00:00<?, ?it/s, now=None]\n",
      "t:   1%|▏         | 13/960 [00:00<00:07, 129.06it/s, now=None]\n",
      "t:  30%|███       | 289/960 [00:00<00:03, 180.72it/s, now=None]\n",
      "t:  60%|█████▉    | 574/960 [00:00<00:01, 251.29it/s, now=None]\n",
      "t:  89%|████████▊ | 850/960 [00:00<00:00, 345.39it/s, now=None]\n",
      "                                                                 \r"
     ]
    },
    {
     "name": "stdout",
     "output_type": "stream",
     "text": [
      "Moviepy - Done !\n"
     ]
    },
    {
     "name": "stderr",
     "output_type": "stream",
     "text": [
      "                                                                 \r"
     ]
    },
    {
     "name": "stdout",
     "output_type": "stream",
     "text": [
      "Moviepy - video ready Video cuts collection/Video Segments/P12/music12.mp4\n"
     ]
    },
    {
     "name": "stderr",
     "output_type": "stream",
     "text": [
      "\r",
      "t:   0%|          | 2/960 [27:24<218:44:52, 822.02s/it, now=None]"
     ]
    },
    {
     "name": "stdout",
     "output_type": "stream",
     "text": [
      "times 4\n"
     ]
    },
    {
     "name": "stderr",
     "output_type": "stream",
     "text": [
      "                                                                 \r"
     ]
    },
    {
     "name": "stdout",
     "output_type": "stream",
     "text": [
      "Moviepy - Building video Video cuts collection/Video Segments/P12/music01.mp4.\n"
     ]
    },
    {
     "name": "stderr",
     "output_type": "stream",
     "text": [
      "                                                                 \r"
     ]
    },
    {
     "name": "stdout",
     "output_type": "stream",
     "text": [
      "Moviepy - Writing video Video cuts collection/Video Segments/P12/music01.mp4\n",
      "\n"
     ]
    },
    {
     "name": "stderr",
     "output_type": "stream",
     "text": [
      "t:   0%|          | 2/960 [27:24<218:50:41, 822.38s/it, now=None]\n",
      "t:   0%|          | 0/1020 [00:00<?, ?it/s, now=None]\n",
      "t:   1%|          | 8/1020 [00:00<00:12, 79.42it/s, now=None]\n",
      "t:  27%|██▋       | 275/1020 [00:00<00:06, 112.02it/s, now=None]\n",
      "t:  53%|█████▎    | 537/1020 [00:00<00:03, 157.13it/s, now=None]\n",
      "t:  78%|███████▊  | 797/1020 [00:00<00:01, 218.76it/s, now=None]\n",
      "                                                                 \r"
     ]
    },
    {
     "name": "stdout",
     "output_type": "stream",
     "text": [
      "Moviepy - Done !\n"
     ]
    },
    {
     "name": "stderr",
     "output_type": "stream",
     "text": [
      "                                                                 \r"
     ]
    },
    {
     "name": "stdout",
     "output_type": "stream",
     "text": [
      "Moviepy - video ready Video cuts collection/Video Segments/P12/music01.mp4\n"
     ]
    },
    {
     "name": "stderr",
     "output_type": "stream",
     "text": [
      "\r",
      "t:   0%|          | 2/960 [27:25<218:55:46, 822.70s/it, now=None]"
     ]
    },
    {
     "name": "stdout",
     "output_type": "stream",
     "text": [
      "times 5\n"
     ]
    },
    {
     "name": "stderr",
     "output_type": "stream",
     "text": [
      "                                                                 \r"
     ]
    },
    {
     "name": "stdout",
     "output_type": "stream",
     "text": [
      "Moviepy - Building video Video cuts collection/Video Segments/P12/music02.mp4.\n"
     ]
    },
    {
     "name": "stderr",
     "output_type": "stream",
     "text": [
      "                                                                 \r"
     ]
    },
    {
     "name": "stdout",
     "output_type": "stream",
     "text": [
      "Moviepy - Writing video Video cuts collection/Video Segments/P12/music02.mp4\n",
      "\n"
     ]
    },
    {
     "name": "stderr",
     "output_type": "stream",
     "text": [
      "t:   0%|          | 2/960 [27:26<219:01:42, 823.07s/it, now=None]\n",
      "t:   0%|          | 0/960 [00:00<?, ?it/s, now=None]\n",
      "t:   0%|          | 3/960 [00:00<00:32, 29.79it/s, now=None]\n",
      "t:  30%|██▉       | 286/960 [00:00<00:15, 42.36it/s, now=None]\n",
      "t:  54%|█████▍    | 523/960 [00:00<00:07, 60.05it/s, now=None]\n",
      "t:  81%|████████  | 776/960 [00:00<00:02, 84.92it/s, now=None]\n",
      "                                                                 \r"
     ]
    },
    {
     "name": "stdout",
     "output_type": "stream",
     "text": [
      "Moviepy - Done !\n"
     ]
    },
    {
     "name": "stderr",
     "output_type": "stream",
     "text": [
      "                                                                 \r"
     ]
    },
    {
     "name": "stdout",
     "output_type": "stream",
     "text": [
      "Moviepy - video ready Video cuts collection/Video Segments/P12/music02.mp4\n"
     ]
    },
    {
     "name": "stderr",
     "output_type": "stream",
     "text": [
      "\r",
      "t:   0%|          | 2/960 [27:26<219:06:38, 823.38s/it, now=None]"
     ]
    },
    {
     "name": "stdout",
     "output_type": "stream",
     "text": [
      "times 6\n"
     ]
    },
    {
     "name": "stderr",
     "output_type": "stream",
     "text": [
      "                                                                 \r"
     ]
    },
    {
     "name": "stdout",
     "output_type": "stream",
     "text": [
      "Moviepy - Building video Video cuts collection/Video Segments/P12/music03.mp4.\n"
     ]
    },
    {
     "name": "stderr",
     "output_type": "stream",
     "text": [
      "                                                                 \r"
     ]
    },
    {
     "name": "stdout",
     "output_type": "stream",
     "text": [
      "Moviepy - Writing video Video cuts collection/Video Segments/P12/music03.mp4\n",
      "\n"
     ]
    },
    {
     "name": "stderr",
     "output_type": "stream",
     "text": [
      "t:   0%|          | 2/960 [27:27<219:12:24, 823.74s/it, now=None]\n",
      "t:   0%|          | 0/930 [00:00<?, ?it/s, now=None]\n",
      "t:   0%|          | 3/930 [00:00<00:32, 28.61it/s, now=None]\n",
      "t:  29%|██▉       | 270/930 [00:00<00:16, 40.68it/s, now=None]\n",
      "t:  60%|██████    | 558/930 [00:00<00:06, 57.76it/s, now=None]\n",
      "t:  91%|█████████ | 843/930 [00:00<00:01, 81.80it/s, now=None]\n",
      "                                                                 \r"
     ]
    },
    {
     "name": "stdout",
     "output_type": "stream",
     "text": [
      "Moviepy - Done !\n"
     ]
    },
    {
     "name": "stderr",
     "output_type": "stream",
     "text": [
      "                                                                 \r"
     ]
    },
    {
     "name": "stdout",
     "output_type": "stream",
     "text": [
      "Moviepy - video ready Video cuts collection/Video Segments/P12/music03.mp4\n"
     ]
    },
    {
     "name": "stderr",
     "output_type": "stream",
     "text": [
      "\r",
      "t:   0%|          | 2/960 [27:28<219:17:14, 824.04s/it, now=None]"
     ]
    },
    {
     "name": "stdout",
     "output_type": "stream",
     "text": [
      "times 7\n"
     ]
    },
    {
     "name": "stderr",
     "output_type": "stream",
     "text": [
      "                                                                 \r"
     ]
    },
    {
     "name": "stdout",
     "output_type": "stream",
     "text": [
      "Moviepy - Building video Video cuts collection/Video Segments/P12/music04.mp4.\n"
     ]
    },
    {
     "name": "stderr",
     "output_type": "stream",
     "text": [
      "                                                                 \r"
     ]
    },
    {
     "name": "stdout",
     "output_type": "stream",
     "text": [
      "Moviepy - Writing video Video cuts collection/Video Segments/P12/music04.mp4\n",
      "\n"
     ]
    },
    {
     "name": "stderr",
     "output_type": "stream",
     "text": [
      "t:   0%|          | 2/960 [27:28<219:23:13, 824.42s/it, now=None]\n",
      "t:   0%|          | 0/960 [00:00<?, ?it/s, now=None]\n",
      "t:   3%|▎         | 28/960 [00:00<00:03, 277.88it/s, now=None]\n",
      "t:  33%|███▎      | 313/960 [00:00<00:01, 380.94it/s, now=None]\n",
      "t:  65%|██████▍   | 621/960 [00:00<00:00, 516.61it/s, now=None]\n",
      "t:  97%|█████████▋| 928/960 [00:00<00:00, 688.04it/s, now=None]\n",
      "                                                                 \r"
     ]
    },
    {
     "name": "stdout",
     "output_type": "stream",
     "text": [
      "Moviepy - Done !\n"
     ]
    },
    {
     "name": "stderr",
     "output_type": "stream",
     "text": [
      "                                                                 \r"
     ]
    },
    {
     "name": "stdout",
     "output_type": "stream",
     "text": [
      "Moviepy - video ready Video cuts collection/Video Segments/P12/music04.mp4\n"
     ]
    },
    {
     "name": "stderr",
     "output_type": "stream",
     "text": [
      "\r",
      "t:   0%|          | 2/960 [27:29<219:27:44, 824.70s/it, now=None]"
     ]
    },
    {
     "name": "stdout",
     "output_type": "stream",
     "text": [
      "df:\n",
      "    a          b          c\n",
      "0  9 1527812183 1527812422\n",
      "1 10 1527812685 1527812961\n",
      "2 11 1527813183 1527813422\n",
      "3 12 1527813591 1527813831\n",
      "4  5 1527813992 1527814209\n",
      "5  6 1527814345 1527814554\n",
      "6  7 1527814662 1527814864\n",
      "7  8 1527814970 1527815180\n",
      "df_correct_time:\n",
      "    music_type  from_minutes  from_seconds  to_minutes  to_seconds  \\\n",
      "0           9             0             0           0          32   \n",
      "1          10             1             7           1          44   \n",
      "2          11             2            13           2          45   \n",
      "3          12             3             8           3          40   \n",
      "4           5             4             1           4          30   \n",
      "5           6             4            48           5          16   \n",
      "6           7             5            31           5          57   \n",
      "7           8             6            12           6          40   \n",
      "\n",
      "   from_total_second  to_total_second  \n",
      "0                  0               32  \n",
      "1                 67              104  \n",
      "2                133              165  \n",
      "3                188              220  \n",
      "4                241              270  \n",
      "5                288              316  \n",
      "6                331              357  \n",
      "7                372              400  \n",
      "times 0\n"
     ]
    },
    {
     "name": "stderr",
     "output_type": "stream",
     "text": [
      "                                                                 \r"
     ]
    },
    {
     "name": "stdout",
     "output_type": "stream",
     "text": [
      "Moviepy - Building video Video cuts collection/Video Segments/P13/music09.mp4.\n"
     ]
    },
    {
     "name": "stderr",
     "output_type": "stream",
     "text": [
      "                                                                 \r"
     ]
    },
    {
     "name": "stdout",
     "output_type": "stream",
     "text": [
      "Moviepy - Writing video Video cuts collection/Video Segments/P13/music09.mp4\n",
      "\n"
     ]
    },
    {
     "name": "stderr",
     "output_type": "stream",
     "text": [
      "t:   0%|          | 2/960 [27:30<219:35:11, 825.17s/it, now=None]\n",
      "t:   0%|          | 0/900 [00:00<?, ?it/s, now=None]\n",
      "t:   0%|          | 3/900 [00:00<00:30, 29.20it/s, now=None]\n",
      "t:  30%|██▉       | 269/900 [00:00<00:15, 41.52it/s, now=None]\n",
      "t:  63%|██████▎   | 571/900 [00:00<00:05, 58.97it/s, now=None]\n",
      "t:  96%|█████████▋| 868/900 [00:00<00:00, 83.53it/s, now=None]\n",
      "                                                                 \r"
     ]
    },
    {
     "name": "stdout",
     "output_type": "stream",
     "text": [
      "Moviepy - Done !\n"
     ]
    },
    {
     "name": "stderr",
     "output_type": "stream",
     "text": [
      "                                                                 \r"
     ]
    },
    {
     "name": "stdout",
     "output_type": "stream",
     "text": [
      "Moviepy - video ready Video cuts collection/Video Segments/P13/music09.mp4\n"
     ]
    },
    {
     "name": "stderr",
     "output_type": "stream",
     "text": [
      "\r",
      "t:   0%|          | 2/960 [27:30<219:39:42, 825.45s/it, now=None]"
     ]
    },
    {
     "name": "stdout",
     "output_type": "stream",
     "text": [
      "times 1\n"
     ]
    },
    {
     "name": "stderr",
     "output_type": "stream",
     "text": [
      "                                                                 \r"
     ]
    },
    {
     "name": "stdout",
     "output_type": "stream",
     "text": [
      "Moviepy - Building video Video cuts collection/Video Segments/P13/music10.mp4.\n"
     ]
    },
    {
     "name": "stderr",
     "output_type": "stream",
     "text": [
      "                                                                 \r"
     ]
    },
    {
     "name": "stdout",
     "output_type": "stream",
     "text": [
      "Moviepy - Writing video Video cuts collection/Video Segments/P13/music10.mp4\n",
      "\n"
     ]
    },
    {
     "name": "stderr",
     "output_type": "stream",
     "text": [
      "t:   0%|          | 2/960 [27:31<219:45:43, 825.83s/it, now=None]\n",
      "t:   0%|          | 0/1110 [00:00<?, ?it/s, now=None]\n",
      "t:   2%|▏         | 20/1110 [00:00<00:05, 198.55it/s, now=None]\n",
      "t:  27%|██▋       | 299/1110 [00:00<00:02, 275.19it/s, now=None]\n",
      "t:  55%|█████▍    | 605/1110 [00:00<00:01, 378.44it/s, now=None]\n",
      "t:  81%|████████  | 896/1110 [00:00<00:00, 511.89it/s, now=None]\n",
      "                                                                 \r"
     ]
    },
    {
     "name": "stdout",
     "output_type": "stream",
     "text": [
      "Moviepy - Done !\n"
     ]
    },
    {
     "name": "stderr",
     "output_type": "stream",
     "text": [
      "                                                                 \r"
     ]
    },
    {
     "name": "stdout",
     "output_type": "stream",
     "text": [
      "Moviepy - video ready Video cuts collection/Video Segments/P13/music10.mp4\n"
     ]
    },
    {
     "name": "stderr",
     "output_type": "stream",
     "text": [
      "\r",
      "t:   0%|          | 2/960 [27:32<219:50:40, 826.14s/it, now=None]"
     ]
    },
    {
     "name": "stdout",
     "output_type": "stream",
     "text": [
      "times 2\n"
     ]
    },
    {
     "name": "stderr",
     "output_type": "stream",
     "text": [
      "                                                                 \r"
     ]
    },
    {
     "name": "stdout",
     "output_type": "stream",
     "text": [
      "Moviepy - Building video Video cuts collection/Video Segments/P13/music11.mp4.\n"
     ]
    },
    {
     "name": "stderr",
     "output_type": "stream",
     "text": [
      "                                                                 \r"
     ]
    },
    {
     "name": "stdout",
     "output_type": "stream",
     "text": [
      "Moviepy - Writing video Video cuts collection/Video Segments/P13/music11.mp4\n",
      "\n"
     ]
    },
    {
     "name": "stderr",
     "output_type": "stream",
     "text": [
      "t:   0%|          | 2/960 [27:32<219:56:23, 826.50s/it, now=None]\n",
      "t:   0%|          | 0/960 [00:00<?, ?it/s, now=None]\n",
      "t:   3%|▎         | 26/960 [00:00<00:03, 258.57it/s, now=None]\n",
      "t:  33%|███▎      | 314/960 [00:00<00:01, 355.61it/s, now=None]\n",
      "t:  58%|█████▊    | 554/960 [00:00<00:00, 477.23it/s, now=None]\n",
      "t:  83%|████████▎ | 794/960 [00:00<00:00, 628.06it/s, now=None]\n",
      "                                                                 \r"
     ]
    },
    {
     "name": "stdout",
     "output_type": "stream",
     "text": [
      "Moviepy - Done !\n"
     ]
    },
    {
     "name": "stderr",
     "output_type": "stream",
     "text": [
      "                                                                 \r"
     ]
    },
    {
     "name": "stdout",
     "output_type": "stream",
     "text": [
      "Moviepy - video ready Video cuts collection/Video Segments/P13/music11.mp4\n"
     ]
    },
    {
     "name": "stderr",
     "output_type": "stream",
     "text": [
      "\r",
      "t:   0%|          | 2/960 [27:33<220:01:29, 826.82s/it, now=None]"
     ]
    },
    {
     "name": "stdout",
     "output_type": "stream",
     "text": [
      "times 3\n"
     ]
    },
    {
     "name": "stderr",
     "output_type": "stream",
     "text": [
      "                                                                 \r"
     ]
    },
    {
     "name": "stdout",
     "output_type": "stream",
     "text": [
      "Moviepy - Building video Video cuts collection/Video Segments/P13/music12.mp4.\n"
     ]
    },
    {
     "name": "stderr",
     "output_type": "stream",
     "text": [
      "                                                                 \r"
     ]
    },
    {
     "name": "stdout",
     "output_type": "stream",
     "text": [
      "Moviepy - Writing video Video cuts collection/Video Segments/P13/music12.mp4\n",
      "\n"
     ]
    },
    {
     "name": "stderr",
     "output_type": "stream",
     "text": [
      "t:   0%|          | 2/960 [27:34<220:07:12, 827.17s/it, now=None]\n",
      "t:   0%|          | 0/960 [00:00<?, ?it/s, now=None]\n",
      "t:   3%|▎         | 27/960 [00:00<00:03, 267.95it/s, now=None]\n",
      "t:  32%|███▏      | 311/960 [00:00<00:01, 367.82it/s, now=None]\n",
      "t:  64%|██████▍   | 616/960 [00:00<00:00, 499.45it/s, now=None]\n",
      "t:  96%|█████████▋| 925/960 [00:00<00:00, 666.96it/s, now=None]\n",
      "                                                                 \r"
     ]
    },
    {
     "name": "stdout",
     "output_type": "stream",
     "text": [
      "Moviepy - Done !\n"
     ]
    },
    {
     "name": "stderr",
     "output_type": "stream",
     "text": [
      "                                                                 \r"
     ]
    },
    {
     "name": "stdout",
     "output_type": "stream",
     "text": [
      "Moviepy - video ready Video cuts collection/Video Segments/P13/music12.mp4\n"
     ]
    },
    {
     "name": "stderr",
     "output_type": "stream",
     "text": [
      "\r",
      "t:   0%|          | 2/960 [27:34<220:11:40, 827.45s/it, now=None]"
     ]
    },
    {
     "name": "stdout",
     "output_type": "stream",
     "text": [
      "times 4\n"
     ]
    },
    {
     "name": "stderr",
     "output_type": "stream",
     "text": [
      "                                                                 \r"
     ]
    },
    {
     "name": "stdout",
     "output_type": "stream",
     "text": [
      "Moviepy - Building video Video cuts collection/Video Segments/P13/music05.mp4.\n"
     ]
    },
    {
     "name": "stderr",
     "output_type": "stream",
     "text": [
      "                                                                 \r"
     ]
    },
    {
     "name": "stdout",
     "output_type": "stream",
     "text": [
      "Moviepy - Writing video Video cuts collection/Video Segments/P13/music05.mp4\n",
      "\n"
     ]
    },
    {
     "name": "stderr",
     "output_type": "stream",
     "text": [
      "t:   0%|          | 2/960 [27:35<220:17:20, 827.81s/it, now=None]\n",
      "t:   0%|          | 0/870 [00:00<?, ?it/s, now=None]\n",
      "t:   2%|▏         | 19/870 [00:00<00:04, 188.71it/s, now=None]\n",
      "t:  32%|███▏      | 282/870 [00:00<00:02, 261.50it/s, now=None]\n",
      "t:  67%|██████▋   | 587/870 [00:00<00:00, 360.24it/s, now=None]\n",
      "                                                                 \r"
     ]
    },
    {
     "name": "stdout",
     "output_type": "stream",
     "text": [
      "Moviepy - Done !\n"
     ]
    },
    {
     "name": "stderr",
     "output_type": "stream",
     "text": [
      "                                                                 \r"
     ]
    },
    {
     "name": "stdout",
     "output_type": "stream",
     "text": [
      "Moviepy - video ready Video cuts collection/Video Segments/P13/music05.mp4\n"
     ]
    },
    {
     "name": "stderr",
     "output_type": "stream",
     "text": [
      "\r",
      "t:   0%|          | 2/960 [27:36<220:21:47, 828.09s/it, now=None]"
     ]
    },
    {
     "name": "stdout",
     "output_type": "stream",
     "text": [
      "times 5\n"
     ]
    },
    {
     "name": "stderr",
     "output_type": "stream",
     "text": [
      "                                                                 \r"
     ]
    },
    {
     "name": "stdout",
     "output_type": "stream",
     "text": [
      "Moviepy - Building video Video cuts collection/Video Segments/P13/music06.mp4.\n"
     ]
    },
    {
     "name": "stderr",
     "output_type": "stream",
     "text": [
      "                                                                 \r"
     ]
    },
    {
     "name": "stdout",
     "output_type": "stream",
     "text": [
      "Moviepy - Writing video Video cuts collection/Video Segments/P13/music06.mp4\n",
      "\n"
     ]
    },
    {
     "name": "stderr",
     "output_type": "stream",
     "text": [
      "t:   0%|          | 2/960 [27:36<220:27:30, 828.45s/it, now=None]\n",
      "t:   0%|          | 0/840 [00:00<?, ?it/s, now=None]\n",
      "t:   2%|▏         | 20/840 [00:00<00:04, 198.55it/s, now=None]\n",
      "t:  36%|███▌      | 304/840 [00:00<00:01, 275.33it/s, now=None]\n",
      "t:  72%|███████▏  | 605/840 [00:00<00:00, 378.39it/s, now=None]\n",
      "                                                                 \r"
     ]
    },
    {
     "name": "stdout",
     "output_type": "stream",
     "text": [
      "Moviepy - Done !\n"
     ]
    },
    {
     "name": "stderr",
     "output_type": "stream",
     "text": [
      "                                                                 \r"
     ]
    },
    {
     "name": "stdout",
     "output_type": "stream",
     "text": [
      "Moviepy - video ready Video cuts collection/Video Segments/P13/music06.mp4\n"
     ]
    },
    {
     "name": "stderr",
     "output_type": "stream",
     "text": [
      "\r",
      "t:   0%|          | 2/960 [27:37<220:31:35, 828.70s/it, now=None]"
     ]
    },
    {
     "name": "stdout",
     "output_type": "stream",
     "text": [
      "times 6\n"
     ]
    },
    {
     "name": "stderr",
     "output_type": "stream",
     "text": [
      "                                                                 \r"
     ]
    },
    {
     "name": "stdout",
     "output_type": "stream",
     "text": [
      "Moviepy - Building video Video cuts collection/Video Segments/P13/music07.mp4.\n"
     ]
    },
    {
     "name": "stderr",
     "output_type": "stream",
     "text": [
      "                                                                 \r"
     ]
    },
    {
     "name": "stdout",
     "output_type": "stream",
     "text": [
      "Moviepy - Writing video Video cuts collection/Video Segments/P13/music07.mp4\n",
      "\n"
     ]
    },
    {
     "name": "stderr",
     "output_type": "stream",
     "text": [
      "t:   0%|          | 2/960 [27:38<220:37:23, 829.06s/it, now=None]\n",
      "t:   0%|          | 0/780 [00:00<?, ?it/s, now=None]\n",
      "t:   2%|▏         | 16/780 [00:00<00:04, 159.45it/s, now=None]\n",
      "t:  39%|███▉      | 304/780 [00:00<00:02, 222.47it/s, now=None]\n",
      "t:  76%|███████▌  | 594/780 [00:00<00:00, 307.66it/s, now=None]\n",
      "                                                                 \r"
     ]
    },
    {
     "name": "stdout",
     "output_type": "stream",
     "text": [
      "Moviepy - Done !\n"
     ]
    },
    {
     "name": "stderr",
     "output_type": "stream",
     "text": [
      "                                                                 \r"
     ]
    },
    {
     "name": "stdout",
     "output_type": "stream",
     "text": [
      "Moviepy - video ready Video cuts collection/Video Segments/P13/music07.mp4\n"
     ]
    },
    {
     "name": "stderr",
     "output_type": "stream",
     "text": [
      "\r",
      "t:   0%|          | 2/960 [27:38<220:42:24, 829.38s/it, now=None]"
     ]
    },
    {
     "name": "stdout",
     "output_type": "stream",
     "text": [
      "times 7\n"
     ]
    },
    {
     "name": "stderr",
     "output_type": "stream",
     "text": [
      "                                                                 \r"
     ]
    },
    {
     "name": "stdout",
     "output_type": "stream",
     "text": [
      "Moviepy - Building video Video cuts collection/Video Segments/P13/music08.mp4.\n"
     ]
    },
    {
     "name": "stderr",
     "output_type": "stream",
     "text": [
      "                                                                 \r"
     ]
    },
    {
     "name": "stdout",
     "output_type": "stream",
     "text": [
      "Moviepy - Writing video Video cuts collection/Video Segments/P13/music08.mp4\n",
      "\n"
     ]
    },
    {
     "name": "stderr",
     "output_type": "stream",
     "text": [
      "t:   0%|          | 2/960 [27:39<220:47:53, 829.72s/it, now=None]\n",
      "t:   0%|          | 0/840 [00:00<?, ?it/s, now=None]\n",
      "t:   0%|          | 3/840 [00:00<00:28, 29.70it/s, now=None]\n",
      "t:  33%|███▎      | 276/840 [00:00<00:13, 42.23it/s, now=None]\n",
      "t:  68%|██████▊   | 571/840 [00:00<00:04, 59.95it/s, now=None]\n",
      "                                                                 \r"
     ]
    },
    {
     "name": "stdout",
     "output_type": "stream",
     "text": [
      "Moviepy - Done !\n"
     ]
    },
    {
     "name": "stderr",
     "output_type": "stream",
     "text": [
      "                                                                 \r"
     ]
    },
    {
     "name": "stdout",
     "output_type": "stream",
     "text": [
      "Moviepy - video ready Video cuts collection/Video Segments/P13/music08.mp4\n"
     ]
    },
    {
     "name": "stderr",
     "output_type": "stream",
     "text": [
      "\r",
      "t:   0%|          | 2/960 [27:40<220:52:50, 830.03s/it, now=None]"
     ]
    },
    {
     "name": "stdout",
     "output_type": "stream",
     "text": [
      "df:\n",
      "    a          b          c\n",
      "0  1 1527828172 1527828429\n",
      "1  2 1527828546 1527828791\n",
      "2  3 1527828893 1527829126\n",
      "3  4 1527829233 1527829474\n",
      "4  5 1527829540 1527829757\n",
      "5  6 1527829835 1527830044\n",
      "6  7 1527830135 1527830337\n",
      "7  8 1527830419 1527830629\n",
      "df_correct_time:\n",
      "    music_type  from_minutes  from_seconds  to_minutes  to_seconds  \\\n",
      "0           1             0             0           0          34   \n",
      "1           2             0            50           1          23   \n",
      "2           3             1            36           2           7   \n",
      "3           4             2            21           2          54   \n",
      "4           5             3             2           3          31   \n",
      "5           6             3            42           4          10   \n",
      "6           7             4            22           4          49   \n",
      "7           8             5             0           5          28   \n",
      "\n",
      "   from_total_second  to_total_second  \n",
      "0                  0               34  \n",
      "1                 50               83  \n",
      "2                 96              127  \n",
      "3                141              174  \n",
      "4                182              211  \n",
      "5                222              250  \n",
      "6                262              289  \n",
      "7                300              328  \n",
      "times 0\n"
     ]
    },
    {
     "name": "stderr",
     "output_type": "stream",
     "text": [
      "                                                                 \r"
     ]
    },
    {
     "name": "stdout",
     "output_type": "stream",
     "text": [
      "Moviepy - Building video Video cuts collection/Video Segments/P14/music01.mp4.\n"
     ]
    },
    {
     "name": "stderr",
     "output_type": "stream",
     "text": [
      "                                                                 \r"
     ]
    },
    {
     "name": "stdout",
     "output_type": "stream",
     "text": [
      "Moviepy - Writing video Video cuts collection/Video Segments/P14/music01.mp4\n",
      "\n"
     ]
    },
    {
     "name": "stderr",
     "output_type": "stream",
     "text": [
      "t:   0%|          | 2/960 [27:40<220:59:31, 830.45s/it, now=None]\n",
      "t:   0%|          | 0/960 [00:00<?, ?it/s, now=None]\n",
      "t:   2%|▏         | 17/960 [00:00<00:05, 168.77it/s, now=None]\n",
      "t:  31%|███       | 296/960 [00:00<00:02, 234.96it/s, now=None]\n",
      "t:  62%|██████▏   | 598/960 [00:00<00:01, 324.75it/s, now=None]\n",
      "t:  91%|█████████ | 870/960 [00:00<00:00, 441.19it/s, now=None]\n",
      "                                                                 \r"
     ]
    },
    {
     "name": "stdout",
     "output_type": "stream",
     "text": [
      "Moviepy - Done !\n"
     ]
    },
    {
     "name": "stderr",
     "output_type": "stream",
     "text": [
      "                                                                 \r"
     ]
    },
    {
     "name": "stdout",
     "output_type": "stream",
     "text": [
      "Moviepy - video ready Video cuts collection/Video Segments/P14/music01.mp4\n"
     ]
    },
    {
     "name": "stderr",
     "output_type": "stream",
     "text": [
      "\r",
      "t:   0%|          | 2/960 [27:41<221:04:18, 830.75s/it, now=None]"
     ]
    },
    {
     "name": "stdout",
     "output_type": "stream",
     "text": [
      "times 1\n"
     ]
    },
    {
     "name": "stderr",
     "output_type": "stream",
     "text": [
      "                                                                 \r"
     ]
    },
    {
     "name": "stdout",
     "output_type": "stream",
     "text": [
      "Moviepy - Building video Video cuts collection/Video Segments/P14/music02.mp4.\n"
     ]
    },
    {
     "name": "stderr",
     "output_type": "stream",
     "text": [
      "                                                                 \r"
     ]
    },
    {
     "name": "stdout",
     "output_type": "stream",
     "text": [
      "Moviepy - Writing video Video cuts collection/Video Segments/P14/music02.mp4\n",
      "\n"
     ]
    },
    {
     "name": "stderr",
     "output_type": "stream",
     "text": [
      "t:   0%|          | 2/960 [27:42<221:10:01, 831.11s/it, now=None]\n",
      "t:   0%|          | 0/990 [00:00<?, ?it/s, now=None]\n",
      "t:   3%|▎         | 30/990 [00:00<00:03, 297.28it/s, now=None]\n",
      "t:  32%|███▏      | 312/990 [00:00<00:01, 406.19it/s, now=None]\n",
      "t:  62%|██████▏   | 612/990 [00:00<00:00, 548.36it/s, now=None]\n",
      "t:  90%|████████▉ | 890/990 [00:00<00:00, 722.16it/s, now=None]\n",
      "                                                                 \r"
     ]
    },
    {
     "name": "stdout",
     "output_type": "stream",
     "text": [
      "Moviepy - Done !\n"
     ]
    },
    {
     "name": "stderr",
     "output_type": "stream",
     "text": [
      "                                                                 \r"
     ]
    },
    {
     "name": "stdout",
     "output_type": "stream",
     "text": [
      "Moviepy - video ready Video cuts collection/Video Segments/P14/music02.mp4\n"
     ]
    },
    {
     "name": "stderr",
     "output_type": "stream",
     "text": [
      "\r",
      "t:   0%|          | 2/960 [27:42<221:14:43, 831.40s/it, now=None]"
     ]
    },
    {
     "name": "stdout",
     "output_type": "stream",
     "text": [
      "times 2\n"
     ]
    },
    {
     "name": "stderr",
     "output_type": "stream",
     "text": [
      "                                                                 \r"
     ]
    },
    {
     "name": "stdout",
     "output_type": "stream",
     "text": [
      "Moviepy - Building video Video cuts collection/Video Segments/P14/music03.mp4.\n"
     ]
    },
    {
     "name": "stderr",
     "output_type": "stream",
     "text": [
      "                                                                 \r"
     ]
    },
    {
     "name": "stdout",
     "output_type": "stream",
     "text": [
      "Moviepy - Writing video Video cuts collection/Video Segments/P14/music03.mp4\n",
      "\n"
     ]
    },
    {
     "name": "stderr",
     "output_type": "stream",
     "text": [
      "t:   0%|          | 2/960 [27:43<221:20:36, 831.77s/it, now=None]\n",
      "t:   0%|          | 0/930 [00:00<?, ?it/s, now=None]\n",
      "t:   1%|▏         | 13/930 [00:00<00:07, 129.06it/s, now=None]\n",
      "t:  27%|██▋       | 253/930 [00:00<00:03, 180.18it/s, now=None]\n",
      "t:  54%|█████▎    | 498/930 [00:00<00:01, 249.49it/s, now=None]\n",
      "t:  81%|████████  | 749/930 [00:00<00:00, 341.74it/s, now=None]\n",
      "                                                                 \r"
     ]
    },
    {
     "name": "stdout",
     "output_type": "stream",
     "text": [
      "Moviepy - Done !\n"
     ]
    },
    {
     "name": "stderr",
     "output_type": "stream",
     "text": [
      "                                                                 \r"
     ]
    },
    {
     "name": "stdout",
     "output_type": "stream",
     "text": [
      "Moviepy - video ready Video cuts collection/Video Segments/P14/music03.mp4\n"
     ]
    },
    {
     "name": "stderr",
     "output_type": "stream",
     "text": [
      "\r",
      "t:   0%|          | 2/960 [27:44<221:25:24, 832.07s/it, now=None]"
     ]
    },
    {
     "name": "stdout",
     "output_type": "stream",
     "text": [
      "times 3\n"
     ]
    },
    {
     "name": "stderr",
     "output_type": "stream",
     "text": [
      "                                                                 \r"
     ]
    },
    {
     "name": "stdout",
     "output_type": "stream",
     "text": [
      "Moviepy - Building video Video cuts collection/Video Segments/P14/music04.mp4.\n"
     ]
    },
    {
     "name": "stderr",
     "output_type": "stream",
     "text": [
      "                                                                 \r"
     ]
    },
    {
     "name": "stdout",
     "output_type": "stream",
     "text": [
      "Moviepy - Writing video Video cuts collection/Video Segments/P14/music04.mp4\n",
      "\n"
     ]
    },
    {
     "name": "stderr",
     "output_type": "stream",
     "text": [
      "t:   0%|          | 2/960 [27:44<221:31:16, 832.44s/it, now=None]\n",
      "t:   0%|          | 0/990 [00:00<?, ?it/s, now=None]\n",
      "t:   0%|          | 3/990 [00:00<00:33, 29.78it/s, now=None]\n",
      "t:  28%|██▊       | 282/990 [00:00<00:16, 42.35it/s, now=None]\n",
      "t:  56%|█████▌    | 554/990 [00:00<00:07, 60.10it/s, now=None]\n",
      "t:  83%|████████▎ | 821/990 [00:00<00:01, 85.03it/s, now=None]\n",
      "                                                                 \r"
     ]
    },
    {
     "name": "stdout",
     "output_type": "stream",
     "text": [
      "Moviepy - Done !\n"
     ]
    },
    {
     "name": "stderr",
     "output_type": "stream",
     "text": [
      "                                                                 \r"
     ]
    },
    {
     "name": "stdout",
     "output_type": "stream",
     "text": [
      "Moviepy - video ready Video cuts collection/Video Segments/P14/music04.mp4\n"
     ]
    },
    {
     "name": "stderr",
     "output_type": "stream",
     "text": [
      "\r",
      "t:   0%|          | 2/960 [27:45<221:36:24, 832.76s/it, now=None]"
     ]
    },
    {
     "name": "stdout",
     "output_type": "stream",
     "text": [
      "times 4\n"
     ]
    },
    {
     "name": "stderr",
     "output_type": "stream",
     "text": [
      "                                                                 \r"
     ]
    },
    {
     "name": "stdout",
     "output_type": "stream",
     "text": [
      "Moviepy - Building video Video cuts collection/Video Segments/P14/music05.mp4.\n"
     ]
    },
    {
     "name": "stderr",
     "output_type": "stream",
     "text": [
      "                                                                 \r"
     ]
    },
    {
     "name": "stdout",
     "output_type": "stream",
     "text": [
      "Moviepy - Writing video Video cuts collection/Video Segments/P14/music05.mp4\n",
      "\n"
     ]
    },
    {
     "name": "stderr",
     "output_type": "stream",
     "text": [
      "t:   0%|          | 2/960 [27:46<221:41:59, 833.11s/it, now=None]\n",
      "t:   0%|          | 0/870 [00:00<?, ?it/s, now=None]\n",
      "t:   1%|▏         | 12/870 [00:00<00:07, 119.13it/s, now=None]\n",
      "t:  33%|███▎      | 284/870 [00:00<00:03, 167.03it/s, now=None]\n",
      "t:  64%|██████▎   | 554/870 [00:00<00:01, 232.40it/s, now=None]\n",
      "t:  94%|█████████▎| 814/870 [00:00<00:00, 319.73it/s, now=None]\n",
      "                                                                 \r"
     ]
    },
    {
     "name": "stdout",
     "output_type": "stream",
     "text": [
      "Moviepy - Done !\n"
     ]
    },
    {
     "name": "stderr",
     "output_type": "stream",
     "text": [
      "                                                                 \r"
     ]
    },
    {
     "name": "stdout",
     "output_type": "stream",
     "text": [
      "Moviepy - video ready Video cuts collection/Video Segments/P14/music05.mp4\n"
     ]
    },
    {
     "name": "stderr",
     "output_type": "stream",
     "text": [
      "\r",
      "t:   0%|          | 2/960 [27:46<221:46:36, 833.40s/it, now=None]"
     ]
    },
    {
     "name": "stdout",
     "output_type": "stream",
     "text": [
      "times 5\n"
     ]
    },
    {
     "name": "stderr",
     "output_type": "stream",
     "text": [
      "                                                                 \r"
     ]
    },
    {
     "name": "stdout",
     "output_type": "stream",
     "text": [
      "Moviepy - Building video Video cuts collection/Video Segments/P14/music06.mp4.\n"
     ]
    },
    {
     "name": "stderr",
     "output_type": "stream",
     "text": [
      "                                                                 \r"
     ]
    },
    {
     "name": "stdout",
     "output_type": "stream",
     "text": [
      "Moviepy - Writing video Video cuts collection/Video Segments/P14/music06.mp4\n",
      "\n"
     ]
    },
    {
     "name": "stderr",
     "output_type": "stream",
     "text": [
      "t:   0%|          | 2/960 [27:47<221:51:51, 833.73s/it, now=None]\n",
      "t:   0%|          | 0/840 [00:00<?, ?it/s, now=None]\n",
      "t:   2%|▏         | 16/840 [00:00<00:05, 158.79it/s, now=None]\n",
      "t:  36%|███▌      | 299/840 [00:00<00:02, 221.48it/s, now=None]\n",
      "t:  69%|██████▉   | 580/840 [00:00<00:00, 305.99it/s, now=None]\n",
      "                                                                 \r"
     ]
    },
    {
     "name": "stdout",
     "output_type": "stream",
     "text": [
      "Moviepy - Done !\n"
     ]
    },
    {
     "name": "stderr",
     "output_type": "stream",
     "text": [
      "                                                                 \r"
     ]
    },
    {
     "name": "stdout",
     "output_type": "stream",
     "text": [
      "Moviepy - video ready Video cuts collection/Video Segments/P14/music06.mp4\n"
     ]
    },
    {
     "name": "stderr",
     "output_type": "stream",
     "text": [
      "\r",
      "t:   0%|          | 2/960 [27:47<221:56:03, 833.99s/it, now=None]"
     ]
    },
    {
     "name": "stdout",
     "output_type": "stream",
     "text": [
      "times 6\n"
     ]
    },
    {
     "name": "stderr",
     "output_type": "stream",
     "text": [
      "                                                                 \r"
     ]
    },
    {
     "name": "stdout",
     "output_type": "stream",
     "text": [
      "Moviepy - Building video Video cuts collection/Video Segments/P14/music07.mp4.\n"
     ]
    },
    {
     "name": "stderr",
     "output_type": "stream",
     "text": [
      "                                                                 \r"
     ]
    },
    {
     "name": "stdout",
     "output_type": "stream",
     "text": [
      "Moviepy - Writing video Video cuts collection/Video Segments/P14/music07.mp4\n",
      "\n"
     ]
    },
    {
     "name": "stderr",
     "output_type": "stream",
     "text": [
      "t:   0%|          | 2/960 [27:48<222:01:09, 834.31s/it, now=None]\n",
      "t:   0%|          | 0/810 [00:00<?, ?it/s, now=None]\n",
      "t:   2%|▏         | 13/810 [00:00<00:06, 129.46it/s, now=None]\n",
      "t:  35%|███▍      | 283/810 [00:00<00:02, 181.18it/s, now=None]\n",
      "t:  67%|██████▋   | 543/810 [00:00<00:01, 251.27it/s, now=None]\n",
      "t: 100%|██████████| 810/810 [00:00<00:00, 344.95it/s, now=None]\n",
      "                                                                 \r"
     ]
    },
    {
     "name": "stdout",
     "output_type": "stream",
     "text": [
      "Moviepy - Done !\n"
     ]
    },
    {
     "name": "stderr",
     "output_type": "stream",
     "text": [
      "                                                                 \r"
     ]
    },
    {
     "name": "stdout",
     "output_type": "stream",
     "text": [
      "Moviepy - video ready Video cuts collection/Video Segments/P14/music07.mp4\n"
     ]
    },
    {
     "name": "stderr",
     "output_type": "stream",
     "text": [
      "\r",
      "t:   0%|          | 2/960 [27:49<222:05:29, 834.58s/it, now=None]"
     ]
    },
    {
     "name": "stdout",
     "output_type": "stream",
     "text": [
      "times 7\n"
     ]
    },
    {
     "name": "stderr",
     "output_type": "stream",
     "text": [
      "                                                                 \r"
     ]
    },
    {
     "name": "stdout",
     "output_type": "stream",
     "text": [
      "Moviepy - Building video Video cuts collection/Video Segments/P14/music08.mp4.\n"
     ]
    },
    {
     "name": "stderr",
     "output_type": "stream",
     "text": [
      "                                                                 \r"
     ]
    },
    {
     "name": "stdout",
     "output_type": "stream",
     "text": [
      "Moviepy - Writing video Video cuts collection/Video Segments/P14/music08.mp4\n",
      "\n"
     ]
    },
    {
     "name": "stderr",
     "output_type": "stream",
     "text": [
      "t:   0%|          | 2/960 [27:49<222:10:40, 834.91s/it, now=None]\n",
      "t:   0%|          | 0/840 [00:00<?, ?it/s, now=None]\n",
      "t:   0%|          | 3/840 [00:00<00:28, 29.78it/s, now=None]\n",
      "t:  32%|███▏      | 265/840 [00:00<00:13, 42.34it/s, now=None]\n",
      "t:  63%|██████▎   | 533/840 [00:00<00:05, 60.07it/s, now=None]\n",
      "t:  96%|█████████▌| 806/840 [00:00<00:00, 85.01it/s, now=None]\n",
      "                                                                 \r"
     ]
    },
    {
     "name": "stdout",
     "output_type": "stream",
     "text": [
      "Moviepy - Done !\n"
     ]
    },
    {
     "name": "stderr",
     "output_type": "stream",
     "text": [
      "                                                                 \r"
     ]
    },
    {
     "name": "stdout",
     "output_type": "stream",
     "text": [
      "Moviepy - video ready Video cuts collection/Video Segments/P14/music08.mp4\n"
     ]
    },
    {
     "name": "stderr",
     "output_type": "stream",
     "text": [
      "\r",
      "t:   0%|          | 2/960 [27:50<222:15:09, 835.19s/it, now=None]"
     ]
    },
    {
     "name": "stdout",
     "output_type": "stream",
     "text": [
      "df:\n",
      "    a          b          c\n",
      "0  1 1527902610 1527902867\n",
      "1  2 1527903071 1527903316\n",
      "2  3 1527903433 1527903666\n",
      "3  4 1527903837 1527904078\n",
      "4  9 1527904181 1527904420\n",
      "5 10 1527904523 1527904799\n",
      "6 11 1527904921 1527905160\n",
      "7 12 1527905279 1527905519\n",
      "df_correct_time:\n",
      "    music_type  from_minutes  from_seconds  to_minutes  to_seconds  \\\n",
      "0           1             0             0           0          34   \n",
      "1           2             1             1           1          34   \n",
      "2           3             1            50           2          21   \n",
      "3           4             2            44           3          16   \n",
      "4           9             3            29           4           1   \n",
      "5          10             4            15           4          52   \n",
      "6          11             5             8           5          40   \n",
      "7          12             5            56           6          28   \n",
      "\n",
      "   from_total_second  to_total_second  \n",
      "0                  0               34  \n",
      "1                 61               94  \n",
      "2                110              141  \n",
      "3                164              196  \n",
      "4                209              241  \n",
      "5                255              292  \n",
      "6                308              340  \n",
      "7                356              388  \n",
      "times 0\n"
     ]
    },
    {
     "name": "stderr",
     "output_type": "stream",
     "text": [
      "                                                                 \r"
     ]
    },
    {
     "name": "stdout",
     "output_type": "stream",
     "text": [
      "Moviepy - Building video Video cuts collection/Video Segments/P15/music01.mp4.\n"
     ]
    },
    {
     "name": "stderr",
     "output_type": "stream",
     "text": [
      "                                                                 \r"
     ]
    },
    {
     "name": "stdout",
     "output_type": "stream",
     "text": [
      "Moviepy - Writing video Video cuts collection/Video Segments/P15/music01.mp4\n",
      "\n"
     ]
    },
    {
     "name": "stderr",
     "output_type": "stream",
     "text": [
      "t:   0%|          | 2/960 [27:51<222:21:35, 835.59s/it, now=None]\n",
      "t:   0%|          | 0/960 [00:00<?, ?it/s, now=None]\n",
      "t:   3%|▎         | 25/960 [00:00<00:03, 249.36it/s, now=None]\n",
      "t:  33%|███▎      | 313/960 [00:00<00:01, 343.40it/s, now=None]\n",
      "t:  65%|██████▌   | 624/960 [00:00<00:00, 468.25it/s, now=None]\n",
      "t:  98%|█████████▊| 937/960 [00:00<00:00, 628.35it/s, now=None]\n",
      "                                                                 \r"
     ]
    },
    {
     "name": "stdout",
     "output_type": "stream",
     "text": [
      "Moviepy - Done !\n"
     ]
    },
    {
     "name": "stderr",
     "output_type": "stream",
     "text": [
      "                                                                 \r"
     ]
    },
    {
     "name": "stdout",
     "output_type": "stream",
     "text": [
      "Moviepy - video ready Video cuts collection/Video Segments/P15/music01.mp4\n"
     ]
    },
    {
     "name": "stderr",
     "output_type": "stream",
     "text": [
      "\r",
      "t:   0%|          | 2/960 [27:51<222:25:53, 835.86s/it, now=None]"
     ]
    },
    {
     "name": "stdout",
     "output_type": "stream",
     "text": [
      "times 1\n"
     ]
    },
    {
     "name": "stderr",
     "output_type": "stream",
     "text": [
      "                                                                 \r"
     ]
    },
    {
     "name": "stdout",
     "output_type": "stream",
     "text": [
      "Moviepy - Building video Video cuts collection/Video Segments/P15/music02.mp4.\n"
     ]
    },
    {
     "name": "stderr",
     "output_type": "stream",
     "text": [
      "                                                                 \r"
     ]
    },
    {
     "name": "stdout",
     "output_type": "stream",
     "text": [
      "Moviepy - Writing video Video cuts collection/Video Segments/P15/music02.mp4\n",
      "\n"
     ]
    },
    {
     "name": "stderr",
     "output_type": "stream",
     "text": [
      "t:   0%|          | 2/960 [27:52<222:31:01, 836.18s/it, now=None]\n",
      "t:   0%|          | 0/990 [00:00<?, ?it/s, now=None]\n",
      "t:   5%|▍         | 48/990 [00:00<00:01, 471.85it/s, now=None]\n",
      "t:  34%|███▍      | 335/990 [00:00<00:01, 629.40it/s, now=None]\n",
      "t:  62%|██████▏   | 616/990 [00:00<00:00, 819.86it/s, now=None]\n",
      "t:  94%|█████████▎| 926/990 [00:00<00:00, 1051.21it/s, now=None]\n",
      "                                                                 \r"
     ]
    },
    {
     "name": "stdout",
     "output_type": "stream",
     "text": [
      "Moviepy - Done !\n"
     ]
    },
    {
     "name": "stderr",
     "output_type": "stream",
     "text": [
      "                                                                 \r"
     ]
    },
    {
     "name": "stdout",
     "output_type": "stream",
     "text": [
      "Moviepy - video ready Video cuts collection/Video Segments/P15/music02.mp4\n"
     ]
    },
    {
     "name": "stderr",
     "output_type": "stream",
     "text": [
      "\r",
      "t:   0%|          | 2/960 [27:52<222:35:36, 836.47s/it, now=None]"
     ]
    },
    {
     "name": "stdout",
     "output_type": "stream",
     "text": [
      "times 2\n"
     ]
    },
    {
     "name": "stderr",
     "output_type": "stream",
     "text": [
      "                                                                 \r"
     ]
    },
    {
     "name": "stdout",
     "output_type": "stream",
     "text": [
      "Moviepy - Building video Video cuts collection/Video Segments/P15/music03.mp4.\n"
     ]
    },
    {
     "name": "stderr",
     "output_type": "stream",
     "text": [
      "                                                                 \r"
     ]
    },
    {
     "name": "stdout",
     "output_type": "stream",
     "text": [
      "Moviepy - Writing video Video cuts collection/Video Segments/P15/music03.mp4\n",
      "\n"
     ]
    },
    {
     "name": "stderr",
     "output_type": "stream",
     "text": [
      "t:   0%|          | 2/960 [27:53<222:40:48, 836.79s/it, now=None]\n",
      "t:   0%|          | 0/930 [00:00<?, ?it/s, now=None]\n",
      "t:   1%|▏         | 12/930 [00:00<00:07, 119.13it/s, now=None]\n",
      "t:  31%|███       | 287/930 [00:00<00:03, 167.07it/s, now=None]\n",
      "t:  58%|█████▊    | 537/930 [00:00<00:01, 231.99it/s, now=None]\n",
      "t:  84%|████████▎ | 778/930 [00:00<00:00, 318.25it/s, now=None]\n",
      "                                                                 \r"
     ]
    },
    {
     "name": "stdout",
     "output_type": "stream",
     "text": [
      "Moviepy - Done !\n"
     ]
    },
    {
     "name": "stderr",
     "output_type": "stream",
     "text": [
      "                                                                 \r"
     ]
    },
    {
     "name": "stdout",
     "output_type": "stream",
     "text": [
      "Moviepy - video ready Video cuts collection/Video Segments/P15/music03.mp4\n"
     ]
    },
    {
     "name": "stderr",
     "output_type": "stream",
     "text": [
      "\r",
      "t:   0%|          | 2/960 [27:54<222:45:42, 837.10s/it, now=None]"
     ]
    },
    {
     "name": "stdout",
     "output_type": "stream",
     "text": [
      "times 3\n"
     ]
    },
    {
     "name": "stderr",
     "output_type": "stream",
     "text": [
      "                                                                 \r"
     ]
    },
    {
     "name": "stdout",
     "output_type": "stream",
     "text": [
      "Moviepy - Building video Video cuts collection/Video Segments/P15/music04.mp4.\n"
     ]
    },
    {
     "name": "stderr",
     "output_type": "stream",
     "text": [
      "                                                                 \r"
     ]
    },
    {
     "name": "stdout",
     "output_type": "stream",
     "text": [
      "Moviepy - Writing video Video cuts collection/Video Segments/P15/music04.mp4\n",
      "\n"
     ]
    },
    {
     "name": "stderr",
     "output_type": "stream",
     "text": [
      "t:   0%|          | 2/960 [27:54<222:51:13, 837.45s/it, now=None]\n",
      "t:   0%|          | 0/960 [00:00<?, ?it/s, now=None]\n",
      "t:   2%|▏         | 16/960 [00:00<00:05, 159.09it/s, now=None]\n",
      "t:  30%|███       | 289/960 [00:00<00:03, 221.72it/s, now=None]\n",
      "t:  58%|█████▊    | 560/960 [00:00<00:01, 305.91it/s, now=None]\n",
      "t:  85%|████████▌ | 819/960 [00:00<00:00, 415.79it/s, now=None]\n",
      "                                                                 \r"
     ]
    },
    {
     "name": "stdout",
     "output_type": "stream",
     "text": [
      "Moviepy - Done !\n"
     ]
    },
    {
     "name": "stderr",
     "output_type": "stream",
     "text": [
      "                                                                 \r"
     ]
    },
    {
     "name": "stdout",
     "output_type": "stream",
     "text": [
      "Moviepy - video ready Video cuts collection/Video Segments/P15/music04.mp4\n"
     ]
    },
    {
     "name": "stderr",
     "output_type": "stream",
     "text": [
      "\r",
      "t:   0%|          | 2/960 [27:55<222:55:57, 837.74s/it, now=None]"
     ]
    },
    {
     "name": "stdout",
     "output_type": "stream",
     "text": [
      "times 4\n"
     ]
    },
    {
     "name": "stderr",
     "output_type": "stream",
     "text": [
      "                                                                 \r"
     ]
    },
    {
     "name": "stdout",
     "output_type": "stream",
     "text": [
      "Moviepy - Building video Video cuts collection/Video Segments/P15/music09.mp4.\n"
     ]
    },
    {
     "name": "stderr",
     "output_type": "stream",
     "text": [
      "                                                                 \r"
     ]
    },
    {
     "name": "stdout",
     "output_type": "stream",
     "text": [
      "Moviepy - Writing video Video cuts collection/Video Segments/P15/music09.mp4\n",
      "\n"
     ]
    },
    {
     "name": "stderr",
     "output_type": "stream",
     "text": [
      "t:   0%|          | 2/960 [27:56<223:01:16, 838.08s/it, now=None]\n",
      "t:   0%|          | 0/960 [00:00<?, ?it/s, now=None]\n",
      "t:   2%|▏         | 17/960 [00:00<00:05, 168.77it/s, now=None]\n",
      "t:  32%|███▏      | 308/960 [00:00<00:02, 235.20it/s, now=None]\n",
      "t:  66%|██████▌   | 631/960 [00:00<00:01, 325.77it/s, now=None]\n",
      "                                                                 \r"
     ]
    },
    {
     "name": "stdout",
     "output_type": "stream",
     "text": [
      "Moviepy - Done !\n"
     ]
    },
    {
     "name": "stderr",
     "output_type": "stream",
     "text": [
      "                                                                 \r"
     ]
    },
    {
     "name": "stdout",
     "output_type": "stream",
     "text": [
      "Moviepy - video ready Video cuts collection/Video Segments/P15/music09.mp4\n"
     ]
    },
    {
     "name": "stderr",
     "output_type": "stream",
     "text": [
      "\r",
      "t:   0%|          | 2/960 [27:56<223:05:31, 838.34s/it, now=None]"
     ]
    },
    {
     "name": "stdout",
     "output_type": "stream",
     "text": [
      "times 5\n"
     ]
    },
    {
     "name": "stderr",
     "output_type": "stream",
     "text": [
      "                                                                 \r"
     ]
    },
    {
     "name": "stdout",
     "output_type": "stream",
     "text": [
      "Moviepy - Building video Video cuts collection/Video Segments/P15/music10.mp4.\n"
     ]
    },
    {
     "name": "stderr",
     "output_type": "stream",
     "text": [
      "                                                                 \r"
     ]
    },
    {
     "name": "stdout",
     "output_type": "stream",
     "text": [
      "Moviepy - Writing video Video cuts collection/Video Segments/P15/music10.mp4\n",
      "\n"
     ]
    },
    {
     "name": "stderr",
     "output_type": "stream",
     "text": [
      "t:   0%|          | 2/960 [27:57<223:10:32, 838.66s/it, now=None]\n",
      "t:   0%|          | 0/1110 [00:00<?, ?it/s, now=None]\n",
      "t:   3%|▎         | 32/1110 [00:00<00:03, 317.68it/s, now=None]\n",
      "t:  29%|██▉       | 325/1110 [00:00<00:01, 433.53it/s, now=None]\n",
      "t:  59%|█████▉    | 653/1110 [00:00<00:00, 585.90it/s, now=None]\n",
      "t:  89%|████████▊ | 983/1110 [00:00<00:00, 777.42it/s, now=None]\n",
      "                                                                 \r"
     ]
    },
    {
     "name": "stdout",
     "output_type": "stream",
     "text": [
      "Moviepy - Done !\n"
     ]
    },
    {
     "name": "stderr",
     "output_type": "stream",
     "text": [
      "                                                                 \r"
     ]
    },
    {
     "name": "stdout",
     "output_type": "stream",
     "text": [
      "Moviepy - video ready Video cuts collection/Video Segments/P15/music10.mp4\n"
     ]
    },
    {
     "name": "stderr",
     "output_type": "stream",
     "text": [
      "\r",
      "t:   0%|          | 2/960 [27:57<223:15:05, 838.94s/it, now=None]"
     ]
    },
    {
     "name": "stdout",
     "output_type": "stream",
     "text": [
      "times 6\n"
     ]
    },
    {
     "name": "stderr",
     "output_type": "stream",
     "text": [
      "                                                                 \r"
     ]
    },
    {
     "name": "stdout",
     "output_type": "stream",
     "text": [
      "Moviepy - Building video Video cuts collection/Video Segments/P15/music11.mp4.\n"
     ]
    },
    {
     "name": "stderr",
     "output_type": "stream",
     "text": [
      "                                                                 \r"
     ]
    },
    {
     "name": "stdout",
     "output_type": "stream",
     "text": [
      "Moviepy - Writing video Video cuts collection/Video Segments/P15/music11.mp4\n",
      "\n"
     ]
    },
    {
     "name": "stderr",
     "output_type": "stream",
     "text": [
      "t:   0%|          | 2/960 [27:58<223:20:19, 839.27s/it, now=None]\n",
      "t:   0%|          | 0/960 [00:00<?, ?it/s, now=None]\n",
      "t:   3%|▎         | 30/960 [00:00<00:03, 297.82it/s, now=None]\n",
      "t:  30%|██▉       | 287/960 [00:00<00:01, 405.16it/s, now=None]\n",
      "t:  52%|█████▏    | 502/960 [00:00<00:00, 535.20it/s, now=None]\n",
      "t:  81%|████████  | 779/960 [00:00<00:00, 705.86it/s, now=None]\n",
      "                                                                 \r"
     ]
    },
    {
     "name": "stdout",
     "output_type": "stream",
     "text": [
      "Moviepy - Done !\n"
     ]
    },
    {
     "name": "stderr",
     "output_type": "stream",
     "text": [
      "                                                                 \r"
     ]
    },
    {
     "name": "stdout",
     "output_type": "stream",
     "text": [
      "Moviepy - video ready Video cuts collection/Video Segments/P15/music11.mp4\n"
     ]
    },
    {
     "name": "stderr",
     "output_type": "stream",
     "text": [
      "\r",
      "t:   0%|          | 2/960 [27:59<223:25:03, 839.56s/it, now=None]"
     ]
    },
    {
     "name": "stdout",
     "output_type": "stream",
     "text": [
      "times 7\n"
     ]
    },
    {
     "name": "stderr",
     "output_type": "stream",
     "text": [
      "                                                                 \r"
     ]
    },
    {
     "name": "stdout",
     "output_type": "stream",
     "text": [
      "Moviepy - Building video Video cuts collection/Video Segments/P15/music12.mp4.\n"
     ]
    },
    {
     "name": "stderr",
     "output_type": "stream",
     "text": [
      "                                                                 \r"
     ]
    },
    {
     "name": "stdout",
     "output_type": "stream",
     "text": [
      "Moviepy - Writing video Video cuts collection/Video Segments/P15/music12.mp4\n",
      "\n"
     ]
    },
    {
     "name": "stderr",
     "output_type": "stream",
     "text": [
      "t:   0%|          | 2/960 [27:59<223:30:02, 839.88s/it, now=None]\n",
      "t:   0%|          | 0/960 [00:00<?, ?it/s, now=None]\n",
      "t:   0%|          | 3/960 [00:00<00:34, 27.60it/s, now=None]\n",
      "t:  30%|██▉       | 285/960 [00:00<00:17, 39.26it/s, now=None]\n",
      "t:  60%|█████▉    | 574/960 [00:00<00:06, 55.76it/s, now=None]\n",
      "t:  88%|████████▊ | 847/960 [00:00<00:01, 78.96it/s, now=None]\n",
      "                                                                 \r"
     ]
    },
    {
     "name": "stdout",
     "output_type": "stream",
     "text": [
      "Moviepy - Done !\n"
     ]
    },
    {
     "name": "stderr",
     "output_type": "stream",
     "text": [
      "                                                                 \r"
     ]
    },
    {
     "name": "stdout",
     "output_type": "stream",
     "text": [
      "Moviepy - video ready Video cuts collection/Video Segments/P15/music12.mp4\n"
     ]
    },
    {
     "name": "stderr",
     "output_type": "stream",
     "text": [
      "\r",
      "t:   0%|          | 2/960 [28:00<223:34:45, 840.17s/it, now=None]"
     ]
    },
    {
     "name": "stdout",
     "output_type": "stream",
     "text": [
      "df:\n",
      "    a          b          c\n",
      "0  5 1527989411 1527989628\n",
      "1  6 1527989747 1527989956\n",
      "2  7 1527990069 1527990271\n",
      "3  8 1527990389 1527990599\n",
      "4  9 1527990691 1527990930\n",
      "5 10 1527991031 1527991307\n",
      "6 11 1527991398 1527991637\n",
      "7 12 1527991791 1527992031\n",
      "df_correct_time:\n",
      "    music_type  from_minutes  from_seconds  to_minutes  to_seconds  \\\n",
      "0           5             0             0           0          29   \n",
      "1           6             0            45           1          13   \n",
      "2           7             1            28           1          55   \n",
      "3           8             2            10           2          38   \n",
      "4           9             2            51           3          23   \n",
      "5          10             3            36           4          13   \n",
      "6          11             4            25           4          57   \n",
      "7          12             5            17           5          49   \n",
      "\n",
      "   from_total_second  to_total_second  \n",
      "0                  0               29  \n",
      "1                 45               73  \n",
      "2                 88              115  \n",
      "3                130              158  \n",
      "4                171              203  \n",
      "5                216              253  \n",
      "6                265              297  \n",
      "7                317              349  \n",
      "times 0\n"
     ]
    },
    {
     "name": "stderr",
     "output_type": "stream",
     "text": [
      "                                                                 \r"
     ]
    },
    {
     "name": "stdout",
     "output_type": "stream",
     "text": [
      "Moviepy - Building video Video cuts collection/Video Segments/P16/music05.mp4.\n"
     ]
    },
    {
     "name": "stderr",
     "output_type": "stream",
     "text": [
      "                                                                 \r"
     ]
    },
    {
     "name": "stdout",
     "output_type": "stream",
     "text": [
      "Moviepy - Writing video Video cuts collection/Video Segments/P16/music05.mp4\n",
      "\n"
     ]
    },
    {
     "name": "stderr",
     "output_type": "stream",
     "text": [
      "t:   0%|          | 2/960 [28:01<223:42:18, 840.65s/it, now=None]\n",
      "t:   0%|          | 0/810 [00:00<?, ?it/s, now=None]\n",
      "t:   0%|          | 3/810 [00:00<00:27, 29.78it/s, now=None]\n",
      "t:  36%|███▋      | 294/810 [00:00<00:12, 42.36it/s, now=None]\n",
      "t:  73%|███████▎  | 588/810 [00:00<00:03, 60.14it/s, now=None]\n",
      "                                                                 \r"
     ]
    },
    {
     "name": "stdout",
     "output_type": "stream",
     "text": [
      "Moviepy - Done !\n"
     ]
    },
    {
     "name": "stderr",
     "output_type": "stream",
     "text": [
      "                                                                 \r"
     ]
    },
    {
     "name": "stdout",
     "output_type": "stream",
     "text": [
      "Moviepy - video ready Video cuts collection/Video Segments/P16/music05.mp4\n"
     ]
    },
    {
     "name": "stderr",
     "output_type": "stream",
     "text": [
      "\r",
      "t:   0%|          | 2/960 [28:01<223:46:22, 840.90s/it, now=None]"
     ]
    },
    {
     "name": "stdout",
     "output_type": "stream",
     "text": [
      "times 1\n"
     ]
    },
    {
     "name": "stderr",
     "output_type": "stream",
     "text": [
      "                                                                 \r"
     ]
    },
    {
     "name": "stdout",
     "output_type": "stream",
     "text": [
      "Moviepy - Building video Video cuts collection/Video Segments/P16/music06.mp4.\n"
     ]
    },
    {
     "name": "stderr",
     "output_type": "stream",
     "text": [
      "                                                                 \r"
     ]
    },
    {
     "name": "stdout",
     "output_type": "stream",
     "text": [
      "Moviepy - Writing video Video cuts collection/Video Segments/P16/music06.mp4\n",
      "\n"
     ]
    },
    {
     "name": "stderr",
     "output_type": "stream",
     "text": [
      "t:   0%|          | 2/960 [28:02<223:51:24, 841.22s/it, now=None]\n",
      "t:   0%|          | 0/840 [00:00<?, ?it/s, now=None]\n",
      "t:   3%|▎         | 23/840 [00:00<00:03, 228.33it/s, now=None]\n",
      "t:  36%|███▌      | 303/840 [00:00<00:01, 315.09it/s, now=None]\n",
      "t:  71%|███████▏  | 599/840 [00:00<00:00, 430.35it/s, now=None]\n",
      "                                                                 \r"
     ]
    },
    {
     "name": "stdout",
     "output_type": "stream",
     "text": [
      "Moviepy - Done !\n"
     ]
    },
    {
     "name": "stderr",
     "output_type": "stream",
     "text": [
      "                                                                 \r"
     ]
    },
    {
     "name": "stdout",
     "output_type": "stream",
     "text": [
      "Moviepy - video ready Video cuts collection/Video Segments/P16/music06.mp4\n"
     ]
    },
    {
     "name": "stderr",
     "output_type": "stream",
     "text": [
      "\r",
      "t:   0%|          | 2/960 [28:02<223:55:36, 841.48s/it, now=None]"
     ]
    },
    {
     "name": "stdout",
     "output_type": "stream",
     "text": [
      "times 2\n"
     ]
    },
    {
     "name": "stderr",
     "output_type": "stream",
     "text": [
      "                                                                 \r"
     ]
    },
    {
     "name": "stdout",
     "output_type": "stream",
     "text": [
      "Moviepy - Building video Video cuts collection/Video Segments/P16/music07.mp4.\n"
     ]
    },
    {
     "name": "stderr",
     "output_type": "stream",
     "text": [
      "                                                                 \r"
     ]
    },
    {
     "name": "stdout",
     "output_type": "stream",
     "text": [
      "Moviepy - Writing video Video cuts collection/Video Segments/P16/music07.mp4\n",
      "\n"
     ]
    },
    {
     "name": "stderr",
     "output_type": "stream",
     "text": [
      "t:   0%|          | 2/960 [28:03<224:00:56, 841.81s/it, now=None]\n",
      "t:   0%|          | 0/810 [00:00<?, ?it/s, now=None]\n",
      "t:   1%|          | 6/810 [00:00<00:13, 59.56it/s, now=None]\n",
      "t:  36%|███▌      | 293/810 [00:00<00:06, 84.34it/s, now=None]\n",
      "t:  75%|███████▌  | 610/810 [00:00<00:01, 119.12it/s, now=None]\n",
      "                                                                 \r"
     ]
    },
    {
     "name": "stdout",
     "output_type": "stream",
     "text": [
      "Moviepy - Done !\n"
     ]
    },
    {
     "name": "stderr",
     "output_type": "stream",
     "text": [
      "                                                                 \r"
     ]
    },
    {
     "name": "stdout",
     "output_type": "stream",
     "text": [
      "Moviepy - video ready Video cuts collection/Video Segments/P16/music07.mp4\n"
     ]
    },
    {
     "name": "stderr",
     "output_type": "stream",
     "text": [
      "\r",
      "t:   0%|          | 2/960 [28:04<224:04:57, 842.06s/it, now=None]"
     ]
    },
    {
     "name": "stdout",
     "output_type": "stream",
     "text": [
      "times 3\n"
     ]
    },
    {
     "name": "stderr",
     "output_type": "stream",
     "text": [
      "                                                                 \r"
     ]
    },
    {
     "name": "stdout",
     "output_type": "stream",
     "text": [
      "Moviepy - Building video Video cuts collection/Video Segments/P16/music08.mp4.\n"
     ]
    },
    {
     "name": "stderr",
     "output_type": "stream",
     "text": [
      "                                                                 \r"
     ]
    },
    {
     "name": "stdout",
     "output_type": "stream",
     "text": [
      "Moviepy - Writing video Video cuts collection/Video Segments/P16/music08.mp4\n",
      "\n"
     ]
    },
    {
     "name": "stderr",
     "output_type": "stream",
     "text": [
      "t:   0%|          | 2/960 [28:04<224:10:04, 842.38s/it, now=None]\n",
      "t:   0%|          | 0/840 [00:00<?, ?it/s, now=None]\n",
      "t:   2%|▏         | 14/840 [00:00<00:05, 138.73it/s, now=None]\n",
      "t:  36%|███▋      | 306/840 [00:00<00:02, 194.22it/s, now=None]\n",
      "t:  72%|███████▏  | 601/840 [00:00<00:00, 269.79it/s, now=None]\n",
      "                                                                 \r"
     ]
    },
    {
     "name": "stdout",
     "output_type": "stream",
     "text": [
      "Moviepy - Done !\n"
     ]
    },
    {
     "name": "stderr",
     "output_type": "stream",
     "text": [
      "                                                                 \r"
     ]
    },
    {
     "name": "stdout",
     "output_type": "stream",
     "text": [
      "Moviepy - video ready Video cuts collection/Video Segments/P16/music08.mp4\n"
     ]
    },
    {
     "name": "stderr",
     "output_type": "stream",
     "text": [
      "\r",
      "t:   0%|          | 2/960 [28:05<224:14:11, 842.64s/it, now=None]"
     ]
    },
    {
     "name": "stdout",
     "output_type": "stream",
     "text": [
      "times 4\n"
     ]
    },
    {
     "name": "stderr",
     "output_type": "stream",
     "text": [
      "                                                                 \r"
     ]
    },
    {
     "name": "stdout",
     "output_type": "stream",
     "text": [
      "Moviepy - Building video Video cuts collection/Video Segments/P16/music09.mp4.\n"
     ]
    },
    {
     "name": "stderr",
     "output_type": "stream",
     "text": [
      "                                                                 \r"
     ]
    },
    {
     "name": "stdout",
     "output_type": "stream",
     "text": [
      "Moviepy - Writing video Video cuts collection/Video Segments/P16/music09.mp4\n",
      "\n"
     ]
    },
    {
     "name": "stderr",
     "output_type": "stream",
     "text": [
      "t:   0%|          | 2/960 [28:05<224:19:10, 842.95s/it, now=None]\n",
      "t:   0%|          | 0/960 [00:00<?, ?it/s, now=None]\n",
      "t:   1%|          | 7/960 [00:00<00:13, 69.49it/s, now=None]\n",
      "t:  31%|███       | 299/960 [00:00<00:06, 98.27it/s, now=None]\n",
      "t:  63%|██████▎   | 605/960 [00:00<00:02, 138.46it/s, now=None]\n",
      "t:  93%|█████████▎| 893/960 [00:00<00:00, 193.78it/s, now=None]\n",
      "                                                                 \r"
     ]
    },
    {
     "name": "stdout",
     "output_type": "stream",
     "text": [
      "Moviepy - Done !\n"
     ]
    },
    {
     "name": "stderr",
     "output_type": "stream",
     "text": [
      "                                                                 \r"
     ]
    },
    {
     "name": "stdout",
     "output_type": "stream",
     "text": [
      "Moviepy - video ready Video cuts collection/Video Segments/P16/music09.mp4\n"
     ]
    },
    {
     "name": "stderr",
     "output_type": "stream",
     "text": [
      "\r",
      "t:   0%|          | 2/960 [28:06<224:23:42, 843.24s/it, now=None]"
     ]
    },
    {
     "name": "stdout",
     "output_type": "stream",
     "text": [
      "times 5\n"
     ]
    },
    {
     "name": "stderr",
     "output_type": "stream",
     "text": [
      "                                                                 \r"
     ]
    },
    {
     "name": "stdout",
     "output_type": "stream",
     "text": [
      "Moviepy - Building video Video cuts collection/Video Segments/P16/music10.mp4.\n"
     ]
    },
    {
     "name": "stderr",
     "output_type": "stream",
     "text": [
      "                                                                 \r"
     ]
    },
    {
     "name": "stdout",
     "output_type": "stream",
     "text": [
      "Moviepy - Writing video Video cuts collection/Video Segments/P16/music10.mp4\n",
      "\n"
     ]
    },
    {
     "name": "stderr",
     "output_type": "stream",
     "text": [
      "t:   0%|          | 2/960 [28:07<224:28:38, 843.55s/it, now=None]\n",
      "t:   0%|          | 0/1110 [00:00<?, ?it/s, now=None]\n",
      "t:   3%|▎         | 31/1110 [00:00<00:03, 307.76it/s, now=None]\n",
      "t:  29%|██▉       | 325/1110 [00:00<00:01, 420.64it/s, now=None]\n",
      "t:  58%|█████▊    | 639/1110 [00:00<00:00, 568.07it/s, now=None]\n",
      "t:  84%|████████▍ | 930/1110 [00:00<00:00, 748.45it/s, now=None]\n",
      "                                                                 \r"
     ]
    },
    {
     "name": "stdout",
     "output_type": "stream",
     "text": [
      "Moviepy - Done !\n"
     ]
    },
    {
     "name": "stderr",
     "output_type": "stream",
     "text": [
      "                                                                 \r"
     ]
    },
    {
     "name": "stdout",
     "output_type": "stream",
     "text": [
      "Moviepy - video ready Video cuts collection/Video Segments/P16/music10.mp4\n"
     ]
    },
    {
     "name": "stderr",
     "output_type": "stream",
     "text": [
      "\r",
      "t:   0%|          | 2/960 [28:07<224:33:22, 843.84s/it, now=None]"
     ]
    },
    {
     "name": "stdout",
     "output_type": "stream",
     "text": [
      "times 6\n"
     ]
    },
    {
     "name": "stderr",
     "output_type": "stream",
     "text": [
      "                                                                 \r"
     ]
    },
    {
     "name": "stdout",
     "output_type": "stream",
     "text": [
      "Moviepy - Building video Video cuts collection/Video Segments/P16/music11.mp4.\n"
     ]
    },
    {
     "name": "stderr",
     "output_type": "stream",
     "text": [
      "                                                                 \r"
     ]
    },
    {
     "name": "stdout",
     "output_type": "stream",
     "text": [
      "Moviepy - Writing video Video cuts collection/Video Segments/P16/music11.mp4\n",
      "\n"
     ]
    },
    {
     "name": "stderr",
     "output_type": "stream",
     "text": [
      "t:   0%|          | 2/960 [28:08<224:38:18, 844.15s/it, now=None]\n",
      "t:   0%|          | 0/960 [00:00<?, ?it/s, now=None]\n",
      "t:   2%|▎         | 24/960 [00:00<00:03, 238.24it/s, now=None]\n",
      "t:  31%|███       | 297/960 [00:00<00:02, 327.95it/s, now=None]\n",
      "t:  62%|██████▏   | 596/960 [00:00<00:00, 447.29it/s, now=None]\n",
      "t:  94%|█████████▍| 901/960 [00:00<00:00, 600.94it/s, now=None]\n",
      "                                                                 \r"
     ]
    },
    {
     "name": "stdout",
     "output_type": "stream",
     "text": [
      "Moviepy - Done !\n"
     ]
    },
    {
     "name": "stderr",
     "output_type": "stream",
     "text": [
      "                                                                 \r"
     ]
    },
    {
     "name": "stdout",
     "output_type": "stream",
     "text": [
      "Moviepy - video ready Video cuts collection/Video Segments/P16/music11.mp4\n"
     ]
    },
    {
     "name": "stderr",
     "output_type": "stream",
     "text": [
      "\r",
      "t:   0%|          | 2/960 [28:08<224:42:45, 844.43s/it, now=None]"
     ]
    },
    {
     "name": "stdout",
     "output_type": "stream",
     "text": [
      "times 7\n"
     ]
    },
    {
     "name": "stderr",
     "output_type": "stream",
     "text": [
      "                                                                 \r"
     ]
    },
    {
     "name": "stdout",
     "output_type": "stream",
     "text": [
      "Moviepy - Building video Video cuts collection/Video Segments/P16/music12.mp4.\n"
     ]
    },
    {
     "name": "stderr",
     "output_type": "stream",
     "text": [
      "                                                                 \r"
     ]
    },
    {
     "name": "stdout",
     "output_type": "stream",
     "text": [
      "Moviepy - Writing video Video cuts collection/Video Segments/P16/music12.mp4\n",
      "\n"
     ]
    },
    {
     "name": "stderr",
     "output_type": "stream",
     "text": [
      "t:   0%|          | 2/960 [28:09<224:47:43, 844.74s/it, now=None]\n",
      "t:   0%|          | 0/960 [00:00<?, ?it/s, now=None]\n",
      "t:   3%|▎         | 29/960 [00:00<00:03, 287.90it/s, now=None]\n",
      "t:  32%|███▏      | 309/960 [00:00<00:01, 393.80it/s, now=None]\n",
      "t:  66%|██████▌   | 633/960 [00:00<00:00, 534.53it/s, now=None]\n",
      "t:  95%|█████████▌| 916/960 [00:00<00:00, 706.04it/s, now=None]\n",
      "                                                                 \r"
     ]
    },
    {
     "name": "stdout",
     "output_type": "stream",
     "text": [
      "Moviepy - Done !\n"
     ]
    },
    {
     "name": "stderr",
     "output_type": "stream",
     "text": [
      "                                                                 \r"
     ]
    },
    {
     "name": "stdout",
     "output_type": "stream",
     "text": [
      "Moviepy - video ready Video cuts collection/Video Segments/P16/music12.mp4\n"
     ]
    },
    {
     "name": "stderr",
     "output_type": "stream",
     "text": [
      "\r",
      "t:   0%|          | 2/960 [28:10<224:52:09, 845.02s/it, now=None]"
     ]
    },
    {
     "name": "stdout",
     "output_type": "stream",
     "text": [
      "df:\n",
      "    a          b          c\n",
      "0  9 1528003715 1528003954\n",
      "1 10 1528004175 1528004451\n",
      "2 11 1528004623 1528004862\n",
      "3 12 1528005091 1528005331\n",
      "4  1 1528005506 1528005763\n",
      "5  2 1528005991 1528006236\n",
      "6  3 1528006366 1528006599\n",
      "7  4 1528006767 1528007008\n",
      "df_correct_time:\n",
      "    music_type  from_minutes  from_seconds  to_minutes  to_seconds  \\\n",
      "0           9             0             0           0          32   \n",
      "1          10             1             1           1          38   \n",
      "2          11             2             1           2          33   \n",
      "3          12             3             3           3          35   \n",
      "4           1             3            59           4          33   \n",
      "5           2             5             3           5          36   \n",
      "6           3             5            53           6          25   \n",
      "7           4             6            47           7          19   \n",
      "\n",
      "   from_total_second  to_total_second  \n",
      "0                  0               32  \n",
      "1                 61               98  \n",
      "2                121              153  \n",
      "3                183              215  \n",
      "4                239              273  \n",
      "5                303              336  \n",
      "6                353              385  \n",
      "7                407              439  \n",
      "times 0\n"
     ]
    },
    {
     "name": "stderr",
     "output_type": "stream",
     "text": [
      "                                                                 \r"
     ]
    },
    {
     "name": "stdout",
     "output_type": "stream",
     "text": [
      "Moviepy - Building video Video cuts collection/Video Segments/P17/music09.mp4.\n"
     ]
    },
    {
     "name": "stderr",
     "output_type": "stream",
     "text": [
      "                                                                 \r"
     ]
    },
    {
     "name": "stdout",
     "output_type": "stream",
     "text": [
      "Moviepy - Writing video Video cuts collection/Video Segments/P17/music09.mp4\n",
      "\n"
     ]
    },
    {
     "name": "stderr",
     "output_type": "stream",
     "text": [
      "t:   0%|          | 2/960 [28:10<224:59:12, 845.46s/it, now=None]\n",
      "t:   0%|          | 0/900 [00:00<?, ?it/s, now=None]\n",
      "t:   3%|▎         | 25/900 [00:00<00:03, 248.19it/s, now=None]\n",
      "t:  35%|███▌      | 317/900 [00:00<00:01, 342.01it/s, now=None]\n",
      "t:  74%|███████▍  | 667/900 [00:00<00:00, 468.81it/s, now=None]\n",
      "                                                                 \r"
     ]
    },
    {
     "name": "stdout",
     "output_type": "stream",
     "text": [
      "Moviepy - Done !\n"
     ]
    },
    {
     "name": "stderr",
     "output_type": "stream",
     "text": [
      "                                                                 \r"
     ]
    },
    {
     "name": "stdout",
     "output_type": "stream",
     "text": [
      "Moviepy - video ready Video cuts collection/Video Segments/P17/music09.mp4\n"
     ]
    },
    {
     "name": "stderr",
     "output_type": "stream",
     "text": [
      "\r",
      "t:   0%|          | 2/960 [28:11<225:03:17, 845.72s/it, now=None]"
     ]
    },
    {
     "name": "stdout",
     "output_type": "stream",
     "text": [
      "times 1\n"
     ]
    },
    {
     "name": "stderr",
     "output_type": "stream",
     "text": [
      "                                                                 \r"
     ]
    },
    {
     "name": "stdout",
     "output_type": "stream",
     "text": [
      "Moviepy - Building video Video cuts collection/Video Segments/P17/music10.mp4.\n"
     ]
    },
    {
     "name": "stderr",
     "output_type": "stream",
     "text": [
      "                                                                 \r"
     ]
    },
    {
     "name": "stdout",
     "output_type": "stream",
     "text": [
      "Moviepy - Writing video Video cuts collection/Video Segments/P17/music10.mp4\n",
      "\n"
     ]
    },
    {
     "name": "stderr",
     "output_type": "stream",
     "text": [
      "t:   0%|          | 2/960 [28:12<225:08:34, 846.05s/it, now=None]\n",
      "t:   0%|          | 0/1110 [00:00<?, ?it/s, now=None]\n",
      "t:   3%|▎         | 36/1110 [00:00<00:03, 357.52it/s, now=None]\n",
      "t:  31%|███       | 341/1110 [00:00<00:01, 486.13it/s, now=None]\n",
      "t:  61%|██████    | 679/1110 [00:00<00:00, 653.87it/s, now=None]\n",
      "t:  90%|████████▉ | 995/1110 [00:00<00:00, 857.50it/s, now=None]\n",
      "                                                                 \r"
     ]
    },
    {
     "name": "stdout",
     "output_type": "stream",
     "text": [
      "Moviepy - Done !\n"
     ]
    },
    {
     "name": "stderr",
     "output_type": "stream",
     "text": [
      "                                                                 \r"
     ]
    },
    {
     "name": "stdout",
     "output_type": "stream",
     "text": [
      "Moviepy - video ready Video cuts collection/Video Segments/P17/music10.mp4\n"
     ]
    },
    {
     "name": "stderr",
     "output_type": "stream",
     "text": [
      "\r",
      "t:   0%|          | 2/960 [28:12<225:13:01, 846.33s/it, now=None]"
     ]
    },
    {
     "name": "stdout",
     "output_type": "stream",
     "text": [
      "times 2\n"
     ]
    },
    {
     "name": "stderr",
     "output_type": "stream",
     "text": [
      "                                                                 \r"
     ]
    },
    {
     "name": "stdout",
     "output_type": "stream",
     "text": [
      "Moviepy - Building video Video cuts collection/Video Segments/P17/music11.mp4.\n"
     ]
    },
    {
     "name": "stderr",
     "output_type": "stream",
     "text": [
      "                                                                 \r"
     ]
    },
    {
     "name": "stdout",
     "output_type": "stream",
     "text": [
      "Moviepy - Writing video Video cuts collection/Video Segments/P17/music11.mp4\n",
      "\n"
     ]
    },
    {
     "name": "stderr",
     "output_type": "stream",
     "text": [
      "t:   0%|          | 2/960 [28:13<225:18:03, 846.64s/it, now=None]\n",
      "t:   0%|          | 0/960 [00:00<?, ?it/s, now=None]\n",
      "t:   2%|▎         | 24/960 [00:00<00:03, 238.26it/s, now=None]\n",
      "t:  32%|███▎      | 312/960 [00:00<00:01, 328.63it/s, now=None]\n",
      "t:  66%|██████▌   | 634/960 [00:00<00:00, 449.66it/s, now=None]\n",
      "                                                                 \r"
     ]
    },
    {
     "name": "stdout",
     "output_type": "stream",
     "text": [
      "Moviepy - Done !\n"
     ]
    },
    {
     "name": "stderr",
     "output_type": "stream",
     "text": [
      "                                                                 \r"
     ]
    },
    {
     "name": "stdout",
     "output_type": "stream",
     "text": [
      "Moviepy - video ready Video cuts collection/Video Segments/P17/music11.mp4\n"
     ]
    },
    {
     "name": "stderr",
     "output_type": "stream",
     "text": [
      "\r",
      "t:   0%|          | 2/960 [28:13<225:22:13, 846.90s/it, now=None]"
     ]
    },
    {
     "name": "stdout",
     "output_type": "stream",
     "text": [
      "times 3\n"
     ]
    },
    {
     "name": "stderr",
     "output_type": "stream",
     "text": [
      "                                                                 \r"
     ]
    },
    {
     "name": "stdout",
     "output_type": "stream",
     "text": [
      "Moviepy - Building video Video cuts collection/Video Segments/P17/music12.mp4.\n"
     ]
    },
    {
     "name": "stderr",
     "output_type": "stream",
     "text": [
      "                                                                 \r"
     ]
    },
    {
     "name": "stdout",
     "output_type": "stream",
     "text": [
      "Moviepy - Writing video Video cuts collection/Video Segments/P17/music12.mp4\n",
      "\n"
     ]
    },
    {
     "name": "stderr",
     "output_type": "stream",
     "text": [
      "t:   0%|          | 2/960 [28:14<225:27:16, 847.22s/it, now=None]\n",
      "t:   0%|          | 0/960 [00:00<?, ?it/s, now=None]\n",
      "t:   4%|▍         | 36/960 [00:00<00:02, 357.39it/s, now=None]\n",
      "t:  37%|███▋      | 352/960 [00:00<00:01, 486.79it/s, now=None]\n",
      "t:  71%|███████   | 679/960 [00:00<00:00, 653.42it/s, now=None]\n",
      "                                                                 \r"
     ]
    },
    {
     "name": "stdout",
     "output_type": "stream",
     "text": [
      "Moviepy - Done !\n"
     ]
    },
    {
     "name": "stderr",
     "output_type": "stream",
     "text": [
      "                                                                 \r"
     ]
    },
    {
     "name": "stdout",
     "output_type": "stream",
     "text": [
      "Moviepy - video ready Video cuts collection/Video Segments/P17/music12.mp4\n"
     ]
    },
    {
     "name": "stderr",
     "output_type": "stream",
     "text": [
      "\r",
      "t:   0%|          | 2/960 [28:14<225:31:21, 847.48s/it, now=None]"
     ]
    },
    {
     "name": "stdout",
     "output_type": "stream",
     "text": [
      "times 4\n"
     ]
    },
    {
     "name": "stderr",
     "output_type": "stream",
     "text": [
      "                                                                 \r"
     ]
    },
    {
     "name": "stdout",
     "output_type": "stream",
     "text": [
      "Moviepy - Building video Video cuts collection/Video Segments/P17/music01.mp4.\n"
     ]
    },
    {
     "name": "stderr",
     "output_type": "stream",
     "text": [
      "                                                                 \r"
     ]
    },
    {
     "name": "stdout",
     "output_type": "stream",
     "text": [
      "Moviepy - Writing video Video cuts collection/Video Segments/P17/music01.mp4\n",
      "\n"
     ]
    },
    {
     "name": "stderr",
     "output_type": "stream",
     "text": [
      "t:   0%|          | 2/960 [28:15<225:38:03, 847.90s/it, now=None]\n",
      "t:   0%|          | 0/1020 [00:00<?, ?it/s, now=None]\n",
      "t:   4%|▎         | 36/1020 [00:00<00:02, 356.70it/s, now=None]\n",
      "t:  32%|███▏      | 329/1020 [00:00<00:01, 484.21it/s, now=None]\n",
      "t:  65%|██████▌   | 664/1020 [00:00<00:00, 651.10it/s, now=None]\n",
      "t:  95%|█████████▌| 974/1020 [00:00<00:00, 852.81it/s, now=None]\n",
      "                                                                 \r"
     ]
    },
    {
     "name": "stdout",
     "output_type": "stream",
     "text": [
      "Moviepy - Done !\n"
     ]
    },
    {
     "name": "stderr",
     "output_type": "stream",
     "text": [
      "                                                                 \r"
     ]
    },
    {
     "name": "stdout",
     "output_type": "stream",
     "text": [
      "Moviepy - video ready Video cuts collection/Video Segments/P17/music01.mp4\n"
     ]
    },
    {
     "name": "stderr",
     "output_type": "stream",
     "text": [
      "\r",
      "t:   0%|          | 2/960 [28:16<225:42:25, 848.17s/it, now=None]"
     ]
    },
    {
     "name": "stdout",
     "output_type": "stream",
     "text": [
      "times 5\n"
     ]
    },
    {
     "name": "stderr",
     "output_type": "stream",
     "text": [
      "                                                                 \r"
     ]
    },
    {
     "name": "stdout",
     "output_type": "stream",
     "text": [
      "Moviepy - Building video Video cuts collection/Video Segments/P17/music02.mp4.\n"
     ]
    },
    {
     "name": "stderr",
     "output_type": "stream",
     "text": [
      "                                                                 \r"
     ]
    },
    {
     "name": "stdout",
     "output_type": "stream",
     "text": [
      "Moviepy - Writing video Video cuts collection/Video Segments/P17/music02.mp4\n",
      "\n"
     ]
    },
    {
     "name": "stderr",
     "output_type": "stream",
     "text": [
      "t:   0%|          | 2/960 [28:16<225:47:17, 848.47s/it, now=None]\n",
      "t:   0%|          | 0/990 [00:00<?, ?it/s, now=None]\n",
      "t:   2%|▏         | 23/990 [00:00<00:04, 228.33it/s, now=None]\n",
      "t:  32%|███▏      | 318/990 [00:00<00:02, 315.64it/s, now=None]\n",
      "t:  66%|██████▌   | 650/990 [00:00<00:00, 433.14it/s, now=None]\n",
      "t:  97%|█████████▋| 964/990 [00:00<00:00, 583.99it/s, now=None]\n",
      "                                                                 \r"
     ]
    },
    {
     "name": "stdout",
     "output_type": "stream",
     "text": [
      "Moviepy - Done !\n"
     ]
    },
    {
     "name": "stderr",
     "output_type": "stream",
     "text": [
      "                                                                 \r"
     ]
    },
    {
     "name": "stdout",
     "output_type": "stream",
     "text": [
      "Moviepy - video ready Video cuts collection/Video Segments/P17/music02.mp4\n"
     ]
    },
    {
     "name": "stderr",
     "output_type": "stream",
     "text": [
      "\r",
      "t:   0%|          | 2/960 [28:17<225:51:36, 848.74s/it, now=None]"
     ]
    },
    {
     "name": "stdout",
     "output_type": "stream",
     "text": [
      "times 6\n"
     ]
    },
    {
     "name": "stderr",
     "output_type": "stream",
     "text": [
      "                                                                 \r"
     ]
    },
    {
     "name": "stdout",
     "output_type": "stream",
     "text": [
      "Moviepy - Building video Video cuts collection/Video Segments/P17/music03.mp4.\n"
     ]
    },
    {
     "name": "stderr",
     "output_type": "stream",
     "text": [
      "                                                                 \r"
     ]
    },
    {
     "name": "stdout",
     "output_type": "stream",
     "text": [
      "Moviepy - Writing video Video cuts collection/Video Segments/P17/music03.mp4\n",
      "\n"
     ]
    },
    {
     "name": "stderr",
     "output_type": "stream",
     "text": [
      "t:   0%|          | 2/960 [28:18<225:56:29, 849.05s/it, now=None]\n",
      "t:   0%|          | 0/960 [00:00<?, ?it/s, now=None]\n",
      "t:   2%|▏         | 23/960 [00:00<00:04, 229.46it/s, now=None]\n",
      "t:  36%|███▌      | 343/960 [00:00<00:01, 317.95it/s, now=None]\n",
      "t:  71%|███████   | 678/960 [00:00<00:00, 436.41it/s, now=None]\n",
      "                                                                 \r"
     ]
    },
    {
     "name": "stdout",
     "output_type": "stream",
     "text": [
      "Moviepy - Done !\n"
     ]
    },
    {
     "name": "stderr",
     "output_type": "stream",
     "text": [
      "                                                                 \r"
     ]
    },
    {
     "name": "stdout",
     "output_type": "stream",
     "text": [
      "Moviepy - video ready Video cuts collection/Video Segments/P17/music03.mp4\n"
     ]
    },
    {
     "name": "stderr",
     "output_type": "stream",
     "text": [
      "\r",
      "t:   0%|          | 2/960 [28:18<226:00:28, 849.30s/it, now=None]"
     ]
    },
    {
     "name": "stdout",
     "output_type": "stream",
     "text": [
      "times 7\n"
     ]
    },
    {
     "name": "stderr",
     "output_type": "stream",
     "text": [
      "                                                                 \r"
     ]
    },
    {
     "name": "stdout",
     "output_type": "stream",
     "text": [
      "Moviepy - Building video Video cuts collection/Video Segments/P17/music04.mp4.\n"
     ]
    },
    {
     "name": "stderr",
     "output_type": "stream",
     "text": [
      "                                                                 \r"
     ]
    },
    {
     "name": "stdout",
     "output_type": "stream",
     "text": [
      "Moviepy - Writing video Video cuts collection/Video Segments/P17/music04.mp4\n",
      "\n"
     ]
    },
    {
     "name": "stderr",
     "output_type": "stream",
     "text": [
      "t:   0%|          | 2/960 [28:19<226:05:35, 849.62s/it, now=None]\n",
      "t:   0%|          | 0/960 [00:00<?, ?it/s, now=None]\n",
      "t:   3%|▎         | 30/960 [00:00<00:03, 297.83it/s, now=None]\n",
      "t:  34%|███▍      | 325/960 [00:00<00:01, 407.81it/s, now=None]\n",
      "t:  68%|██████▊   | 648/960 [00:00<00:00, 552.48it/s, now=None]\n",
      "t:  98%|█████████▊| 944/960 [00:00<00:00, 727.57it/s, now=None]\n",
      "                                                                 \r"
     ]
    },
    {
     "name": "stdout",
     "output_type": "stream",
     "text": [
      "Moviepy - Done !\n"
     ]
    },
    {
     "name": "stderr",
     "output_type": "stream",
     "text": [
      "                                                                 \r"
     ]
    },
    {
     "name": "stdout",
     "output_type": "stream",
     "text": [
      "Moviepy - video ready Video cuts collection/Video Segments/P17/music04.mp4\n"
     ]
    },
    {
     "name": "stderr",
     "output_type": "stream",
     "text": [
      "\r",
      "t:   0%|          | 2/960 [28:19<226:09:57, 849.89s/it, now=None]"
     ]
    },
    {
     "name": "stdout",
     "output_type": "stream",
     "text": [
      "df:\n",
      "    a          b          c\n",
      "0  9 1528088474 1528088713\n",
      "1 10 1528088859 1528089135\n",
      "2 11 1528089301 1528089540\n",
      "3 12 1528089644 1528089884\n",
      "4  5 1528090005 1528090222\n",
      "5  6 1528090350 1528090559\n",
      "6  7 1528090700 1528090902\n",
      "7  8 1528090997 1528091207\n",
      "df_correct_time:\n",
      "    music_type  from_minutes  from_seconds  to_minutes  to_seconds  \\\n",
      "0           9             0             0           0          32   \n",
      "1          10             0            51           1          28   \n",
      "2          11             1            50           2          22   \n",
      "3          12             2            36           3           8   \n",
      "4           5             3            24           3          53   \n",
      "5           6             4            10           4          38   \n",
      "6           7             4            57           5          24   \n",
      "7           8             5            36           6           4   \n",
      "\n",
      "   from_total_second  to_total_second  \n",
      "0                  0               32  \n",
      "1                 51               88  \n",
      "2                110              142  \n",
      "3                156              188  \n",
      "4                204              233  \n",
      "5                250              278  \n",
      "6                297              324  \n",
      "7                336              364  \n",
      "times 0\n"
     ]
    },
    {
     "name": "stderr",
     "output_type": "stream",
     "text": [
      "                                                                 \r"
     ]
    },
    {
     "name": "stdout",
     "output_type": "stream",
     "text": [
      "Moviepy - Building video Video cuts collection/Video Segments/P18/music09.mp4.\n"
     ]
    },
    {
     "name": "stderr",
     "output_type": "stream",
     "text": [
      "                                                                 \r"
     ]
    },
    {
     "name": "stdout",
     "output_type": "stream",
     "text": [
      "Moviepy - Writing video Video cuts collection/Video Segments/P18/music09.mp4\n",
      "\n"
     ]
    },
    {
     "name": "stderr",
     "output_type": "stream",
     "text": [
      "t:   0%|          | 2/960 [28:20<226:17:17, 850.35s/it, now=None]\n",
      "t:   0%|          | 0/900 [00:00<?, ?it/s, now=None]\n",
      "t:   2%|▏         | 14/900 [00:00<00:06, 138.64it/s, now=None]\n",
      "t:  35%|███▍      | 314/900 [00:00<00:03, 194.19it/s, now=None]\n",
      "t:  70%|██████▉   | 626/900 [00:00<00:01, 270.20it/s, now=None]\n",
      "                                                                 \r"
     ]
    },
    {
     "name": "stdout",
     "output_type": "stream",
     "text": [
      "Moviepy - Done !\n"
     ]
    },
    {
     "name": "stderr",
     "output_type": "stream",
     "text": [
      "                                                                 \r"
     ]
    },
    {
     "name": "stdout",
     "output_type": "stream",
     "text": [
      "Moviepy - video ready Video cuts collection/Video Segments/P18/music09.mp4\n"
     ]
    },
    {
     "name": "stderr",
     "output_type": "stream",
     "text": [
      "\r",
      "t:   0%|          | 2/960 [28:21<226:21:27, 850.61s/it, now=None]"
     ]
    },
    {
     "name": "stdout",
     "output_type": "stream",
     "text": [
      "times 1\n"
     ]
    },
    {
     "name": "stderr",
     "output_type": "stream",
     "text": [
      "                                                                 \r"
     ]
    },
    {
     "name": "stdout",
     "output_type": "stream",
     "text": [
      "Moviepy - Building video Video cuts collection/Video Segments/P18/music10.mp4.\n"
     ]
    },
    {
     "name": "stderr",
     "output_type": "stream",
     "text": [
      "                                                                 \r"
     ]
    },
    {
     "name": "stdout",
     "output_type": "stream",
     "text": [
      "Moviepy - Writing video Video cuts collection/Video Segments/P18/music10.mp4\n",
      "\n"
     ]
    },
    {
     "name": "stderr",
     "output_type": "stream",
     "text": [
      "t:   0%|          | 2/960 [28:21<226:26:30, 850.93s/it, now=None]\n",
      "t:   0%|          | 0/1110 [00:00<?, ?it/s, now=None]\n",
      "t:   1%|          | 10/1110 [00:00<00:11, 99.27it/s, now=None]\n",
      "t:  24%|██▍       | 269/1110 [00:00<00:06, 139.51it/s, now=None]\n",
      "t:  51%|█████▏    | 571/1110 [00:00<00:02, 195.41it/s, now=None]\n",
      "t:  82%|████████▏ | 906/1110 [00:00<00:00, 272.29it/s, now=None]\n",
      "                                                                 \r"
     ]
    },
    {
     "name": "stdout",
     "output_type": "stream",
     "text": [
      "Moviepy - Done !\n"
     ]
    },
    {
     "name": "stderr",
     "output_type": "stream",
     "text": [
      "                                                                 \r"
     ]
    },
    {
     "name": "stdout",
     "output_type": "stream",
     "text": [
      "Moviepy - video ready Video cuts collection/Video Segments/P18/music10.mp4\n"
     ]
    },
    {
     "name": "stderr",
     "output_type": "stream",
     "text": [
      "\r",
      "t:   0%|          | 2/960 [28:22<226:31:08, 851.22s/it, now=None]"
     ]
    },
    {
     "name": "stdout",
     "output_type": "stream",
     "text": [
      "times 2\n"
     ]
    },
    {
     "name": "stderr",
     "output_type": "stream",
     "text": [
      "                                                                 \r"
     ]
    },
    {
     "name": "stdout",
     "output_type": "stream",
     "text": [
      "Moviepy - Building video Video cuts collection/Video Segments/P18/music11.mp4.\n"
     ]
    },
    {
     "name": "stderr",
     "output_type": "stream",
     "text": [
      "                                                                 \r"
     ]
    },
    {
     "name": "stdout",
     "output_type": "stream",
     "text": [
      "Moviepy - Writing video Video cuts collection/Video Segments/P18/music11.mp4\n",
      "\n"
     ]
    },
    {
     "name": "stderr",
     "output_type": "stream",
     "text": [
      "t:   0%|          | 2/960 [28:23<226:36:30, 851.56s/it, now=None]\n",
      "t:   0%|          | 0/960 [00:00<?, ?it/s, now=None]\n",
      "t:   4%|▎         | 34/960 [00:00<00:02, 337.21it/s, now=None]\n",
      "t:  32%|███▏      | 309/960 [00:00<00:01, 457.51it/s, now=None]\n",
      "t:  66%|██████▋   | 638/960 [00:00<00:00, 616.57it/s, now=None]\n",
      "t:  98%|█████████▊| 938/960 [00:00<00:00, 809.03it/s, now=None]\n",
      "                                                                 \r"
     ]
    },
    {
     "name": "stdout",
     "output_type": "stream",
     "text": [
      "Moviepy - Done !\n"
     ]
    },
    {
     "name": "stderr",
     "output_type": "stream",
     "text": [
      "                                                                 \r"
     ]
    },
    {
     "name": "stdout",
     "output_type": "stream",
     "text": [
      "Moviepy - video ready Video cuts collection/Video Segments/P18/music11.mp4\n"
     ]
    },
    {
     "name": "stderr",
     "output_type": "stream",
     "text": [
      "\r",
      "t:   0%|          | 2/960 [28:23<226:40:44, 851.82s/it, now=None]"
     ]
    },
    {
     "name": "stdout",
     "output_type": "stream",
     "text": [
      "times 3\n"
     ]
    },
    {
     "name": "stderr",
     "output_type": "stream",
     "text": [
      "                                                                 \r"
     ]
    },
    {
     "name": "stdout",
     "output_type": "stream",
     "text": [
      "Moviepy - Building video Video cuts collection/Video Segments/P18/music12.mp4.\n"
     ]
    },
    {
     "name": "stderr",
     "output_type": "stream",
     "text": [
      "                                                                 \r"
     ]
    },
    {
     "name": "stdout",
     "output_type": "stream",
     "text": [
      "Moviepy - Writing video Video cuts collection/Video Segments/P18/music12.mp4\n",
      "\n"
     ]
    },
    {
     "name": "stderr",
     "output_type": "stream",
     "text": [
      "t:   0%|          | 2/960 [28:24<226:45:40, 852.13s/it, now=None]\n",
      "t:   0%|          | 0/960 [00:00<?, ?it/s, now=None]\n",
      "t:   3%|▎         | 30/960 [00:00<00:03, 297.83it/s, now=None]\n",
      "t:  34%|███▍      | 327/960 [00:00<00:01, 407.86it/s, now=None]\n",
      "t:  69%|██████▊   | 659/960 [00:00<00:00, 553.31it/s, now=None]\n",
      "t:  99%|█████████▉| 955/960 [00:00<00:00, 731.64it/s, now=None]\n",
      "                                                                 \r"
     ]
    },
    {
     "name": "stdout",
     "output_type": "stream",
     "text": [
      "Moviepy - Done !\n"
     ]
    },
    {
     "name": "stderr",
     "output_type": "stream",
     "text": [
      "                                                                 \r"
     ]
    },
    {
     "name": "stdout",
     "output_type": "stream",
     "text": [
      "Moviepy - video ready Video cuts collection/Video Segments/P18/music12.mp4\n"
     ]
    },
    {
     "name": "stderr",
     "output_type": "stream",
     "text": [
      "\r",
      "t:   0%|          | 2/960 [28:24<226:49:54, 852.39s/it, now=None]"
     ]
    },
    {
     "name": "stdout",
     "output_type": "stream",
     "text": [
      "times 4\n"
     ]
    },
    {
     "name": "stderr",
     "output_type": "stream",
     "text": [
      "                                                                 \r"
     ]
    },
    {
     "name": "stdout",
     "output_type": "stream",
     "text": [
      "Moviepy - Building video Video cuts collection/Video Segments/P18/music05.mp4.\n"
     ]
    },
    {
     "name": "stderr",
     "output_type": "stream",
     "text": [
      "                                                                 \r"
     ]
    },
    {
     "name": "stdout",
     "output_type": "stream",
     "text": [
      "Moviepy - Writing video Video cuts collection/Video Segments/P18/music05.mp4\n",
      "\n"
     ]
    },
    {
     "name": "stderr",
     "output_type": "stream",
     "text": [
      "t:   0%|          | 2/960 [28:25<226:54:49, 852.70s/it, now=None]\n",
      "t:   0%|          | 0/870 [00:00<?, ?it/s, now=None]\n",
      "t:   3%|▎         | 30/870 [00:00<00:02, 299.87it/s, now=None]\n",
      "t:  37%|███▋      | 318/870 [00:00<00:01, 409.96it/s, now=None]\n",
      "t:  70%|██████▉   | 606/870 [00:00<00:00, 551.83it/s, now=None]\n",
      "                                                                 \r"
     ]
    },
    {
     "name": "stdout",
     "output_type": "stream",
     "text": [
      "Moviepy - Done !\n"
     ]
    },
    {
     "name": "stderr",
     "output_type": "stream",
     "text": [
      "                                                                 \r"
     ]
    },
    {
     "name": "stdout",
     "output_type": "stream",
     "text": [
      "Moviepy - video ready Video cuts collection/Video Segments/P18/music05.mp4\n"
     ]
    },
    {
     "name": "stderr",
     "output_type": "stream",
     "text": [
      "\r",
      "t:   0%|          | 2/960 [28:25<226:59:00, 852.97s/it, now=None]"
     ]
    },
    {
     "name": "stdout",
     "output_type": "stream",
     "text": [
      "times 5\n"
     ]
    },
    {
     "name": "stderr",
     "output_type": "stream",
     "text": [
      "                                                                 \r"
     ]
    },
    {
     "name": "stdout",
     "output_type": "stream",
     "text": [
      "Moviepy - Building video Video cuts collection/Video Segments/P18/music06.mp4.\n"
     ]
    },
    {
     "name": "stderr",
     "output_type": "stream",
     "text": [
      "                                                                 \r"
     ]
    },
    {
     "name": "stdout",
     "output_type": "stream",
     "text": [
      "Moviepy - Writing video Video cuts collection/Video Segments/P18/music06.mp4\n",
      "\n"
     ]
    },
    {
     "name": "stderr",
     "output_type": "stream",
     "text": [
      "t:   0%|          | 2/960 [28:26<227:04:09, 853.29s/it, now=None]\n",
      "t:   0%|          | 0/840 [00:00<?, ?it/s, now=None]\n",
      "t:   4%|▍         | 36/840 [00:00<00:02, 358.66it/s, now=None]\n",
      "t:  37%|███▋      | 308/840 [00:00<00:01, 484.78it/s, now=None]\n",
      "t:  73%|███████▎  | 612/840 [00:00<00:00, 647.93it/s, now=None]\n",
      "                                                                 \r"
     ]
    },
    {
     "name": "stdout",
     "output_type": "stream",
     "text": [
      "Moviepy - Done !\n"
     ]
    },
    {
     "name": "stderr",
     "output_type": "stream",
     "text": [
      "                                                                 \r"
     ]
    },
    {
     "name": "stdout",
     "output_type": "stream",
     "text": [
      "Moviepy - video ready Video cuts collection/Video Segments/P18/music06.mp4\n"
     ]
    },
    {
     "name": "stderr",
     "output_type": "stream",
     "text": [
      "\r",
      "t:   0%|          | 2/960 [28:27<227:08:06, 853.54s/it, now=None]"
     ]
    },
    {
     "name": "stdout",
     "output_type": "stream",
     "text": [
      "times 6\n"
     ]
    },
    {
     "name": "stderr",
     "output_type": "stream",
     "text": [
      "                                                                 \r"
     ]
    },
    {
     "name": "stdout",
     "output_type": "stream",
     "text": [
      "Moviepy - Building video Video cuts collection/Video Segments/P18/music07.mp4.\n"
     ]
    },
    {
     "name": "stderr",
     "output_type": "stream",
     "text": [
      "                                                                 \r"
     ]
    },
    {
     "name": "stdout",
     "output_type": "stream",
     "text": [
      "Moviepy - Writing video Video cuts collection/Video Segments/P18/music07.mp4\n",
      "\n"
     ]
    },
    {
     "name": "stderr",
     "output_type": "stream",
     "text": [
      "t:   0%|          | 2/960 [28:27<227:13:16, 853.86s/it, now=None]\n",
      "t:   0%|          | 0/810 [00:00<?, ?it/s, now=None]\n",
      "t:   4%|▍         | 31/810 [00:00<00:02, 307.85it/s, now=None]\n",
      "t:  40%|████      | 325/810 [00:00<00:01, 420.76it/s, now=None]\n",
      "t:  78%|███████▊  | 632/810 [00:00<00:00, 567.51it/s, now=None]\n",
      "                                                                 \r"
     ]
    },
    {
     "name": "stdout",
     "output_type": "stream",
     "text": [
      "Moviepy - Done !\n"
     ]
    },
    {
     "name": "stderr",
     "output_type": "stream",
     "text": [
      "                                                                 \r"
     ]
    },
    {
     "name": "stdout",
     "output_type": "stream",
     "text": [
      "Moviepy - video ready Video cuts collection/Video Segments/P18/music07.mp4\n"
     ]
    },
    {
     "name": "stderr",
     "output_type": "stream",
     "text": [
      "\r",
      "t:   0%|          | 2/960 [28:28<227:18:22, 854.18s/it, now=None]"
     ]
    },
    {
     "name": "stdout",
     "output_type": "stream",
     "text": [
      "times 7\n"
     ]
    },
    {
     "name": "stderr",
     "output_type": "stream",
     "text": [
      "                                                                 \r"
     ]
    },
    {
     "name": "stdout",
     "output_type": "stream",
     "text": [
      "Moviepy - Building video Video cuts collection/Video Segments/P18/music08.mp4.\n"
     ]
    },
    {
     "name": "stderr",
     "output_type": "stream",
     "text": [
      "                                                                 \r"
     ]
    },
    {
     "name": "stdout",
     "output_type": "stream",
     "text": [
      "Moviepy - Writing video Video cuts collection/Video Segments/P18/music08.mp4\n",
      "\n"
     ]
    },
    {
     "name": "stderr",
     "output_type": "stream",
     "text": [
      "t:   0%|          | 2/960 [28:28<227:23:14, 854.48s/it, now=None]\n",
      "t:   0%|          | 0/840 [00:00<?, ?it/s, now=None]\n",
      "t:   4%|▍         | 35/840 [00:00<00:02, 346.93it/s, now=None]\n",
      "t:  39%|███▉      | 326/840 [00:00<00:01, 471.32it/s, now=None]\n",
      "t:  74%|███████▍  | 623/840 [00:00<00:00, 630.21it/s, now=None]\n",
      "                                                                 \r"
     ]
    },
    {
     "name": "stdout",
     "output_type": "stream",
     "text": [
      "Moviepy - Done !\n"
     ]
    },
    {
     "name": "stderr",
     "output_type": "stream",
     "text": [
      "                                                                 \r"
     ]
    },
    {
     "name": "stdout",
     "output_type": "stream",
     "text": [
      "Moviepy - video ready Video cuts collection/Video Segments/P18/music08.mp4\n"
     ]
    },
    {
     "name": "stderr",
     "output_type": "stream",
     "text": [
      "\r",
      "t:   0%|          | 2/960 [28:29<227:27:27, 854.75s/it, now=None]"
     ]
    },
    {
     "name": "stdout",
     "output_type": "stream",
     "text": [
      "df:\n",
      "    a          b          c\n",
      "0  1 1528161264 1528161521\n",
      "1  2 1528161706 1528161951\n",
      "2  3 1528162076 1528162309\n",
      "3  4 1528162440 1528162681\n",
      "4  9 1528162817 1528163056\n",
      "5 10 1528163220 1528163496\n",
      "6 11 1528163634 1528163873\n",
      "7 12 1528164054 1528164294\n",
      "df_correct_time:\n",
      "    music_type  from_minutes  from_seconds  to_minutes  to_seconds  \\\n",
      "0           1             0             0           0          34   \n",
      "1           2             0            59           1          32   \n",
      "2           3             1            48           2          19   \n",
      "3           4             2            37           3           9   \n",
      "4           9             3            27           3          59   \n",
      "5          10             4            21           4          58   \n",
      "6          11             5            16           5          48   \n",
      "7          12             6            12           6          44   \n",
      "\n",
      "   from_total_second  to_total_second  \n",
      "0                  0               34  \n",
      "1                 59               92  \n",
      "2                108              139  \n",
      "3                157              189  \n",
      "4                207              239  \n",
      "5                261              298  \n",
      "6                316              348  \n",
      "7                372              404  \n",
      "times 0\n"
     ]
    },
    {
     "name": "stderr",
     "output_type": "stream",
     "text": [
      "                                                                 \r"
     ]
    },
    {
     "name": "stdout",
     "output_type": "stream",
     "text": [
      "Moviepy - Building video Video cuts collection/Video Segments/P19/music01.mp4.\n"
     ]
    },
    {
     "name": "stderr",
     "output_type": "stream",
     "text": [
      "                                                                 \r"
     ]
    },
    {
     "name": "stdout",
     "output_type": "stream",
     "text": [
      "Moviepy - Writing video Video cuts collection/Video Segments/P19/music01.mp4\n",
      "\n"
     ]
    },
    {
     "name": "stderr",
     "output_type": "stream",
     "text": [
      "t:   0%|          | 2/960 [28:30<227:34:17, 855.18s/it, now=None]\n",
      "t:   0%|          | 0/960 [00:00<?, ?it/s, now=None]\n",
      "t:   3%|▎         | 30/960 [00:00<00:03, 298.38it/s, now=None]\n",
      "t:  34%|███▍      | 328/960 [00:00<00:01, 408.59it/s, now=None]\n",
      "t:  69%|██████▉   | 664/960 [00:00<00:00, 554.59it/s, now=None]\n",
      "                                                                 \r"
     ]
    },
    {
     "name": "stdout",
     "output_type": "stream",
     "text": [
      "Moviepy - Done !\n"
     ]
    },
    {
     "name": "stderr",
     "output_type": "stream",
     "text": [
      "                                                                 \r"
     ]
    },
    {
     "name": "stdout",
     "output_type": "stream",
     "text": [
      "Moviepy - video ready Video cuts collection/Video Segments/P19/music01.mp4\n"
     ]
    },
    {
     "name": "stderr",
     "output_type": "stream",
     "text": [
      "\r",
      "t:   0%|          | 2/960 [28:30<227:38:20, 855.43s/it, now=None]"
     ]
    },
    {
     "name": "stdout",
     "output_type": "stream",
     "text": [
      "times 1\n"
     ]
    },
    {
     "name": "stderr",
     "output_type": "stream",
     "text": [
      "                                                                 \r"
     ]
    },
    {
     "name": "stdout",
     "output_type": "stream",
     "text": [
      "Moviepy - Building video Video cuts collection/Video Segments/P19/music02.mp4.\n"
     ]
    },
    {
     "name": "stderr",
     "output_type": "stream",
     "text": [
      "                                                                 \r"
     ]
    },
    {
     "name": "stdout",
     "output_type": "stream",
     "text": [
      "Moviepy - Writing video Video cuts collection/Video Segments/P19/music02.mp4\n",
      "\n"
     ]
    },
    {
     "name": "stderr",
     "output_type": "stream",
     "text": [
      "t:   0%|          | 2/960 [28:31<227:43:27, 855.75s/it, now=None]\n",
      "t:   0%|          | 0/990 [00:00<?, ?it/s, now=None]\n",
      "t:   7%|▋         | 71/990 [00:00<00:01, 704.86it/s, now=None]\n",
      "t:  40%|████      | 400/990 [00:00<00:00, 921.66it/s, now=None]\n",
      "t:  72%|███████▏  | 717/990 [00:00<00:00, 1170.07it/s, now=None]\n",
      "                                                                 \r"
     ]
    },
    {
     "name": "stdout",
     "output_type": "stream",
     "text": [
      "Moviepy - Done !\n"
     ]
    },
    {
     "name": "stderr",
     "output_type": "stream",
     "text": [
      "                                                                 \r"
     ]
    },
    {
     "name": "stdout",
     "output_type": "stream",
     "text": [
      "Moviepy - video ready Video cuts collection/Video Segments/P19/music02.mp4\n"
     ]
    },
    {
     "name": "stderr",
     "output_type": "stream",
     "text": [
      "\r",
      "t:   0%|          | 2/960 [28:32<227:47:37, 856.01s/it, now=None]"
     ]
    },
    {
     "name": "stdout",
     "output_type": "stream",
     "text": [
      "times 2\n"
     ]
    },
    {
     "name": "stderr",
     "output_type": "stream",
     "text": [
      "                                                                 \r"
     ]
    },
    {
     "name": "stdout",
     "output_type": "stream",
     "text": [
      "Moviepy - Building video Video cuts collection/Video Segments/P19/music03.mp4.\n"
     ]
    },
    {
     "name": "stderr",
     "output_type": "stream",
     "text": [
      "                                                                 \r"
     ]
    },
    {
     "name": "stdout",
     "output_type": "stream",
     "text": [
      "Moviepy - Writing video Video cuts collection/Video Segments/P19/music03.mp4\n",
      "\n"
     ]
    },
    {
     "name": "stderr",
     "output_type": "stream",
     "text": [
      "t:   0%|          | 2/960 [28:32<227:52:59, 856.35s/it, now=None]\n",
      "t:   0%|          | 0/930 [00:00<?, ?it/s, now=None]\n",
      "t:   3%|▎         | 25/930 [00:00<00:03, 248.19it/s, now=None]\n",
      "t:  34%|███▎      | 313/930 [00:00<00:01, 341.84it/s, now=None]\n",
      "t:  69%|██████▉   | 645/930 [00:00<00:00, 467.56it/s, now=None]\n",
      "                                                                 \r"
     ]
    },
    {
     "name": "stdout",
     "output_type": "stream",
     "text": [
      "Moviepy - Done !\n"
     ]
    },
    {
     "name": "stderr",
     "output_type": "stream",
     "text": [
      "                                                                 \r"
     ]
    },
    {
     "name": "stdout",
     "output_type": "stream",
     "text": [
      "Moviepy - video ready Video cuts collection/Video Segments/P19/music03.mp4\n"
     ]
    },
    {
     "name": "stderr",
     "output_type": "stream",
     "text": [
      "\r",
      "t:   0%|          | 2/960 [28:33<227:57:10, 856.61s/it, now=None]"
     ]
    },
    {
     "name": "stdout",
     "output_type": "stream",
     "text": [
      "times 3\n"
     ]
    },
    {
     "name": "stderr",
     "output_type": "stream",
     "text": [
      "                                                                 \r"
     ]
    },
    {
     "name": "stdout",
     "output_type": "stream",
     "text": [
      "Moviepy - Building video Video cuts collection/Video Segments/P19/music04.mp4.\n"
     ]
    },
    {
     "name": "stderr",
     "output_type": "stream",
     "text": [
      "                                                                 \r"
     ]
    },
    {
     "name": "stdout",
     "output_type": "stream",
     "text": [
      "Moviepy - Writing video Video cuts collection/Video Segments/P19/music04.mp4\n",
      "\n"
     ]
    },
    {
     "name": "stderr",
     "output_type": "stream",
     "text": [
      "t:   0%|          | 2/960 [28:33<228:02:16, 856.93s/it, now=None]\n",
      "t:   0%|          | 0/960 [00:00<?, ?it/s, now=None]\n",
      "t:   4%|▎         | 35/960 [00:00<00:02, 349.10it/s, now=None]\n",
      "t:  36%|███▌      | 341/960 [00:00<00:01, 475.30it/s, now=None]\n",
      "t:  69%|██████▊   | 659/960 [00:00<00:00, 637.85it/s, now=None]\n",
      "                                                                 \r"
     ]
    },
    {
     "name": "stdout",
     "output_type": "stream",
     "text": [
      "Moviepy - Done !\n"
     ]
    },
    {
     "name": "stderr",
     "output_type": "stream",
     "text": [
      "                                                                 \r"
     ]
    },
    {
     "name": "stdout",
     "output_type": "stream",
     "text": [
      "Moviepy - video ready Video cuts collection/Video Segments/P19/music04.mp4\n"
     ]
    },
    {
     "name": "stderr",
     "output_type": "stream",
     "text": [
      "\r",
      "t:   0%|          | 2/960 [28:34<228:06:54, 857.22s/it, now=None]"
     ]
    },
    {
     "name": "stdout",
     "output_type": "stream",
     "text": [
      "times 4\n"
     ]
    },
    {
     "name": "stderr",
     "output_type": "stream",
     "text": [
      "                                                                 \r"
     ]
    },
    {
     "name": "stdout",
     "output_type": "stream",
     "text": [
      "Moviepy - Building video Video cuts collection/Video Segments/P19/music09.mp4.\n"
     ]
    },
    {
     "name": "stderr",
     "output_type": "stream",
     "text": [
      "                                                                 \r"
     ]
    },
    {
     "name": "stdout",
     "output_type": "stream",
     "text": [
      "Moviepy - Writing video Video cuts collection/Video Segments/P19/music09.mp4\n",
      "\n"
     ]
    },
    {
     "name": "stderr",
     "output_type": "stream",
     "text": [
      "t:   0%|          | 2/960 [28:35<228:12:06, 857.54s/it, now=None]\n",
      "t:   0%|          | 0/960 [00:00<?, ?it/s, now=None]\n",
      "t:   4%|▎         | 35/960 [00:00<00:02, 347.46it/s, now=None]\n",
      "t:  37%|███▋      | 355/960 [00:00<00:01, 474.15it/s, now=None]\n",
      "t:  72%|███████▏  | 688/960 [00:00<00:00, 638.13it/s, now=None]\n",
      "                                                                 \r"
     ]
    },
    {
     "name": "stdout",
     "output_type": "stream",
     "text": [
      "Moviepy - Done !\n"
     ]
    },
    {
     "name": "stderr",
     "output_type": "stream",
     "text": [
      "                                                                 \r"
     ]
    },
    {
     "name": "stdout",
     "output_type": "stream",
     "text": [
      "Moviepy - video ready Video cuts collection/Video Segments/P19/music09.mp4\n"
     ]
    },
    {
     "name": "stderr",
     "output_type": "stream",
     "text": [
      "\r",
      "t:   0%|          | 2/960 [28:35<228:16:15, 857.80s/it, now=None]"
     ]
    },
    {
     "name": "stdout",
     "output_type": "stream",
     "text": [
      "times 5\n"
     ]
    },
    {
     "name": "stderr",
     "output_type": "stream",
     "text": [
      "                                                                 \r"
     ]
    },
    {
     "name": "stdout",
     "output_type": "stream",
     "text": [
      "Moviepy - Building video Video cuts collection/Video Segments/P19/music10.mp4.\n"
     ]
    },
    {
     "name": "stderr",
     "output_type": "stream",
     "text": [
      "                                                                 \r"
     ]
    },
    {
     "name": "stdout",
     "output_type": "stream",
     "text": [
      "Moviepy - Writing video Video cuts collection/Video Segments/P19/music10.mp4\n",
      "\n"
     ]
    },
    {
     "name": "stderr",
     "output_type": "stream",
     "text": [
      "t:   0%|          | 2/960 [28:36<228:21:11, 858.11s/it, now=None]\n",
      "t:   0%|          | 0/1110 [00:00<?, ?it/s, now=None]\n",
      "t:   3%|▎         | 33/1110 [00:00<00:03, 327.60it/s, now=None]\n",
      "t:  28%|██▊       | 316/1110 [00:00<00:01, 445.72it/s, now=None]\n",
      "t:  57%|█████▋    | 634/1110 [00:00<00:00, 600.49it/s, now=None]\n",
      "t:  85%|████████▌ | 945/1110 [00:00<00:00, 791.84it/s, now=None]\n",
      "                                                                 \r"
     ]
    },
    {
     "name": "stdout",
     "output_type": "stream",
     "text": [
      "Moviepy - Done !\n"
     ]
    },
    {
     "name": "stderr",
     "output_type": "stream",
     "text": [
      "                                                                 \r"
     ]
    },
    {
     "name": "stdout",
     "output_type": "stream",
     "text": [
      "Moviepy - video ready Video cuts collection/Video Segments/P19/music10.mp4\n"
     ]
    },
    {
     "name": "stderr",
     "output_type": "stream",
     "text": [
      "\r",
      "t:   0%|          | 2/960 [28:36<228:25:44, 858.40s/it, now=None]"
     ]
    },
    {
     "name": "stdout",
     "output_type": "stream",
     "text": [
      "times 6\n"
     ]
    },
    {
     "name": "stderr",
     "output_type": "stream",
     "text": [
      "                                                                 \r"
     ]
    },
    {
     "name": "stdout",
     "output_type": "stream",
     "text": [
      "Moviepy - Building video Video cuts collection/Video Segments/P19/music11.mp4.\n"
     ]
    },
    {
     "name": "stderr",
     "output_type": "stream",
     "text": [
      "                                                                 \r"
     ]
    },
    {
     "name": "stdout",
     "output_type": "stream",
     "text": [
      "Moviepy - Writing video Video cuts collection/Video Segments/P19/music11.mp4\n",
      "\n"
     ]
    },
    {
     "name": "stderr",
     "output_type": "stream",
     "text": [
      "t:   0%|          | 2/960 [28:37<228:30:41, 858.71s/it, now=None]\n",
      "t:   0%|          | 0/960 [00:00<?, ?it/s, now=None]\n",
      "t:   3%|▎         | 30/960 [00:00<00:03, 297.74it/s, now=None]\n",
      "t:  34%|███▎      | 323/960 [00:00<00:01, 407.56it/s, now=None]\n",
      "t:  67%|██████▋   | 645/960 [00:00<00:00, 552.19it/s, now=None]\n",
      "t:  98%|█████████▊| 940/960 [00:00<00:00, 729.87it/s, now=None]\n",
      "                                                                 \r"
     ]
    },
    {
     "name": "stdout",
     "output_type": "stream",
     "text": [
      "Moviepy - Done !\n"
     ]
    },
    {
     "name": "stderr",
     "output_type": "stream",
     "text": [
      "                                                                 \r"
     ]
    },
    {
     "name": "stdout",
     "output_type": "stream",
     "text": [
      "Moviepy - video ready Video cuts collection/Video Segments/P19/music11.mp4\n"
     ]
    },
    {
     "name": "stderr",
     "output_type": "stream",
     "text": [
      "\r",
      "t:   0%|          | 2/960 [28:37<228:35:02, 858.98s/it, now=None]"
     ]
    },
    {
     "name": "stdout",
     "output_type": "stream",
     "text": [
      "times 7\n"
     ]
    },
    {
     "name": "stderr",
     "output_type": "stream",
     "text": [
      "                                                                 \r"
     ]
    },
    {
     "name": "stdout",
     "output_type": "stream",
     "text": [
      "Moviepy - Building video Video cuts collection/Video Segments/P19/music12.mp4.\n"
     ]
    },
    {
     "name": "stderr",
     "output_type": "stream",
     "text": [
      "                                                                 \r"
     ]
    },
    {
     "name": "stdout",
     "output_type": "stream",
     "text": [
      "Moviepy - Writing video Video cuts collection/Video Segments/P19/music12.mp4\n",
      "\n"
     ]
    },
    {
     "name": "stderr",
     "output_type": "stream",
     "text": [
      "t:   0%|          | 2/960 [28:38<228:40:15, 859.31s/it, now=None]\n",
      "t:   0%|          | 0/960 [00:00<?, ?it/s, now=None]\n",
      "t:   4%|▍         | 36/960 [00:00<00:02, 358.94it/s, now=None]\n",
      "t:  34%|███▎      | 323/960 [00:00<00:01, 486.60it/s, now=None]\n",
      "t:  68%|██████▊   | 649/960 [00:00<00:00, 653.07it/s, now=None]\n",
      "t:  97%|█████████▋| 935/960 [00:00<00:00, 849.24it/s, now=None]\n",
      "                                                                 \r"
     ]
    },
    {
     "name": "stdout",
     "output_type": "stream",
     "text": [
      "Moviepy - Done !\n"
     ]
    },
    {
     "name": "stderr",
     "output_type": "stream",
     "text": [
      "                                                                 \r"
     ]
    },
    {
     "name": "stdout",
     "output_type": "stream",
     "text": [
      "Moviepy - video ready Video cuts collection/Video Segments/P19/music12.mp4\n"
     ]
    },
    {
     "name": "stderr",
     "output_type": "stream",
     "text": [
      "\r",
      "t:   0%|          | 2/960 [28:39<228:45:25, 859.63s/it, now=None]"
     ]
    },
    {
     "name": "stdout",
     "output_type": "stream",
     "text": [
      "df:\n",
      "    a          b          c\n",
      "0  5 1528349265 1528349482\n",
      "1  6 1528349750 1528349959\n",
      "2  7 1528350143 1528350345\n",
      "3  8 1528350499 1528350709\n",
      "4  1 1528350884 1528351141\n",
      "5  2 1528351318 1528351563\n",
      "6  3 1528351744 1528351977\n",
      "7  4 1528352096 1528352337\n",
      "df_correct_time:\n",
      "    music_type  from_minutes  from_seconds  to_minutes  to_seconds  \\\n",
      "0           5             0             0           0          29   \n",
      "1           6             1             5           1          33   \n",
      "2           7             1            57           2          24   \n",
      "3           8             2            45           3          13   \n",
      "4           1             3            36           4          10   \n",
      "5           2             4            34           5           6   \n",
      "6           3             5            31           6           2   \n",
      "7           4             6            17           6          50   \n",
      "\n",
      "   from_total_second  to_total_second  \n",
      "0                  0               29  \n",
      "1                 65               93  \n",
      "2                117              144  \n",
      "3                165              193  \n",
      "4                216              250  \n",
      "5                274              306  \n",
      "6                331              362  \n",
      "7                377              410  \n",
      "times 0\n"
     ]
    },
    {
     "name": "stderr",
     "output_type": "stream",
     "text": [
      "                                                                 \r"
     ]
    },
    {
     "name": "stdout",
     "output_type": "stream",
     "text": [
      "Moviepy - Building video Video cuts collection/Video Segments/P20/music05.mp4.\n"
     ]
    },
    {
     "name": "stderr",
     "output_type": "stream",
     "text": [
      "                                                                 \r"
     ]
    },
    {
     "name": "stdout",
     "output_type": "stream",
     "text": [
      "Moviepy - Writing video Video cuts collection/Video Segments/P20/music05.mp4\n",
      "\n"
     ]
    },
    {
     "name": "stderr",
     "output_type": "stream",
     "text": [
      "t:   0%|          | 2/960 [28:40<228:53:41, 860.15s/it, now=None]\n",
      "t:   0%|          | 0/810 [00:00<?, ?it/s, now=None]\n",
      "t:   3%|▎         | 28/810 [00:00<00:02, 279.97it/s, now=None]\n",
      "t:  44%|████▎     | 354/810 [00:00<00:01, 385.64it/s, now=None]\n",
      "t:  88%|████████▊ | 712/810 [00:00<00:00, 526.43it/s, now=None]\n",
      "                                                                 \r"
     ]
    },
    {
     "name": "stdout",
     "output_type": "stream",
     "text": [
      "Moviepy - Done !\n"
     ]
    },
    {
     "name": "stderr",
     "output_type": "stream",
     "text": [
      "                                                                 \r"
     ]
    },
    {
     "name": "stdout",
     "output_type": "stream",
     "text": [
      "Moviepy - video ready Video cuts collection/Video Segments/P20/music05.mp4\n"
     ]
    },
    {
     "name": "stderr",
     "output_type": "stream",
     "text": [
      "\r",
      "t:   0%|          | 2/960 [28:40<228:57:20, 860.38s/it, now=None]"
     ]
    },
    {
     "name": "stdout",
     "output_type": "stream",
     "text": [
      "times 1\n"
     ]
    },
    {
     "name": "stderr",
     "output_type": "stream",
     "text": [
      "                                                                 \r"
     ]
    },
    {
     "name": "stdout",
     "output_type": "stream",
     "text": [
      "Moviepy - Building video Video cuts collection/Video Segments/P20/music06.mp4.\n"
     ]
    },
    {
     "name": "stderr",
     "output_type": "stream",
     "text": [
      "                                                                 \r"
     ]
    },
    {
     "name": "stdout",
     "output_type": "stream",
     "text": [
      "Moviepy - Writing video Video cuts collection/Video Segments/P20/music06.mp4\n",
      "\n"
     ]
    },
    {
     "name": "stderr",
     "output_type": "stream",
     "text": [
      "t:   0%|          | 2/960 [28:41<229:02:22, 860.69s/it, now=None]\n",
      "t:   0%|          | 0/840 [00:00<?, ?it/s, now=None]\n",
      "t:   4%|▎         | 30/840 [00:00<00:02, 297.82it/s, now=None]\n",
      "t:  42%|████▏     | 352/840 [00:00<00:01, 409.12it/s, now=None]\n",
      "t:  83%|████████▎ | 697/840 [00:00<00:00, 556.00it/s, now=None]\n",
      "                                                                 \r"
     ]
    },
    {
     "name": "stdout",
     "output_type": "stream",
     "text": [
      "Moviepy - Done !\n"
     ]
    },
    {
     "name": "stderr",
     "output_type": "stream",
     "text": [
      "                                                                 \r"
     ]
    },
    {
     "name": "stdout",
     "output_type": "stream",
     "text": [
      "Moviepy - video ready Video cuts collection/Video Segments/P20/music06.mp4\n"
     ]
    },
    {
     "name": "stderr",
     "output_type": "stream",
     "text": [
      "\r",
      "t:   0%|          | 2/960 [28:41<229:06:23, 860.94s/it, now=None]"
     ]
    },
    {
     "name": "stdout",
     "output_type": "stream",
     "text": [
      "times 2\n"
     ]
    },
    {
     "name": "stderr",
     "output_type": "stream",
     "text": [
      "                                                                 \r"
     ]
    },
    {
     "name": "stdout",
     "output_type": "stream",
     "text": [
      "Moviepy - Building video Video cuts collection/Video Segments/P20/music07.mp4.\n"
     ]
    },
    {
     "name": "stderr",
     "output_type": "stream",
     "text": [
      "                                                                 \r"
     ]
    },
    {
     "name": "stdout",
     "output_type": "stream",
     "text": [
      "Moviepy - Writing video Video cuts collection/Video Segments/P20/music07.mp4\n",
      "\n"
     ]
    },
    {
     "name": "stderr",
     "output_type": "stream",
     "text": [
      "t:   0%|          | 2/960 [28:42<229:11:38, 861.27s/it, now=None]\n",
      "t:   0%|          | 0/810 [00:00<?, ?it/s, now=None]\n",
      "t:   1%|          | 7/810 [00:00<00:11, 69.49it/s, now=None]\n",
      "t:  36%|███▌      | 289/810 [00:00<00:05, 98.22it/s, now=None]\n",
      "t:  75%|███████▌  | 610/810 [00:00<00:01, 138.49it/s, now=None]\n",
      "                                                                 \r"
     ]
    },
    {
     "name": "stdout",
     "output_type": "stream",
     "text": [
      "Moviepy - Done !\n"
     ]
    },
    {
     "name": "stderr",
     "output_type": "stream",
     "text": [
      "                                                                 \r"
     ]
    },
    {
     "name": "stdout",
     "output_type": "stream",
     "text": [
      "Moviepy - video ready Video cuts collection/Video Segments/P20/music07.mp4\n"
     ]
    },
    {
     "name": "stderr",
     "output_type": "stream",
     "text": [
      "\r",
      "t:   0%|          | 2/960 [28:43<229:15:37, 861.52s/it, now=None]"
     ]
    },
    {
     "name": "stdout",
     "output_type": "stream",
     "text": [
      "times 3\n"
     ]
    },
    {
     "name": "stderr",
     "output_type": "stream",
     "text": [
      "                                                                 \r"
     ]
    },
    {
     "name": "stdout",
     "output_type": "stream",
     "text": [
      "Moviepy - Building video Video cuts collection/Video Segments/P20/music08.mp4.\n"
     ]
    },
    {
     "name": "stderr",
     "output_type": "stream",
     "text": [
      "                                                                 \r"
     ]
    },
    {
     "name": "stdout",
     "output_type": "stream",
     "text": [
      "Moviepy - Writing video Video cuts collection/Video Segments/P20/music08.mp4\n",
      "\n"
     ]
    },
    {
     "name": "stderr",
     "output_type": "stream",
     "text": [
      "t:   0%|          | 2/960 [28:43<229:20:58, 861.86s/it, now=None]\n",
      "t:   0%|          | 0/840 [00:00<?, ?it/s, now=None]\n",
      "t:   2%|▎         | 21/840 [00:00<00:03, 208.50it/s, now=None]\n",
      "t:  38%|███▊      | 318/840 [00:00<00:01, 289.10it/s, now=None]\n",
      "t:  74%|███████▎  | 618/840 [00:00<00:00, 396.51it/s, now=None]\n",
      "                                                                 \r"
     ]
    },
    {
     "name": "stdout",
     "output_type": "stream",
     "text": [
      "Moviepy - Done !\n"
     ]
    },
    {
     "name": "stderr",
     "output_type": "stream",
     "text": [
      "                                                                 \r"
     ]
    },
    {
     "name": "stdout",
     "output_type": "stream",
     "text": [
      "Moviepy - video ready Video cuts collection/Video Segments/P20/music08.mp4\n"
     ]
    },
    {
     "name": "stderr",
     "output_type": "stream",
     "text": [
      "\r",
      "t:   0%|          | 2/960 [28:44<229:25:00, 862.11s/it, now=None]"
     ]
    },
    {
     "name": "stdout",
     "output_type": "stream",
     "text": [
      "times 4\n"
     ]
    },
    {
     "name": "stderr",
     "output_type": "stream",
     "text": [
      "                                                                 \r"
     ]
    },
    {
     "name": "stdout",
     "output_type": "stream",
     "text": [
      "Moviepy - Building video Video cuts collection/Video Segments/P20/music01.mp4.\n"
     ]
    },
    {
     "name": "stderr",
     "output_type": "stream",
     "text": [
      "                                                                 \r"
     ]
    },
    {
     "name": "stdout",
     "output_type": "stream",
     "text": [
      "Moviepy - Writing video Video cuts collection/Video Segments/P20/music01.mp4\n",
      "\n"
     ]
    },
    {
     "name": "stderr",
     "output_type": "stream",
     "text": [
      "t:   0%|          | 2/960 [28:44<229:30:21, 862.44s/it, now=None]\n",
      "t:   0%|          | 0/1020 [00:00<?, ?it/s, now=None]\n",
      "t:   0%|          | 3/1020 [00:00<00:34, 29.45it/s, now=None]\n",
      "t:  29%|██▉       | 296/1020 [00:00<00:17, 41.89it/s, now=None]\n",
      "t:  60%|██████    | 617/1020 [00:00<00:06, 59.51it/s, now=None]\n",
      "t:  91%|█████████ | 924/1020 [00:00<00:01, 84.30it/s, now=None]\n",
      "                                                                 \r"
     ]
    },
    {
     "name": "stdout",
     "output_type": "stream",
     "text": [
      "Moviepy - Done !\n"
     ]
    },
    {
     "name": "stderr",
     "output_type": "stream",
     "text": [
      "                                                                 \r"
     ]
    },
    {
     "name": "stdout",
     "output_type": "stream",
     "text": [
      "Moviepy - video ready Video cuts collection/Video Segments/P20/music01.mp4\n"
     ]
    },
    {
     "name": "stderr",
     "output_type": "stream",
     "text": [
      "\r",
      "t:   0%|          | 2/960 [28:45<229:34:55, 862.73s/it, now=None]"
     ]
    },
    {
     "name": "stdout",
     "output_type": "stream",
     "text": [
      "times 5\n"
     ]
    },
    {
     "name": "stderr",
     "output_type": "stream",
     "text": [
      "                                                                 \r"
     ]
    },
    {
     "name": "stdout",
     "output_type": "stream",
     "text": [
      "Moviepy - Building video Video cuts collection/Video Segments/P20/music02.mp4.\n"
     ]
    },
    {
     "name": "stderr",
     "output_type": "stream",
     "text": [
      "                                                                 \r"
     ]
    },
    {
     "name": "stdout",
     "output_type": "stream",
     "text": [
      "Moviepy - Writing video Video cuts collection/Video Segments/P20/music02.mp4\n",
      "\n"
     ]
    },
    {
     "name": "stderr",
     "output_type": "stream",
     "text": [
      "t:   0%|          | 2/960 [28:46<229:40:13, 863.06s/it, now=None]\n",
      "t:   0%|          | 0/960 [00:00<?, ?it/s, now=None]\n",
      "t:   2%|▎         | 24/960 [00:00<00:03, 238.26it/s, now=None]\n",
      "t:  33%|███▎      | 314/960 [00:00<00:01, 328.71it/s, now=None]\n",
      "t:  66%|██████▌   | 629/960 [00:00<00:00, 449.34it/s, now=None]\n",
      "t:  96%|█████████▌| 919/960 [00:00<00:00, 601.74it/s, now=None]\n",
      "                                                                 \r"
     ]
    },
    {
     "name": "stdout",
     "output_type": "stream",
     "text": [
      "Moviepy - Done !\n"
     ]
    },
    {
     "name": "stderr",
     "output_type": "stream",
     "text": [
      "                                                                 \r"
     ]
    },
    {
     "name": "stdout",
     "output_type": "stream",
     "text": [
      "Moviepy - video ready Video cuts collection/Video Segments/P20/music02.mp4\n"
     ]
    },
    {
     "name": "stderr",
     "output_type": "stream",
     "text": [
      "\r",
      "t:   0%|          | 2/960 [28:46<229:44:42, 863.34s/it, now=None]"
     ]
    },
    {
     "name": "stdout",
     "output_type": "stream",
     "text": [
      "times 6\n"
     ]
    },
    {
     "name": "stderr",
     "output_type": "stream",
     "text": [
      "                                                                 \r"
     ]
    },
    {
     "name": "stdout",
     "output_type": "stream",
     "text": [
      "Moviepy - Building video Video cuts collection/Video Segments/P20/music03.mp4.\n"
     ]
    },
    {
     "name": "stderr",
     "output_type": "stream",
     "text": [
      "                                                                 \r"
     ]
    },
    {
     "name": "stdout",
     "output_type": "stream",
     "text": [
      "Moviepy - Writing video Video cuts collection/Video Segments/P20/music03.mp4\n",
      "\n"
     ]
    },
    {
     "name": "stderr",
     "output_type": "stream",
     "text": [
      "t:   0%|          | 2/960 [28:47<229:49:53, 863.67s/it, now=None]\n",
      "t:   0%|          | 0/930 [00:00<?, ?it/s, now=None]\n",
      "t:   2%|▏         | 19/930 [00:00<00:04, 188.62it/s, now=None]\n",
      "t:  33%|███▎      | 307/930 [00:00<00:02, 262.05it/s, now=None]\n",
      "t:  65%|██████▌   | 608/930 [00:00<00:00, 360.86it/s, now=None]\n",
      "t:  99%|█████████▉| 920/930 [00:00<00:00, 491.00it/s, now=None]\n",
      "                                                                 \r"
     ]
    },
    {
     "name": "stdout",
     "output_type": "stream",
     "text": [
      "Moviepy - Done !\n"
     ]
    },
    {
     "name": "stderr",
     "output_type": "stream",
     "text": [
      "                                                                 \r"
     ]
    },
    {
     "name": "stdout",
     "output_type": "stream",
     "text": [
      "Moviepy - video ready Video cuts collection/Video Segments/P20/music03.mp4\n"
     ]
    },
    {
     "name": "stderr",
     "output_type": "stream",
     "text": [
      "\r",
      "t:   0%|          | 2/960 [28:47<229:54:10, 863.94s/it, now=None]"
     ]
    },
    {
     "name": "stdout",
     "output_type": "stream",
     "text": [
      "times 7\n"
     ]
    },
    {
     "name": "stderr",
     "output_type": "stream",
     "text": [
      "                                                                 \r"
     ]
    },
    {
     "name": "stdout",
     "output_type": "stream",
     "text": [
      "Moviepy - Building video Video cuts collection/Video Segments/P20/music04.mp4.\n"
     ]
    },
    {
     "name": "stderr",
     "output_type": "stream",
     "text": [
      "                                                                 \r"
     ]
    },
    {
     "name": "stdout",
     "output_type": "stream",
     "text": [
      "Moviepy - Writing video Video cuts collection/Video Segments/P20/music04.mp4\n",
      "\n"
     ]
    },
    {
     "name": "stderr",
     "output_type": "stream",
     "text": [
      "t:   0%|          | 2/960 [28:48<229:59:14, 864.25s/it, now=None]\n",
      "t:   0%|          | 0/990 [00:00<?, ?it/s, now=None]\n",
      "t:   0%|          | 3/990 [00:00<00:34, 28.92it/s, now=None]\n",
      "t:  29%|██▉       | 287/990 [00:00<00:17, 41.14it/s, now=None]\n",
      "t:  62%|██████▏   | 614/990 [00:00<00:06, 58.45it/s, now=None]\n",
      "t:  95%|█████████▌| 945/990 [00:00<00:00, 82.87it/s, now=None]\n",
      "                                                                 \r"
     ]
    },
    {
     "name": "stdout",
     "output_type": "stream",
     "text": [
      "Moviepy - Done !\n"
     ]
    },
    {
     "name": "stderr",
     "output_type": "stream",
     "text": [
      "                                                                 \r"
     ]
    },
    {
     "name": "stdout",
     "output_type": "stream",
     "text": [
      "Moviepy - video ready Video cuts collection/Video Segments/P20/music04.mp4\n"
     ]
    },
    {
     "name": "stderr",
     "output_type": "stream",
     "text": [
      "\r",
      "t:   0%|          | 2/960 [28:49<230:03:42, 864.53s/it, now=None]"
     ]
    },
    {
     "name": "stdout",
     "output_type": "stream",
     "text": [
      "df:\n",
      "    a          b          c\n",
      "0  5 1528420665 1528420882\n",
      "1  6 1528421026 1528421235\n",
      "2  7 1528421364 1528421566\n",
      "3  8 1528421692 1528421902\n",
      "4  9 1528422015 1528422254\n",
      "5 10 1528422370 1528422646\n",
      "6 11 1528422784 1528423023\n",
      "7 12 1528423130 1528423370\n",
      "df_correct_time:\n",
      "    music_type  from_minutes  from_seconds  to_minutes  to_seconds  \\\n",
      "0           5             0             0           0          29   \n",
      "1           6             0            48           1          16   \n",
      "2           7             1            33           2           0   \n",
      "3           8             2            17           2          45   \n",
      "4           9             3             0           3          32   \n",
      "5          10             3            47           4          24   \n",
      "6          11             4            43           5          14   \n",
      "7          12             5            29           6           1   \n",
      "\n",
      "   from_total_second  to_total_second  \n",
      "0                  0               29  \n",
      "1                 48               76  \n",
      "2                 93              120  \n",
      "3                137              165  \n",
      "4                180              212  \n",
      "5                227              264  \n",
      "6                283              314  \n",
      "7                329              361  \n",
      "times 0\n"
     ]
    },
    {
     "name": "stderr",
     "output_type": "stream",
     "text": [
      "                                                                 \r"
     ]
    },
    {
     "name": "stdout",
     "output_type": "stream",
     "text": [
      "Moviepy - Building video Video cuts collection/Video Segments/P21/music05.mp4.\n"
     ]
    },
    {
     "name": "stderr",
     "output_type": "stream",
     "text": [
      "                                                                 \r"
     ]
    },
    {
     "name": "stdout",
     "output_type": "stream",
     "text": [
      "Moviepy - Writing video Video cuts collection/Video Segments/P21/music05.mp4\n",
      "\n"
     ]
    },
    {
     "name": "stderr",
     "output_type": "stream",
     "text": [
      "t:   0%|          | 2/960 [28:49<230:10:33, 864.96s/it, now=None]\n",
      "t:   0%|          | 0/810 [00:00<?, ?it/s, now=None]\n",
      "t:   3%|▎         | 21/810 [00:00<00:03, 208.85it/s, now=None]\n",
      "t:  38%|███▊      | 304/810 [00:00<00:01, 289.17it/s, now=None]\n",
      "t:  75%|███████▌  | 611/810 [00:00<00:00, 397.04it/s, now=None]\n",
      "                                                                 \r"
     ]
    },
    {
     "name": "stdout",
     "output_type": "stream",
     "text": [
      "Moviepy - Done !\n"
     ]
    },
    {
     "name": "stderr",
     "output_type": "stream",
     "text": [
      "                                                                 \r"
     ]
    },
    {
     "name": "stdout",
     "output_type": "stream",
     "text": [
      "Moviepy - video ready Video cuts collection/Video Segments/P21/music05.mp4\n"
     ]
    },
    {
     "name": "stderr",
     "output_type": "stream",
     "text": [
      "\r",
      "t:   0%|          | 2/960 [28:50<230:15:31, 865.27s/it, now=None]"
     ]
    },
    {
     "name": "stdout",
     "output_type": "stream",
     "text": [
      "times 1\n"
     ]
    },
    {
     "name": "stderr",
     "output_type": "stream",
     "text": [
      "                                                                 \r"
     ]
    },
    {
     "name": "stdout",
     "output_type": "stream",
     "text": [
      "Moviepy - Building video Video cuts collection/Video Segments/P21/music06.mp4.\n"
     ]
    },
    {
     "name": "stderr",
     "output_type": "stream",
     "text": [
      "                                                                 \r"
     ]
    },
    {
     "name": "stdout",
     "output_type": "stream",
     "text": [
      "Moviepy - Writing video Video cuts collection/Video Segments/P21/music06.mp4\n",
      "\n"
     ]
    },
    {
     "name": "stderr",
     "output_type": "stream",
     "text": [
      "t:   0%|          | 2/960 [28:51<230:20:51, 865.61s/it, now=None]\n",
      "t:   0%|          | 0/840 [00:00<?, ?it/s, now=None]\n",
      "t:   5%|▌         | 43/840 [00:00<00:01, 426.88it/s, now=None]\n",
      "t:  41%|████      | 342/840 [00:00<00:00, 574.43it/s, now=None]\n",
      "t:  77%|███████▋  | 649/840 [00:00<00:00, 759.28it/s, now=None]\n",
      "                                                                 \r"
     ]
    },
    {
     "name": "stdout",
     "output_type": "stream",
     "text": [
      "Moviepy - Done !\n"
     ]
    },
    {
     "name": "stderr",
     "output_type": "stream",
     "text": [
      "                                                                 \r"
     ]
    },
    {
     "name": "stdout",
     "output_type": "stream",
     "text": [
      "Moviepy - video ready Video cuts collection/Video Segments/P21/music06.mp4\n"
     ]
    },
    {
     "name": "stderr",
     "output_type": "stream",
     "text": [
      "\r",
      "t:   0%|          | 2/960 [28:51<230:24:56, 865.86s/it, now=None]"
     ]
    },
    {
     "name": "stdout",
     "output_type": "stream",
     "text": [
      "times 2\n"
     ]
    },
    {
     "name": "stderr",
     "output_type": "stream",
     "text": [
      "                                                                 \r"
     ]
    },
    {
     "name": "stdout",
     "output_type": "stream",
     "text": [
      "Moviepy - Building video Video cuts collection/Video Segments/P21/music07.mp4.\n"
     ]
    },
    {
     "name": "stderr",
     "output_type": "stream",
     "text": [
      "                                                                 \r"
     ]
    },
    {
     "name": "stdout",
     "output_type": "stream",
     "text": [
      "Moviepy - Writing video Video cuts collection/Video Segments/P21/music07.mp4\n",
      "\n"
     ]
    },
    {
     "name": "stderr",
     "output_type": "stream",
     "text": [
      "t:   0%|          | 2/960 [28:52<230:30:12, 866.19s/it, now=None]\n",
      "t:   0%|          | 0/810 [00:00<?, ?it/s, now=None]\n",
      "t:   3%|▎         | 22/810 [00:00<00:03, 218.41it/s, now=None]\n",
      "t:  39%|███▊      | 313/810 [00:00<00:01, 302.22it/s, now=None]\n",
      "t:  78%|███████▊  | 630/810 [00:00<00:00, 414.68it/s, now=None]\n",
      "                                                                 \r"
     ]
    },
    {
     "name": "stdout",
     "output_type": "stream",
     "text": [
      "Moviepy - Done !\n"
     ]
    },
    {
     "name": "stderr",
     "output_type": "stream",
     "text": [
      "                                                                 \r"
     ]
    },
    {
     "name": "stdout",
     "output_type": "stream",
     "text": [
      "Moviepy - video ready Video cuts collection/Video Segments/P21/music07.mp4\n"
     ]
    },
    {
     "name": "stderr",
     "output_type": "stream",
     "text": [
      "\r",
      "t:   0%|          | 2/960 [28:52<230:34:11, 866.44s/it, now=None]"
     ]
    },
    {
     "name": "stdout",
     "output_type": "stream",
     "text": [
      "times 3\n"
     ]
    },
    {
     "name": "stderr",
     "output_type": "stream",
     "text": [
      "                                                                 \r"
     ]
    },
    {
     "name": "stdout",
     "output_type": "stream",
     "text": [
      "Moviepy - Building video Video cuts collection/Video Segments/P21/music08.mp4.\n"
     ]
    },
    {
     "name": "stderr",
     "output_type": "stream",
     "text": [
      "                                                                 \r"
     ]
    },
    {
     "name": "stdout",
     "output_type": "stream",
     "text": [
      "Moviepy - Writing video Video cuts collection/Video Segments/P21/music08.mp4\n",
      "\n"
     ]
    },
    {
     "name": "stderr",
     "output_type": "stream",
     "text": [
      "t:   0%|          | 2/960 [28:53<230:39:46, 866.79s/it, now=None]\n",
      "t:   0%|          | 0/840 [00:00<?, ?it/s, now=None]\n",
      "t:   0%|          | 2/840 [00:00<00:43, 19.28it/s, now=None]\n",
      "t:  15%|█▌        | 128/840 [00:00<00:26, 27.37it/s, now=None]\n",
      "t:  46%|████▌     | 385/840 [00:00<00:11, 38.92it/s, now=None]\n",
      "t:  79%|███████▉  | 666/840 [00:00<00:03, 55.26it/s, now=None]\n",
      "                                                                 \r"
     ]
    },
    {
     "name": "stdout",
     "output_type": "stream",
     "text": [
      "Moviepy - Done !\n"
     ]
    },
    {
     "name": "stderr",
     "output_type": "stream",
     "text": [
      "                                                                 \r"
     ]
    },
    {
     "name": "stdout",
     "output_type": "stream",
     "text": [
      "Moviepy - video ready Video cuts collection/Video Segments/P21/music08.mp4\n"
     ]
    },
    {
     "name": "stderr",
     "output_type": "stream",
     "text": [
      "\r",
      "t:   0%|          | 2/960 [28:54<230:44:40, 867.10s/it, now=None]"
     ]
    },
    {
     "name": "stdout",
     "output_type": "stream",
     "text": [
      "times 4\n"
     ]
    },
    {
     "name": "stderr",
     "output_type": "stream",
     "text": [
      "                                                                 \r"
     ]
    },
    {
     "name": "stdout",
     "output_type": "stream",
     "text": [
      "Moviepy - Building video Video cuts collection/Video Segments/P21/music09.mp4.\n"
     ]
    },
    {
     "name": "stderr",
     "output_type": "stream",
     "text": [
      "                                                                 \r"
     ]
    },
    {
     "name": "stdout",
     "output_type": "stream",
     "text": [
      "Moviepy - Writing video Video cuts collection/Video Segments/P21/music09.mp4\n",
      "\n"
     ]
    },
    {
     "name": "stderr",
     "output_type": "stream",
     "text": [
      "t:   0%|          | 2/960 [28:54<230:50:16, 867.45s/it, now=None]\n",
      "t:   0%|          | 0/960 [00:00<?, ?it/s, now=None]\n",
      "t:   3%|▎         | 27/960 [00:00<00:03, 268.04it/s, now=None]\n",
      "t:  32%|███▏      | 311/960 [00:00<00:01, 367.93it/s, now=None]\n",
      "t:  65%|██████▍   | 622/960 [00:00<00:00, 500.07it/s, now=None]\n",
      "t:  97%|█████████▋| 930/960 [00:00<00:00, 667.59it/s, now=None]\n",
      "                                                                 \r"
     ]
    },
    {
     "name": "stdout",
     "output_type": "stream",
     "text": [
      "Moviepy - Done !\n"
     ]
    },
    {
     "name": "stderr",
     "output_type": "stream",
     "text": [
      "                                                                 \r"
     ]
    },
    {
     "name": "stdout",
     "output_type": "stream",
     "text": [
      "Moviepy - video ready Video cuts collection/Video Segments/P21/music09.mp4\n"
     ]
    },
    {
     "name": "stderr",
     "output_type": "stream",
     "text": [
      "\r",
      "t:   0%|          | 2/960 [28:55<230:54:40, 867.72s/it, now=None]"
     ]
    },
    {
     "name": "stdout",
     "output_type": "stream",
     "text": [
      "times 5\n"
     ]
    },
    {
     "name": "stderr",
     "output_type": "stream",
     "text": [
      "                                                                 \r"
     ]
    },
    {
     "name": "stdout",
     "output_type": "stream",
     "text": [
      "Moviepy - Building video Video cuts collection/Video Segments/P21/music10.mp4.\n"
     ]
    },
    {
     "name": "stderr",
     "output_type": "stream",
     "text": [
      "                                                                 \r"
     ]
    },
    {
     "name": "stdout",
     "output_type": "stream",
     "text": [
      "Moviepy - Writing video Video cuts collection/Video Segments/P21/music10.mp4\n",
      "\n"
     ]
    },
    {
     "name": "stderr",
     "output_type": "stream",
     "text": [
      "t:   0%|          | 2/960 [28:56<230:59:57, 868.06s/it, now=None]\n",
      "t:   0%|          | 0/1110 [00:00<?, ?it/s, now=None]\n",
      "t:   1%|          | 8/1110 [00:00<00:13, 79.42it/s, now=None]\n",
      "t:  25%|██▍       | 273/1110 [00:00<00:07, 112.02it/s, now=None]\n",
      "t:  50%|█████     | 557/1110 [00:00<00:03, 157.36it/s, now=None]\n",
      "t:  77%|███████▋  | 859/1110 [00:00<00:01, 219.87it/s, now=None]\n",
      "                                                                 \r"
     ]
    },
    {
     "name": "stdout",
     "output_type": "stream",
     "text": [
      "Moviepy - Done !\n"
     ]
    },
    {
     "name": "stderr",
     "output_type": "stream",
     "text": [
      "                                                                 \r"
     ]
    },
    {
     "name": "stdout",
     "output_type": "stream",
     "text": [
      "Moviepy - video ready Video cuts collection/Video Segments/P21/music10.mp4\n"
     ]
    },
    {
     "name": "stderr",
     "output_type": "stream",
     "text": [
      "\r",
      "t:   0%|          | 2/960 [28:56<231:04:53, 868.36s/it, now=None]"
     ]
    },
    {
     "name": "stdout",
     "output_type": "stream",
     "text": [
      "times 6\n"
     ]
    },
    {
     "name": "stderr",
     "output_type": "stream",
     "text": [
      "                                                                 \r"
     ]
    },
    {
     "name": "stdout",
     "output_type": "stream",
     "text": [
      "Moviepy - Building video Video cuts collection/Video Segments/P21/music11.mp4.\n"
     ]
    },
    {
     "name": "stderr",
     "output_type": "stream",
     "text": [
      "                                                                 \r"
     ]
    },
    {
     "name": "stdout",
     "output_type": "stream",
     "text": [
      "Moviepy - Writing video Video cuts collection/Video Segments/P21/music11.mp4\n",
      "\n"
     ]
    },
    {
     "name": "stderr",
     "output_type": "stream",
     "text": [
      "t:   0%|          | 2/960 [28:57<231:10:10, 868.70s/it, now=None]\n",
      "t:   0%|          | 0/930 [00:00<?, ?it/s, now=None]\n",
      "t:   0%|          | 3/930 [00:00<01:24, 11.00it/s, now=None]\n",
      "t:  32%|███▏      | 295/930 [00:00<00:40, 15.69it/s, now=None]\n",
      "t:  65%|██████▍   | 602/930 [00:00<00:14, 22.37it/s, now=None]\n",
      "t:  97%|█████████▋| 906/930 [00:00<00:00, 31.85it/s, now=None]\n",
      "                                                                 \r"
     ]
    },
    {
     "name": "stdout",
     "output_type": "stream",
     "text": [
      "Moviepy - Done !\n"
     ]
    },
    {
     "name": "stderr",
     "output_type": "stream",
     "text": [
      "                                                                 \r"
     ]
    },
    {
     "name": "stdout",
     "output_type": "stream",
     "text": [
      "Moviepy - video ready Video cuts collection/Video Segments/P21/music11.mp4\n"
     ]
    },
    {
     "name": "stderr",
     "output_type": "stream",
     "text": [
      "\r",
      "t:   0%|          | 2/960 [28:58<231:16:07, 869.07s/it, now=None]"
     ]
    },
    {
     "name": "stdout",
     "output_type": "stream",
     "text": [
      "times 7\n"
     ]
    },
    {
     "name": "stderr",
     "output_type": "stream",
     "text": [
      "                                                                 \r"
     ]
    },
    {
     "name": "stdout",
     "output_type": "stream",
     "text": [
      "Moviepy - Building video Video cuts collection/Video Segments/P21/music12.mp4.\n"
     ]
    },
    {
     "name": "stderr",
     "output_type": "stream",
     "text": [
      "                                                                 \r"
     ]
    },
    {
     "name": "stdout",
     "output_type": "stream",
     "text": [
      "Moviepy - Writing video Video cuts collection/Video Segments/P21/music12.mp4\n",
      "\n"
     ]
    },
    {
     "name": "stderr",
     "output_type": "stream",
     "text": [
      "t:   0%|          | 2/960 [28:58<231:21:41, 869.42s/it, now=None]\n",
      "t:   0%|          | 0/960 [00:00<?, ?it/s, now=None]\n",
      "t:   2%|▏         | 17/960 [00:00<00:05, 168.60it/s, now=None]\n",
      "t:  32%|███▏      | 306/960 [00:00<00:02, 234.94it/s, now=None]\n",
      "t:  63%|██████▎   | 609/960 [00:00<00:01, 324.79it/s, now=None]\n",
      "t:  89%|████████▉ | 854/960 [00:00<00:00, 438.87it/s, now=None]\n",
      "                                                                 \r"
     ]
    },
    {
     "name": "stdout",
     "output_type": "stream",
     "text": [
      "Moviepy - Done !\n"
     ]
    },
    {
     "name": "stderr",
     "output_type": "stream",
     "text": [
      "                                                                 \r"
     ]
    },
    {
     "name": "stdout",
     "output_type": "stream",
     "text": [
      "Moviepy - video ready Video cuts collection/Video Segments/P21/music12.mp4\n"
     ]
    },
    {
     "name": "stderr",
     "output_type": "stream",
     "text": [
      "\r",
      "t:   0%|          | 2/960 [28:59<231:28:16, 869.83s/it, now=None]"
     ]
    },
    {
     "name": "stdout",
     "output_type": "stream",
     "text": [
      "df:\n",
      "    a          b          c\n",
      "0  9 1529455584 1529455823\n",
      "1 10 1529456098 1529456374\n",
      "2 11 1529456580 1529456819\n",
      "3 12 1529457028 1529457268\n",
      "4  5 1529457500 1529457717\n",
      "5  6 1529457917 1529458126\n",
      "6  7 1529458225 1529458427\n",
      "7  8 1529458545 1529458755\n",
      "df_correct_time:\n",
      "    music_type  from_minutes  from_seconds  to_minutes  to_seconds  \\\n",
      "0           9             0             0           0          32   \n",
      "1          10             1             9           1          45   \n",
      "2          11             2            13           2          45   \n",
      "3          12             3            13           3          45   \n",
      "4           5             4            15           4          44   \n",
      "5           6             5            11           5          39   \n",
      "6           7             5            52           6          19   \n",
      "7           8             6            35           7           3   \n",
      "\n",
      "   from_total_second  to_total_second  \n",
      "0                  0               32  \n",
      "1                 69              105  \n",
      "2                133              165  \n",
      "3                193              225  \n",
      "4                255              284  \n",
      "5                311              339  \n",
      "6                352              379  \n",
      "7                395              423  \n",
      "times 0\n"
     ]
    },
    {
     "name": "stderr",
     "output_type": "stream",
     "text": [
      "                                                                 \r"
     ]
    },
    {
     "name": "stdout",
     "output_type": "stream",
     "text": [
      "Moviepy - Building video Video cuts collection/Video Segments/P22/music09.mp4.\n"
     ]
    },
    {
     "name": "stderr",
     "output_type": "stream",
     "text": [
      "                                                                 \r"
     ]
    },
    {
     "name": "stdout",
     "output_type": "stream",
     "text": [
      "Moviepy - Writing video Video cuts collection/Video Segments/P22/music09.mp4\n",
      "\n"
     ]
    },
    {
     "name": "stderr",
     "output_type": "stream",
     "text": [
      "t:   0%|          | 2/960 [29:00<231:37:03, 870.38s/it, now=None]\n",
      "t:   0%|          | 0/900 [00:00<?, ?it/s, now=None]\n",
      "t:   2%|▏         | 16/900 [00:00<00:05, 158.80it/s, now=None]\n",
      "t:  32%|███▏      | 288/900 [00:00<00:02, 221.29it/s, now=None]\n",
      "t:  65%|██████▌   | 586/900 [00:00<00:01, 306.31it/s, now=None]\n",
      "t:  98%|█████████▊| 879/900 [00:00<00:00, 418.68it/s, now=None]\n",
      "                                                                 \r"
     ]
    },
    {
     "name": "stdout",
     "output_type": "stream",
     "text": [
      "Moviepy - Done !\n"
     ]
    },
    {
     "name": "stderr",
     "output_type": "stream",
     "text": [
      "                                                                 \r"
     ]
    },
    {
     "name": "stdout",
     "output_type": "stream",
     "text": [
      "Moviepy - video ready Video cuts collection/Video Segments/P22/music09.mp4\n"
     ]
    },
    {
     "name": "stderr",
     "output_type": "stream",
     "text": [
      "\r",
      "t:   0%|          | 2/960 [29:01<231:41:36, 870.66s/it, now=None]"
     ]
    },
    {
     "name": "stdout",
     "output_type": "stream",
     "text": [
      "times 1\n"
     ]
    },
    {
     "name": "stderr",
     "output_type": "stream",
     "text": [
      "                                                                 \r"
     ]
    },
    {
     "name": "stdout",
     "output_type": "stream",
     "text": [
      "Moviepy - Building video Video cuts collection/Video Segments/P22/music10.mp4.\n"
     ]
    },
    {
     "name": "stderr",
     "output_type": "stream",
     "text": [
      "                                                                 \r"
     ]
    },
    {
     "name": "stdout",
     "output_type": "stream",
     "text": [
      "Moviepy - Writing video Video cuts collection/Video Segments/P22/music10.mp4\n",
      "\n"
     ]
    },
    {
     "name": "stderr",
     "output_type": "stream",
     "text": [
      "t:   0%|          | 2/960 [29:02<231:47:20, 871.02s/it, now=None]\n",
      "t:   0%|          | 0/1080 [00:00<?, ?it/s, now=None]\n",
      "t:   1%|▏         | 15/1080 [00:00<00:07, 148.91it/s, now=None]\n",
      "t:  20%|█▉        | 213/1080 [00:00<00:04, 206.04it/s, now=None]\n",
      "t:  39%|███▊      | 418/1080 [00:00<00:02, 282.10it/s, now=None]\n",
      "t:  64%|██████▎   | 688/1080 [00:00<00:01, 385.61it/s, now=None]\n",
      "t:  90%|████████▉ | 968/1080 [00:00<00:00, 519.96it/s, now=None]\n",
      "                                                                 \r"
     ]
    },
    {
     "name": "stdout",
     "output_type": "stream",
     "text": [
      "Moviepy - Done !\n"
     ]
    },
    {
     "name": "stderr",
     "output_type": "stream",
     "text": [
      "                                                                 \r"
     ]
    },
    {
     "name": "stdout",
     "output_type": "stream",
     "text": [
      "Moviepy - video ready Video cuts collection/Video Segments/P22/music10.mp4\n"
     ]
    },
    {
     "name": "stderr",
     "output_type": "stream",
     "text": [
      "\r",
      "t:   0%|          | 2/960 [29:02<231:53:12, 871.39s/it, now=None]"
     ]
    },
    {
     "name": "stdout",
     "output_type": "stream",
     "text": [
      "times 2\n"
     ]
    },
    {
     "name": "stderr",
     "output_type": "stream",
     "text": [
      "                                                                 \r"
     ]
    },
    {
     "name": "stdout",
     "output_type": "stream",
     "text": [
      "Moviepy - Building video Video cuts collection/Video Segments/P22/music11.mp4.\n"
     ]
    },
    {
     "name": "stderr",
     "output_type": "stream",
     "text": [
      "                                                                 \r"
     ]
    },
    {
     "name": "stdout",
     "output_type": "stream",
     "text": [
      "Moviepy - Writing video Video cuts collection/Video Segments/P22/music11.mp4\n",
      "\n"
     ]
    },
    {
     "name": "stderr",
     "output_type": "stream",
     "text": [
      "t:   0%|          | 2/960 [29:03<231:58:54, 871.75s/it, now=None]\n",
      "t:   0%|          | 0/960 [00:00<?, ?it/s, now=None]\n",
      "t:   2%|▏         | 23/960 [00:00<00:04, 228.33it/s, now=None]\n",
      "t:  31%|███       | 297/960 [00:00<00:02, 314.86it/s, now=None]\n",
      "t:  59%|█████▉    | 564/960 [00:00<00:00, 428.01it/s, now=None]\n",
      "t:  88%|████████▊ | 844/960 [00:00<00:00, 573.60it/s, now=None]\n",
      "                                                                 \r"
     ]
    },
    {
     "name": "stdout",
     "output_type": "stream",
     "text": [
      "Moviepy - Done !\n"
     ]
    },
    {
     "name": "stderr",
     "output_type": "stream",
     "text": [
      "                                                                 \r"
     ]
    },
    {
     "name": "stdout",
     "output_type": "stream",
     "text": [
      "Moviepy - video ready Video cuts collection/Video Segments/P22/music11.mp4\n"
     ]
    },
    {
     "name": "stderr",
     "output_type": "stream",
     "text": [
      "\r",
      "t:   0%|          | 2/960 [29:04<232:03:40, 872.05s/it, now=None]"
     ]
    },
    {
     "name": "stdout",
     "output_type": "stream",
     "text": [
      "times 3\n"
     ]
    },
    {
     "name": "stderr",
     "output_type": "stream",
     "text": [
      "                                                                 \r"
     ]
    },
    {
     "name": "stdout",
     "output_type": "stream",
     "text": [
      "Moviepy - Building video Video cuts collection/Video Segments/P22/music12.mp4.\n"
     ]
    },
    {
     "name": "stderr",
     "output_type": "stream",
     "text": [
      "                                                                 \r"
     ]
    },
    {
     "name": "stdout",
     "output_type": "stream",
     "text": [
      "Moviepy - Writing video Video cuts collection/Video Segments/P22/music12.mp4\n",
      "\n"
     ]
    },
    {
     "name": "stderr",
     "output_type": "stream",
     "text": [
      "t:   0%|          | 2/960 [29:04<232:09:02, 872.38s/it, now=None]\n",
      "t:   0%|          | 0/960 [00:00<?, ?it/s, now=None]\n",
      "t:   2%|▏         | 21/960 [00:00<00:04, 209.91it/s, now=None]\n",
      "t:  29%|██▊       | 275/960 [00:00<00:02, 289.54it/s, now=None]\n",
      "t:  60%|█████▉    | 572/960 [00:00<00:00, 396.93it/s, now=None]\n",
      "t:  94%|█████████▍| 902/960 [00:00<00:00, 539.02it/s, now=None]\n",
      "                                                                 \r"
     ]
    },
    {
     "name": "stdout",
     "output_type": "stream",
     "text": [
      "Moviepy - Done !\n"
     ]
    },
    {
     "name": "stderr",
     "output_type": "stream",
     "text": [
      "                                                                 \r"
     ]
    },
    {
     "name": "stdout",
     "output_type": "stream",
     "text": [
      "Moviepy - video ready Video cuts collection/Video Segments/P22/music12.mp4\n"
     ]
    },
    {
     "name": "stderr",
     "output_type": "stream",
     "text": [
      "\r",
      "t:   0%|          | 2/960 [29:05<232:13:33, 872.67s/it, now=None]"
     ]
    },
    {
     "name": "stdout",
     "output_type": "stream",
     "text": [
      "times 4\n"
     ]
    },
    {
     "name": "stderr",
     "output_type": "stream",
     "text": [
      "                                                                 \r"
     ]
    },
    {
     "name": "stdout",
     "output_type": "stream",
     "text": [
      "Moviepy - Building video Video cuts collection/Video Segments/P22/music05.mp4.\n"
     ]
    },
    {
     "name": "stderr",
     "output_type": "stream",
     "text": [
      "                                                                 \r"
     ]
    },
    {
     "name": "stdout",
     "output_type": "stream",
     "text": [
      "Moviepy - Writing video Video cuts collection/Video Segments/P22/music05.mp4\n",
      "\n"
     ]
    },
    {
     "name": "stderr",
     "output_type": "stream",
     "text": [
      "t:   0%|          | 2/960 [29:05<232:18:52, 873.00s/it, now=None]\n",
      "t:   0%|          | 0/870 [00:00<?, ?it/s, now=None]\n",
      "t:   4%|▎         | 31/870 [00:00<00:02, 309.83it/s, now=None]\n",
      "t:  35%|███▌      | 308/870 [00:00<00:01, 422.36it/s, now=None]\n",
      "t:  71%|███████   | 615/870 [00:00<00:00, 569.54it/s, now=None]\n",
      "                                                                 \r"
     ]
    },
    {
     "name": "stdout",
     "output_type": "stream",
     "text": [
      "Moviepy - Done !\n"
     ]
    },
    {
     "name": "stderr",
     "output_type": "stream",
     "text": [
      "                                                                 \r"
     ]
    },
    {
     "name": "stdout",
     "output_type": "stream",
     "text": [
      "Moviepy - video ready Video cuts collection/Video Segments/P22/music05.mp4\n"
     ]
    },
    {
     "name": "stderr",
     "output_type": "stream",
     "text": [
      "\r",
      "t:   0%|          | 2/960 [29:06<232:22:59, 873.26s/it, now=None]"
     ]
    },
    {
     "name": "stdout",
     "output_type": "stream",
     "text": [
      "times 5\n"
     ]
    },
    {
     "name": "stderr",
     "output_type": "stream",
     "text": [
      "                                                                 \r"
     ]
    },
    {
     "name": "stdout",
     "output_type": "stream",
     "text": [
      "Moviepy - Building video Video cuts collection/Video Segments/P22/music06.mp4.\n"
     ]
    },
    {
     "name": "stderr",
     "output_type": "stream",
     "text": [
      "                                                                 \r"
     ]
    },
    {
     "name": "stdout",
     "output_type": "stream",
     "text": [
      "Moviepy - Writing video Video cuts collection/Video Segments/P22/music06.mp4\n",
      "\n"
     ]
    },
    {
     "name": "stderr",
     "output_type": "stream",
     "text": [
      "t:   0%|          | 2/960 [29:07<232:28:16, 873.59s/it, now=None]\n",
      "t:   0%|          | 0/840 [00:00<?, ?it/s, now=None]\n",
      "t:   3%|▎         | 22/840 [00:00<00:03, 218.30it/s, now=None]\n",
      "t:  37%|███▋      | 312/840 [00:00<00:01, 302.04it/s, now=None]\n",
      "t:  75%|███████▌  | 634/840 [00:00<00:00, 414.69it/s, now=None]\n",
      "                                                                 \r"
     ]
    },
    {
     "name": "stdout",
     "output_type": "stream",
     "text": [
      "Moviepy - Done !\n"
     ]
    },
    {
     "name": "stderr",
     "output_type": "stream",
     "text": [
      "                                                                 \r"
     ]
    },
    {
     "name": "stdout",
     "output_type": "stream",
     "text": [
      "Moviepy - video ready Video cuts collection/Video Segments/P22/music06.mp4\n"
     ]
    },
    {
     "name": "stderr",
     "output_type": "stream",
     "text": [
      "\r",
      "t:   0%|          | 2/960 [29:07<232:32:28, 873.85s/it, now=None]"
     ]
    },
    {
     "name": "stdout",
     "output_type": "stream",
     "text": [
      "times 6\n"
     ]
    },
    {
     "name": "stderr",
     "output_type": "stream",
     "text": [
      "                                                                 \r"
     ]
    },
    {
     "name": "stdout",
     "output_type": "stream",
     "text": [
      "Moviepy - Building video Video cuts collection/Video Segments/P22/music07.mp4.\n"
     ]
    },
    {
     "name": "stderr",
     "output_type": "stream",
     "text": [
      "                                                                 \r"
     ]
    },
    {
     "name": "stdout",
     "output_type": "stream",
     "text": [
      "Moviepy - Writing video Video cuts collection/Video Segments/P22/music07.mp4\n",
      "\n"
     ]
    },
    {
     "name": "stderr",
     "output_type": "stream",
     "text": [
      "t:   0%|          | 2/960 [29:08<232:38:15, 874.21s/it, now=None]\n",
      "t:   0%|          | 0/810 [00:00<?, ?it/s, now=None]\n",
      "t:   1%|          | 9/810 [00:00<00:08, 89.35it/s, now=None]\n",
      "t:  38%|███▊      | 308/810 [00:00<00:03, 126.01it/s, now=None]\n",
      "t:  76%|███████▌  | 612/810 [00:00<00:01, 176.85it/s, now=None]\n",
      "                                                                 \r"
     ]
    },
    {
     "name": "stdout",
     "output_type": "stream",
     "text": [
      "Moviepy - Done !\n"
     ]
    },
    {
     "name": "stderr",
     "output_type": "stream",
     "text": [
      "                                                                 \r"
     ]
    },
    {
     "name": "stdout",
     "output_type": "stream",
     "text": [
      "Moviepy - video ready Video cuts collection/Video Segments/P22/music07.mp4\n"
     ]
    },
    {
     "name": "stderr",
     "output_type": "stream",
     "text": [
      "\r",
      "t:   0%|          | 2/960 [29:08<232:42:09, 874.46s/it, now=None]"
     ]
    },
    {
     "name": "stdout",
     "output_type": "stream",
     "text": [
      "times 7\n"
     ]
    },
    {
     "name": "stderr",
     "output_type": "stream",
     "text": [
      "                                                                 \r"
     ]
    },
    {
     "name": "stdout",
     "output_type": "stream",
     "text": [
      "Moviepy - Building video Video cuts collection/Video Segments/P22/music08.mp4.\n"
     ]
    },
    {
     "name": "stderr",
     "output_type": "stream",
     "text": [
      "                                                                 \r"
     ]
    },
    {
     "name": "stdout",
     "output_type": "stream",
     "text": [
      "Moviepy - Writing video Video cuts collection/Video Segments/P22/music08.mp4\n",
      "\n"
     ]
    },
    {
     "name": "stderr",
     "output_type": "stream",
     "text": [
      "t:   0%|          | 2/960 [29:09<232:47:32, 874.79s/it, now=None]\n",
      "t:   0%|          | 0/840 [00:00<?, ?it/s, now=None]\n",
      "t:   2%|▏         | 20/840 [00:00<00:04, 198.55it/s, now=None]\n",
      "t:  35%|███▌      | 295/840 [00:00<00:01, 275.11it/s, now=None]\n",
      "t:  72%|███████▏  | 605/840 [00:00<00:00, 378.55it/s, now=None]\n",
      "                                                                 \r"
     ]
    },
    {
     "name": "stdout",
     "output_type": "stream",
     "text": [
      "Moviepy - Done !\n"
     ]
    },
    {
     "name": "stderr",
     "output_type": "stream",
     "text": [
      "                                                                 \r"
     ]
    },
    {
     "name": "stdout",
     "output_type": "stream",
     "text": [
      "Moviepy - video ready Video cuts collection/Video Segments/P22/music08.mp4\n"
     ]
    },
    {
     "name": "stderr",
     "output_type": "stream",
     "text": [
      "\r",
      "t:   0%|          | 2/960 [29:10<232:51:31, 875.04s/it, now=None]"
     ]
    },
    {
     "name": "stdout",
     "output_type": "stream",
     "text": [
      "df:\n",
      "    a          b          c\n",
      "0  5 1529555561 1529555778\n",
      "1  6 1529556046 1529556255\n",
      "2  7 1529556466 1529556668\n",
      "3  8 1529556842 1529557052\n",
      "4  1 1529557215 1529557472\n",
      "5  2 1529557601 1529557846\n",
      "6  3 1529557959 1529558192\n",
      "7  4 1529558341 1529558582\n",
      "df_correct_time:\n",
      "    music_type  from_minutes  from_seconds  to_minutes  to_seconds  \\\n",
      "0           5             0             0           0          29   \n",
      "1           6             1             5           1          33   \n",
      "2           7             2             1           2          28   \n",
      "3           8             2            51           3          19   \n",
      "4           1             3            41           4          15   \n",
      "5           2             4            32           5           5   \n",
      "6           3             5            20           5          51   \n",
      "7           4             6            11           6          43   \n",
      "\n",
      "   from_total_second  to_total_second  \n",
      "0                  0               29  \n",
      "1                 65               93  \n",
      "2                121              148  \n",
      "3                171              199  \n",
      "4                221              255  \n",
      "5                272              305  \n",
      "6                320              351  \n",
      "7                371              403  \n",
      "times 0\n"
     ]
    },
    {
     "name": "stderr",
     "output_type": "stream",
     "text": [
      "                                                                 \r"
     ]
    },
    {
     "name": "stdout",
     "output_type": "stream",
     "text": [
      "Moviepy - Building video Video cuts collection/Video Segments/P23/music05.mp4.\n"
     ]
    },
    {
     "name": "stderr",
     "output_type": "stream",
     "text": [
      "                                                                 \r"
     ]
    },
    {
     "name": "stdout",
     "output_type": "stream",
     "text": [
      "Moviepy - Writing video Video cuts collection/Video Segments/P23/music05.mp4\n",
      "\n"
     ]
    },
    {
     "name": "stderr",
     "output_type": "stream",
     "text": [
      "t:   0%|          | 2/960 [29:11<232:59:21, 875.53s/it, now=None]\n",
      "t:   0%|          | 0/810 [00:00<?, ?it/s, now=None]\n",
      "t:   3%|▎         | 26/810 [00:00<00:03, 258.11it/s, now=None]\n",
      "t:  38%|███▊      | 310/810 [00:00<00:01, 354.81it/s, now=None]\n",
      "t:  73%|███████▎  | 590/810 [00:00<00:00, 480.59it/s, now=None]\n",
      "                                                                 \r"
     ]
    },
    {
     "name": "stdout",
     "output_type": "stream",
     "text": [
      "Moviepy - Done !\n"
     ]
    },
    {
     "name": "stderr",
     "output_type": "stream",
     "text": [
      "                                                                 \r"
     ]
    },
    {
     "name": "stdout",
     "output_type": "stream",
     "text": [
      "Moviepy - video ready Video cuts collection/Video Segments/P23/music05.mp4\n"
     ]
    },
    {
     "name": "stderr",
     "output_type": "stream",
     "text": [
      "\r",
      "t:   0%|          | 2/960 [29:11<233:03:27, 875.79s/it, now=None]"
     ]
    },
    {
     "name": "stdout",
     "output_type": "stream",
     "text": [
      "times 1\n"
     ]
    },
    {
     "name": "stderr",
     "output_type": "stream",
     "text": [
      "                                                                 \r"
     ]
    },
    {
     "name": "stdout",
     "output_type": "stream",
     "text": [
      "Moviepy - Building video Video cuts collection/Video Segments/P23/music06.mp4.\n"
     ]
    },
    {
     "name": "stderr",
     "output_type": "stream",
     "text": [
      "                                                                 \r"
     ]
    },
    {
     "name": "stdout",
     "output_type": "stream",
     "text": [
      "Moviepy - Writing video Video cuts collection/Video Segments/P23/music06.mp4\n",
      "\n"
     ]
    },
    {
     "name": "stderr",
     "output_type": "stream",
     "text": [
      "t:   0%|          | 2/960 [29:12<233:08:43, 876.12s/it, now=None]\n",
      "t:   0%|          | 0/840 [00:00<?, ?it/s, now=None]\n",
      "t:   4%|▍         | 35/840 [00:00<00:02, 347.34it/s, now=None]\n",
      "t:  36%|███▌      | 303/840 [00:00<00:01, 469.91it/s, now=None]\n",
      "t:  75%|███████▌  | 630/840 [00:00<00:00, 632.09it/s, now=None]\n",
      "                                                                 \r"
     ]
    },
    {
     "name": "stdout",
     "output_type": "stream",
     "text": [
      "Moviepy - Done !\n"
     ]
    },
    {
     "name": "stderr",
     "output_type": "stream",
     "text": [
      "                                                                 \r"
     ]
    },
    {
     "name": "stdout",
     "output_type": "stream",
     "text": [
      "Moviepy - video ready Video cuts collection/Video Segments/P23/music06.mp4\n"
     ]
    },
    {
     "name": "stderr",
     "output_type": "stream",
     "text": [
      "\r",
      "t:   0%|          | 2/960 [29:12<233:12:49, 876.38s/it, now=None]"
     ]
    },
    {
     "name": "stdout",
     "output_type": "stream",
     "text": [
      "times 2\n"
     ]
    },
    {
     "name": "stderr",
     "output_type": "stream",
     "text": [
      "                                                                 \r"
     ]
    },
    {
     "name": "stdout",
     "output_type": "stream",
     "text": [
      "Moviepy - Building video Video cuts collection/Video Segments/P23/music07.mp4.\n"
     ]
    },
    {
     "name": "stderr",
     "output_type": "stream",
     "text": [
      "                                                                 \r"
     ]
    },
    {
     "name": "stdout",
     "output_type": "stream",
     "text": [
      "Moviepy - Writing video Video cuts collection/Video Segments/P23/music07.mp4\n",
      "\n"
     ]
    },
    {
     "name": "stderr",
     "output_type": "stream",
     "text": [
      "t:   0%|          | 2/960 [29:13<233:18:12, 876.71s/it, now=None]\n",
      "t:   0%|          | 0/810 [00:00<?, ?it/s, now=None]\n",
      "t:   4%|▍         | 34/810 [00:00<00:02, 337.09it/s, now=None]\n",
      "t:  39%|███▉      | 318/810 [00:00<00:01, 458.13it/s, now=None]\n",
      "t:  76%|███████▌  | 617/810 [00:00<00:00, 613.87it/s, now=None]\n",
      "                                                                 \r"
     ]
    },
    {
     "name": "stdout",
     "output_type": "stream",
     "text": [
      "Moviepy - Done !\n"
     ]
    },
    {
     "name": "stderr",
     "output_type": "stream",
     "text": [
      "                                                                 \r"
     ]
    },
    {
     "name": "stdout",
     "output_type": "stream",
     "text": [
      "Moviepy - video ready Video cuts collection/Video Segments/P23/music07.mp4\n"
     ]
    },
    {
     "name": "stderr",
     "output_type": "stream",
     "text": [
      "\r",
      "t:   0%|          | 2/960 [29:13<233:22:10, 876.96s/it, now=None]"
     ]
    },
    {
     "name": "stdout",
     "output_type": "stream",
     "text": [
      "times 3\n"
     ]
    },
    {
     "name": "stderr",
     "output_type": "stream",
     "text": [
      "                                                                 \r"
     ]
    },
    {
     "name": "stdout",
     "output_type": "stream",
     "text": [
      "Moviepy - Building video Video cuts collection/Video Segments/P23/music08.mp4.\n"
     ]
    },
    {
     "name": "stderr",
     "output_type": "stream",
     "text": [
      "                                                                 \r"
     ]
    },
    {
     "name": "stdout",
     "output_type": "stream",
     "text": [
      "Moviepy - Writing video Video cuts collection/Video Segments/P23/music08.mp4\n",
      "\n"
     ]
    },
    {
     "name": "stderr",
     "output_type": "stream",
     "text": [
      "t:   0%|          | 2/960 [29:14<233:27:31, 877.30s/it, now=None]\n",
      "t:   0%|          | 0/840 [00:00<?, ?it/s, now=None]\n",
      "t:   2%|▏         | 18/840 [00:00<00:04, 178.72it/s, now=None]\n",
      "t:  36%|███▌      | 299/840 [00:00<00:02, 248.49it/s, now=None]\n",
      "t:  75%|███████▌  | 633/840 [00:00<00:00, 343.94it/s, now=None]\n",
      "                                                                 \r"
     ]
    },
    {
     "name": "stdout",
     "output_type": "stream",
     "text": [
      "Moviepy - Done !\n"
     ]
    },
    {
     "name": "stderr",
     "output_type": "stream",
     "text": [
      "                                                                 \r"
     ]
    },
    {
     "name": "stdout",
     "output_type": "stream",
     "text": [
      "Moviepy - video ready Video cuts collection/Video Segments/P23/music08.mp4\n"
     ]
    },
    {
     "name": "stderr",
     "output_type": "stream",
     "text": [
      "\r",
      "t:   0%|          | 2/960 [29:15<233:31:34, 877.55s/it, now=None]"
     ]
    },
    {
     "name": "stdout",
     "output_type": "stream",
     "text": [
      "times 4\n"
     ]
    },
    {
     "name": "stderr",
     "output_type": "stream",
     "text": [
      "                                                                 \r"
     ]
    },
    {
     "name": "stdout",
     "output_type": "stream",
     "text": [
      "Moviepy - Building video Video cuts collection/Video Segments/P23/music01.mp4.\n"
     ]
    },
    {
     "name": "stderr",
     "output_type": "stream",
     "text": [
      "                                                                 \r"
     ]
    },
    {
     "name": "stdout",
     "output_type": "stream",
     "text": [
      "Moviepy - Writing video Video cuts collection/Video Segments/P23/music01.mp4\n",
      "\n"
     ]
    },
    {
     "name": "stderr",
     "output_type": "stream",
     "text": [
      "t:   0%|          | 2/960 [29:15<233:36:41, 877.87s/it, now=None]\n",
      "t:   0%|          | 0/1020 [00:00<?, ?it/s, now=None]\n",
      "t:   1%|▏         | 13/1020 [00:00<00:07, 129.06it/s, now=None]\n",
      "t:  30%|███       | 311/1020 [00:00<00:03, 180.98it/s, now=None]\n",
      "t:  62%|██████▏   | 636/1020 [00:00<00:01, 252.48it/s, now=None]\n",
      "t:  95%|█████████▍| 967/1020 [00:00<00:00, 349.19it/s, now=None]\n",
      "                                                                 \r"
     ]
    },
    {
     "name": "stdout",
     "output_type": "stream",
     "text": [
      "Moviepy - Done !\n"
     ]
    },
    {
     "name": "stderr",
     "output_type": "stream",
     "text": [
      "                                                                 \r"
     ]
    },
    {
     "name": "stdout",
     "output_type": "stream",
     "text": [
      "Moviepy - video ready Video cuts collection/Video Segments/P23/music01.mp4\n"
     ]
    },
    {
     "name": "stderr",
     "output_type": "stream",
     "text": [
      "\r",
      "t:   0%|          | 2/960 [29:16<233:41:09, 878.15s/it, now=None]"
     ]
    },
    {
     "name": "stdout",
     "output_type": "stream",
     "text": [
      "times 5\n"
     ]
    },
    {
     "name": "stderr",
     "output_type": "stream",
     "text": [
      "                                                                 \r"
     ]
    },
    {
     "name": "stdout",
     "output_type": "stream",
     "text": [
      "Moviepy - Building video Video cuts collection/Video Segments/P23/music02.mp4.\n"
     ]
    },
    {
     "name": "stderr",
     "output_type": "stream",
     "text": [
      "                                                                 \r"
     ]
    },
    {
     "name": "stdout",
     "output_type": "stream",
     "text": [
      "Moviepy - Writing video Video cuts collection/Video Segments/P23/music02.mp4\n",
      "\n"
     ]
    },
    {
     "name": "stderr",
     "output_type": "stream",
     "text": [
      "t:   0%|          | 2/960 [29:16<233:46:18, 878.47s/it, now=None]\n",
      "t:   0%|          | 0/990 [00:00<?, ?it/s, now=None]\n",
      "t:   3%|▎         | 31/990 [00:00<00:03, 307.64it/s, now=None]\n",
      "t:  33%|███▎      | 323/990 [00:00<00:01, 420.38it/s, now=None]\n",
      "t:  64%|██████▍   | 638/990 [00:00<00:00, 567.83it/s, now=None]\n",
      "t:  96%|█████████▋| 955/990 [00:00<00:00, 752.96it/s, now=None]\n",
      "                                                                 \r"
     ]
    },
    {
     "name": "stdout",
     "output_type": "stream",
     "text": [
      "Moviepy - Done !\n"
     ]
    },
    {
     "name": "stderr",
     "output_type": "stream",
     "text": [
      "                                                                 \r"
     ]
    },
    {
     "name": "stdout",
     "output_type": "stream",
     "text": [
      "Moviepy - video ready Video cuts collection/Video Segments/P23/music02.mp4\n"
     ]
    },
    {
     "name": "stderr",
     "output_type": "stream",
     "text": [
      "\r",
      "t:   0%|          | 2/960 [29:17<233:50:48, 878.76s/it, now=None]"
     ]
    },
    {
     "name": "stdout",
     "output_type": "stream",
     "text": [
      "times 6\n"
     ]
    },
    {
     "name": "stderr",
     "output_type": "stream",
     "text": [
      "                                                                 \r"
     ]
    },
    {
     "name": "stdout",
     "output_type": "stream",
     "text": [
      "Moviepy - Building video Video cuts collection/Video Segments/P23/music03.mp4.\n"
     ]
    },
    {
     "name": "stderr",
     "output_type": "stream",
     "text": [
      "                                                                 \r"
     ]
    },
    {
     "name": "stdout",
     "output_type": "stream",
     "text": [
      "Moviepy - Writing video Video cuts collection/Video Segments/P23/music03.mp4\n",
      "\n"
     ]
    },
    {
     "name": "stderr",
     "output_type": "stream",
     "text": [
      "t:   0%|          | 2/960 [29:18<233:56:06, 879.09s/it, now=None]\n",
      "t:   0%|          | 0/930 [00:00<?, ?it/s, now=None]\n",
      "t:   2%|▏         | 22/930 [00:00<00:04, 219.11it/s, now=None]\n",
      "t:  35%|███▌      | 327/930 [00:00<00:01, 303.60it/s, now=None]\n",
      "t:  74%|███████▍  | 691/930 [00:00<00:00, 418.65it/s, now=None]\n",
      "                                                                 \r"
     ]
    },
    {
     "name": "stdout",
     "output_type": "stream",
     "text": [
      "Moviepy - Done !\n"
     ]
    },
    {
     "name": "stderr",
     "output_type": "stream",
     "text": [
      "                                                                 \r"
     ]
    },
    {
     "name": "stdout",
     "output_type": "stream",
     "text": [
      "Moviepy - video ready Video cuts collection/Video Segments/P23/music03.mp4\n"
     ]
    },
    {
     "name": "stderr",
     "output_type": "stream",
     "text": [
      "\r",
      "t:   0%|          | 2/960 [29:18<234:00:19, 879.35s/it, now=None]"
     ]
    },
    {
     "name": "stdout",
     "output_type": "stream",
     "text": [
      "times 7\n"
     ]
    },
    {
     "name": "stderr",
     "output_type": "stream",
     "text": [
      "                                                                 \r"
     ]
    },
    {
     "name": "stdout",
     "output_type": "stream",
     "text": [
      "Moviepy - Building video Video cuts collection/Video Segments/P23/music04.mp4.\n"
     ]
    },
    {
     "name": "stderr",
     "output_type": "stream",
     "text": [
      "                                                                 \r"
     ]
    },
    {
     "name": "stdout",
     "output_type": "stream",
     "text": [
      "Moviepy - Writing video Video cuts collection/Video Segments/P23/music04.mp4\n",
      "\n"
     ]
    },
    {
     "name": "stderr",
     "output_type": "stream",
     "text": [
      "t:   0%|          | 2/960 [29:19<234:05:36, 879.68s/it, now=None]\n",
      "t:   0%|          | 0/960 [00:00<?, ?it/s, now=None]\n",
      "t:   2%|▏         | 22/960 [00:00<00:04, 218.40it/s, now=None]\n",
      "t:  31%|███       | 293/960 [00:00<00:02, 301.52it/s, now=None]\n",
      "t:  62%|██████▏   | 595/960 [00:00<00:00, 412.94it/s, now=None]\n",
      "t:  96%|█████████▋| 926/960 [00:00<00:00, 559.77it/s, now=None]\n",
      "                                                                 \r"
     ]
    },
    {
     "name": "stdout",
     "output_type": "stream",
     "text": [
      "Moviepy - Done !\n"
     ]
    },
    {
     "name": "stderr",
     "output_type": "stream",
     "text": [
      "                                                                 \r"
     ]
    },
    {
     "name": "stdout",
     "output_type": "stream",
     "text": [
      "Moviepy - video ready Video cuts collection/Video Segments/P23/music04.mp4\n"
     ]
    },
    {
     "name": "stderr",
     "output_type": "stream",
     "text": [
      "\r",
      "t:   0%|          | 2/960 [29:19<234:09:58, 879.96s/it, now=None]"
     ]
    }
   ],
   "source": [
    "for i in range(1,24):\n",
    "    df = pd.read_excel('Segmentation Info\\P{:02d}.xlsx'.format(i),'info')\n",
    "    df = correct_dataframe(df)\n",
    "    print(\"df:\\n\",df)\n",
    "    df_correct_time = convert_to_correct_time(df)\n",
    "    print(\"df_correct_time:\\n\",df_correct_time)\n",
    "    video_segment(i, df, df_correct_time)\n"
   ]
  },
  {
   "cell_type": "code",
   "execution_count": 91,
   "metadata": {},
   "outputs": [],
   "source": []
  }
 ],
 "metadata": {
  "kernelspec": {
   "display_name": "Python 3",
   "language": "python",
   "name": "python3"
  },
  "language_info": {
   "codemirror_mode": {
    "name": "ipython",
    "version": 3
   },
   "file_extension": ".py",
   "mimetype": "text/x-python",
   "name": "python",
   "nbconvert_exporter": "python",
   "pygments_lexer": "ipython3",
   "version": "3.7.3"
  }
 },
 "nbformat": 4,
 "nbformat_minor": 2
}
