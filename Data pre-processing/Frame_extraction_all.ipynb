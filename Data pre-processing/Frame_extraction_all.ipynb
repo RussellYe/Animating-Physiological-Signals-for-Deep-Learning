{
 "cells": [
  {
   "cell_type": "code",
   "execution_count": 47,
   "metadata": {},
   "outputs": [],
   "source": [
    "import cv2     # for capturing videos\n",
    "from glob import glob\n",
    "from tqdm import tqdm\n",
    "import numpy as np\n",
    "import pandas as pd\n",
    "import os"
   ]
  },
  {
   "cell_type": "code",
   "execution_count": 48,
   "metadata": {},
   "outputs": [
    {
     "ename": "FileExistsError",
     "evalue": "[WinError 183] 当文件已存在时，无法创建该文件。: 'Video cuts collection/Video frames collection/train_all1/'",
     "output_type": "error",
     "traceback": [
      "\u001b[1;31m---------------------------------------------------------------------------\u001b[0m",
      "\u001b[1;31mFileExistsError\u001b[0m                           Traceback (most recent call last)",
      "\u001b[1;32m<ipython-input-48-c56182ed6358>\u001b[0m in \u001b[0;36m<module>\u001b[1;34m\u001b[0m\n\u001b[0;32m      2\u001b[0m \u001b[1;31m# three-frames-per-second => train_all3;\u001b[0m\u001b[1;33m\u001b[0m\u001b[1;33m\u001b[0m\u001b[1;33m\u001b[0m\u001b[0m\n\u001b[0;32m      3\u001b[0m \u001b[1;32mfor\u001b[0m \u001b[0mi\u001b[0m \u001b[1;32min\u001b[0m \u001b[0mrange\u001b[0m\u001b[1;33m(\u001b[0m\u001b[1;36m1\u001b[0m\u001b[1;33m,\u001b[0m\u001b[1;36m4\u001b[0m\u001b[1;33m)\u001b[0m\u001b[1;33m:\u001b[0m\u001b[1;33m\u001b[0m\u001b[1;33m\u001b[0m\u001b[0m\n\u001b[1;32m----> 4\u001b[1;33m     \u001b[0mos\u001b[0m\u001b[1;33m.\u001b[0m\u001b[0mmakedirs\u001b[0m\u001b[1;33m(\u001b[0m\u001b[1;34m'Video cuts collection/Video frames collection/train_all{}/'\u001b[0m\u001b[1;33m.\u001b[0m\u001b[0mformat\u001b[0m\u001b[1;33m(\u001b[0m\u001b[0mi\u001b[0m\u001b[1;33m)\u001b[0m\u001b[1;33m)\u001b[0m\u001b[1;33m\u001b[0m\u001b[1;33m\u001b[0m\u001b[0m\n\u001b[0m",
      "\u001b[1;32mE:\\Python Notebook\\lib\\os.py\u001b[0m in \u001b[0;36mmakedirs\u001b[1;34m(name, mode, exist_ok)\u001b[0m\n\u001b[0;32m    219\u001b[0m             \u001b[1;32mreturn\u001b[0m\u001b[1;33m\u001b[0m\u001b[1;33m\u001b[0m\u001b[0m\n\u001b[0;32m    220\u001b[0m     \u001b[1;32mtry\u001b[0m\u001b[1;33m:\u001b[0m\u001b[1;33m\u001b[0m\u001b[1;33m\u001b[0m\u001b[0m\n\u001b[1;32m--> 221\u001b[1;33m         \u001b[0mmkdir\u001b[0m\u001b[1;33m(\u001b[0m\u001b[0mname\u001b[0m\u001b[1;33m,\u001b[0m \u001b[0mmode\u001b[0m\u001b[1;33m)\u001b[0m\u001b[1;33m\u001b[0m\u001b[1;33m\u001b[0m\u001b[0m\n\u001b[0m\u001b[0;32m    222\u001b[0m     \u001b[1;32mexcept\u001b[0m \u001b[0mOSError\u001b[0m\u001b[1;33m:\u001b[0m\u001b[1;33m\u001b[0m\u001b[1;33m\u001b[0m\u001b[0m\n\u001b[0;32m    223\u001b[0m         \u001b[1;31m# Cannot rely on checking for EEXIST, since the operating system\u001b[0m\u001b[1;33m\u001b[0m\u001b[1;33m\u001b[0m\u001b[1;33m\u001b[0m\u001b[0m\n",
      "\u001b[1;31mFileExistsError\u001b[0m: [WinError 183] 当文件已存在时，无法创建该文件。: 'Video cuts collection/Video frames collection/train_all1/'"
     ]
    }
   ],
   "source": [
    "# Create the direction to store the frames by one-frame-per-second => train_all1; two-frames-per-second => train_all2;\n",
    "# three-frames-per-second => train_all3;\n",
    "for i in range(1,4):\n",
    "    os.makedirs('Video cuts collection/Video frames collection/train_all{}/'.format(i))\n"
   ]
  },
  {
   "cell_type": "code",
   "execution_count": 53,
   "metadata": {},
   "outputs": [],
   "source": [
    "# Create a direction to store the csv which stores the name and class of the frames extracted by the methods below:\n",
    "os.makedirs(\"Video cuts collection/training_csv\")"
   ]
  },
  {
   "cell_type": "code",
   "execution_count": 21,
   "metadata": {},
   "outputs": [],
   "source": [
    "# image: the images to save \n",
    "# addr；the address\n",
    "# num: int type\n",
    "def save_image(image,addr,num):\n",
    "    address = addr + str(num)+ '.jpg'\n",
    "    cv2.imwrite(address,image)"
   ]
  },
  {
   "cell_type": "code",
   "execution_count": 25,
   "metadata": {},
   "outputs": [],
   "source": [
    "# The function to extract the frames of video by one-frame-per-second\n",
    "def one_frame_per_second():\n",
    "\n",
    "    for xx in range(1,24):\n",
    "        mylist = os.listdir(\"Video cuts collection/Video Segments/P{:02d}\".format(xx))\n",
    "        mylist2 = mylist.copy()\n",
    "        # Get the music name \n",
    "        for ii in range(len(mylist)):\n",
    "            mylist[ii] = mylist2[ii][:-4]\n",
    "        videos = mylist\n",
    "        # The train Dataframe here generate a dataframe which stores the music name ('music01') and their corresponding music type ('01') \n",
    "        train = pd.DataFrame()\n",
    "        train['video_name'] = videos\n",
    "        train_video_tag = []\n",
    "        for i in range(train.shape[0]):\n",
    "            train_video_tag.append(train['video_name'][i][5:])  \n",
    "        train['tag'] = train_video_tag\n",
    "        # int_tag is to store the music types of the current Gingerbread videos, e.g.[1,2,3,4,5,6,7,8]\n",
    "        int_tag = []\n",
    "        for i in range(len(train_video_tag)):\n",
    "            int_tag.append(int(train_video_tag[i]))\n",
    "        print(\"times\",xx)\n",
    "        # Extract the frames from video segments by frame rates\n",
    "\n",
    "        countt = -1\n",
    "        for k in int_tag:    \n",
    "            countt += 1\n",
    "            videoCapture = cv2.VideoCapture(\"Video cuts collection/Video Segments/P{:02d}/music{:02d}.mp4\".format(xx,k))\n",
    "\n",
    "            success, frame = videoCapture.read()\n",
    "            i = 0\n",
    "            # 1-frame-per-second: 30\n",
    "            frame_rate = 30\n",
    "            j=-1\n",
    "            while success :\n",
    "                i = i + 1\n",
    "                if (i % frame_rate == 0):\n",
    "                    j = j + 1\n",
    "                    save_image(frame, 'Video cuts collection/Video frames collection/train_all1/', \"P{:02d}\".format(xx)+ \"_music{:02d}\".format(int_tag[countt]) +\"_frame{:03d}\".format(j))\n",
    "                success, frame = videoCapture.read()"
   ]
  },
  {
   "cell_type": "code",
   "execution_count": 26,
   "metadata": {},
   "outputs": [],
   "source": [
    "# The function to extract the frames of video by two-frames-per-second\n",
    "\n",
    "def two_frames_per_second():\n",
    "    for xx in range(1,24):\n",
    "        # Generate a list to store the \n",
    "        mylist = os.listdir(\"Video cuts collection/Video Segments/P{:02d}\".format(xx))\n",
    "        mylist2 = mylist.copy()\n",
    "        # Get the music name \n",
    "        for ii in range(len(mylist)):\n",
    "            mylist[ii] = mylist2[ii][:-4]\n",
    "        videos = mylist\n",
    "         # The train Dataframe here generate a dataframe which stores the music name ('music01') and their corresponding music type ('01') \n",
    "        train = pd.DataFrame()\n",
    "        train['video_name'] = videos\n",
    "        train_video_tag = []\n",
    "        for i in range(train.shape[0]):\n",
    "            train_video_tag.append(train['video_name'][i][5:])  \n",
    "        train['tag'] = train_video_tag\n",
    "        # int_tag is to store the music types of the current Gingerbread videos, e.g.[1,2,3,4,5,6,7,8]\n",
    "        int_tag = []\n",
    "        for i in range(len(train_video_tag)):\n",
    "            int_tag.append(int(train_video_tag[i]))\n",
    "        print(\"times\",xx)\n",
    "        countt = -1\n",
    "        # Extract the frames from video segments by frame rates\n",
    "\n",
    "        for k in int_tag:    \n",
    "            countt += 1\n",
    "            videoCapture = cv2.VideoCapture(\"Video cuts collection/Video Segments/P{:02d}/music{:02d}.mp4\".format(xx,k))\n",
    "\n",
    "            success, frame = videoCapture.read()\n",
    "            i = 0\n",
    "             # 1-frame-per-second: 15\n",
    "\n",
    "            frame_rate = 15\n",
    "            j=-1\n",
    "            while success :\n",
    "                i = i + 1\n",
    "                if (i % frame_rate == 0):\n",
    "                    j = j + 1\n",
    "                    save_image(frame, 'Video cuts collection//Video frames collection/train_all2/', \"P{:02d}\".format(xx)+ \"_music{:02d}\".format(int_tag[countt]) +\"_frame{:03d}\".format(j))\n",
    "                success, frame = videoCapture.read()"
   ]
  },
  {
   "cell_type": "code",
   "execution_count": 38,
   "metadata": {},
   "outputs": [],
   "source": [
    "# The function to extract the frames of video by three-frames-per-second\n",
    "\n",
    "def three_frames_per_second():\n",
    "    for xx in range(1,24):\n",
    "        mylist = os.listdir(\"Video cuts collection/Video Segments/P{:02d}\".format(xx))\n",
    "        mylist2 = mylist.copy()\n",
    "        # Get the music name \n",
    "        for ii in range(len(mylist)):\n",
    "            mylist[ii] = mylist2[ii][:-4]\n",
    "        videos = mylist\n",
    "        # The train Dataframe here generate a dataframe which stores the music name ('music01') and their corresponding music type ('01') \n",
    "        train = pd.DataFrame()\n",
    "        train['video_name'] = videos\n",
    "        train_video_tag = []\n",
    "        for i in range(train.shape[0]):\n",
    "            train_video_tag.append(train['video_name'][i][5:])  \n",
    "        train['tag'] = train_video_tag\n",
    "        # int_tag is to store the music types of the current Gingerbread videos, e.g.[1,2,3,4,5,6,7,8]\n",
    "        int_tag = []\n",
    "        for i in range(len(train_video_tag)):\n",
    "            int_tag.append(int(train_video_tag[i]))\n",
    "        # Extract the frames from video segments by frame rates\n",
    "        print(\"times\",xx)\n",
    "        countt = -1\n",
    "        for k in int_tag:    \n",
    "            countt += 1\n",
    "            videoCapture = cv2.VideoCapture(\"Video cuts collection/Video Segments/P{:02d}/music{:02d}.mp4\".format(xx,k))\n",
    "\n",
    "            success, frame = videoCapture.read()\n",
    "            i = 0\n",
    "            # 3-frame-per-second: 10\n",
    "            frame_rate = 10\n",
    "            j=-1\n",
    "            while success :\n",
    "                i = i + 1\n",
    "                if (i % frame_rate == 0):\n",
    "                    j = j + 1\n",
    "                    save_image(frame, 'Video cuts collection/Video frames collection/train_all3/', \"P{:02d}\".format(xx)+ \"_music{:02d}\".format(int_tag[countt]) +\"_frame{:03d}\".format(j))\n",
    "                success, frame = videoCapture.read()"
   ]
  },
  {
   "cell_type": "code",
   "execution_count": 39,
   "metadata": {},
   "outputs": [
    {
     "name": "stdout",
     "output_type": "stream",
     "text": [
      "times 1\n",
      "times 2\n"
     ]
    },
    {
     "ename": "KeyboardInterrupt",
     "evalue": "",
     "output_type": "error",
     "traceback": [
      "\u001b[1;31m---------------------------------------------------------------------------\u001b[0m",
      "\u001b[1;31mKeyboardInterrupt\u001b[0m                         Traceback (most recent call last)",
      "\u001b[1;32m<ipython-input-39-6c33883f57b1>\u001b[0m in \u001b[0;36m<module>\u001b[1;34m\u001b[0m\n\u001b[1;32m----> 1\u001b[1;33m \u001b[0mthree_frames_per_second\u001b[0m\u001b[1;33m(\u001b[0m\u001b[1;33m)\u001b[0m\u001b[1;33m\u001b[0m\u001b[1;33m\u001b[0m\u001b[0m\n\u001b[0m",
      "\u001b[1;32m<ipython-input-38-80d1391421f5>\u001b[0m in \u001b[0;36mthree_frames_per_second\u001b[1;34m()\u001b[0m\n\u001b[0;32m     36\u001b[0m                 \u001b[1;32mif\u001b[0m \u001b[1;33m(\u001b[0m\u001b[0mi\u001b[0m \u001b[1;33m%\u001b[0m \u001b[0mframe_rate\u001b[0m \u001b[1;33m==\u001b[0m \u001b[1;36m0\u001b[0m\u001b[1;33m)\u001b[0m\u001b[1;33m:\u001b[0m\u001b[1;33m\u001b[0m\u001b[1;33m\u001b[0m\u001b[0m\n\u001b[0;32m     37\u001b[0m                     \u001b[0mj\u001b[0m \u001b[1;33m=\u001b[0m \u001b[0mj\u001b[0m \u001b[1;33m+\u001b[0m \u001b[1;36m1\u001b[0m\u001b[1;33m\u001b[0m\u001b[1;33m\u001b[0m\u001b[0m\n\u001b[1;32m---> 38\u001b[1;33m                     \u001b[0msave_image\u001b[0m\u001b[1;33m(\u001b[0m\u001b[0mframe\u001b[0m\u001b[1;33m,\u001b[0m \u001b[1;34m'Video cuts collection/Video frames collection/test/'\u001b[0m\u001b[1;33m,\u001b[0m \u001b[1;34m\"P{:02d}\"\u001b[0m\u001b[1;33m.\u001b[0m\u001b[0mformat\u001b[0m\u001b[1;33m(\u001b[0m\u001b[0mxx\u001b[0m\u001b[1;33m)\u001b[0m\u001b[1;33m+\u001b[0m \u001b[1;34m\"_music{:02d}\"\u001b[0m\u001b[1;33m.\u001b[0m\u001b[0mformat\u001b[0m\u001b[1;33m(\u001b[0m\u001b[0mint_tag\u001b[0m\u001b[1;33m[\u001b[0m\u001b[0mcountt\u001b[0m\u001b[1;33m]\u001b[0m\u001b[1;33m)\u001b[0m \u001b[1;33m+\u001b[0m\u001b[1;34m\"_frame{:03d}\"\u001b[0m\u001b[1;33m.\u001b[0m\u001b[0mformat\u001b[0m\u001b[1;33m(\u001b[0m\u001b[0mj\u001b[0m\u001b[1;33m)\u001b[0m\u001b[1;33m)\u001b[0m\u001b[1;33m\u001b[0m\u001b[1;33m\u001b[0m\u001b[0m\n\u001b[0m\u001b[0;32m     39\u001b[0m                 \u001b[0msuccess\u001b[0m\u001b[1;33m,\u001b[0m \u001b[0mframe\u001b[0m \u001b[1;33m=\u001b[0m \u001b[0mvideoCapture\u001b[0m\u001b[1;33m.\u001b[0m\u001b[0mread\u001b[0m\u001b[1;33m(\u001b[0m\u001b[1;33m)\u001b[0m\u001b[1;33m\u001b[0m\u001b[1;33m\u001b[0m\u001b[0m\n",
      "\u001b[1;32m<ipython-input-21-47b3212a6664>\u001b[0m in \u001b[0;36msave_image\u001b[1;34m(image, addr, num)\u001b[0m\n\u001b[0;32m      4\u001b[0m \u001b[1;32mdef\u001b[0m \u001b[0msave_image\u001b[0m\u001b[1;33m(\u001b[0m\u001b[0mimage\u001b[0m\u001b[1;33m,\u001b[0m\u001b[0maddr\u001b[0m\u001b[1;33m,\u001b[0m\u001b[0mnum\u001b[0m\u001b[1;33m)\u001b[0m\u001b[1;33m:\u001b[0m\u001b[1;33m\u001b[0m\u001b[1;33m\u001b[0m\u001b[0m\n\u001b[0;32m      5\u001b[0m     \u001b[0maddress\u001b[0m \u001b[1;33m=\u001b[0m \u001b[0maddr\u001b[0m \u001b[1;33m+\u001b[0m \u001b[0mstr\u001b[0m\u001b[1;33m(\u001b[0m\u001b[0mnum\u001b[0m\u001b[1;33m)\u001b[0m\u001b[1;33m+\u001b[0m \u001b[1;34m'.jpg'\u001b[0m\u001b[1;33m\u001b[0m\u001b[1;33m\u001b[0m\u001b[0m\n\u001b[1;32m----> 6\u001b[1;33m     \u001b[0mcv2\u001b[0m\u001b[1;33m.\u001b[0m\u001b[0mimwrite\u001b[0m\u001b[1;33m(\u001b[0m\u001b[0maddress\u001b[0m\u001b[1;33m,\u001b[0m\u001b[0mimage\u001b[0m\u001b[1;33m)\u001b[0m\u001b[1;33m\u001b[0m\u001b[1;33m\u001b[0m\u001b[0m\n\u001b[0m",
      "\u001b[1;31mKeyboardInterrupt\u001b[0m: "
     ]
    }
   ],
   "source": [
    "one_frame_per_second()\n",
    "two_frames_per_second()\n",
    "three_frames_per_second()"
   ]
  },
  {
   "cell_type": "code",
   "execution_count": 56,
   "metadata": {},
   "outputs": [],
   "source": [
    "# Store the names of extracted video frames for further frames spliting processing\n",
    "def create_image_storage_csv(number):\n",
    "    # getting the names of all the images\n",
    "    images = glob(\"Video cuts collection/Video frames collection/train_all{}/*.jpg\".format(number))\n",
    "\n",
    "    train_image = []\n",
    "    train_class = []\n",
    "\n",
    "    for i in tqdm(range(len(images))):\n",
    "        # creating the image name \n",
    "        train_image.append(images[i].split('\\\\')[1])\n",
    "        # creating the class of image\n",
    "        train_class.append(images[i].split('\\\\')[1].split('_')[1][5:])\n",
    "#         print(images[i].split('\\\\')[1].split('_')[1][5:])\n",
    "\n",
    "    # storing the images and their class in a dataframe\n",
    "    train_data = pd.DataFrame()\n",
    "    train_data['image'] = train_image\n",
    "    train_data['class'] = train_class\n",
    "#    converting the dataframe into csv file \n",
    "    train_data.to_csv('Video cuts collection/training_csv/train_all{}.csv'.format(number),header=True, index=False)\n"
   ]
  },
  {
   "cell_type": "code",
   "execution_count": 57,
   "metadata": {},
   "outputs": [
    {
     "name": "stderr",
     "output_type": "stream",
     "text": [
      "100%|██████████| 5659/5659 [00:00<00:00, 1127794.66it/s]\n",
      "100%|██████████| 11318/11318 [00:00<00:00, 945771.97it/s]\n",
      "100%|██████████| 16977/16977 [00:00<00:00, 1063977.57it/s]\n"
     ]
    }
   ],
   "source": [
    "# Ge the csv to store the extracted frames name by one-frame-per-second, two-frames-per-second, and three-frames-per-second\n",
    "create_image_storage_csv(1)\n",
    "create_image_storage_csv(2)\n",
    "create_image_storage_csv(3)"
   ]
  },
  {
   "cell_type": "code",
   "execution_count": null,
   "metadata": {},
   "outputs": [],
   "source": []
  }
 ],
 "metadata": {
  "kernelspec": {
   "display_name": "Python 3",
   "language": "python",
   "name": "python3"
  },
  "language_info": {
   "codemirror_mode": {
    "name": "ipython",
    "version": 3
   },
   "file_extension": ".py",
   "mimetype": "text/x-python",
   "name": "python",
   "nbconvert_exporter": "python",
   "pygments_lexer": "ipython3",
   "version": "3.7.3"
  }
 },
 "nbformat": 4,
 "nbformat_minor": 2
}
