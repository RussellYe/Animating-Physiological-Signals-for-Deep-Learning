{
 "cells": [
  {
   "cell_type": "code",
   "execution_count": 54,
   "metadata": {},
   "outputs": [],
   "source": [
    "import cv2     # for capturing videos\n",
    "import numpy as np\n",
    "import os\n",
    "import pandas as pd"
   ]
  },
  {
   "cell_type": "code",
   "execution_count": 55,
   "metadata": {},
   "outputs": [],
   "source": [
    "import shutil\n",
    "from tqdm import tqdm\n"
   ]
  },
  {
   "cell_type": "code",
   "execution_count": 56,
   "metadata": {},
   "outputs": [],
   "source": [
    "# Create three new directories to store the frames for one-frame-per-second, two-frames-per-second and three-frames-per-second respectively\n",
    "for k in range(1,4):\n",
    "    os.makedirs(\"Video cuts collection/Video frames collection/training_split{}\".format(k))"
   ]
  },
  {
   "cell_type": "code",
   "execution_count": 57,
   "metadata": {},
   "outputs": [],
   "source": [
    "# Create a dictionary to store the classes of the music \n",
    "dict1 = {1: 'Classicalmusic1',\n",
    " 2: 'Classicalmusic2',\n",
    " 3: 'Classicalmusic3',\n",
    " 4: 'Classicalmusic4',\n",
    " 5: 'Instrumentalmusic1',\n",
    " 6: 'Instrumentalmusic2',\n",
    " 7: 'Instrumentalmusic3',\n",
    " 8: 'Instrumentalmusic4',\n",
    " 9: 'Popmusic1',\n",
    " 10: 'Popmusic2',\n",
    " 11: 'Popmusic3',\n",
    " 12: 'Popmusic4'}    "
   ]
  },
  {
   "cell_type": "code",
   "execution_count": 58,
   "metadata": {},
   "outputs": [],
   "source": [
    "# Split the image frames from train_all files by the class of images (classical music or instrumental music or pop music)\n",
    "def split_image_frames(index, df, dict1):\n",
    "        \n",
    "    index_list = []\n",
    "    class_list = []\n",
    "    # Get the index where the frames name is 0, which can separate the frame groups that belongs to different videos\n",
    "    for i in range(len(df)):\n",
    "        if int(df.iloc[i]['image'][-7:-4]) == 0:\n",
    "            class_list.append(df.iloc[i]['class'])\n",
    "            index_list.append(i)\n",
    "    # This is to append the last index of dataframe \n",
    "    index_list.append(len(df))\n",
    "    # Count the total number of the appearance of each class.  \n",
    "    class_count = []\n",
    "    for i in range(1,13):\n",
    "        class_count.append(class_list.count(i))\n",
    "    class_count2 = class_count.copy()\n",
    "\n",
    "    for j in range(1,13):\n",
    "        for i in range(1, class_list.count(j)+1):\n",
    "            os.mkdir(\"Video cuts collection/Video frames collection/training_split{}/{}_{}\".format(index,dict1[j], i))\n",
    "    # Create a list which is to count the numebr of appearance of each class, which is for the convenience of indexing the folders\n",
    "    count_list = []\n",
    "    for i in range(13):\n",
    "        count_list.append(0)\n",
    "    # Copy the files from train_all 1 or 2 or 3, to a new directory, which are training_split1 or training_split2 or training_split3 based on the frame rates (index)\n",
    "    for j in range(len(index_list)-1):\n",
    "        count = 0\n",
    "        count_list[df.iloc[index_list[j]]['class']] += 1\n",
    "        for i in range(index_list[j],index_list[j+1]):\n",
    "\n",
    "            count += 1\n",
    "            shutil.copyfile('Video cuts collection/Video frames collection/train_all{}/'.format(index)+ df.iloc[i]['image'], 'Video cuts collection/Video frames collection/training_split{}/'.format(index)+ dict1[df.iloc[i]['class']] + '_{}'.format(count_list[df.iloc[index_list[j]]['class']]) + '/frame{:03d}.jpg'.format(count))\n",
    "#             print('Video cuts collection/Video frames collection/train_all{}/'.format(index)+ df.iloc[i]['image'], 'Video cuts collection/Video frames collection/training_split{}/'.format(index)+ dict1[df.iloc[i]['class']] + '_{}'.format(count_list[df.iloc[index_list[j]]['class']]) + '/frame{:03d}.jpg'.format(count))"
   ]
  },
  {
   "cell_type": "code",
   "execution_count": 61,
   "metadata": {},
   "outputs": [],
   "source": [
    "# Get the final pre-processed video frames and store them as training_split1, training_split2 and training_split3\n",
    "for i in range(1,4):\n",
    "    print(\"{}-frame-per-second\".format(i))\n",
    "    df = pd.read_csv('Video cuts collection/training_csv/train_all{}.csv'.format(i))\n",
    "\n",
    "    split_image_frames(i, df, dict1)"
   ]
  },
  {
   "cell_type": "markdown",
   "metadata": {},
   "source": [
    "# Need to manually Remove the folder \"Classicalmusic2_7\" for all training_split1, training_split2 and training_split3 folders"
   ]
  },
  {
   "cell_type": "markdown",
   "metadata": {},
   "source": [
    "# The CRNN model used for this project is using the frames from training_split1 or training_split2 or training_split3 folder"
   ]
  },
  {
   "cell_type": "code",
   "execution_count": null,
   "metadata": {},
   "outputs": [],
   "source": []
  }
 ],
 "metadata": {
  "kernelspec": {
   "display_name": "Python 3",
   "language": "python",
   "name": "python3"
  },
  "language_info": {
   "codemirror_mode": {
    "name": "ipython",
    "version": 3
   },
   "file_extension": ".py",
   "mimetype": "text/x-python",
   "name": "python",
   "nbconvert_exporter": "python",
   "pygments_lexer": "ipython3",
   "version": "3.7.3"
  }
 },
 "nbformat": 4,
 "nbformat_minor": 2
}
